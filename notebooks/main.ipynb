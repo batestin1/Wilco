{
 "cells": [
  {
   "cell_type": "markdown",
   "metadata": {},
   "source": [
    "<h1 style=\"text-align:center;color:red;\">Wilco</h1>\n",
    "<p style=\"text-align:center;\">Por Maycon Cypriano Batestin</p>\n"
   ]
  },
  {
   "cell_type": "markdown",
   "metadata": {},
   "source": [
    "### About the Dataset\n",
    "\n",
    "The objective of this project is to analyze the lyrics of the band WILCO (or in this case any other band with a long history) throughout their career and be able to predict when, what and how the group's next songs will be. Using machine learning and NLP\n",
    "\n",
    "- **Fonte original:** Spotify\n",
    "- **Libertado por:** Maycon Batestin\n",
    "- **Licença:** Creative Commons Attribution-ShareAlike 4.0 International ([CC BY-SA 4.0](https://creativecommons.org/licenses/by-sa/4.0/))\n",
    "\n"
   ]
  },
  {
   "cell_type": "markdown",
   "metadata": {},
   "source": [
    "<h1 style=\"text-align:center;color:red;\">Glossary</h1>\n",
    "\n",
    "\n",
    "Fields\t                                                  | Type  \t  |    Description                              |\n",
    "----------------------------------------------------------|:---------:|:-------------------------------------------:|\n",
    "artist                            \t\t\t\t\t\t  |string     | name of artist                               |\n",
    "album                                                     |string     | name of album                                |\n",
    "track\t\t\t\t\t\t\t\t\t\t\t\t\t  |string     | name of a song belong to the album           |\n",
    "year\t\t\t\t\t\t\t\t\t\t\t\t\t  |int        | year of release of the album                 |\n",
    "lyrics\t\t\t\t\t\t\t\t\t\t\t\t\t  |string     | the lyrics about the song                    |\n",
    "duration_ms                                               |int        | Duration each song in ms                     |\n",
    "count_letter                                              |int        | count letter of lyric                        |\n",
    "\n",
    "\n",
    "\n"
   ]
  },
  {
   "cell_type": "markdown",
   "metadata": {},
   "source": [
    "<h1 style=\"text-align:center;color:red;\">Getting the Dataset </h1>\n"
   ]
  },
  {
   "cell_type": "code",
   "execution_count": 52,
   "metadata": {},
   "outputs": [],
   "source": [
    "artist = \"Wilco\"\n",
    "artist = artist.replace(\" \",\"_\")"
   ]
  },
  {
   "cell_type": "code",
   "execution_count": 53,
   "metadata": {},
   "outputs": [
    {
     "name": "stdout",
     "output_type": "stream",
     "text": [
      "  0%|                                                    | 0/20 [00:00<?, ?it/s]Searching for \"Infinite Surprise\" by wilco...\n",
      "Done.\n",
      "Searching for \"Ten Dead\" by wilco...\n",
      "Done.\n",
      "Searching for \"Levee\" by wilco...\n",
      "Done.\n",
      "Searching for \"Evicted\" by wilco...\n",
      "Done.\n",
      "Searching for \"Sunlight Ends\" by wilco...\n",
      "Done.\n",
      "Searching for \"A Bowl and A Pudding\" by wilco...\n",
      "Done.\n",
      "Searching for \"Cousin\" by wilco...\n",
      "Done.\n",
      "Searching for \"Pittsburgh\" by wilco...\n",
      "Done.\n",
      "Searching for \"Soldier Child\" by wilco...\n",
      "  0%|                                                    | 0/20 [00:24<?, ?it/s]\n",
      "Traceback (most recent call last):\n",
      "  File \"/Users/mayconcyprianobatestin/opt/anaconda3/lib/python3.9/site-packages/urllib3/connectionpool.py\", line 466, in _make_request\n",
      "    six.raise_from(e, None)\n",
      "  File \"<string>\", line 3, in raise_from\n",
      "  File \"/Users/mayconcyprianobatestin/opt/anaconda3/lib/python3.9/site-packages/urllib3/connectionpool.py\", line 461, in _make_request\n",
      "    httplib_response = conn.getresponse()\n",
      "  File \"/Users/mayconcyprianobatestin/opt/anaconda3/lib/python3.9/http/client.py\", line 1371, in getresponse\n",
      "    response.begin()\n",
      "  File \"/Users/mayconcyprianobatestin/opt/anaconda3/lib/python3.9/http/client.py\", line 319, in begin\n",
      "    version, status, reason = self._read_status()\n",
      "  File \"/Users/mayconcyprianobatestin/opt/anaconda3/lib/python3.9/http/client.py\", line 280, in _read_status\n",
      "    line = str(self.fp.readline(_MAXLINE + 1), \"iso-8859-1\")\n",
      "  File \"/Users/mayconcyprianobatestin/opt/anaconda3/lib/python3.9/socket.py\", line 704, in readinto\n",
      "    return self._sock.recv_into(b)\n",
      "  File \"/Users/mayconcyprianobatestin/opt/anaconda3/lib/python3.9/ssl.py\", line 1241, in recv_into\n",
      "    return self.read(nbytes, buffer)\n",
      "  File \"/Users/mayconcyprianobatestin/opt/anaconda3/lib/python3.9/ssl.py\", line 1099, in read\n",
      "    return self._sslobj.read(len, buffer)\n",
      "socket.timeout: The read operation timed out\n",
      "\n",
      "During handling of the above exception, another exception occurred:\n",
      "\n",
      "Traceback (most recent call last):\n",
      "  File \"/Users/mayconcyprianobatestin/.local/lib/python3.9/site-packages/requests/adapters.py\", line 486, in send\n",
      "    resp = conn.urlopen(\n",
      "  File \"/Users/mayconcyprianobatestin/opt/anaconda3/lib/python3.9/site-packages/urllib3/connectionpool.py\", line 798, in urlopen\n",
      "    retries = retries.increment(\n",
      "  File \"/Users/mayconcyprianobatestin/opt/anaconda3/lib/python3.9/site-packages/urllib3/util/retry.py\", line 550, in increment\n",
      "    raise six.reraise(type(error), error, _stacktrace)\n",
      "  File \"/Users/mayconcyprianobatestin/opt/anaconda3/lib/python3.9/site-packages/urllib3/packages/six.py\", line 770, in reraise\n",
      "    raise value\n",
      "  File \"/Users/mayconcyprianobatestin/opt/anaconda3/lib/python3.9/site-packages/urllib3/connectionpool.py\", line 714, in urlopen\n",
      "    httplib_response = self._make_request(\n",
      "  File \"/Users/mayconcyprianobatestin/opt/anaconda3/lib/python3.9/site-packages/urllib3/connectionpool.py\", line 468, in _make_request\n",
      "    self._raise_timeout(err=e, url=url, timeout_value=read_timeout)\n",
      "  File \"/Users/mayconcyprianobatestin/opt/anaconda3/lib/python3.9/site-packages/urllib3/connectionpool.py\", line 357, in _raise_timeout\n",
      "    raise ReadTimeoutError(\n",
      "urllib3.exceptions.ReadTimeoutError: HTTPSConnectionPool(host='genius.com', port=443): Read timed out. (read timeout=5)\n",
      "\n",
      "During handling of the above exception, another exception occurred:\n",
      "\n",
      "Traceback (most recent call last):\n",
      "  File \"/Users/mayconcyprianobatestin/opt/anaconda3/lib/python3.9/site-packages/lyricsgenius/api/base.py\", line 75, in _make_request\n",
      "    response = self._session.request(method, uri,\n",
      "  File \"/Users/mayconcyprianobatestin/.local/lib/python3.9/site-packages/requests/sessions.py\", line 589, in request\n",
      "    resp = self.send(prep, **send_kwargs)\n",
      "  File \"/Users/mayconcyprianobatestin/.local/lib/python3.9/site-packages/requests/sessions.py\", line 703, in send\n",
      "    r = adapter.send(request, **kwargs)\n",
      "  File \"/Users/mayconcyprianobatestin/.local/lib/python3.9/site-packages/requests/adapters.py\", line 532, in send\n",
      "    raise ReadTimeout(e, request=request)\n",
      "requests.exceptions.ReadTimeout: HTTPSConnectionPool(host='genius.com', port=443): Read timed out. (read timeout=5)\n",
      "\n",
      "During handling of the above exception, another exception occurred:\n",
      "\n",
      "Traceback (most recent call last):\n",
      "  File \"/Users/mayconcyprianobatestin/Documents/repositorios/DATA_SCIENCE/MUSIC/scripts/create_dataset.py\", line 93, in <module>\n",
      "    lyrics.append(get_lyrics(artist, track['name']))\n",
      "  File \"/Users/mayconcyprianobatestin/Documents/repositorios/DATA_SCIENCE/MUSIC/scripts/create_dataset.py\", line 57, in get_lyrics\n",
      "    song = genius.search_song(track_name, artist)\n",
      "  File \"/Users/mayconcyprianobatestin/opt/anaconda3/lib/python3.9/site-packages/lyricsgenius/genius.py\", line 436, in search_song\n",
      "    lyrics = self.lyrics(song_url=song_info['url'])\n",
      "  File \"/Users/mayconcyprianobatestin/opt/anaconda3/lib/python3.9/site-packages/lyricsgenius/genius.py\", line 132, in lyrics\n",
      "    self._make_request(path, web=True).replace('<br/>', '\\n'),\n",
      "  File \"/Users/mayconcyprianobatestin/opt/anaconda3/lib/python3.9/site-packages/lyricsgenius/api/base.py\", line 84, in _make_request\n",
      "    raise Timeout(error)\n",
      "requests.exceptions.Timeout: Request timed out:\n",
      "HTTPSConnectionPool(host='genius.com', port=443): Read timed out. (read timeout=5)\n"
     ]
    }
   ],
   "source": [
    "!clear\n",
    "!python /Users/mayconcyprianobatestin/Documents/repositorios/DATA_SCIENCE/MUSIC/scripts/create_dataset.py $artist\n"
   ]
  },
  {
   "cell_type": "markdown",
   "metadata": {},
   "source": [
    "<h1 style=\"text-align:center;color:red;\">Librarys </h1>\n"
   ]
  },
  {
   "cell_type": "code",
   "execution_count": 54,
   "metadata": {},
   "outputs": [],
   "source": [
    "### Librarys\n",
    "\n",
    "import pandas as pd\n",
    "import numpy as np\n",
    "import plotly.graph_objs as go\n",
    "import plotly.offline as pyo\n",
    "import plotly.express as px\n",
    "import plotly.subplots as sp\n",
    "from plotly.subplots import make_subplots\n",
    "from sklearn.model_selection import train_test_split\n",
    "from sklearn.preprocessing import StandardScaler\n",
    "from sklearn import linear_model\n",
    "from sklearn.preprocessing import LabelEncoder\n",
    "from sklearn.linear_model import LogisticRegression, LinearRegression\n",
    "from sklearn.feature_extraction.text import CountVectorizer\n",
    "from sklearn.metrics import accuracy_score\n",
    "from wordcloud import WordCloud\n",
    "import nltk \n",
    "from nltk import tokenize, RSLPStemmer\n",
    "import matplotlib.pyplot as plt\n",
    "from string import punctuation\n",
    "import unidecode\n",
    "import re\n",
    "\n",
    "\n"
   ]
  },
  {
   "cell_type": "markdown",
   "metadata": {},
   "source": [
    "<h1 style=\"text-align:center;color:red;\">Threating & Prepare Data </h1>\n"
   ]
  },
  {
   "cell_type": "code",
   "execution_count": 95,
   "metadata": {},
   "outputs": [
    {
     "data": {
      "text/html": [
       "<div>\n",
       "<style scoped>\n",
       "    .dataframe tbody tr th:only-of-type {\n",
       "        vertical-align: middle;\n",
       "    }\n",
       "\n",
       "    .dataframe tbody tr th {\n",
       "        vertical-align: top;\n",
       "    }\n",
       "\n",
       "    .dataframe thead th {\n",
       "        text-align: right;\n",
       "    }\n",
       "</style>\n",
       "<table border=\"1\" class=\"dataframe\">\n",
       "  <thead>\n",
       "    <tr style=\"text-align: right;\">\n",
       "      <th></th>\n",
       "      <th>album</th>\n",
       "      <th>track</th>\n",
       "      <th>year</th>\n",
       "      <th>lyrics</th>\n",
       "      <th>duration_ms</th>\n",
       "    </tr>\n",
       "  </thead>\n",
       "  <tbody>\n",
       "    <tr>\n",
       "      <th>0</th>\n",
       "      <td>Being There</td>\n",
       "      <td>Misunderstood</td>\n",
       "      <td>1996</td>\n",
       "      <td>17 ContributorsMisunderstood Lyrics[Intro]\\nWh...</td>\n",
       "      <td>388267</td>\n",
       "    </tr>\n",
       "    <tr>\n",
       "      <th>1</th>\n",
       "      <td>Being There</td>\n",
       "      <td>Why Would You Wanna Live</td>\n",
       "      <td>1996</td>\n",
       "      <td>6 ContributorsWhy Would You Wanna Live Lyrics[...</td>\n",
       "      <td>256293</td>\n",
       "    </tr>\n",
       "    <tr>\n",
       "      <th>2</th>\n",
       "      <td>Being There</td>\n",
       "      <td>(Was I) In Your Dreams</td>\n",
       "      <td>1996</td>\n",
       "      <td>5 Contributors(Was I) In Your Dreams LyricsWas...</td>\n",
       "      <td>210867</td>\n",
       "    </tr>\n",
       "    <tr>\n",
       "      <th>3</th>\n",
       "      <td>Being There</td>\n",
       "      <td>Kingpin</td>\n",
       "      <td>1996</td>\n",
       "      <td>9 ContributorsKingpin LyricsI want to be your ...</td>\n",
       "      <td>316853</td>\n",
       "    </tr>\n",
       "    <tr>\n",
       "      <th>4</th>\n",
       "      <td>Being There</td>\n",
       "      <td>Someone Else's Song</td>\n",
       "      <td>1996</td>\n",
       "      <td>6 ContributorsSomeone Else’s Song LyricsI can'...</td>\n",
       "      <td>201480</td>\n",
       "    </tr>\n",
       "  </tbody>\n",
       "</table>\n",
       "</div>"
      ],
      "text/plain": [
       "         album                     track  year  \\\n",
       "0  Being There             Misunderstood  1996   \n",
       "1  Being There  Why Would You Wanna Live  1996   \n",
       "2  Being There    (Was I) In Your Dreams  1996   \n",
       "3  Being There                   Kingpin  1996   \n",
       "4  Being There       Someone Else's Song  1996   \n",
       "\n",
       "                                              lyrics  duration_ms  \n",
       "0  17 ContributorsMisunderstood Lyrics[Intro]\\nWh...       388267  \n",
       "1  6 ContributorsWhy Would You Wanna Live Lyrics[...       256293  \n",
       "2  5 Contributors(Was I) In Your Dreams LyricsWas...       210867  \n",
       "3  9 ContributorsKingpin LyricsI want to be your ...       316853  \n",
       "4  6 ContributorsSomeone Else’s Song LyricsI can'...       201480  "
      ]
     },
     "execution_count": 95,
     "metadata": {},
     "output_type": "execute_result"
    }
   ],
   "source": [
    "path = f'/Users/mayconcyprianobatestin/Documents/repositorios/DATA_SCIENCE/MUSIC/dataset/dataset_{artist.lower()}.csv'\n",
    "df = pd.read_csv(path)\n",
    "\n",
    "df = df[['album', 'track', 'year', 'lyrics', 'duration_ms']].groupby(\"year\").apply(lambda x: x.sort_values('year')).reset_index(drop=True)\n",
    "\n",
    "df.head()"
   ]
  },
  {
   "cell_type": "code",
   "execution_count": 96,
   "metadata": {},
   "outputs": [
    {
     "name": "stdout",
     "output_type": "stream",
     "text": [
      "Checking for NaN values and fixing!.\n"
     ]
    }
   ],
   "source": [
    "#check for NA value\n",
    "\n",
    "def checkNAN(df):\n",
    "    if df.isnull().values.any():\n",
    "        df.dropna(inplace=True) \n",
    "        df.reset_index(drop=True, inplace=True)\n",
    "        print(\"Checking for NaN values and fixing!.\")\n",
    "    else:\n",
    "        print(\"There no NaN values on your dataset\")\n",
    "\n",
    "checkNAN(df)\n",
    "\n",
    "\n"
   ]
  },
  {
   "cell_type": "code",
   "execution_count": 97,
   "metadata": {},
   "outputs": [
    {
     "data": {
      "text/html": [
       "<div>\n",
       "<style scoped>\n",
       "    .dataframe tbody tr th:only-of-type {\n",
       "        vertical-align: middle;\n",
       "    }\n",
       "\n",
       "    .dataframe tbody tr th {\n",
       "        vertical-align: top;\n",
       "    }\n",
       "\n",
       "    .dataframe thead th {\n",
       "        text-align: right;\n",
       "    }\n",
       "</style>\n",
       "<table border=\"1\" class=\"dataframe\">\n",
       "  <thead>\n",
       "    <tr style=\"text-align: right;\">\n",
       "      <th></th>\n",
       "      <th>album</th>\n",
       "      <th>track</th>\n",
       "      <th>year</th>\n",
       "      <th>lyrics</th>\n",
       "      <th>duration_ms</th>\n",
       "    </tr>\n",
       "  </thead>\n",
       "  <tbody>\n",
       "    <tr>\n",
       "      <th>0</th>\n",
       "      <td>Being There</td>\n",
       "      <td>Misunderstood</td>\n",
       "      <td>1996</td>\n",
       "      <td>17 ContributorsMisunderstood Lyrics[Intro]\\nWh...</td>\n",
       "      <td>388267</td>\n",
       "    </tr>\n",
       "    <tr>\n",
       "      <th>1</th>\n",
       "      <td>Being There</td>\n",
       "      <td>Why Would You Wanna Live</td>\n",
       "      <td>1996</td>\n",
       "      <td>6 ContributorsWhy Would You Wanna Live Lyrics[...</td>\n",
       "      <td>256293</td>\n",
       "    </tr>\n",
       "    <tr>\n",
       "      <th>2</th>\n",
       "      <td>Being There</td>\n",
       "      <td>(Was I) In Your Dreams</td>\n",
       "      <td>1996</td>\n",
       "      <td>5 Contributors(Was I) In Your Dreams LyricsWas...</td>\n",
       "      <td>210867</td>\n",
       "    </tr>\n",
       "    <tr>\n",
       "      <th>3</th>\n",
       "      <td>Being There</td>\n",
       "      <td>Kingpin</td>\n",
       "      <td>1996</td>\n",
       "      <td>9 ContributorsKingpin LyricsI want to be your ...</td>\n",
       "      <td>316853</td>\n",
       "    </tr>\n",
       "    <tr>\n",
       "      <th>4</th>\n",
       "      <td>Being There</td>\n",
       "      <td>Someone Else's Song</td>\n",
       "      <td>1996</td>\n",
       "      <td>6 ContributorsSomeone Else’s Song LyricsI can'...</td>\n",
       "      <td>201480</td>\n",
       "    </tr>\n",
       "    <tr>\n",
       "      <th>...</th>\n",
       "      <td>...</td>\n",
       "      <td>...</td>\n",
       "      <td>...</td>\n",
       "      <td>...</td>\n",
       "      <td>...</td>\n",
       "    </tr>\n",
       "    <tr>\n",
       "      <th>289</th>\n",
       "      <td>Cousin</td>\n",
       "      <td>A Bowl and A Pudding</td>\n",
       "      <td>2023</td>\n",
       "      <td>2 ContributorsA Bowl and A Pudding Lyrics[Vers...</td>\n",
       "      <td>243493</td>\n",
       "    </tr>\n",
       "    <tr>\n",
       "      <th>290</th>\n",
       "      <td>Cousin</td>\n",
       "      <td>Cousin</td>\n",
       "      <td>2023</td>\n",
       "      <td>2 ContributorsCousin Lyrics[Verse 1]\\nI cut in...</td>\n",
       "      <td>250640</td>\n",
       "    </tr>\n",
       "    <tr>\n",
       "      <th>291</th>\n",
       "      <td>Cousin</td>\n",
       "      <td>Pittsburgh</td>\n",
       "      <td>2023</td>\n",
       "      <td>2 ContributorsPittsburgh Lyrics[Verse 1]\\nOh, ...</td>\n",
       "      <td>313907</td>\n",
       "    </tr>\n",
       "    <tr>\n",
       "      <th>292</th>\n",
       "      <td>Cousin</td>\n",
       "      <td>Soldier Child</td>\n",
       "      <td>2023</td>\n",
       "      <td>3 ContributorsSoldier Child Lyrics[Verse]\\nSo ...</td>\n",
       "      <td>257347</td>\n",
       "    </tr>\n",
       "    <tr>\n",
       "      <th>293</th>\n",
       "      <td>Cousin</td>\n",
       "      <td>Meant To Be</td>\n",
       "      <td>2023</td>\n",
       "      <td>2 ContributorsMeant To Be Lyrics[Verse 1]\\nIf ...</td>\n",
       "      <td>235293</td>\n",
       "    </tr>\n",
       "  </tbody>\n",
       "</table>\n",
       "<p>294 rows × 5 columns</p>\n",
       "</div>"
      ],
      "text/plain": [
       "           album                     track  year  \\\n",
       "0    Being There             Misunderstood  1996   \n",
       "1    Being There  Why Would You Wanna Live  1996   \n",
       "2    Being There    (Was I) In Your Dreams  1996   \n",
       "3    Being There                   Kingpin  1996   \n",
       "4    Being There       Someone Else's Song  1996   \n",
       "..           ...                       ...   ...   \n",
       "289       Cousin      A Bowl and A Pudding  2023   \n",
       "290       Cousin                    Cousin  2023   \n",
       "291       Cousin                Pittsburgh  2023   \n",
       "292       Cousin             Soldier Child  2023   \n",
       "293       Cousin               Meant To Be  2023   \n",
       "\n",
       "                                                lyrics  duration_ms  \n",
       "0    17 ContributorsMisunderstood Lyrics[Intro]\\nWh...       388267  \n",
       "1    6 ContributorsWhy Would You Wanna Live Lyrics[...       256293  \n",
       "2    5 Contributors(Was I) In Your Dreams LyricsWas...       210867  \n",
       "3    9 ContributorsKingpin LyricsI want to be your ...       316853  \n",
       "4    6 ContributorsSomeone Else’s Song LyricsI can'...       201480  \n",
       "..                                                 ...          ...  \n",
       "289  2 ContributorsA Bowl and A Pudding Lyrics[Vers...       243493  \n",
       "290  2 ContributorsCousin Lyrics[Verse 1]\\nI cut in...       250640  \n",
       "291  2 ContributorsPittsburgh Lyrics[Verse 1]\\nOh, ...       313907  \n",
       "292  3 ContributorsSoldier Child Lyrics[Verse]\\nSo ...       257347  \n",
       "293  2 ContributorsMeant To Be Lyrics[Verse 1]\\nIf ...       235293  \n",
       "\n",
       "[294 rows x 5 columns]"
      ]
     },
     "execution_count": 97,
     "metadata": {},
     "output_type": "execute_result"
    }
   ],
   "source": [
    "# checking for duplicates\n",
    "\n",
    "def remove_duplicates_from_dataframe(df):\n",
    "    duplicates = df[df.duplicated()]\n",
    "    df_no_duplicates = df.drop_duplicates()\n",
    "    df.update(df_no_duplicates)\n",
    "\n",
    "    return df\n",
    "\n",
    "remove_duplicates_from_dataframe(df)"
   ]
  },
  {
   "cell_type": "code",
   "execution_count": 98,
   "metadata": {},
   "outputs": [
    {
     "name": "stdout",
     "output_type": "stream",
     "text": [
      "There no NaN values on your dataset\n"
     ]
    }
   ],
   "source": [
    "#fixing the colun lyrics \n",
    "\n",
    "def clean_lyrics(text):\n",
    "\n",
    "    if text.startswith('Investigation of the Ferguson Police'):\n",
    "        return ''\n",
    "    if text.startswith('Manifesto of the Communist Party In'):\n",
    "        return ''\n",
    "    if text.startswith('FREEDOM! Contents Introduction 1.'):\n",
    "        return ''\n",
    "    cleaned_text = re.sub(r'\\[[^\\]]+\\]', '', text)  \n",
    "    cleaned_text = re.sub(r'\\d+ Contributors', '', cleaned_text)  \n",
    "    cleaned_text = re.sub(r'\\\\n', ' ', cleaned_text)  \n",
    "    cleaned_text = re.sub(r'\\s+', ' ', cleaned_text)\n",
    "    cleaned_text = re.sub(r'^.*Lyrics', ' ', cleaned_text)   \n",
    "    return cleaned_text.strip()\n",
    "\n",
    "df['lyrics'] = df['lyrics'].apply(clean_lyrics)\n",
    "checkNAN(df)\n"
   ]
  },
  {
   "cell_type": "code",
   "execution_count": 99,
   "metadata": {},
   "outputs": [],
   "source": [
    "#creating a new coluna of count word\n",
    "\n",
    "def count_letters(text):\n",
    "    words = text.split()\n",
    "    total_letters = sum(len(word) for word in words)\n",
    "    return total_letters\n",
    "\n",
    "df['count_letter'] = df['lyrics'].apply(count_letters)"
   ]
  },
  {
   "cell_type": "code",
   "execution_count": 100,
   "metadata": {},
   "outputs": [],
   "source": [
    "#normalize each album\n",
    "df = df.drop([145, 66, 67, 68, 69, 70, 71, 72, 73, 74, 75, 77, 79, 80, 81, 82, 83, 84, 85, 86, 87, 88, 89, 245, 246, 247])\n"
   ]
  },
  {
   "cell_type": "markdown",
   "metadata": {},
   "source": [
    "<h1 style=\"text-align:center;color:red;\">Visualization </h1>\n"
   ]
  },
  {
   "cell_type": "markdown",
   "metadata": {},
   "source": [
    "### \n",
    "<p> In this visualization, we see Wilco's albums over the years. Starting in 1996 with Being There and ending in 2023 with the album Cousin </p>\n",
    "\n"
   ]
  },
  {
   "cell_type": "code",
   "execution_count": 112,
   "metadata": {},
   "outputs": [
    {
     "data": {
      "application/vnd.plotly.v1+json": {
       "config": {
        "plotlyServerURL": "https://plot.ly"
       },
       "data": [
        {
         "hovertemplate": "album=Being There<br>year=%{x}<br>index=%{y}<extra></extra>",
         "legendgroup": "Being There",
         "marker": {
          "color": "#636efa",
          "size": 10,
          "symbol": "circle"
         },
         "mode": "markers",
         "name": "Being There",
         "orientation": "h",
         "showlegend": true,
         "type": "scatter",
         "x": [
          1996,
          1996,
          1996,
          1996,
          1996,
          1996,
          1996,
          1996,
          1996,
          1996,
          1996,
          1996,
          1996,
          1996,
          1996,
          1996,
          1996,
          1996,
          1996
         ],
         "xaxis": "x",
         "y": [
          0,
          12,
          18,
          17,
          16,
          15,
          14,
          11,
          10,
          13,
          8,
          7,
          5,
          4,
          3,
          2,
          1,
          9,
          6
         ],
         "yaxis": "y"
        },
        {
         "hovertemplate": "album=Mermaid Avenue<br>year=%{x}<br>index=%{y}<extra></extra>",
         "legendgroup": "Mermaid Avenue",
         "marker": {
          "color": "#EF553B",
          "size": 10,
          "symbol": "diamond"
         },
         "mode": "markers",
         "name": "Mermaid Avenue",
         "orientation": "h",
         "showlegend": true,
         "type": "scatter",
         "x": [
          1998,
          1998,
          1998,
          1998,
          1998,
          1998,
          1998,
          1998,
          1998,
          1998,
          1998,
          1998,
          1998,
          1998,
          1998
         ],
         "xaxis": "x",
         "y": [
          29,
          26,
          27,
          33,
          32,
          31,
          23,
          30,
          22,
          21,
          20,
          19,
          25,
          24,
          28
         ],
         "yaxis": "y"
        },
        {
         "hovertemplate": "album=Summerteeth<br>year=%{x}<br>index=%{y}<extra></extra>",
         "legendgroup": "Summerteeth",
         "marker": {
          "color": "#00cc96",
          "size": 10,
          "symbol": "square"
         },
         "mode": "markers",
         "name": "Summerteeth",
         "orientation": "h",
         "showlegend": true,
         "type": "scatter",
         "x": [
          1999,
          1999,
          1999,
          1999,
          1999,
          1999,
          1999,
          1999,
          1999,
          1999,
          1999,
          1999,
          1999,
          1999,
          1999,
          1999,
          1999
         ],
         "xaxis": "x",
         "y": [
          43,
          50,
          49,
          48,
          47,
          46,
          45,
          44,
          42,
          39,
          38,
          37,
          36,
          35,
          34,
          41,
          40
         ],
         "yaxis": "y"
        },
        {
         "hovertemplate": "album=Mermaid Avenue Vol. II<br>year=%{x}<br>index=%{y}<extra></extra>",
         "legendgroup": "Mermaid Avenue Vol. II",
         "marker": {
          "color": "#ab63fa",
          "size": 10,
          "symbol": "x"
         },
         "mode": "markers",
         "name": "Mermaid Avenue Vol. II",
         "orientation": "h",
         "showlegend": true,
         "type": "scatter",
         "x": [
          2000,
          2000,
          2000,
          2000,
          2000,
          2000,
          2000,
          2000,
          2000,
          2000,
          2000,
          2000,
          2000,
          2000,
          2000
         ],
         "xaxis": "x",
         "y": [
          60,
          59,
          65,
          64,
          62,
          61,
          57,
          58,
          55,
          54,
          53,
          52,
          63,
          51,
          56
         ],
         "yaxis": "y"
        },
        {
         "hovertemplate": "album=Yankee Hotel Foxtrot (Deluxe Edition)<br>year=%{x}<br>index=%{y}<extra></extra>",
         "legendgroup": "Yankee Hotel Foxtrot (Deluxe Edition)",
         "marker": {
          "color": "#FFA15A",
          "size": 10,
          "symbol": "cross"
         },
         "mode": "markers",
         "name": "Yankee Hotel Foxtrot (Deluxe Edition)",
         "orientation": "h",
         "showlegend": true,
         "type": "scatter",
         "x": [
          2002,
          2002
         ],
         "xaxis": "x",
         "y": [
          90,
          76
         ],
         "yaxis": "y"
        },
        {
         "hovertemplate": "album=Yankee Hotel Foxtrot (2022 Remaster)<br>year=%{x}<br>index=%{y}<extra></extra>",
         "legendgroup": "Yankee Hotel Foxtrot (2022 Remaster)",
         "marker": {
          "color": "#19d3f3",
          "size": 10,
          "symbol": "circle"
         },
         "mode": "markers",
         "name": "Yankee Hotel Foxtrot (2022 Remaster)",
         "orientation": "h",
         "showlegend": true,
         "type": "scatter",
         "x": [
          2002,
          2002
         ],
         "xaxis": "x",
         "y": [
          91,
          78
         ],
         "yaxis": "y"
        },
        {
         "hovertemplate": "album=A Ghost Is Born (Deluxe Version)<br>year=%{x}<br>index=%{y}<extra></extra>",
         "legendgroup": "A Ghost Is Born (Deluxe Version)",
         "marker": {
          "color": "#FF6692",
          "size": 10,
          "symbol": "diamond"
         },
         "mode": "markers",
         "name": "A Ghost Is Born (Deluxe Version)",
         "orientation": "h",
         "showlegend": true,
         "type": "scatter",
         "x": [
          2004,
          2004,
          2004,
          2004,
          2004,
          2004,
          2004,
          2004,
          2004,
          2004,
          2004,
          2004,
          2004,
          2004,
          2004,
          2004,
          2004
         ],
         "xaxis": "x",
         "y": [
          104,
          99,
          102,
          108,
          107,
          106,
          105,
          103,
          98,
          96,
          95,
          94,
          93,
          92,
          100,
          97,
          101
         ],
         "yaxis": "y"
        },
        {
         "hovertemplate": "album=Kicking Television, Live in Chicago<br>year=%{x}<br>index=%{y}<extra></extra>",
         "legendgroup": "Kicking Television, Live in Chicago",
         "marker": {
          "color": "#B6E880",
          "size": 10,
          "symbol": "square"
         },
         "mode": "markers",
         "name": "Kicking Television, Live in Chicago",
         "orientation": "h",
         "showlegend": true,
         "type": "scatter",
         "x": [
          2005,
          2005,
          2005,
          2005,
          2005,
          2005,
          2005,
          2005,
          2005,
          2005,
          2005,
          2005,
          2005,
          2005,
          2005,
          2005,
          2005,
          2005,
          2005,
          2005
         ],
         "xaxis": "x",
         "y": [
          123,
          126,
          119,
          124,
          120,
          122,
          128,
          121,
          127,
          125,
          111,
          113,
          110,
          112,
          109,
          114,
          118,
          116,
          117,
          115
         ],
         "yaxis": "y"
        },
        {
         "hovertemplate": "album=Sky Blue Sky<br>year=%{x}<br>index=%{y}<extra></extra>",
         "legendgroup": "Sky Blue Sky",
         "marker": {
          "color": "#FF97FF",
          "size": 10,
          "symbol": "x"
         },
         "mode": "markers",
         "name": "Sky Blue Sky",
         "orientation": "h",
         "showlegend": true,
         "type": "scatter",
         "x": [
          2007,
          2007,
          2007,
          2007,
          2007,
          2007,
          2007,
          2007,
          2007,
          2007,
          2007,
          2007,
          2007,
          2007,
          2007,
          2007
         ],
         "xaxis": "x",
         "y": [
          143,
          142,
          137,
          140,
          139,
          141,
          144,
          138,
          135,
          131,
          129,
          130,
          136,
          132,
          133,
          134
         ],
         "yaxis": "y"
        },
        {
         "hovertemplate": "album=Wilco (The Album)<br>year=%{x}<br>index=%{y}<extra></extra>",
         "legendgroup": "Wilco (The Album)",
         "marker": {
          "color": "#FECB52",
          "size": 10,
          "symbol": "cross"
         },
         "mode": "markers",
         "name": "Wilco (The Album)",
         "orientation": "h",
         "showlegend": true,
         "type": "scatter",
         "x": [
          2009,
          2009,
          2009,
          2009,
          2009,
          2009,
          2009,
          2009,
          2009,
          2009,
          2009,
          2009
         ],
         "xaxis": "x",
         "y": [
          154,
          153,
          157,
          155,
          152,
          156,
          150,
          148,
          147,
          146,
          151,
          149
         ],
         "yaxis": "y"
        },
        {
         "hovertemplate": "album=The Whole Love (Deluxe Version)<br>year=%{x}<br>index=%{y}<extra></extra>",
         "legendgroup": "The Whole Love (Deluxe Version)",
         "marker": {
          "color": "#636efa",
          "size": 10,
          "symbol": "circle"
         },
         "mode": "markers",
         "name": "The Whole Love (Deluxe Version)",
         "orientation": "h",
         "showlegend": true,
         "type": "scatter",
         "x": [
          2011,
          2011,
          2011,
          2011,
          2011,
          2011,
          2011,
          2011,
          2011,
          2011,
          2011,
          2011,
          2011,
          2011,
          2011,
          2011
         ],
         "xaxis": "x",
         "y": [
          171,
          173,
          170,
          169,
          168,
          167,
          166,
          172,
          164,
          163,
          162,
          161,
          160,
          158,
          165,
          159
         ],
         "yaxis": "y"
        },
        {
         "hovertemplate": "album=Mermaid Avenue Vol. III<br>year=%{x}<br>index=%{y}<extra></extra>",
         "legendgroup": "Mermaid Avenue Vol. III",
         "marker": {
          "color": "#EF553B",
          "size": 10,
          "symbol": "diamond"
         },
         "mode": "markers",
         "name": "Mermaid Avenue Vol. III",
         "orientation": "h",
         "showlegend": true,
         "type": "scatter",
         "x": [
          2012,
          2012,
          2012,
          2012,
          2012,
          2012,
          2012,
          2012,
          2012,
          2012,
          2012,
          2012,
          2012,
          2012,
          2012,
          2012,
          2012
         ],
         "xaxis": "x",
         "y": [
          189,
          210,
          191,
          177,
          178,
          179,
          180,
          181,
          175,
          176,
          184,
          185,
          187,
          188,
          182,
          183,
          186
         ],
         "yaxis": "y"
        },
        {
         "hovertemplate": "album=Mermaid Avenue: The Complete Sessions<br>year=%{x}<br>index=%{y}<extra></extra>",
         "legendgroup": "Mermaid Avenue: The Complete Sessions",
         "marker": {
          "color": "#00cc96",
          "size": 10,
          "symbol": "square"
         },
         "mode": "markers",
         "name": "Mermaid Avenue: The Complete Sessions",
         "orientation": "h",
         "showlegend": true,
         "type": "scatter",
         "x": [
          2012,
          2012,
          2012,
          2012,
          2012,
          2012,
          2012,
          2012,
          2012,
          2012,
          2012,
          2012,
          2012,
          2012,
          2012,
          2012,
          2012,
          2012,
          2012,
          2012
         ],
         "xaxis": "x",
         "y": [
          197,
          198,
          199,
          200,
          201,
          202,
          196,
          208,
          205,
          207,
          209,
          203,
          206,
          195,
          204,
          193,
          174,
          192,
          194,
          190
         ],
         "yaxis": "y"
        },
        {
         "hovertemplate": "album=Star Wars<br>year=%{x}<br>index=%{y}<extra></extra>",
         "legendgroup": "Star Wars",
         "marker": {
          "color": "#ab63fa",
          "size": 10,
          "symbol": "x"
         },
         "mode": "markers",
         "name": "Star Wars",
         "orientation": "h",
         "showlegend": true,
         "type": "scatter",
         "x": [
          2015,
          2015,
          2015,
          2015,
          2015,
          2015,
          2015,
          2015,
          2015,
          2015
         ],
         "xaxis": "x",
         "y": [
          216,
          220,
          219,
          218,
          217,
          213,
          212,
          211,
          215,
          214
         ],
         "yaxis": "y"
        },
        {
         "hovertemplate": "album=Schmilco<br>year=%{x}<br>index=%{y}<extra></extra>",
         "legendgroup": "Schmilco",
         "marker": {
          "color": "#FFA15A",
          "size": 10,
          "symbol": "cross"
         },
         "mode": "markers",
         "name": "Schmilco",
         "orientation": "h",
         "showlegend": true,
         "type": "scatter",
         "x": [
          2016,
          2016,
          2016,
          2016,
          2016,
          2016,
          2016,
          2016,
          2016,
          2016,
          2016,
          2016
         ],
         "xaxis": "x",
         "y": [
          229,
          227,
          232,
          231,
          230,
          228,
          225,
          224,
          223,
          222,
          226,
          221
         ],
         "yaxis": "y"
        },
        {
         "hovertemplate": "album=Ode to Joy<br>year=%{x}<br>index=%{y}<extra></extra>",
         "legendgroup": "Ode to Joy",
         "marker": {
          "color": "#19d3f3",
          "size": 10,
          "symbol": "circle"
         },
         "mode": "markers",
         "name": "Ode to Joy",
         "orientation": "h",
         "showlegend": true,
         "type": "scatter",
         "x": [
          2019,
          2019,
          2019,
          2019,
          2019,
          2019,
          2019,
          2019,
          2019,
          2019,
          2019
         ],
         "xaxis": "x",
         "y": [
          238,
          243,
          242,
          241,
          236,
          240,
          235,
          234,
          233,
          237,
          239
         ],
         "yaxis": "y"
        },
        {
         "hovertemplate": "album=summerteeth (Deluxe Edition)<br>year=%{x}<br>index=%{y}<extra></extra>",
         "legendgroup": "summerteeth (Deluxe Edition)",
         "marker": {
          "color": "#FF6692",
          "size": 10,
          "symbol": "diamond"
         },
         "mode": "markers",
         "name": "summerteeth (Deluxe Edition)",
         "orientation": "h",
         "showlegend": true,
         "type": "scatter",
         "x": [
          2020,
          2020,
          2020,
          2020,
          2020,
          2020,
          2020,
          2020,
          2020,
          2020,
          2020,
          2020,
          2020,
          2020,
          2020,
          2020,
          2020
         ],
         "xaxis": "x",
         "y": [
          257,
          260,
          259,
          255,
          261,
          263,
          256,
          252,
          258,
          244,
          253,
          250,
          251,
          262,
          249,
          248,
          254
         ],
         "yaxis": "y"
        },
        {
         "hovertemplate": "album=Cruel Country<br>year=%{x}<br>index=%{y}<extra></extra>",
         "legendgroup": "Cruel Country",
         "marker": {
          "color": "#B6E880",
          "size": 10,
          "symbol": "square"
         },
         "mode": "markers",
         "name": "Cruel Country",
         "orientation": "h",
         "showlegend": true,
         "type": "scatter",
         "x": [
          2022,
          2022,
          2022,
          2022,
          2022,
          2022,
          2022,
          2022,
          2022,
          2022,
          2022,
          2022,
          2022,
          2022,
          2022,
          2022,
          2022,
          2022,
          2022,
          2022
         ],
         "xaxis": "x",
         "y": [
          274,
          276,
          275,
          281,
          280,
          279,
          278,
          277,
          283,
          282,
          264,
          270,
          269,
          268,
          267,
          266,
          265,
          271,
          273,
          272
         ],
         "yaxis": "y"
        },
        {
         "hovertemplate": "album=Cousin<br>year=%{x}<br>index=%{y}<extra></extra>",
         "legendgroup": "Cousin",
         "marker": {
          "color": "#FF97FF",
          "size": 10,
          "symbol": "x"
         },
         "mode": "markers",
         "name": "Cousin",
         "orientation": "h",
         "showlegend": true,
         "type": "scatter",
         "x": [
          2023,
          2023,
          2023,
          2023,
          2023,
          2023,
          2023,
          2023,
          2023,
          2023
         ],
         "xaxis": "x",
         "y": [
          291,
          290,
          289,
          287,
          288,
          286,
          285,
          284,
          292,
          293
         ],
         "yaxis": "y"
        }
       ],
       "layout": {
        "legend": {
         "title": {
          "text": "album"
         },
         "tracegroupgap": 0
        },
        "margin": {
         "t": 60
        },
        "template": {
         "data": {
          "bar": [
           {
            "error_x": {
             "color": "#2a3f5f"
            },
            "error_y": {
             "color": "#2a3f5f"
            },
            "marker": {
             "line": {
              "color": "#E5ECF6",
              "width": 0.5
             },
             "pattern": {
              "fillmode": "overlay",
              "size": 10,
              "solidity": 0.2
             }
            },
            "type": "bar"
           }
          ],
          "barpolar": [
           {
            "marker": {
             "line": {
              "color": "#E5ECF6",
              "width": 0.5
             },
             "pattern": {
              "fillmode": "overlay",
              "size": 10,
              "solidity": 0.2
             }
            },
            "type": "barpolar"
           }
          ],
          "carpet": [
           {
            "aaxis": {
             "endlinecolor": "#2a3f5f",
             "gridcolor": "white",
             "linecolor": "white",
             "minorgridcolor": "white",
             "startlinecolor": "#2a3f5f"
            },
            "baxis": {
             "endlinecolor": "#2a3f5f",
             "gridcolor": "white",
             "linecolor": "white",
             "minorgridcolor": "white",
             "startlinecolor": "#2a3f5f"
            },
            "type": "carpet"
           }
          ],
          "choropleth": [
           {
            "colorbar": {
             "outlinewidth": 0,
             "ticks": ""
            },
            "type": "choropleth"
           }
          ],
          "contour": [
           {
            "colorbar": {
             "outlinewidth": 0,
             "ticks": ""
            },
            "colorscale": [
             [
              0,
              "#0d0887"
             ],
             [
              0.1111111111111111,
              "#46039f"
             ],
             [
              0.2222222222222222,
              "#7201a8"
             ],
             [
              0.3333333333333333,
              "#9c179e"
             ],
             [
              0.4444444444444444,
              "#bd3786"
             ],
             [
              0.5555555555555556,
              "#d8576b"
             ],
             [
              0.6666666666666666,
              "#ed7953"
             ],
             [
              0.7777777777777778,
              "#fb9f3a"
             ],
             [
              0.8888888888888888,
              "#fdca26"
             ],
             [
              1,
              "#f0f921"
             ]
            ],
            "type": "contour"
           }
          ],
          "contourcarpet": [
           {
            "colorbar": {
             "outlinewidth": 0,
             "ticks": ""
            },
            "type": "contourcarpet"
           }
          ],
          "heatmap": [
           {
            "colorbar": {
             "outlinewidth": 0,
             "ticks": ""
            },
            "colorscale": [
             [
              0,
              "#0d0887"
             ],
             [
              0.1111111111111111,
              "#46039f"
             ],
             [
              0.2222222222222222,
              "#7201a8"
             ],
             [
              0.3333333333333333,
              "#9c179e"
             ],
             [
              0.4444444444444444,
              "#bd3786"
             ],
             [
              0.5555555555555556,
              "#d8576b"
             ],
             [
              0.6666666666666666,
              "#ed7953"
             ],
             [
              0.7777777777777778,
              "#fb9f3a"
             ],
             [
              0.8888888888888888,
              "#fdca26"
             ],
             [
              1,
              "#f0f921"
             ]
            ],
            "type": "heatmap"
           }
          ],
          "heatmapgl": [
           {
            "colorbar": {
             "outlinewidth": 0,
             "ticks": ""
            },
            "colorscale": [
             [
              0,
              "#0d0887"
             ],
             [
              0.1111111111111111,
              "#46039f"
             ],
             [
              0.2222222222222222,
              "#7201a8"
             ],
             [
              0.3333333333333333,
              "#9c179e"
             ],
             [
              0.4444444444444444,
              "#bd3786"
             ],
             [
              0.5555555555555556,
              "#d8576b"
             ],
             [
              0.6666666666666666,
              "#ed7953"
             ],
             [
              0.7777777777777778,
              "#fb9f3a"
             ],
             [
              0.8888888888888888,
              "#fdca26"
             ],
             [
              1,
              "#f0f921"
             ]
            ],
            "type": "heatmapgl"
           }
          ],
          "histogram": [
           {
            "marker": {
             "pattern": {
              "fillmode": "overlay",
              "size": 10,
              "solidity": 0.2
             }
            },
            "type": "histogram"
           }
          ],
          "histogram2d": [
           {
            "colorbar": {
             "outlinewidth": 0,
             "ticks": ""
            },
            "colorscale": [
             [
              0,
              "#0d0887"
             ],
             [
              0.1111111111111111,
              "#46039f"
             ],
             [
              0.2222222222222222,
              "#7201a8"
             ],
             [
              0.3333333333333333,
              "#9c179e"
             ],
             [
              0.4444444444444444,
              "#bd3786"
             ],
             [
              0.5555555555555556,
              "#d8576b"
             ],
             [
              0.6666666666666666,
              "#ed7953"
             ],
             [
              0.7777777777777778,
              "#fb9f3a"
             ],
             [
              0.8888888888888888,
              "#fdca26"
             ],
             [
              1,
              "#f0f921"
             ]
            ],
            "type": "histogram2d"
           }
          ],
          "histogram2dcontour": [
           {
            "colorbar": {
             "outlinewidth": 0,
             "ticks": ""
            },
            "colorscale": [
             [
              0,
              "#0d0887"
             ],
             [
              0.1111111111111111,
              "#46039f"
             ],
             [
              0.2222222222222222,
              "#7201a8"
             ],
             [
              0.3333333333333333,
              "#9c179e"
             ],
             [
              0.4444444444444444,
              "#bd3786"
             ],
             [
              0.5555555555555556,
              "#d8576b"
             ],
             [
              0.6666666666666666,
              "#ed7953"
             ],
             [
              0.7777777777777778,
              "#fb9f3a"
             ],
             [
              0.8888888888888888,
              "#fdca26"
             ],
             [
              1,
              "#f0f921"
             ]
            ],
            "type": "histogram2dcontour"
           }
          ],
          "mesh3d": [
           {
            "colorbar": {
             "outlinewidth": 0,
             "ticks": ""
            },
            "type": "mesh3d"
           }
          ],
          "parcoords": [
           {
            "line": {
             "colorbar": {
              "outlinewidth": 0,
              "ticks": ""
             }
            },
            "type": "parcoords"
           }
          ],
          "pie": [
           {
            "automargin": true,
            "type": "pie"
           }
          ],
          "scatter": [
           {
            "fillpattern": {
             "fillmode": "overlay",
             "size": 10,
             "solidity": 0.2
            },
            "type": "scatter"
           }
          ],
          "scatter3d": [
           {
            "line": {
             "colorbar": {
              "outlinewidth": 0,
              "ticks": ""
             }
            },
            "marker": {
             "colorbar": {
              "outlinewidth": 0,
              "ticks": ""
             }
            },
            "type": "scatter3d"
           }
          ],
          "scattercarpet": [
           {
            "marker": {
             "colorbar": {
              "outlinewidth": 0,
              "ticks": ""
             }
            },
            "type": "scattercarpet"
           }
          ],
          "scattergeo": [
           {
            "marker": {
             "colorbar": {
              "outlinewidth": 0,
              "ticks": ""
             }
            },
            "type": "scattergeo"
           }
          ],
          "scattergl": [
           {
            "marker": {
             "colorbar": {
              "outlinewidth": 0,
              "ticks": ""
             }
            },
            "type": "scattergl"
           }
          ],
          "scattermapbox": [
           {
            "marker": {
             "colorbar": {
              "outlinewidth": 0,
              "ticks": ""
             }
            },
            "type": "scattermapbox"
           }
          ],
          "scatterpolar": [
           {
            "marker": {
             "colorbar": {
              "outlinewidth": 0,
              "ticks": ""
             }
            },
            "type": "scatterpolar"
           }
          ],
          "scatterpolargl": [
           {
            "marker": {
             "colorbar": {
              "outlinewidth": 0,
              "ticks": ""
             }
            },
            "type": "scatterpolargl"
           }
          ],
          "scatterternary": [
           {
            "marker": {
             "colorbar": {
              "outlinewidth": 0,
              "ticks": ""
             }
            },
            "type": "scatterternary"
           }
          ],
          "surface": [
           {
            "colorbar": {
             "outlinewidth": 0,
             "ticks": ""
            },
            "colorscale": [
             [
              0,
              "#0d0887"
             ],
             [
              0.1111111111111111,
              "#46039f"
             ],
             [
              0.2222222222222222,
              "#7201a8"
             ],
             [
              0.3333333333333333,
              "#9c179e"
             ],
             [
              0.4444444444444444,
              "#bd3786"
             ],
             [
              0.5555555555555556,
              "#d8576b"
             ],
             [
              0.6666666666666666,
              "#ed7953"
             ],
             [
              0.7777777777777778,
              "#fb9f3a"
             ],
             [
              0.8888888888888888,
              "#fdca26"
             ],
             [
              1,
              "#f0f921"
             ]
            ],
            "type": "surface"
           }
          ],
          "table": [
           {
            "cells": {
             "fill": {
              "color": "#EBF0F8"
             },
             "line": {
              "color": "white"
             }
            },
            "header": {
             "fill": {
              "color": "#C8D4E3"
             },
             "line": {
              "color": "white"
             }
            },
            "type": "table"
           }
          ]
         },
         "layout": {
          "annotationdefaults": {
           "arrowcolor": "#2a3f5f",
           "arrowhead": 0,
           "arrowwidth": 1
          },
          "autotypenumbers": "strict",
          "coloraxis": {
           "colorbar": {
            "outlinewidth": 0,
            "ticks": ""
           }
          },
          "colorscale": {
           "diverging": [
            [
             0,
             "#8e0152"
            ],
            [
             0.1,
             "#c51b7d"
            ],
            [
             0.2,
             "#de77ae"
            ],
            [
             0.3,
             "#f1b6da"
            ],
            [
             0.4,
             "#fde0ef"
            ],
            [
             0.5,
             "#f7f7f7"
            ],
            [
             0.6,
             "#e6f5d0"
            ],
            [
             0.7,
             "#b8e186"
            ],
            [
             0.8,
             "#7fbc41"
            ],
            [
             0.9,
             "#4d9221"
            ],
            [
             1,
             "#276419"
            ]
           ],
           "sequential": [
            [
             0,
             "#0d0887"
            ],
            [
             0.1111111111111111,
             "#46039f"
            ],
            [
             0.2222222222222222,
             "#7201a8"
            ],
            [
             0.3333333333333333,
             "#9c179e"
            ],
            [
             0.4444444444444444,
             "#bd3786"
            ],
            [
             0.5555555555555556,
             "#d8576b"
            ],
            [
             0.6666666666666666,
             "#ed7953"
            ],
            [
             0.7777777777777778,
             "#fb9f3a"
            ],
            [
             0.8888888888888888,
             "#fdca26"
            ],
            [
             1,
             "#f0f921"
            ]
           ],
           "sequentialminus": [
            [
             0,
             "#0d0887"
            ],
            [
             0.1111111111111111,
             "#46039f"
            ],
            [
             0.2222222222222222,
             "#7201a8"
            ],
            [
             0.3333333333333333,
             "#9c179e"
            ],
            [
             0.4444444444444444,
             "#bd3786"
            ],
            [
             0.5555555555555556,
             "#d8576b"
            ],
            [
             0.6666666666666666,
             "#ed7953"
            ],
            [
             0.7777777777777778,
             "#fb9f3a"
            ],
            [
             0.8888888888888888,
             "#fdca26"
            ],
            [
             1,
             "#f0f921"
            ]
           ]
          },
          "colorway": [
           "#636efa",
           "#EF553B",
           "#00cc96",
           "#ab63fa",
           "#FFA15A",
           "#19d3f3",
           "#FF6692",
           "#B6E880",
           "#FF97FF",
           "#FECB52"
          ],
          "font": {
           "color": "#2a3f5f"
          },
          "geo": {
           "bgcolor": "white",
           "lakecolor": "white",
           "landcolor": "#E5ECF6",
           "showlakes": true,
           "showland": true,
           "subunitcolor": "white"
          },
          "hoverlabel": {
           "align": "left"
          },
          "hovermode": "closest",
          "mapbox": {
           "style": "light"
          },
          "paper_bgcolor": "white",
          "plot_bgcolor": "#E5ECF6",
          "polar": {
           "angularaxis": {
            "gridcolor": "white",
            "linecolor": "white",
            "ticks": ""
           },
           "bgcolor": "#E5ECF6",
           "radialaxis": {
            "gridcolor": "white",
            "linecolor": "white",
            "ticks": ""
           }
          },
          "scene": {
           "xaxis": {
            "backgroundcolor": "#E5ECF6",
            "gridcolor": "white",
            "gridwidth": 2,
            "linecolor": "white",
            "showbackground": true,
            "ticks": "",
            "zerolinecolor": "white"
           },
           "yaxis": {
            "backgroundcolor": "#E5ECF6",
            "gridcolor": "white",
            "gridwidth": 2,
            "linecolor": "white",
            "showbackground": true,
            "ticks": "",
            "zerolinecolor": "white"
           },
           "zaxis": {
            "backgroundcolor": "#E5ECF6",
            "gridcolor": "white",
            "gridwidth": 2,
            "linecolor": "white",
            "showbackground": true,
            "ticks": "",
            "zerolinecolor": "white"
           }
          },
          "shapedefaults": {
           "line": {
            "color": "#2a3f5f"
           }
          },
          "ternary": {
           "aaxis": {
            "gridcolor": "white",
            "linecolor": "white",
            "ticks": ""
           },
           "baxis": {
            "gridcolor": "white",
            "linecolor": "white",
            "ticks": ""
           },
           "bgcolor": "#E5ECF6",
           "caxis": {
            "gridcolor": "white",
            "linecolor": "white",
            "ticks": ""
           }
          },
          "title": {
           "x": 0.05
          },
          "xaxis": {
           "automargin": true,
           "gridcolor": "white",
           "linecolor": "white",
           "ticks": "",
           "title": {
            "standoff": 15
           },
           "zerolinecolor": "white",
           "zerolinewidth": 2
          },
          "yaxis": {
           "automargin": true,
           "gridcolor": "white",
           "linecolor": "white",
           "ticks": "",
           "title": {
            "standoff": 15
           },
           "zerolinecolor": "white",
           "zerolinewidth": 2
          }
         }
        },
        "title": {
         "text": "Albums over the years"
        },
        "xaxis": {
         "anchor": "y",
         "domain": [
          0,
          1
         ],
         "tickangle": 45,
         "title": {
          "text": "year"
         },
         "type": "category"
        },
        "yaxis": {
         "anchor": "x",
         "domain": [
          0,
          1
         ],
         "showticklabels": false,
         "tickangle": 45,
         "title": {
          "text": ""
         }
        }
       }
      }
     },
     "metadata": {},
     "output_type": "display_data"
    }
   ],
   "source": [
    "def album_years(df):\n",
    "    try:\n",
    "        fig = px.scatter(df, x=\"year\", color=\"album\", symbol=\"album\")\n",
    "        fig.update_traces(marker_size=10)\n",
    "        fig.update_layout(xaxis=dict(type='category'))\n",
    "        fig.update_xaxes(tickangle=45)\n",
    "        fig.update_layout(title_text='Albums over the years')\n",
    "        fig.update_yaxes(tickangle=45, showticklabels=False, title_text='')\n",
    "\n",
    "        return fig.show()\n",
    "    except:\n",
    "        return \"Somenthing wrong with your dataframe\"\n",
    "album_years(df)"
   ]
  },
  {
   "cell_type": "markdown",
   "metadata": {},
   "source": [
    "### \n",
    "<p> In this visualization, we see the number of music tracks per album, throughout the releases. </p>"
   ]
  },
  {
   "cell_type": "code",
   "execution_count": 113,
   "metadata": {},
   "outputs": [
    {
     "data": {
      "application/vnd.plotly.v1+json": {
       "config": {
        "plotlyServerURL": "https://plot.ly"
       },
       "data": [
        {
         "alignmentgroup": "True",
         "hovertemplate": "album=A Ghost Is Born (Deluxe Version)<br>index=%{x}<br>num_tracks=%{y}<extra></extra>",
         "legendgroup": "A Ghost Is Born (Deluxe Version)",
         "marker": {
          "color": "#636efa",
          "pattern": {
           "shape": ""
          }
         },
         "name": "A Ghost Is Born (Deluxe Version)",
         "offsetgroup": "A Ghost Is Born (Deluxe Version)",
         "orientation": "v",
         "showlegend": true,
         "textposition": "outside",
         "type": "bar",
         "x": [
          0
         ],
         "xaxis": "x",
         "y": [
          17
         ],
         "yaxis": "y"
        },
        {
         "alignmentgroup": "True",
         "hovertemplate": "album=Being There<br>index=%{x}<br>num_tracks=%{y}<extra></extra>",
         "legendgroup": "Being There",
         "marker": {
          "color": "#EF553B",
          "pattern": {
           "shape": ""
          }
         },
         "name": "Being There",
         "offsetgroup": "Being There",
         "orientation": "v",
         "showlegend": true,
         "textposition": "outside",
         "type": "bar",
         "x": [
          1
         ],
         "xaxis": "x",
         "y": [
          19
         ],
         "yaxis": "y"
        },
        {
         "alignmentgroup": "True",
         "hovertemplate": "album=Cousin<br>index=%{x}<br>num_tracks=%{y}<extra></extra>",
         "legendgroup": "Cousin",
         "marker": {
          "color": "#00cc96",
          "pattern": {
           "shape": ""
          }
         },
         "name": "Cousin",
         "offsetgroup": "Cousin",
         "orientation": "v",
         "showlegend": true,
         "textposition": "outside",
         "type": "bar",
         "x": [
          2
         ],
         "xaxis": "x",
         "y": [
          10
         ],
         "yaxis": "y"
        },
        {
         "alignmentgroup": "True",
         "hovertemplate": "album=Cruel Country<br>index=%{x}<br>num_tracks=%{y}<extra></extra>",
         "legendgroup": "Cruel Country",
         "marker": {
          "color": "#ab63fa",
          "pattern": {
           "shape": ""
          }
         },
         "name": "Cruel Country",
         "offsetgroup": "Cruel Country",
         "orientation": "v",
         "showlegend": true,
         "textposition": "outside",
         "type": "bar",
         "x": [
          3
         ],
         "xaxis": "x",
         "y": [
          20
         ],
         "yaxis": "y"
        },
        {
         "alignmentgroup": "True",
         "hovertemplate": "album=Kicking Television, Live in Chicago<br>index=%{x}<br>num_tracks=%{y}<extra></extra>",
         "legendgroup": "Kicking Television, Live in Chicago",
         "marker": {
          "color": "#FFA15A",
          "pattern": {
           "shape": ""
          }
         },
         "name": "Kicking Television, Live in Chicago",
         "offsetgroup": "Kicking Television, Live in Chicago",
         "orientation": "v",
         "showlegend": true,
         "textposition": "outside",
         "type": "bar",
         "x": [
          4
         ],
         "xaxis": "x",
         "y": [
          20
         ],
         "yaxis": "y"
        },
        {
         "alignmentgroup": "True",
         "hovertemplate": "album=Mermaid Avenue<br>index=%{x}<br>num_tracks=%{y}<extra></extra>",
         "legendgroup": "Mermaid Avenue",
         "marker": {
          "color": "#19d3f3",
          "pattern": {
           "shape": ""
          }
         },
         "name": "Mermaid Avenue",
         "offsetgroup": "Mermaid Avenue",
         "orientation": "v",
         "showlegend": true,
         "textposition": "outside",
         "type": "bar",
         "x": [
          5
         ],
         "xaxis": "x",
         "y": [
          15
         ],
         "yaxis": "y"
        },
        {
         "alignmentgroup": "True",
         "hovertemplate": "album=Mermaid Avenue Vol. II<br>index=%{x}<br>num_tracks=%{y}<extra></extra>",
         "legendgroup": "Mermaid Avenue Vol. II",
         "marker": {
          "color": "#FF6692",
          "pattern": {
           "shape": ""
          }
         },
         "name": "Mermaid Avenue Vol. II",
         "offsetgroup": "Mermaid Avenue Vol. II",
         "orientation": "v",
         "showlegend": true,
         "textposition": "outside",
         "type": "bar",
         "x": [
          6
         ],
         "xaxis": "x",
         "y": [
          15
         ],
         "yaxis": "y"
        },
        {
         "alignmentgroup": "True",
         "hovertemplate": "album=Mermaid Avenue Vol. III<br>index=%{x}<br>num_tracks=%{y}<extra></extra>",
         "legendgroup": "Mermaid Avenue Vol. III",
         "marker": {
          "color": "#B6E880",
          "pattern": {
           "shape": ""
          }
         },
         "name": "Mermaid Avenue Vol. III",
         "offsetgroup": "Mermaid Avenue Vol. III",
         "orientation": "v",
         "showlegend": true,
         "textposition": "outside",
         "type": "bar",
         "x": [
          7
         ],
         "xaxis": "x",
         "y": [
          17
         ],
         "yaxis": "y"
        },
        {
         "alignmentgroup": "True",
         "hovertemplate": "album=Mermaid Avenue: The Complete Sessions<br>index=%{x}<br>num_tracks=%{y}<extra></extra>",
         "legendgroup": "Mermaid Avenue: The Complete Sessions",
         "marker": {
          "color": "#FF97FF",
          "pattern": {
           "shape": ""
          }
         },
         "name": "Mermaid Avenue: The Complete Sessions",
         "offsetgroup": "Mermaid Avenue: The Complete Sessions",
         "orientation": "v",
         "showlegend": true,
         "textposition": "outside",
         "type": "bar",
         "x": [
          8
         ],
         "xaxis": "x",
         "y": [
          20
         ],
         "yaxis": "y"
        },
        {
         "alignmentgroup": "True",
         "hovertemplate": "album=Ode to Joy<br>index=%{x}<br>num_tracks=%{y}<extra></extra>",
         "legendgroup": "Ode to Joy",
         "marker": {
          "color": "#FECB52",
          "pattern": {
           "shape": ""
          }
         },
         "name": "Ode to Joy",
         "offsetgroup": "Ode to Joy",
         "orientation": "v",
         "showlegend": true,
         "textposition": "outside",
         "type": "bar",
         "x": [
          9
         ],
         "xaxis": "x",
         "y": [
          11
         ],
         "yaxis": "y"
        },
        {
         "alignmentgroup": "True",
         "hovertemplate": "album=Schmilco<br>index=%{x}<br>num_tracks=%{y}<extra></extra>",
         "legendgroup": "Schmilco",
         "marker": {
          "color": "#636efa",
          "pattern": {
           "shape": ""
          }
         },
         "name": "Schmilco",
         "offsetgroup": "Schmilco",
         "orientation": "v",
         "showlegend": true,
         "textposition": "outside",
         "type": "bar",
         "x": [
          10
         ],
         "xaxis": "x",
         "y": [
          12
         ],
         "yaxis": "y"
        },
        {
         "alignmentgroup": "True",
         "hovertemplate": "album=Sky Blue Sky<br>index=%{x}<br>num_tracks=%{y}<extra></extra>",
         "legendgroup": "Sky Blue Sky",
         "marker": {
          "color": "#EF553B",
          "pattern": {
           "shape": ""
          }
         },
         "name": "Sky Blue Sky",
         "offsetgroup": "Sky Blue Sky",
         "orientation": "v",
         "showlegend": true,
         "textposition": "outside",
         "type": "bar",
         "x": [
          11
         ],
         "xaxis": "x",
         "y": [
          16
         ],
         "yaxis": "y"
        },
        {
         "alignmentgroup": "True",
         "hovertemplate": "album=Star Wars<br>index=%{x}<br>num_tracks=%{y}<extra></extra>",
         "legendgroup": "Star Wars",
         "marker": {
          "color": "#00cc96",
          "pattern": {
           "shape": ""
          }
         },
         "name": "Star Wars",
         "offsetgroup": "Star Wars",
         "orientation": "v",
         "showlegend": true,
         "textposition": "outside",
         "type": "bar",
         "x": [
          12
         ],
         "xaxis": "x",
         "y": [
          10
         ],
         "yaxis": "y"
        },
        {
         "alignmentgroup": "True",
         "hovertemplate": "album=Summerteeth<br>index=%{x}<br>num_tracks=%{y}<extra></extra>",
         "legendgroup": "Summerteeth",
         "marker": {
          "color": "#ab63fa",
          "pattern": {
           "shape": ""
          }
         },
         "name": "Summerteeth",
         "offsetgroup": "Summerteeth",
         "orientation": "v",
         "showlegend": true,
         "textposition": "outside",
         "type": "bar",
         "x": [
          13
         ],
         "xaxis": "x",
         "y": [
          17
         ],
         "yaxis": "y"
        },
        {
         "alignmentgroup": "True",
         "hovertemplate": "album=The Whole Love (Deluxe Version)<br>index=%{x}<br>num_tracks=%{y}<extra></extra>",
         "legendgroup": "The Whole Love (Deluxe Version)",
         "marker": {
          "color": "#FFA15A",
          "pattern": {
           "shape": ""
          }
         },
         "name": "The Whole Love (Deluxe Version)",
         "offsetgroup": "The Whole Love (Deluxe Version)",
         "orientation": "v",
         "showlegend": true,
         "textposition": "outside",
         "type": "bar",
         "x": [
          14
         ],
         "xaxis": "x",
         "y": [
          16
         ],
         "yaxis": "y"
        },
        {
         "alignmentgroup": "True",
         "hovertemplate": "album=Wilco (The Album)<br>index=%{x}<br>num_tracks=%{y}<extra></extra>",
         "legendgroup": "Wilco (The Album)",
         "marker": {
          "color": "#19d3f3",
          "pattern": {
           "shape": ""
          }
         },
         "name": "Wilco (The Album)",
         "offsetgroup": "Wilco (The Album)",
         "orientation": "v",
         "showlegend": true,
         "textposition": "outside",
         "type": "bar",
         "x": [
          15
         ],
         "xaxis": "x",
         "y": [
          12
         ],
         "yaxis": "y"
        },
        {
         "alignmentgroup": "True",
         "hovertemplate": "album=Yankee Hotel Foxtrot (2022 Remaster)<br>index=%{x}<br>num_tracks=%{y}<extra></extra>",
         "legendgroup": "Yankee Hotel Foxtrot (2022 Remaster)",
         "marker": {
          "color": "#FF6692",
          "pattern": {
           "shape": ""
          }
         },
         "name": "Yankee Hotel Foxtrot (2022 Remaster)",
         "offsetgroup": "Yankee Hotel Foxtrot (2022 Remaster)",
         "orientation": "v",
         "showlegend": true,
         "textposition": "outside",
         "type": "bar",
         "x": [
          16
         ],
         "xaxis": "x",
         "y": [
          2
         ],
         "yaxis": "y"
        },
        {
         "alignmentgroup": "True",
         "hovertemplate": "album=Yankee Hotel Foxtrot (Deluxe Edition)<br>index=%{x}<br>num_tracks=%{y}<extra></extra>",
         "legendgroup": "Yankee Hotel Foxtrot (Deluxe Edition)",
         "marker": {
          "color": "#B6E880",
          "pattern": {
           "shape": ""
          }
         },
         "name": "Yankee Hotel Foxtrot (Deluxe Edition)",
         "offsetgroup": "Yankee Hotel Foxtrot (Deluxe Edition)",
         "orientation": "v",
         "showlegend": true,
         "textposition": "outside",
         "type": "bar",
         "x": [
          17
         ],
         "xaxis": "x",
         "y": [
          2
         ],
         "yaxis": "y"
        },
        {
         "alignmentgroup": "True",
         "hovertemplate": "album=summerteeth (Deluxe Edition)<br>index=%{x}<br>num_tracks=%{y}<extra></extra>",
         "legendgroup": "summerteeth (Deluxe Edition)",
         "marker": {
          "color": "#FF97FF",
          "pattern": {
           "shape": ""
          }
         },
         "name": "summerteeth (Deluxe Edition)",
         "offsetgroup": "summerteeth (Deluxe Edition)",
         "orientation": "v",
         "showlegend": true,
         "textposition": "outside",
         "type": "bar",
         "x": [
          18
         ],
         "xaxis": "x",
         "y": [
          17
         ],
         "yaxis": "y"
        }
       ],
       "layout": {
        "annotations": [
         {
          "text": "17",
          "x": 0,
          "y": 17
         },
         {
          "text": "19",
          "x": 1,
          "y": 19
         },
         {
          "text": "10",
          "x": 2,
          "y": 10
         },
         {
          "text": "20",
          "x": 3,
          "y": 20
         },
         {
          "text": "20",
          "x": 4,
          "y": 20
         },
         {
          "text": "15",
          "x": 5,
          "y": 15
         },
         {
          "text": "15",
          "x": 6,
          "y": 15
         },
         {
          "text": "17",
          "x": 7,
          "y": 17
         },
         {
          "text": "20",
          "x": 8,
          "y": 20
         },
         {
          "text": "11",
          "x": 9,
          "y": 11
         },
         {
          "text": "12",
          "x": 10,
          "y": 12
         },
         {
          "text": "16",
          "x": 11,
          "y": 16
         },
         {
          "text": "10",
          "x": 12,
          "y": 10
         },
         {
          "text": "17",
          "x": 13,
          "y": 17
         },
         {
          "text": "16",
          "x": 14,
          "y": 16
         },
         {
          "text": "12",
          "x": 15,
          "y": 12
         },
         {
          "text": "2",
          "x": 16,
          "y": 2
         },
         {
          "text": "2",
          "x": 17,
          "y": 2
         },
         {
          "text": "17",
          "x": 18,
          "y": 17
         },
         {
          "showarrow": false,
          "text": "Number of Tracks",
          "x": 0.5,
          "xref": "paper",
          "y": -0.1,
          "yref": "paper"
         }
        ],
        "barmode": "relative",
        "legend": {
         "title": {
          "text": "album"
         },
         "tracegroupgap": 0
        },
        "margin": {
         "t": 60
        },
        "template": {
         "data": {
          "bar": [
           {
            "error_x": {
             "color": "#2a3f5f"
            },
            "error_y": {
             "color": "#2a3f5f"
            },
            "marker": {
             "line": {
              "color": "#E5ECF6",
              "width": 0.5
             },
             "pattern": {
              "fillmode": "overlay",
              "size": 10,
              "solidity": 0.2
             }
            },
            "type": "bar"
           }
          ],
          "barpolar": [
           {
            "marker": {
             "line": {
              "color": "#E5ECF6",
              "width": 0.5
             },
             "pattern": {
              "fillmode": "overlay",
              "size": 10,
              "solidity": 0.2
             }
            },
            "type": "barpolar"
           }
          ],
          "carpet": [
           {
            "aaxis": {
             "endlinecolor": "#2a3f5f",
             "gridcolor": "white",
             "linecolor": "white",
             "minorgridcolor": "white",
             "startlinecolor": "#2a3f5f"
            },
            "baxis": {
             "endlinecolor": "#2a3f5f",
             "gridcolor": "white",
             "linecolor": "white",
             "minorgridcolor": "white",
             "startlinecolor": "#2a3f5f"
            },
            "type": "carpet"
           }
          ],
          "choropleth": [
           {
            "colorbar": {
             "outlinewidth": 0,
             "ticks": ""
            },
            "type": "choropleth"
           }
          ],
          "contour": [
           {
            "colorbar": {
             "outlinewidth": 0,
             "ticks": ""
            },
            "colorscale": [
             [
              0,
              "#0d0887"
             ],
             [
              0.1111111111111111,
              "#46039f"
             ],
             [
              0.2222222222222222,
              "#7201a8"
             ],
             [
              0.3333333333333333,
              "#9c179e"
             ],
             [
              0.4444444444444444,
              "#bd3786"
             ],
             [
              0.5555555555555556,
              "#d8576b"
             ],
             [
              0.6666666666666666,
              "#ed7953"
             ],
             [
              0.7777777777777778,
              "#fb9f3a"
             ],
             [
              0.8888888888888888,
              "#fdca26"
             ],
             [
              1,
              "#f0f921"
             ]
            ],
            "type": "contour"
           }
          ],
          "contourcarpet": [
           {
            "colorbar": {
             "outlinewidth": 0,
             "ticks": ""
            },
            "type": "contourcarpet"
           }
          ],
          "heatmap": [
           {
            "colorbar": {
             "outlinewidth": 0,
             "ticks": ""
            },
            "colorscale": [
             [
              0,
              "#0d0887"
             ],
             [
              0.1111111111111111,
              "#46039f"
             ],
             [
              0.2222222222222222,
              "#7201a8"
             ],
             [
              0.3333333333333333,
              "#9c179e"
             ],
             [
              0.4444444444444444,
              "#bd3786"
             ],
             [
              0.5555555555555556,
              "#d8576b"
             ],
             [
              0.6666666666666666,
              "#ed7953"
             ],
             [
              0.7777777777777778,
              "#fb9f3a"
             ],
             [
              0.8888888888888888,
              "#fdca26"
             ],
             [
              1,
              "#f0f921"
             ]
            ],
            "type": "heatmap"
           }
          ],
          "heatmapgl": [
           {
            "colorbar": {
             "outlinewidth": 0,
             "ticks": ""
            },
            "colorscale": [
             [
              0,
              "#0d0887"
             ],
             [
              0.1111111111111111,
              "#46039f"
             ],
             [
              0.2222222222222222,
              "#7201a8"
             ],
             [
              0.3333333333333333,
              "#9c179e"
             ],
             [
              0.4444444444444444,
              "#bd3786"
             ],
             [
              0.5555555555555556,
              "#d8576b"
             ],
             [
              0.6666666666666666,
              "#ed7953"
             ],
             [
              0.7777777777777778,
              "#fb9f3a"
             ],
             [
              0.8888888888888888,
              "#fdca26"
             ],
             [
              1,
              "#f0f921"
             ]
            ],
            "type": "heatmapgl"
           }
          ],
          "histogram": [
           {
            "marker": {
             "pattern": {
              "fillmode": "overlay",
              "size": 10,
              "solidity": 0.2
             }
            },
            "type": "histogram"
           }
          ],
          "histogram2d": [
           {
            "colorbar": {
             "outlinewidth": 0,
             "ticks": ""
            },
            "colorscale": [
             [
              0,
              "#0d0887"
             ],
             [
              0.1111111111111111,
              "#46039f"
             ],
             [
              0.2222222222222222,
              "#7201a8"
             ],
             [
              0.3333333333333333,
              "#9c179e"
             ],
             [
              0.4444444444444444,
              "#bd3786"
             ],
             [
              0.5555555555555556,
              "#d8576b"
             ],
             [
              0.6666666666666666,
              "#ed7953"
             ],
             [
              0.7777777777777778,
              "#fb9f3a"
             ],
             [
              0.8888888888888888,
              "#fdca26"
             ],
             [
              1,
              "#f0f921"
             ]
            ],
            "type": "histogram2d"
           }
          ],
          "histogram2dcontour": [
           {
            "colorbar": {
             "outlinewidth": 0,
             "ticks": ""
            },
            "colorscale": [
             [
              0,
              "#0d0887"
             ],
             [
              0.1111111111111111,
              "#46039f"
             ],
             [
              0.2222222222222222,
              "#7201a8"
             ],
             [
              0.3333333333333333,
              "#9c179e"
             ],
             [
              0.4444444444444444,
              "#bd3786"
             ],
             [
              0.5555555555555556,
              "#d8576b"
             ],
             [
              0.6666666666666666,
              "#ed7953"
             ],
             [
              0.7777777777777778,
              "#fb9f3a"
             ],
             [
              0.8888888888888888,
              "#fdca26"
             ],
             [
              1,
              "#f0f921"
             ]
            ],
            "type": "histogram2dcontour"
           }
          ],
          "mesh3d": [
           {
            "colorbar": {
             "outlinewidth": 0,
             "ticks": ""
            },
            "type": "mesh3d"
           }
          ],
          "parcoords": [
           {
            "line": {
             "colorbar": {
              "outlinewidth": 0,
              "ticks": ""
             }
            },
            "type": "parcoords"
           }
          ],
          "pie": [
           {
            "automargin": true,
            "type": "pie"
           }
          ],
          "scatter": [
           {
            "fillpattern": {
             "fillmode": "overlay",
             "size": 10,
             "solidity": 0.2
            },
            "type": "scatter"
           }
          ],
          "scatter3d": [
           {
            "line": {
             "colorbar": {
              "outlinewidth": 0,
              "ticks": ""
             }
            },
            "marker": {
             "colorbar": {
              "outlinewidth": 0,
              "ticks": ""
             }
            },
            "type": "scatter3d"
           }
          ],
          "scattercarpet": [
           {
            "marker": {
             "colorbar": {
              "outlinewidth": 0,
              "ticks": ""
             }
            },
            "type": "scattercarpet"
           }
          ],
          "scattergeo": [
           {
            "marker": {
             "colorbar": {
              "outlinewidth": 0,
              "ticks": ""
             }
            },
            "type": "scattergeo"
           }
          ],
          "scattergl": [
           {
            "marker": {
             "colorbar": {
              "outlinewidth": 0,
              "ticks": ""
             }
            },
            "type": "scattergl"
           }
          ],
          "scattermapbox": [
           {
            "marker": {
             "colorbar": {
              "outlinewidth": 0,
              "ticks": ""
             }
            },
            "type": "scattermapbox"
           }
          ],
          "scatterpolar": [
           {
            "marker": {
             "colorbar": {
              "outlinewidth": 0,
              "ticks": ""
             }
            },
            "type": "scatterpolar"
           }
          ],
          "scatterpolargl": [
           {
            "marker": {
             "colorbar": {
              "outlinewidth": 0,
              "ticks": ""
             }
            },
            "type": "scatterpolargl"
           }
          ],
          "scatterternary": [
           {
            "marker": {
             "colorbar": {
              "outlinewidth": 0,
              "ticks": ""
             }
            },
            "type": "scatterternary"
           }
          ],
          "surface": [
           {
            "colorbar": {
             "outlinewidth": 0,
             "ticks": ""
            },
            "colorscale": [
             [
              0,
              "#0d0887"
             ],
             [
              0.1111111111111111,
              "#46039f"
             ],
             [
              0.2222222222222222,
              "#7201a8"
             ],
             [
              0.3333333333333333,
              "#9c179e"
             ],
             [
              0.4444444444444444,
              "#bd3786"
             ],
             [
              0.5555555555555556,
              "#d8576b"
             ],
             [
              0.6666666666666666,
              "#ed7953"
             ],
             [
              0.7777777777777778,
              "#fb9f3a"
             ],
             [
              0.8888888888888888,
              "#fdca26"
             ],
             [
              1,
              "#f0f921"
             ]
            ],
            "type": "surface"
           }
          ],
          "table": [
           {
            "cells": {
             "fill": {
              "color": "#EBF0F8"
             },
             "line": {
              "color": "white"
             }
            },
            "header": {
             "fill": {
              "color": "#C8D4E3"
             },
             "line": {
              "color": "white"
             }
            },
            "type": "table"
           }
          ]
         },
         "layout": {
          "annotationdefaults": {
           "arrowcolor": "#2a3f5f",
           "arrowhead": 0,
           "arrowwidth": 1
          },
          "autotypenumbers": "strict",
          "coloraxis": {
           "colorbar": {
            "outlinewidth": 0,
            "ticks": ""
           }
          },
          "colorscale": {
           "diverging": [
            [
             0,
             "#8e0152"
            ],
            [
             0.1,
             "#c51b7d"
            ],
            [
             0.2,
             "#de77ae"
            ],
            [
             0.3,
             "#f1b6da"
            ],
            [
             0.4,
             "#fde0ef"
            ],
            [
             0.5,
             "#f7f7f7"
            ],
            [
             0.6,
             "#e6f5d0"
            ],
            [
             0.7,
             "#b8e186"
            ],
            [
             0.8,
             "#7fbc41"
            ],
            [
             0.9,
             "#4d9221"
            ],
            [
             1,
             "#276419"
            ]
           ],
           "sequential": [
            [
             0,
             "#0d0887"
            ],
            [
             0.1111111111111111,
             "#46039f"
            ],
            [
             0.2222222222222222,
             "#7201a8"
            ],
            [
             0.3333333333333333,
             "#9c179e"
            ],
            [
             0.4444444444444444,
             "#bd3786"
            ],
            [
             0.5555555555555556,
             "#d8576b"
            ],
            [
             0.6666666666666666,
             "#ed7953"
            ],
            [
             0.7777777777777778,
             "#fb9f3a"
            ],
            [
             0.8888888888888888,
             "#fdca26"
            ],
            [
             1,
             "#f0f921"
            ]
           ],
           "sequentialminus": [
            [
             0,
             "#0d0887"
            ],
            [
             0.1111111111111111,
             "#46039f"
            ],
            [
             0.2222222222222222,
             "#7201a8"
            ],
            [
             0.3333333333333333,
             "#9c179e"
            ],
            [
             0.4444444444444444,
             "#bd3786"
            ],
            [
             0.5555555555555556,
             "#d8576b"
            ],
            [
             0.6666666666666666,
             "#ed7953"
            ],
            [
             0.7777777777777778,
             "#fb9f3a"
            ],
            [
             0.8888888888888888,
             "#fdca26"
            ],
            [
             1,
             "#f0f921"
            ]
           ]
          },
          "colorway": [
           "#636efa",
           "#EF553B",
           "#00cc96",
           "#ab63fa",
           "#FFA15A",
           "#19d3f3",
           "#FF6692",
           "#B6E880",
           "#FF97FF",
           "#FECB52"
          ],
          "font": {
           "color": "#2a3f5f"
          },
          "geo": {
           "bgcolor": "white",
           "lakecolor": "white",
           "landcolor": "#E5ECF6",
           "showlakes": true,
           "showland": true,
           "subunitcolor": "white"
          },
          "hoverlabel": {
           "align": "left"
          },
          "hovermode": "closest",
          "mapbox": {
           "style": "light"
          },
          "paper_bgcolor": "white",
          "plot_bgcolor": "#E5ECF6",
          "polar": {
           "angularaxis": {
            "gridcolor": "white",
            "linecolor": "white",
            "ticks": ""
           },
           "bgcolor": "#E5ECF6",
           "radialaxis": {
            "gridcolor": "white",
            "linecolor": "white",
            "ticks": ""
           }
          },
          "scene": {
           "xaxis": {
            "backgroundcolor": "#E5ECF6",
            "gridcolor": "white",
            "gridwidth": 2,
            "linecolor": "white",
            "showbackground": true,
            "ticks": "",
            "zerolinecolor": "white"
           },
           "yaxis": {
            "backgroundcolor": "#E5ECF6",
            "gridcolor": "white",
            "gridwidth": 2,
            "linecolor": "white",
            "showbackground": true,
            "ticks": "",
            "zerolinecolor": "white"
           },
           "zaxis": {
            "backgroundcolor": "#E5ECF6",
            "gridcolor": "white",
            "gridwidth": 2,
            "linecolor": "white",
            "showbackground": true,
            "ticks": "",
            "zerolinecolor": "white"
           }
          },
          "shapedefaults": {
           "line": {
            "color": "#2a3f5f"
           }
          },
          "ternary": {
           "aaxis": {
            "gridcolor": "white",
            "linecolor": "white",
            "ticks": ""
           },
           "baxis": {
            "gridcolor": "white",
            "linecolor": "white",
            "ticks": ""
           },
           "bgcolor": "#E5ECF6",
           "caxis": {
            "gridcolor": "white",
            "linecolor": "white",
            "ticks": ""
           }
          },
          "title": {
           "x": 0.05
          },
          "xaxis": {
           "automargin": true,
           "gridcolor": "white",
           "linecolor": "white",
           "ticks": "",
           "title": {
            "standoff": 15
           },
           "zerolinecolor": "white",
           "zerolinewidth": 2
          },
          "yaxis": {
           "automargin": true,
           "gridcolor": "white",
           "linecolor": "white",
           "ticks": "",
           "title": {
            "standoff": 15
           },
           "zerolinecolor": "white",
           "zerolinewidth": 2
          }
         }
        },
        "title": {
         "text": "Track from album, over the year"
        },
        "xaxis": {
         "anchor": "y",
         "domain": [
          0,
          1
         ],
         "showticklabels": false,
         "tickangle": 45,
         "title": {
          "text": " "
         },
         "type": "category"
        },
        "yaxis": {
         "anchor": "x",
         "domain": [
          0,
          1
         ],
         "showticklabels": false,
         "tickangle": 45,
         "title": {
          "text": ""
         }
        }
       }
      }
     },
     "metadata": {},
     "output_type": "display_data"
    }
   ],
   "source": [
    "def track_album_years(df):\n",
    "    try: \n",
    "        album_track_counts = df.groupby(['album', 'year']).size().reset_index(name='num_tracks')\n",
    "        line = px.bar(album_track_counts, y='num_tracks', color='album')\n",
    "        line.update_layout(xaxis=dict(type='category'))\n",
    "        line.update_xaxes(tickangle=45, showticklabels=False, title_text=' ')\n",
    "        line.update_layout(title_text='Track from album, over the year')\n",
    "        line.update_yaxes(tickangle=45, showticklabels=False, title_text='')\n",
    "        for i, count in enumerate(album_track_counts['num_tracks']):\n",
    "            line.add_annotation(text=count, x=album_track_counts.index[i], y=count)\n",
    "        line.update_traces(textposition='outside')\n",
    "        line.add_annotation(\n",
    "            text=\"Number of Tracks\",\n",
    "            xref=\"paper\",\n",
    "            yref=\"paper\",\n",
    "            x=0.5,  \n",
    "            y=-0.1, \n",
    "            showarrow=False\n",
    "        )\n",
    "        \n",
    "        line.show()\n",
    "    except Exception as e:\n",
    "        return f\"Something went wrong: {str(e)}\"\n",
    "\n",
    "track_album_years(df[['album', 'track', 'year']])\n",
    "\n"
   ]
  },
  {
   "cell_type": "markdown",
   "metadata": {},
   "source": [
    "### \n",
    "<p> In this view, we see the longest songs and the shortest songs. The percentage in relation to the total of the whole. </p>"
   ]
  },
  {
   "cell_type": "code",
   "execution_count": 139,
   "metadata": {},
   "outputs": [
    {
     "name": "stderr",
     "output_type": "stream",
     "text": [
      "/Users/mayconcyprianobatestin/opt/anaconda3/lib/python3.9/site-packages/pandas/core/indexing.py:1773: SettingWithCopyWarning:\n",
      "\n",
      "\n",
      "A value is trying to be set on a copy of a slice from a DataFrame.\n",
      "Try using .loc[row_indexer,col_indexer] = value instead\n",
      "\n",
      "See the caveats in the documentation: https://pandas.pydata.org/pandas-docs/stable/user_guide/indexing.html#returning-a-view-versus-a-copy\n",
      "\n"
     ]
    },
    {
     "data": {
      "application/vnd.plotly.v1+json": {
       "config": {
        "plotlyServerURL": "https://plot.ly"
       },
       "data": [
        {
         "customdata": [
          [
           "Less Than You Think",
           "15m1s",
           "Less Than You Think"
          ],
          [
           "One Sunday Morning (Song for Jane Smiley's Boyfriend)",
           "12m3s",
           "One Sunday Morning (Song for Jane Smiley's Boyfriend)"
          ],
          [
           "Spiders (Kidsmoke)",
           "10m42s",
           "Spiders (Kidsmoke)"
          ],
          [
           "Many Worlds",
           "7m52s",
           "Many Worlds"
          ],
          [
           "Reservations - 2022 Remaster",
           "7m21s",
           "Reservations - 2022 Remaster"
          ],
          [
           "Art of Almost",
           "7m16s",
           "Art of Almost"
          ],
          [
           "Sunken Treasure",
           "6m51s",
           "Sunken Treasure"
          ],
          [
           "Dreamer in My Dreams",
           "6m43s",
           "Dreamer in My Dreams"
          ],
          [
           "Misunderstood",
           "6m28s",
           "Misunderstood"
          ],
          [
           "Remember The Mountain Bed",
           "6m26s",
           "Remember The Mountain Bed"
          ]
         ],
         "domain": {
          "x": [
           0,
           1
          ],
          "y": [
           0,
           1
          ]
         },
         "hovertemplate": "track=%{customdata[2]}<br>duration_ms=%{value}<br>duration_formatted=%{customdata[1]}<extra></extra>",
         "labels": [
          "Less Than You Think",
          "One Sunday Morning (Song for Jane Smiley's Boyfriend)",
          "Spiders (Kidsmoke)",
          "Many Worlds",
          "Reservations - 2022 Remaster",
          "Art of Almost",
          "Sunken Treasure",
          "Dreamer in My Dreams",
          "Misunderstood",
          "Remember The Mountain Bed"
         ],
         "legendgroup": "",
         "marker": {
          "colors": [
           "#636efa",
           "#EF553B",
           "#00cc96",
           "#ab63fa",
           "#FFA15A",
           "#19d3f3",
           "#FF6692",
           "#B6E880",
           "#FF97FF",
           "#FECB52"
          ]
         },
         "name": "",
         "pull": [
          0.1,
          0,
          0,
          0,
          0,
          0,
          0,
          0,
          0,
          0
         ],
         "showlegend": true,
         "textinfo": "label+percent",
         "type": "pie",
         "values": [
          901333,
          723960,
          642200,
          472627,
          441480,
          436573,
          411467,
          403867,
          388267,
          386440
         ]
        }
       ],
       "layout": {
        "legend": {
         "tracegroupgap": 0
        },
        "template": {
         "data": {
          "bar": [
           {
            "error_x": {
             "color": "#2a3f5f"
            },
            "error_y": {
             "color": "#2a3f5f"
            },
            "marker": {
             "line": {
              "color": "#E5ECF6",
              "width": 0.5
             },
             "pattern": {
              "fillmode": "overlay",
              "size": 10,
              "solidity": 0.2
             }
            },
            "type": "bar"
           }
          ],
          "barpolar": [
           {
            "marker": {
             "line": {
              "color": "#E5ECF6",
              "width": 0.5
             },
             "pattern": {
              "fillmode": "overlay",
              "size": 10,
              "solidity": 0.2
             }
            },
            "type": "barpolar"
           }
          ],
          "carpet": [
           {
            "aaxis": {
             "endlinecolor": "#2a3f5f",
             "gridcolor": "white",
             "linecolor": "white",
             "minorgridcolor": "white",
             "startlinecolor": "#2a3f5f"
            },
            "baxis": {
             "endlinecolor": "#2a3f5f",
             "gridcolor": "white",
             "linecolor": "white",
             "minorgridcolor": "white",
             "startlinecolor": "#2a3f5f"
            },
            "type": "carpet"
           }
          ],
          "choropleth": [
           {
            "colorbar": {
             "outlinewidth": 0,
             "ticks": ""
            },
            "type": "choropleth"
           }
          ],
          "contour": [
           {
            "colorbar": {
             "outlinewidth": 0,
             "ticks": ""
            },
            "colorscale": [
             [
              0,
              "#0d0887"
             ],
             [
              0.1111111111111111,
              "#46039f"
             ],
             [
              0.2222222222222222,
              "#7201a8"
             ],
             [
              0.3333333333333333,
              "#9c179e"
             ],
             [
              0.4444444444444444,
              "#bd3786"
             ],
             [
              0.5555555555555556,
              "#d8576b"
             ],
             [
              0.6666666666666666,
              "#ed7953"
             ],
             [
              0.7777777777777778,
              "#fb9f3a"
             ],
             [
              0.8888888888888888,
              "#fdca26"
             ],
             [
              1,
              "#f0f921"
             ]
            ],
            "type": "contour"
           }
          ],
          "contourcarpet": [
           {
            "colorbar": {
             "outlinewidth": 0,
             "ticks": ""
            },
            "type": "contourcarpet"
           }
          ],
          "heatmap": [
           {
            "colorbar": {
             "outlinewidth": 0,
             "ticks": ""
            },
            "colorscale": [
             [
              0,
              "#0d0887"
             ],
             [
              0.1111111111111111,
              "#46039f"
             ],
             [
              0.2222222222222222,
              "#7201a8"
             ],
             [
              0.3333333333333333,
              "#9c179e"
             ],
             [
              0.4444444444444444,
              "#bd3786"
             ],
             [
              0.5555555555555556,
              "#d8576b"
             ],
             [
              0.6666666666666666,
              "#ed7953"
             ],
             [
              0.7777777777777778,
              "#fb9f3a"
             ],
             [
              0.8888888888888888,
              "#fdca26"
             ],
             [
              1,
              "#f0f921"
             ]
            ],
            "type": "heatmap"
           }
          ],
          "heatmapgl": [
           {
            "colorbar": {
             "outlinewidth": 0,
             "ticks": ""
            },
            "colorscale": [
             [
              0,
              "#0d0887"
             ],
             [
              0.1111111111111111,
              "#46039f"
             ],
             [
              0.2222222222222222,
              "#7201a8"
             ],
             [
              0.3333333333333333,
              "#9c179e"
             ],
             [
              0.4444444444444444,
              "#bd3786"
             ],
             [
              0.5555555555555556,
              "#d8576b"
             ],
             [
              0.6666666666666666,
              "#ed7953"
             ],
             [
              0.7777777777777778,
              "#fb9f3a"
             ],
             [
              0.8888888888888888,
              "#fdca26"
             ],
             [
              1,
              "#f0f921"
             ]
            ],
            "type": "heatmapgl"
           }
          ],
          "histogram": [
           {
            "marker": {
             "pattern": {
              "fillmode": "overlay",
              "size": 10,
              "solidity": 0.2
             }
            },
            "type": "histogram"
           }
          ],
          "histogram2d": [
           {
            "colorbar": {
             "outlinewidth": 0,
             "ticks": ""
            },
            "colorscale": [
             [
              0,
              "#0d0887"
             ],
             [
              0.1111111111111111,
              "#46039f"
             ],
             [
              0.2222222222222222,
              "#7201a8"
             ],
             [
              0.3333333333333333,
              "#9c179e"
             ],
             [
              0.4444444444444444,
              "#bd3786"
             ],
             [
              0.5555555555555556,
              "#d8576b"
             ],
             [
              0.6666666666666666,
              "#ed7953"
             ],
             [
              0.7777777777777778,
              "#fb9f3a"
             ],
             [
              0.8888888888888888,
              "#fdca26"
             ],
             [
              1,
              "#f0f921"
             ]
            ],
            "type": "histogram2d"
           }
          ],
          "histogram2dcontour": [
           {
            "colorbar": {
             "outlinewidth": 0,
             "ticks": ""
            },
            "colorscale": [
             [
              0,
              "#0d0887"
             ],
             [
              0.1111111111111111,
              "#46039f"
             ],
             [
              0.2222222222222222,
              "#7201a8"
             ],
             [
              0.3333333333333333,
              "#9c179e"
             ],
             [
              0.4444444444444444,
              "#bd3786"
             ],
             [
              0.5555555555555556,
              "#d8576b"
             ],
             [
              0.6666666666666666,
              "#ed7953"
             ],
             [
              0.7777777777777778,
              "#fb9f3a"
             ],
             [
              0.8888888888888888,
              "#fdca26"
             ],
             [
              1,
              "#f0f921"
             ]
            ],
            "type": "histogram2dcontour"
           }
          ],
          "mesh3d": [
           {
            "colorbar": {
             "outlinewidth": 0,
             "ticks": ""
            },
            "type": "mesh3d"
           }
          ],
          "parcoords": [
           {
            "line": {
             "colorbar": {
              "outlinewidth": 0,
              "ticks": ""
             }
            },
            "type": "parcoords"
           }
          ],
          "pie": [
           {
            "automargin": true,
            "type": "pie"
           }
          ],
          "scatter": [
           {
            "fillpattern": {
             "fillmode": "overlay",
             "size": 10,
             "solidity": 0.2
            },
            "type": "scatter"
           }
          ],
          "scatter3d": [
           {
            "line": {
             "colorbar": {
              "outlinewidth": 0,
              "ticks": ""
             }
            },
            "marker": {
             "colorbar": {
              "outlinewidth": 0,
              "ticks": ""
             }
            },
            "type": "scatter3d"
           }
          ],
          "scattercarpet": [
           {
            "marker": {
             "colorbar": {
              "outlinewidth": 0,
              "ticks": ""
             }
            },
            "type": "scattercarpet"
           }
          ],
          "scattergeo": [
           {
            "marker": {
             "colorbar": {
              "outlinewidth": 0,
              "ticks": ""
             }
            },
            "type": "scattergeo"
           }
          ],
          "scattergl": [
           {
            "marker": {
             "colorbar": {
              "outlinewidth": 0,
              "ticks": ""
             }
            },
            "type": "scattergl"
           }
          ],
          "scattermapbox": [
           {
            "marker": {
             "colorbar": {
              "outlinewidth": 0,
              "ticks": ""
             }
            },
            "type": "scattermapbox"
           }
          ],
          "scatterpolar": [
           {
            "marker": {
             "colorbar": {
              "outlinewidth": 0,
              "ticks": ""
             }
            },
            "type": "scatterpolar"
           }
          ],
          "scatterpolargl": [
           {
            "marker": {
             "colorbar": {
              "outlinewidth": 0,
              "ticks": ""
             }
            },
            "type": "scatterpolargl"
           }
          ],
          "scatterternary": [
           {
            "marker": {
             "colorbar": {
              "outlinewidth": 0,
              "ticks": ""
             }
            },
            "type": "scatterternary"
           }
          ],
          "surface": [
           {
            "colorbar": {
             "outlinewidth": 0,
             "ticks": ""
            },
            "colorscale": [
             [
              0,
              "#0d0887"
             ],
             [
              0.1111111111111111,
              "#46039f"
             ],
             [
              0.2222222222222222,
              "#7201a8"
             ],
             [
              0.3333333333333333,
              "#9c179e"
             ],
             [
              0.4444444444444444,
              "#bd3786"
             ],
             [
              0.5555555555555556,
              "#d8576b"
             ],
             [
              0.6666666666666666,
              "#ed7953"
             ],
             [
              0.7777777777777778,
              "#fb9f3a"
             ],
             [
              0.8888888888888888,
              "#fdca26"
             ],
             [
              1,
              "#f0f921"
             ]
            ],
            "type": "surface"
           }
          ],
          "table": [
           {
            "cells": {
             "fill": {
              "color": "#EBF0F8"
             },
             "line": {
              "color": "white"
             }
            },
            "header": {
             "fill": {
              "color": "#C8D4E3"
             },
             "line": {
              "color": "white"
             }
            },
            "type": "table"
           }
          ]
         },
         "layout": {
          "annotationdefaults": {
           "arrowcolor": "#2a3f5f",
           "arrowhead": 0,
           "arrowwidth": 1
          },
          "autotypenumbers": "strict",
          "coloraxis": {
           "colorbar": {
            "outlinewidth": 0,
            "ticks": ""
           }
          },
          "colorscale": {
           "diverging": [
            [
             0,
             "#8e0152"
            ],
            [
             0.1,
             "#c51b7d"
            ],
            [
             0.2,
             "#de77ae"
            ],
            [
             0.3,
             "#f1b6da"
            ],
            [
             0.4,
             "#fde0ef"
            ],
            [
             0.5,
             "#f7f7f7"
            ],
            [
             0.6,
             "#e6f5d0"
            ],
            [
             0.7,
             "#b8e186"
            ],
            [
             0.8,
             "#7fbc41"
            ],
            [
             0.9,
             "#4d9221"
            ],
            [
             1,
             "#276419"
            ]
           ],
           "sequential": [
            [
             0,
             "#0d0887"
            ],
            [
             0.1111111111111111,
             "#46039f"
            ],
            [
             0.2222222222222222,
             "#7201a8"
            ],
            [
             0.3333333333333333,
             "#9c179e"
            ],
            [
             0.4444444444444444,
             "#bd3786"
            ],
            [
             0.5555555555555556,
             "#d8576b"
            ],
            [
             0.6666666666666666,
             "#ed7953"
            ],
            [
             0.7777777777777778,
             "#fb9f3a"
            ],
            [
             0.8888888888888888,
             "#fdca26"
            ],
            [
             1,
             "#f0f921"
            ]
           ],
           "sequentialminus": [
            [
             0,
             "#0d0887"
            ],
            [
             0.1111111111111111,
             "#46039f"
            ],
            [
             0.2222222222222222,
             "#7201a8"
            ],
            [
             0.3333333333333333,
             "#9c179e"
            ],
            [
             0.4444444444444444,
             "#bd3786"
            ],
            [
             0.5555555555555556,
             "#d8576b"
            ],
            [
             0.6666666666666666,
             "#ed7953"
            ],
            [
             0.7777777777777778,
             "#fb9f3a"
            ],
            [
             0.8888888888888888,
             "#fdca26"
            ],
            [
             1,
             "#f0f921"
            ]
           ]
          },
          "colorway": [
           "#636efa",
           "#EF553B",
           "#00cc96",
           "#ab63fa",
           "#FFA15A",
           "#19d3f3",
           "#FF6692",
           "#B6E880",
           "#FF97FF",
           "#FECB52"
          ],
          "font": {
           "color": "#2a3f5f"
          },
          "geo": {
           "bgcolor": "white",
           "lakecolor": "white",
           "landcolor": "#E5ECF6",
           "showlakes": true,
           "showland": true,
           "subunitcolor": "white"
          },
          "hoverlabel": {
           "align": "left"
          },
          "hovermode": "closest",
          "mapbox": {
           "style": "light"
          },
          "paper_bgcolor": "white",
          "plot_bgcolor": "#E5ECF6",
          "polar": {
           "angularaxis": {
            "gridcolor": "white",
            "linecolor": "white",
            "ticks": ""
           },
           "bgcolor": "#E5ECF6",
           "radialaxis": {
            "gridcolor": "white",
            "linecolor": "white",
            "ticks": ""
           }
          },
          "scene": {
           "xaxis": {
            "backgroundcolor": "#E5ECF6",
            "gridcolor": "white",
            "gridwidth": 2,
            "linecolor": "white",
            "showbackground": true,
            "ticks": "",
            "zerolinecolor": "white"
           },
           "yaxis": {
            "backgroundcolor": "#E5ECF6",
            "gridcolor": "white",
            "gridwidth": 2,
            "linecolor": "white",
            "showbackground": true,
            "ticks": "",
            "zerolinecolor": "white"
           },
           "zaxis": {
            "backgroundcolor": "#E5ECF6",
            "gridcolor": "white",
            "gridwidth": 2,
            "linecolor": "white",
            "showbackground": true,
            "ticks": "",
            "zerolinecolor": "white"
           }
          },
          "shapedefaults": {
           "line": {
            "color": "#2a3f5f"
           }
          },
          "ternary": {
           "aaxis": {
            "gridcolor": "white",
            "linecolor": "white",
            "ticks": ""
           },
           "baxis": {
            "gridcolor": "white",
            "linecolor": "white",
            "ticks": ""
           },
           "bgcolor": "#E5ECF6",
           "caxis": {
            "gridcolor": "white",
            "linecolor": "white",
            "ticks": ""
           }
          },
          "title": {
           "x": 0.05
          },
          "xaxis": {
           "automargin": true,
           "gridcolor": "white",
           "linecolor": "white",
           "ticks": "",
           "title": {
            "standoff": 15
           },
           "zerolinecolor": "white",
           "zerolinewidth": 2
          },
          "yaxis": {
           "automargin": true,
           "gridcolor": "white",
           "linecolor": "white",
           "ticks": "",
           "title": {
            "standoff": 15
           },
           "zerolinecolor": "white",
           "zerolinewidth": 2
          }
         }
        },
        "title": {
         "text": "Top 10 Longest Tracks"
        }
       }
      }
     },
     "metadata": {},
     "output_type": "display_data"
    },
    {
     "data": {
      "application/vnd.plotly.v1+json": {
       "config": {
        "plotlyServerURL": "https://plot.ly"
       },
       "data": [
        {
         "customdata": [
          [
           "23 Seconds of Silence",
           "0m22s"
          ],
          [
           "23 Seconds of Silence",
           "0m23s"
          ],
          [
           "Another Man's Done Gone",
           "1m36s"
          ],
          [
           "Another Man's Done Gone",
           "1m36s"
          ],
          [
           "Give Me A Nail",
           "1m38s"
          ],
          [
           "My Flying Saucer",
           "1m44s"
          ],
          [
           "My Flying Saucer",
           "1m44s"
          ],
          [
           "I Was Born",
           "1m50s"
          ],
          [
           "I Was Born",
           "1m50s"
          ],
          [
           "Ingrid Bergman",
           "1m50s"
          ]
         ],
         "domain": {
          "x": [
           0,
           1
          ],
          "y": [
           0,
           1
          ]
         },
         "hovertemplate": "track=%{customdata[0]}<br>duration_ms=%{value}<br>duration_formatted=%{customdata[1]}<extra></extra>",
         "labels": [
          "23 Seconds of Silence",
          "23 Seconds of Silence",
          "Another Man's Done Gone",
          "Another Man's Done Gone",
          "Give Me A Nail",
          "My Flying Saucer",
          "My Flying Saucer",
          "I Was Born",
          "I Was Born",
          "Ingrid Bergman"
         ],
         "legendgroup": "",
         "name": "",
         "pull": [
          0.1,
          0,
          0,
          0,
          0,
          0,
          0,
          0,
          0,
          0
         ],
         "showlegend": true,
         "textinfo": "label+percent",
         "type": "pie",
         "values": [
          22880,
          23253,
          96240,
          96240,
          98240,
          104973,
          104973,
          110293,
          110293,
          110293
         ]
        }
       ],
       "layout": {
        "legend": {
         "tracegroupgap": 0
        },
        "template": {
         "data": {
          "bar": [
           {
            "error_x": {
             "color": "#2a3f5f"
            },
            "error_y": {
             "color": "#2a3f5f"
            },
            "marker": {
             "line": {
              "color": "#E5ECF6",
              "width": 0.5
             },
             "pattern": {
              "fillmode": "overlay",
              "size": 10,
              "solidity": 0.2
             }
            },
            "type": "bar"
           }
          ],
          "barpolar": [
           {
            "marker": {
             "line": {
              "color": "#E5ECF6",
              "width": 0.5
             },
             "pattern": {
              "fillmode": "overlay",
              "size": 10,
              "solidity": 0.2
             }
            },
            "type": "barpolar"
           }
          ],
          "carpet": [
           {
            "aaxis": {
             "endlinecolor": "#2a3f5f",
             "gridcolor": "white",
             "linecolor": "white",
             "minorgridcolor": "white",
             "startlinecolor": "#2a3f5f"
            },
            "baxis": {
             "endlinecolor": "#2a3f5f",
             "gridcolor": "white",
             "linecolor": "white",
             "minorgridcolor": "white",
             "startlinecolor": "#2a3f5f"
            },
            "type": "carpet"
           }
          ],
          "choropleth": [
           {
            "colorbar": {
             "outlinewidth": 0,
             "ticks": ""
            },
            "type": "choropleth"
           }
          ],
          "contour": [
           {
            "colorbar": {
             "outlinewidth": 0,
             "ticks": ""
            },
            "colorscale": [
             [
              0,
              "#0d0887"
             ],
             [
              0.1111111111111111,
              "#46039f"
             ],
             [
              0.2222222222222222,
              "#7201a8"
             ],
             [
              0.3333333333333333,
              "#9c179e"
             ],
             [
              0.4444444444444444,
              "#bd3786"
             ],
             [
              0.5555555555555556,
              "#d8576b"
             ],
             [
              0.6666666666666666,
              "#ed7953"
             ],
             [
              0.7777777777777778,
              "#fb9f3a"
             ],
             [
              0.8888888888888888,
              "#fdca26"
             ],
             [
              1,
              "#f0f921"
             ]
            ],
            "type": "contour"
           }
          ],
          "contourcarpet": [
           {
            "colorbar": {
             "outlinewidth": 0,
             "ticks": ""
            },
            "type": "contourcarpet"
           }
          ],
          "heatmap": [
           {
            "colorbar": {
             "outlinewidth": 0,
             "ticks": ""
            },
            "colorscale": [
             [
              0,
              "#0d0887"
             ],
             [
              0.1111111111111111,
              "#46039f"
             ],
             [
              0.2222222222222222,
              "#7201a8"
             ],
             [
              0.3333333333333333,
              "#9c179e"
             ],
             [
              0.4444444444444444,
              "#bd3786"
             ],
             [
              0.5555555555555556,
              "#d8576b"
             ],
             [
              0.6666666666666666,
              "#ed7953"
             ],
             [
              0.7777777777777778,
              "#fb9f3a"
             ],
             [
              0.8888888888888888,
              "#fdca26"
             ],
             [
              1,
              "#f0f921"
             ]
            ],
            "type": "heatmap"
           }
          ],
          "heatmapgl": [
           {
            "colorbar": {
             "outlinewidth": 0,
             "ticks": ""
            },
            "colorscale": [
             [
              0,
              "#0d0887"
             ],
             [
              0.1111111111111111,
              "#46039f"
             ],
             [
              0.2222222222222222,
              "#7201a8"
             ],
             [
              0.3333333333333333,
              "#9c179e"
             ],
             [
              0.4444444444444444,
              "#bd3786"
             ],
             [
              0.5555555555555556,
              "#d8576b"
             ],
             [
              0.6666666666666666,
              "#ed7953"
             ],
             [
              0.7777777777777778,
              "#fb9f3a"
             ],
             [
              0.8888888888888888,
              "#fdca26"
             ],
             [
              1,
              "#f0f921"
             ]
            ],
            "type": "heatmapgl"
           }
          ],
          "histogram": [
           {
            "marker": {
             "pattern": {
              "fillmode": "overlay",
              "size": 10,
              "solidity": 0.2
             }
            },
            "type": "histogram"
           }
          ],
          "histogram2d": [
           {
            "colorbar": {
             "outlinewidth": 0,
             "ticks": ""
            },
            "colorscale": [
             [
              0,
              "#0d0887"
             ],
             [
              0.1111111111111111,
              "#46039f"
             ],
             [
              0.2222222222222222,
              "#7201a8"
             ],
             [
              0.3333333333333333,
              "#9c179e"
             ],
             [
              0.4444444444444444,
              "#bd3786"
             ],
             [
              0.5555555555555556,
              "#d8576b"
             ],
             [
              0.6666666666666666,
              "#ed7953"
             ],
             [
              0.7777777777777778,
              "#fb9f3a"
             ],
             [
              0.8888888888888888,
              "#fdca26"
             ],
             [
              1,
              "#f0f921"
             ]
            ],
            "type": "histogram2d"
           }
          ],
          "histogram2dcontour": [
           {
            "colorbar": {
             "outlinewidth": 0,
             "ticks": ""
            },
            "colorscale": [
             [
              0,
              "#0d0887"
             ],
             [
              0.1111111111111111,
              "#46039f"
             ],
             [
              0.2222222222222222,
              "#7201a8"
             ],
             [
              0.3333333333333333,
              "#9c179e"
             ],
             [
              0.4444444444444444,
              "#bd3786"
             ],
             [
              0.5555555555555556,
              "#d8576b"
             ],
             [
              0.6666666666666666,
              "#ed7953"
             ],
             [
              0.7777777777777778,
              "#fb9f3a"
             ],
             [
              0.8888888888888888,
              "#fdca26"
             ],
             [
              1,
              "#f0f921"
             ]
            ],
            "type": "histogram2dcontour"
           }
          ],
          "mesh3d": [
           {
            "colorbar": {
             "outlinewidth": 0,
             "ticks": ""
            },
            "type": "mesh3d"
           }
          ],
          "parcoords": [
           {
            "line": {
             "colorbar": {
              "outlinewidth": 0,
              "ticks": ""
             }
            },
            "type": "parcoords"
           }
          ],
          "pie": [
           {
            "automargin": true,
            "type": "pie"
           }
          ],
          "scatter": [
           {
            "fillpattern": {
             "fillmode": "overlay",
             "size": 10,
             "solidity": 0.2
            },
            "type": "scatter"
           }
          ],
          "scatter3d": [
           {
            "line": {
             "colorbar": {
              "outlinewidth": 0,
              "ticks": ""
             }
            },
            "marker": {
             "colorbar": {
              "outlinewidth": 0,
              "ticks": ""
             }
            },
            "type": "scatter3d"
           }
          ],
          "scattercarpet": [
           {
            "marker": {
             "colorbar": {
              "outlinewidth": 0,
              "ticks": ""
             }
            },
            "type": "scattercarpet"
           }
          ],
          "scattergeo": [
           {
            "marker": {
             "colorbar": {
              "outlinewidth": 0,
              "ticks": ""
             }
            },
            "type": "scattergeo"
           }
          ],
          "scattergl": [
           {
            "marker": {
             "colorbar": {
              "outlinewidth": 0,
              "ticks": ""
             }
            },
            "type": "scattergl"
           }
          ],
          "scattermapbox": [
           {
            "marker": {
             "colorbar": {
              "outlinewidth": 0,
              "ticks": ""
             }
            },
            "type": "scattermapbox"
           }
          ],
          "scatterpolar": [
           {
            "marker": {
             "colorbar": {
              "outlinewidth": 0,
              "ticks": ""
             }
            },
            "type": "scatterpolar"
           }
          ],
          "scatterpolargl": [
           {
            "marker": {
             "colorbar": {
              "outlinewidth": 0,
              "ticks": ""
             }
            },
            "type": "scatterpolargl"
           }
          ],
          "scatterternary": [
           {
            "marker": {
             "colorbar": {
              "outlinewidth": 0,
              "ticks": ""
             }
            },
            "type": "scatterternary"
           }
          ],
          "surface": [
           {
            "colorbar": {
             "outlinewidth": 0,
             "ticks": ""
            },
            "colorscale": [
             [
              0,
              "#0d0887"
             ],
             [
              0.1111111111111111,
              "#46039f"
             ],
             [
              0.2222222222222222,
              "#7201a8"
             ],
             [
              0.3333333333333333,
              "#9c179e"
             ],
             [
              0.4444444444444444,
              "#bd3786"
             ],
             [
              0.5555555555555556,
              "#d8576b"
             ],
             [
              0.6666666666666666,
              "#ed7953"
             ],
             [
              0.7777777777777778,
              "#fb9f3a"
             ],
             [
              0.8888888888888888,
              "#fdca26"
             ],
             [
              1,
              "#f0f921"
             ]
            ],
            "type": "surface"
           }
          ],
          "table": [
           {
            "cells": {
             "fill": {
              "color": "#EBF0F8"
             },
             "line": {
              "color": "white"
             }
            },
            "header": {
             "fill": {
              "color": "#C8D4E3"
             },
             "line": {
              "color": "white"
             }
            },
            "type": "table"
           }
          ]
         },
         "layout": {
          "annotationdefaults": {
           "arrowcolor": "#2a3f5f",
           "arrowhead": 0,
           "arrowwidth": 1
          },
          "autotypenumbers": "strict",
          "coloraxis": {
           "colorbar": {
            "outlinewidth": 0,
            "ticks": ""
           }
          },
          "colorscale": {
           "diverging": [
            [
             0,
             "#8e0152"
            ],
            [
             0.1,
             "#c51b7d"
            ],
            [
             0.2,
             "#de77ae"
            ],
            [
             0.3,
             "#f1b6da"
            ],
            [
             0.4,
             "#fde0ef"
            ],
            [
             0.5,
             "#f7f7f7"
            ],
            [
             0.6,
             "#e6f5d0"
            ],
            [
             0.7,
             "#b8e186"
            ],
            [
             0.8,
             "#7fbc41"
            ],
            [
             0.9,
             "#4d9221"
            ],
            [
             1,
             "#276419"
            ]
           ],
           "sequential": [
            [
             0,
             "#0d0887"
            ],
            [
             0.1111111111111111,
             "#46039f"
            ],
            [
             0.2222222222222222,
             "#7201a8"
            ],
            [
             0.3333333333333333,
             "#9c179e"
            ],
            [
             0.4444444444444444,
             "#bd3786"
            ],
            [
             0.5555555555555556,
             "#d8576b"
            ],
            [
             0.6666666666666666,
             "#ed7953"
            ],
            [
             0.7777777777777778,
             "#fb9f3a"
            ],
            [
             0.8888888888888888,
             "#fdca26"
            ],
            [
             1,
             "#f0f921"
            ]
           ],
           "sequentialminus": [
            [
             0,
             "#0d0887"
            ],
            [
             0.1111111111111111,
             "#46039f"
            ],
            [
             0.2222222222222222,
             "#7201a8"
            ],
            [
             0.3333333333333333,
             "#9c179e"
            ],
            [
             0.4444444444444444,
             "#bd3786"
            ],
            [
             0.5555555555555556,
             "#d8576b"
            ],
            [
             0.6666666666666666,
             "#ed7953"
            ],
            [
             0.7777777777777778,
             "#fb9f3a"
            ],
            [
             0.8888888888888888,
             "#fdca26"
            ],
            [
             1,
             "#f0f921"
            ]
           ]
          },
          "colorway": [
           "#636efa",
           "#EF553B",
           "#00cc96",
           "#ab63fa",
           "#FFA15A",
           "#19d3f3",
           "#FF6692",
           "#B6E880",
           "#FF97FF",
           "#FECB52"
          ],
          "font": {
           "color": "#2a3f5f"
          },
          "geo": {
           "bgcolor": "white",
           "lakecolor": "white",
           "landcolor": "#E5ECF6",
           "showlakes": true,
           "showland": true,
           "subunitcolor": "white"
          },
          "hoverlabel": {
           "align": "left"
          },
          "hovermode": "closest",
          "mapbox": {
           "style": "light"
          },
          "paper_bgcolor": "white",
          "plot_bgcolor": "#E5ECF6",
          "polar": {
           "angularaxis": {
            "gridcolor": "white",
            "linecolor": "white",
            "ticks": ""
           },
           "bgcolor": "#E5ECF6",
           "radialaxis": {
            "gridcolor": "white",
            "linecolor": "white",
            "ticks": ""
           }
          },
          "scene": {
           "xaxis": {
            "backgroundcolor": "#E5ECF6",
            "gridcolor": "white",
            "gridwidth": 2,
            "linecolor": "white",
            "showbackground": true,
            "ticks": "",
            "zerolinecolor": "white"
           },
           "yaxis": {
            "backgroundcolor": "#E5ECF6",
            "gridcolor": "white",
            "gridwidth": 2,
            "linecolor": "white",
            "showbackground": true,
            "ticks": "",
            "zerolinecolor": "white"
           },
           "zaxis": {
            "backgroundcolor": "#E5ECF6",
            "gridcolor": "white",
            "gridwidth": 2,
            "linecolor": "white",
            "showbackground": true,
            "ticks": "",
            "zerolinecolor": "white"
           }
          },
          "shapedefaults": {
           "line": {
            "color": "#2a3f5f"
           }
          },
          "ternary": {
           "aaxis": {
            "gridcolor": "white",
            "linecolor": "white",
            "ticks": ""
           },
           "baxis": {
            "gridcolor": "white",
            "linecolor": "white",
            "ticks": ""
           },
           "bgcolor": "#E5ECF6",
           "caxis": {
            "gridcolor": "white",
            "linecolor": "white",
            "ticks": ""
           }
          },
          "title": {
           "x": 0.05
          },
          "xaxis": {
           "automargin": true,
           "gridcolor": "white",
           "linecolor": "white",
           "ticks": "",
           "title": {
            "standoff": 15
           },
           "zerolinecolor": "white",
           "zerolinewidth": 2
          },
          "yaxis": {
           "automargin": true,
           "gridcolor": "white",
           "linecolor": "white",
           "ticks": "",
           "title": {
            "standoff": 15
           },
           "zerolinecolor": "white",
           "zerolinewidth": 2
          }
         }
        },
        "title": {
         "text": "Top 10 Shortest Tracks"
        }
       }
      }
     },
     "metadata": {},
     "output_type": "display_data"
    }
   ],
   "source": [
    "def create_pie_charts(df):\n",
    "    def ms_to_min_sec(ms):\n",
    "        minutes, seconds = divmod(ms // 1000, 60)\n",
    "        return f'{minutes}m{seconds}s'\n",
    "\n",
    "    df = df.sort_values(by='duration_ms', ascending=False)\n",
    "    top_10_longest_tracks = df.head(10)\n",
    "    top_10_longest_tracks.loc[:, 'duration_formatted'] = top_10_longest_tracks['duration_ms'].apply(ms_to_min_sec)\n",
    "    df = df.sort_values(by='duration_ms')\n",
    "    top_10_shortest_tracks = df.head(10)\n",
    "    top_10_shortest_tracks.loc[:, 'duration_formatted'] = top_10_shortest_tracks['duration_ms'].apply(ms_to_min_sec)\n",
    "    fig1 = px.pie(top_10_longest_tracks, names='track', values='duration_ms', color='track',\n",
    "                 hover_data=['track', 'duration_formatted'],\n",
    "                 title='Top 10 Longest Tracks')\n",
    "\n",
    "    fig1.update_traces(textinfo='label+percent', pull=[0.1, 0, 0, 0, 0, 0, 0, 0, 0, 0])\n",
    "    fig2 = px.pie(top_10_shortest_tracks, names='track', values='duration_ms',\n",
    "                 hover_data=['track', 'duration_formatted'],\n",
    "                 title='Top 10 Shortest Tracks')\n",
    "    fig2.update_traces(textinfo='label+percent', pull=[0.1, 0, 0, 0, 0, 0, 0, 0, 0, 0])\n",
    "\n",
    "    return fig1, fig2\n",
    "fig1, fig2 = create_pie_charts(df)\n",
    "fig1.show()\n",
    "fig2.show()"
   ]
  },
  {
   "cell_type": "markdown",
   "metadata": {},
   "source": [
    "### \n",
    "<p> In this view, we see the duration of each album in the band. </p>"
   ]
  },
  {
   "cell_type": "code",
   "execution_count": 141,
   "metadata": {},
   "outputs": [
    {
     "data": {
      "application/vnd.plotly.v1+json": {
       "config": {
        "plotlyServerURL": "https://plot.ly"
       },
       "data": [
        {
         "customdata": [
          [
           "A Ghost Is Born (Deluxe Version)",
           "15m1s"
          ],
          [
           "The Whole Love (Deluxe Version)",
           "12m3s"
          ],
          [
           "A Ghost Is Born (Deluxe Version)",
           "10m42s"
          ],
          [
           "Cruel Country",
           "7m52s"
          ],
          [
           "Yankee Hotel Foxtrot (2022 Remaster)",
           "7m21s"
          ],
          [
           "The Whole Love (Deluxe Version)",
           "7m16s"
          ],
          [
           "Being There",
           "6m51s"
          ],
          [
           "Being There",
           "6m43s"
          ],
          [
           "Being There",
           "6m28s"
          ],
          [
           "Mermaid Avenue Vol. II",
           "6m26s"
          ],
          [
           "Kicking Television, Live in Chicago",
           "6m23s"
          ],
          [
           "A Ghost Is Born (Deluxe Version)",
           "6m12s"
          ],
          [
           "Kicking Television, Live in Chicago",
           "6m8s"
          ],
          [
           "Sky Blue Sky",
           "6m5s"
          ],
          [
           "Kicking Television, Live in Chicago",
           "6m3s"
          ],
          [
           "Kicking Television, Live in Chicago",
           "6m3s"
          ],
          [
           "A Ghost Is Born (Deluxe Version)",
           "6m3s"
          ],
          [
           "Sky Blue Sky",
           "5m57s"
          ],
          [
           "A Ghost Is Born (Deluxe Version)",
           "5m54s"
          ],
          [
           "Ode to Joy",
           "5m49s"
          ],
          [
           "Cousin",
           "5m43s"
          ],
          [
           "Sky Blue Sky",
           "5m40s"
          ],
          [
           "Wilco (The Album)",
           "5m39s"
          ],
          [
           "Summerteeth",
           "5m33s"
          ],
          [
           "summerteeth (Deluxe Edition)",
           "5m33s"
          ],
          [
           "A Ghost Is Born (Deluxe Version)",
           "5m31s"
          ],
          [
           "Yankee Hotel Foxtrot (2022 Remaster)",
           "5m18s"
          ],
          [
           "Kicking Television, Live in Chicago",
           "5m18s"
          ],
          [
           "Star Wars",
           "5m16s"
          ],
          [
           "Being There",
           "5m16s"
          ],
          [
           "Kicking Television, Live in Chicago",
           "5m14s"
          ],
          [
           "Cousin",
           "5m13s"
          ],
          [
           "Mermaid Avenue",
           "5m5s"
          ],
          [
           "Mermaid Avenue: The Complete Sessions",
           "5m5s"
          ],
          [
           "Cruel Country",
           "5m4s"
          ],
          [
           "Mermaid Avenue Vol. III",
           "5m3s"
          ],
          [
           "Mermaid Avenue: The Complete Sessions",
           "4m58s"
          ],
          [
           "Mermaid Avenue",
           "4m58s"
          ],
          [
           "Ode to Joy",
           "4m57s"
          ],
          [
           "Kicking Television, Live in Chicago",
           "4m56s"
          ],
          [
           "A Ghost Is Born (Deluxe Version)",
           "4m52s"
          ],
          [
           "Kicking Television, Live in Chicago",
           "4m51s"
          ],
          [
           "Mermaid Avenue Vol. II",
           "4m50s"
          ],
          [
           "Mermaid Avenue: The Complete Sessions",
           "4m50s"
          ],
          [
           "Kicking Television, Live in Chicago",
           "4m49s"
          ],
          [
           "Being There",
           "4m48s"
          ],
          [
           "Mermaid Avenue Vol. III",
           "4m47s"
          ],
          [
           "The Whole Love (Deluxe Version)",
           "4m46s"
          ],
          [
           "Summerteeth",
           "4m42s"
          ],
          [
           "summerteeth (Deluxe Edition)",
           "4m42s"
          ],
          [
           "Kicking Television, Live in Chicago",
           "4m42s"
          ],
          [
           "Kicking Television, Live in Chicago",
           "4m41s"
          ],
          [
           "A Ghost Is Born (Deluxe Version)",
           "4m38s"
          ],
          [
           "Sky Blue Sky",
           "4m37s"
          ],
          [
           "A Ghost Is Born (Deluxe Version)",
           "4m34s"
          ],
          [
           "Mermaid Avenue Vol. III",
           "4m31s"
          ],
          [
           "Sky Blue Sky",
           "4m30s"
          ],
          [
           "Kicking Television, Live in Chicago",
           "4m26s"
          ],
          [
           "Sky Blue Sky",
           "4m26s"
          ],
          [
           "Wilco (The Album)",
           "4m24s"
          ],
          [
           "The Whole Love (Deluxe Version)",
           "4m23s"
          ],
          [
           "Wilco (The Album)",
           "4m21s"
          ],
          [
           "Wilco (The Album)",
           "4m21s"
          ],
          [
           "Summerteeth",
           "4m19s"
          ],
          [
           "summerteeth (Deluxe Edition)",
           "4m19s"
          ],
          [
           "Cousin",
           "4m17s"
          ],
          [
           "Schmilco",
           "4m16s"
          ],
          [
           "Being There",
           "4m16s"
          ],
          [
           "Sky Blue Sky",
           "4m15s"
          ],
          [
           "Mermaid Avenue Vol. II",
           "4m14s"
          ],
          [
           "Sky Blue Sky",
           "4m14s"
          ],
          [
           "Cousin",
           "4m11s"
          ],
          [
           "Wilco (The Album)",
           "4m11s"
          ],
          [
           "Cousin",
           "4m10s"
          ],
          [
           "Ode to Joy",
           "4m10s"
          ],
          [
           "Sky Blue Sky",
           "4m9s"
          ],
          [
           "Mermaid Avenue Vol. III",
           "4m9s"
          ],
          [
           "Cruel Country",
           "4m8s"
          ],
          [
           "Mermaid Avenue Vol. III",
           "4m7s"
          ],
          [
           "Being There",
           "4m7s"
          ],
          [
           "Cruel Country",
           "4m7s"
          ],
          [
           "Mermaid Avenue: The Complete Sessions",
           "4m6s"
          ],
          [
           "Mermaid Avenue",
           "4m6s"
          ],
          [
           "Mermaid Avenue Vol. II",
           "4m5s"
          ],
          [
           "Mermaid Avenue: The Complete Sessions",
           "4m5s"
          ],
          [
           "The Whole Love (Deluxe Version)",
           "4m3s"
          ],
          [
           "Cousin",
           "4m3s"
          ],
          [
           "Wilco (The Album)",
           "4m2s"
          ],
          [
           "Sky Blue Sky",
           "4m1s"
          ],
          [
           "Wilco (The Album)",
           "4m0s"
          ],
          [
           "Kicking Television, Live in Chicago",
           "4m0s"
          ],
          [
           "Mermaid Avenue Vol. III",
           "3m59s"
          ],
          [
           "Ode to Joy",
           "3m58s"
          ],
          [
           "The Whole Love (Deluxe Version)",
           "3m58s"
          ],
          [
           "Kicking Television, Live in Chicago",
           "3m58s"
          ],
          [
           "Mermaid Avenue Vol. III",
           "3m58s"
          ],
          [
           "Being There",
           "3m57s"
          ],
          [
           "The Whole Love (Deluxe Version)",
           "3m56s"
          ],
          [
           "summerteeth (Deluxe Edition)",
           "3m56s"
          ],
          [
           "Cousin",
           "3m55s"
          ],
          [
           "Cousin",
           "3m55s"
          ],
          [
           "The Whole Love (Deluxe Version)",
           "3m55s"
          ],
          [
           "Summerteeth",
           "3m54s"
          ],
          [
           "Summerteeth",
           "3m54s"
          ],
          [
           "summerteeth (Deluxe Edition)",
           "3m54s"
          ],
          [
           "The Whole Love (Deluxe Version)",
           "3m53s"
          ],
          [
           "Mermaid Avenue",
           "3m53s"
          ],
          [
           "Mermaid Avenue: The Complete Sessions",
           "3m53s"
          ],
          [
           "Cousin",
           "3m53s"
          ],
          [
           "Cruel Country",
           "3m53s"
          ],
          [
           "summerteeth (Deluxe Edition)",
           "3m53s"
          ],
          [
           "Yankee Hotel Foxtrot (Deluxe Edition)",
           "3m52s"
          ],
          [
           "Summerteeth",
           "3m52s"
          ],
          [
           "A Ghost Is Born (Deluxe Version)",
           "3m49s"
          ],
          [
           "The Whole Love (Deluxe Version)",
           "3m49s"
          ],
          [
           "Star Wars",
           "3m49s"
          ],
          [
           "Summerteeth",
           "3m46s"
          ],
          [
           "summerteeth (Deluxe Edition)",
           "3m46s"
          ],
          [
           "summerteeth (Deluxe Edition)",
           "3m46s"
          ],
          [
           "Ode to Joy",
           "3m46s"
          ],
          [
           "Summerteeth",
           "3m46s"
          ],
          [
           "Mermaid Avenue Vol. II",
           "3m44s"
          ],
          [
           "Kicking Television, Live in Chicago",
           "3m44s"
          ],
          [
           "Ode to Joy",
           "3m43s"
          ],
          [
           "A Ghost Is Born (Deluxe Version)",
           "3m43s"
          ],
          [
           "The Whole Love (Deluxe Version)",
           "3m43s"
          ],
          [
           "Cruel Country",
           "3m42s"
          ],
          [
           "Mermaid Avenue Vol. III",
           "3m42s"
          ],
          [
           "Summerteeth",
           "3m41s"
          ],
          [
           "summerteeth (Deluxe Edition)",
           "3m41s"
          ],
          [
           "Wilco (The Album)",
           "3m40s"
          ],
          [
           "The Whole Love (Deluxe Version)",
           "3m40s"
          ],
          [
           "Star Wars",
           "3m40s"
          ],
          [
           "Cruel Country",
           "3m38s"
          ],
          [
           "summerteeth (Deluxe Edition)",
           "3m38s"
          ],
          [
           "Summerteeth",
           "3m38s"
          ],
          [
           "Being There",
           "3m37s"
          ],
          [
           "Cruel Country",
           "3m36s"
          ],
          [
           "Sky Blue Sky",
           "3m36s"
          ],
          [
           "Sky Blue Sky",
           "3m35s"
          ],
          [
           "Cruel Country",
           "3m33s"
          ],
          [
           "Being There",
           "3m33s"
          ],
          [
           "Mermaid Avenue: The Complete Sessions",
           "3m33s"
          ],
          [
           "Mermaid Avenue",
           "3m33s"
          ],
          [
           "Ode to Joy",
           "3m33s"
          ],
          [
           "A Ghost Is Born (Deluxe Version)",
           "3m32s"
          ],
          [
           "Being There",
           "3m30s"
          ],
          [
           "Mermaid Avenue Vol. III",
           "3m30s"
          ],
          [
           "Cousin",
           "3m29s"
          ],
          [
           "The Whole Love (Deluxe Version)",
           "3m29s"
          ],
          [
           "The Whole Love (Deluxe Version)",
           "3m28s"
          ],
          [
           "Mermaid Avenue",
           "3m28s"
          ],
          [
           "Mermaid Avenue: The Complete Sessions",
           "3m28s"
          ],
          [
           "Mermaid Avenue: The Complete Sessions",
           "3m27s"
          ],
          [
           "Mermaid Avenue",
           "3m27s"
          ],
          [
           "Cruel Country",
           "3m27s"
          ],
          [
           "Mermaid Avenue Vol. III",
           "3m27s"
          ],
          [
           "Mermaid Avenue Vol. III",
           "3m26s"
          ],
          [
           "Summerteeth",
           "3m26s"
          ],
          [
           "Cruel Country",
           "3m26s"
          ],
          [
           "summerteeth (Deluxe Edition)",
           "3m26s"
          ],
          [
           "Cruel Country",
           "3m26s"
          ],
          [
           "Mermaid Avenue",
           "3m25s"
          ],
          [
           "Mermaid Avenue: The Complete Sessions",
           "3m25s"
          ],
          [
           "Kicking Television, Live in Chicago",
           "3m25s"
          ],
          [
           "Schmilco",
           "3m24s"
          ],
          [
           "Wilco (The Album)",
           "3m24s"
          ],
          [
           "Sky Blue Sky",
           "3m22s"
          ],
          [
           "Ode to Joy",
           "3m22s"
          ],
          [
           "Kicking Television, Live in Chicago",
           "3m21s"
          ],
          [
           "Being There",
           "3m21s"
          ],
          [
           "Yankee Hotel Foxtrot (Deluxe Edition)",
           "3m21s"
          ],
          [
           "summerteeth (Deluxe Edition)",
           "3m21s"
          ],
          [
           "summerteeth (Deluxe Edition)",
           "3m20s"
          ],
          [
           "Summerteeth",
           "3m20s"
          ],
          [
           "Summerteeth",
           "3m20s"
          ],
          [
           "Being There",
           "3m20s"
          ],
          [
           "Schmilco",
           "3m20s"
          ],
          [
           "Being There",
           "3m20s"
          ],
          [
           "The Whole Love (Deluxe Version)",
           "3m19s"
          ],
          [
           "Kicking Television, Live in Chicago",
           "3m19s"
          ],
          [
           "Cruel Country",
           "3m19s"
          ],
          [
           "Sky Blue Sky",
           "3m17s"
          ],
          [
           "Mermaid Avenue Vol. II",
           "3m16s"
          ],
          [
           "Mermaid Avenue: The Complete Sessions",
           "3m16s"
          ],
          [
           "Cruel Country",
           "3m16s"
          ],
          [
           "Star Wars",
           "3m15s"
          ],
          [
           "Mermaid Avenue Vol. III",
           "3m14s"
          ],
          [
           "Mermaid Avenue Vol. III",
           "3m14s"
          ],
          [
           "Mermaid Avenue: The Complete Sessions",
           "3m12s"
          ],
          [
           "Mermaid Avenue",
           "3m12s"
          ],
          [
           "Ode to Joy",
           "3m12s"
          ],
          [
           "Star Wars",
           "3m11s"
          ],
          [
           "Cruel Country",
           "3m11s"
          ],
          [
           "Being There",
           "3m9s"
          ],
          [
           "The Whole Love (Deluxe Version)",
           "3m9s"
          ],
          [
           "Cruel Country",
           "3m8s"
          ],
          [
           "A Ghost Is Born (Deluxe Version)",
           "3m7s"
          ],
          [
           "Sky Blue Sky",
           "3m6s"
          ],
          [
           "Mermaid Avenue",
           "3m5s"
          ],
          [
           "Mermaid Avenue: The Complete Sessions",
           "3m5s"
          ],
          [
           "Wilco (The Album)",
           "3m4s"
          ],
          [
           "Kicking Television, Live in Chicago",
           "3m3s"
          ],
          [
           "Schmilco",
           "3m2s"
          ],
          [
           "Ode to Joy",
           "3m2s"
          ],
          [
           "Cruel Country",
           "3m1s"
          ],
          [
           "Mermaid Avenue Vol. II",
           "3m1s"
          ],
          [
           "Schmilco",
           "3m0s"
          ],
          [
           "Ode to Joy",
           "2m59s"
          ],
          [
           "Wilco (The Album)",
           "2m59s"
          ],
          [
           "Wilco (The Album)",
           "2m59s"
          ],
          [
           "Mermaid Avenue Vol. II",
           "2m58s"
          ],
          [
           "summerteeth (Deluxe Edition)",
           "2m57s"
          ],
          [
           "Mermaid Avenue",
           "2m57s"
          ],
          [
           "Summerteeth",
           "2m57s"
          ],
          [
           "Mermaid Avenue: The Complete Sessions",
           "2m57s"
          ],
          [
           "Summerteeth",
           "2m57s"
          ],
          [
           "summerteeth (Deluxe Edition)",
           "2m57s"
          ],
          [
           "Schmilco",
           "2m55s"
          ],
          [
           "Star Wars",
           "2m54s"
          ],
          [
           "Schmilco",
           "2m53s"
          ],
          [
           "Schmilco",
           "2m52s"
          ],
          [
           "Mermaid Avenue Vol. II",
           "2m51s"
          ],
          [
           "Schmilco",
           "2m50s"
          ],
          [
           "A Ghost Is Born (Deluxe Version)",
           "2m49s"
          ],
          [
           "Cruel Country",
           "2m48s"
          ],
          [
           "Schmilco",
           "2m47s"
          ],
          [
           "Being There",
           "2m47s"
          ],
          [
           "Cruel Country",
           "2m46s"
          ],
          [
           "Schmilco",
           "2m45s"
          ],
          [
           "summerteeth (Deluxe Edition)",
           "2m45s"
          ],
          [
           "Being There",
           "2m45s"
          ],
          [
           "Summerteeth",
           "2m44s"
          ],
          [
           "Star Wars",
           "2m43s"
          ],
          [
           "Mermaid Avenue Vol. II",
           "2m43s"
          ],
          [
           "Mermaid Avenue: The Complete Sessions",
           "2m42s"
          ],
          [
           "Mermaid Avenue",
           "2m42s"
          ],
          [
           "Star Wars",
           "2m40s"
          ],
          [
           "Kicking Television, Live in Chicago",
           "2m40s"
          ],
          [
           "Mermaid Avenue Vol. II",
           "2m39s"
          ],
          [
           "A Ghost Is Born (Deluxe Version)",
           "2m39s"
          ],
          [
           "Mermaid Avenue Vol. II",
           "2m37s"
          ],
          [
           "Mermaid Avenue Vol. III",
           "2m36s"
          ],
          [
           "Cruel Country",
           "2m35s"
          ],
          [
           "Being There",
           "2m34s"
          ],
          [
           "A Ghost Is Born (Deluxe Version)",
           "2m34s"
          ],
          [
           "Being There",
           "2m33s"
          ],
          [
           "Star Wars",
           "2m33s"
          ],
          [
           "A Ghost Is Born (Deluxe Version)",
           "2m31s"
          ],
          [
           "Mermaid Avenue Vol. II",
           "2m30s"
          ],
          [
           "Star Wars",
           "2m29s"
          ],
          [
           "Mermaid Avenue Vol. III",
           "2m23s"
          ],
          [
           "Schmilco",
           "2m18s"
          ],
          [
           "Mermaid Avenue: The Complete Sessions",
           "2m15s"
          ],
          [
           "Mermaid Avenue",
           "2m15s"
          ],
          [
           "Mermaid Avenue Vol. III",
           "2m12s"
          ],
          [
           "Sky Blue Sky",
           "2m11s"
          ],
          [
           "Mermaid Avenue: The Complete Sessions",
           "1m50s"
          ],
          [
           "Mermaid Avenue",
           "1m50s"
          ],
          [
           "Mermaid Avenue Vol. II",
           "1m50s"
          ],
          [
           "Mermaid Avenue: The Complete Sessions",
           "1m50s"
          ],
          [
           "Mermaid Avenue: The Complete Sessions",
           "1m44s"
          ],
          [
           "Mermaid Avenue Vol. II",
           "1m44s"
          ],
          [
           "Mermaid Avenue Vol. III",
           "1m38s"
          ],
          [
           "Mermaid Avenue: The Complete Sessions",
           "1m36s"
          ],
          [
           "Mermaid Avenue",
           "1m36s"
          ],
          [
           "summerteeth (Deluxe Edition)",
           "0m23s"
          ],
          [
           "Summerteeth",
           "0m22s"
          ]
         ],
         "domain": {
          "x": [
           0,
           1
          ],
          "y": [
           0,
           1
          ]
         },
         "hovertemplate": "album=%{customdata[0]}<br>duration_ms=%{value}<br>duration_formatted=%{customdata[1]}<extra></extra>",
         "labels": [
          "A Ghost Is Born (Deluxe Version)",
          "The Whole Love (Deluxe Version)",
          "A Ghost Is Born (Deluxe Version)",
          "Cruel Country",
          "Yankee Hotel Foxtrot (2022 Remaster)",
          "The Whole Love (Deluxe Version)",
          "Being There",
          "Being There",
          "Being There",
          "Mermaid Avenue Vol. II",
          "Kicking Television, Live in Chicago",
          "A Ghost Is Born (Deluxe Version)",
          "Kicking Television, Live in Chicago",
          "Sky Blue Sky",
          "Kicking Television, Live in Chicago",
          "Kicking Television, Live in Chicago",
          "A Ghost Is Born (Deluxe Version)",
          "Sky Blue Sky",
          "A Ghost Is Born (Deluxe Version)",
          "Ode to Joy",
          "Cousin",
          "Sky Blue Sky",
          "Wilco (The Album)",
          "Summerteeth",
          "summerteeth (Deluxe Edition)",
          "A Ghost Is Born (Deluxe Version)",
          "Yankee Hotel Foxtrot (2022 Remaster)",
          "Kicking Television, Live in Chicago",
          "Star Wars",
          "Being There",
          "Kicking Television, Live in Chicago",
          "Cousin",
          "Mermaid Avenue",
          "Mermaid Avenue: The Complete Sessions",
          "Cruel Country",
          "Mermaid Avenue Vol. III",
          "Mermaid Avenue: The Complete Sessions",
          "Mermaid Avenue",
          "Ode to Joy",
          "Kicking Television, Live in Chicago",
          "A Ghost Is Born (Deluxe Version)",
          "Kicking Television, Live in Chicago",
          "Mermaid Avenue Vol. II",
          "Mermaid Avenue: The Complete Sessions",
          "Kicking Television, Live in Chicago",
          "Being There",
          "Mermaid Avenue Vol. III",
          "The Whole Love (Deluxe Version)",
          "Summerteeth",
          "summerteeth (Deluxe Edition)",
          "Kicking Television, Live in Chicago",
          "Kicking Television, Live in Chicago",
          "A Ghost Is Born (Deluxe Version)",
          "Sky Blue Sky",
          "A Ghost Is Born (Deluxe Version)",
          "Mermaid Avenue Vol. III",
          "Sky Blue Sky",
          "Kicking Television, Live in Chicago",
          "Sky Blue Sky",
          "Wilco (The Album)",
          "The Whole Love (Deluxe Version)",
          "Wilco (The Album)",
          "Wilco (The Album)",
          "Summerteeth",
          "summerteeth (Deluxe Edition)",
          "Cousin",
          "Schmilco",
          "Being There",
          "Sky Blue Sky",
          "Mermaid Avenue Vol. II",
          "Sky Blue Sky",
          "Cousin",
          "Wilco (The Album)",
          "Cousin",
          "Ode to Joy",
          "Sky Blue Sky",
          "Mermaid Avenue Vol. III",
          "Cruel Country",
          "Mermaid Avenue Vol. III",
          "Being There",
          "Cruel Country",
          "Mermaid Avenue: The Complete Sessions",
          "Mermaid Avenue",
          "Mermaid Avenue Vol. II",
          "Mermaid Avenue: The Complete Sessions",
          "The Whole Love (Deluxe Version)",
          "Cousin",
          "Wilco (The Album)",
          "Sky Blue Sky",
          "Wilco (The Album)",
          "Kicking Television, Live in Chicago",
          "Mermaid Avenue Vol. III",
          "Ode to Joy",
          "The Whole Love (Deluxe Version)",
          "Kicking Television, Live in Chicago",
          "Mermaid Avenue Vol. III",
          "Being There",
          "The Whole Love (Deluxe Version)",
          "summerteeth (Deluxe Edition)",
          "Cousin",
          "Cousin",
          "The Whole Love (Deluxe Version)",
          "Summerteeth",
          "Summerteeth",
          "summerteeth (Deluxe Edition)",
          "The Whole Love (Deluxe Version)",
          "Mermaid Avenue",
          "Mermaid Avenue: The Complete Sessions",
          "Cousin",
          "Cruel Country",
          "summerteeth (Deluxe Edition)",
          "Yankee Hotel Foxtrot (Deluxe Edition)",
          "Summerteeth",
          "A Ghost Is Born (Deluxe Version)",
          "The Whole Love (Deluxe Version)",
          "Star Wars",
          "Summerteeth",
          "summerteeth (Deluxe Edition)",
          "summerteeth (Deluxe Edition)",
          "Ode to Joy",
          "Summerteeth",
          "Mermaid Avenue Vol. II",
          "Kicking Television, Live in Chicago",
          "Ode to Joy",
          "A Ghost Is Born (Deluxe Version)",
          "The Whole Love (Deluxe Version)",
          "Cruel Country",
          "Mermaid Avenue Vol. III",
          "Summerteeth",
          "summerteeth (Deluxe Edition)",
          "Wilco (The Album)",
          "The Whole Love (Deluxe Version)",
          "Star Wars",
          "Cruel Country",
          "summerteeth (Deluxe Edition)",
          "Summerteeth",
          "Being There",
          "Cruel Country",
          "Sky Blue Sky",
          "Sky Blue Sky",
          "Cruel Country",
          "Being There",
          "Mermaid Avenue: The Complete Sessions",
          "Mermaid Avenue",
          "Ode to Joy",
          "A Ghost Is Born (Deluxe Version)",
          "Being There",
          "Mermaid Avenue Vol. III",
          "Cousin",
          "The Whole Love (Deluxe Version)",
          "The Whole Love (Deluxe Version)",
          "Mermaid Avenue",
          "Mermaid Avenue: The Complete Sessions",
          "Mermaid Avenue: The Complete Sessions",
          "Mermaid Avenue",
          "Cruel Country",
          "Mermaid Avenue Vol. III",
          "Mermaid Avenue Vol. III",
          "Summerteeth",
          "Cruel Country",
          "summerteeth (Deluxe Edition)",
          "Cruel Country",
          "Mermaid Avenue",
          "Mermaid Avenue: The Complete Sessions",
          "Kicking Television, Live in Chicago",
          "Schmilco",
          "Wilco (The Album)",
          "Sky Blue Sky",
          "Ode to Joy",
          "Kicking Television, Live in Chicago",
          "Being There",
          "Yankee Hotel Foxtrot (Deluxe Edition)",
          "summerteeth (Deluxe Edition)",
          "summerteeth (Deluxe Edition)",
          "Summerteeth",
          "Summerteeth",
          "Being There",
          "Schmilco",
          "Being There",
          "The Whole Love (Deluxe Version)",
          "Kicking Television, Live in Chicago",
          "Cruel Country",
          "Sky Blue Sky",
          "Mermaid Avenue Vol. II",
          "Mermaid Avenue: The Complete Sessions",
          "Cruel Country",
          "Star Wars",
          "Mermaid Avenue Vol. III",
          "Mermaid Avenue Vol. III",
          "Mermaid Avenue: The Complete Sessions",
          "Mermaid Avenue",
          "Ode to Joy",
          "Star Wars",
          "Cruel Country",
          "Being There",
          "The Whole Love (Deluxe Version)",
          "Cruel Country",
          "A Ghost Is Born (Deluxe Version)",
          "Sky Blue Sky",
          "Mermaid Avenue",
          "Mermaid Avenue: The Complete Sessions",
          "Wilco (The Album)",
          "Kicking Television, Live in Chicago",
          "Schmilco",
          "Ode to Joy",
          "Cruel Country",
          "Mermaid Avenue Vol. II",
          "Schmilco",
          "Ode to Joy",
          "Wilco (The Album)",
          "Wilco (The Album)",
          "Mermaid Avenue Vol. II",
          "summerteeth (Deluxe Edition)",
          "Mermaid Avenue",
          "Summerteeth",
          "Mermaid Avenue: The Complete Sessions",
          "Summerteeth",
          "summerteeth (Deluxe Edition)",
          "Schmilco",
          "Star Wars",
          "Schmilco",
          "Schmilco",
          "Mermaid Avenue Vol. II",
          "Schmilco",
          "A Ghost Is Born (Deluxe Version)",
          "Cruel Country",
          "Schmilco",
          "Being There",
          "Cruel Country",
          "Schmilco",
          "summerteeth (Deluxe Edition)",
          "Being There",
          "Summerteeth",
          "Star Wars",
          "Mermaid Avenue Vol. II",
          "Mermaid Avenue: The Complete Sessions",
          "Mermaid Avenue",
          "Star Wars",
          "Kicking Television, Live in Chicago",
          "Mermaid Avenue Vol. II",
          "A Ghost Is Born (Deluxe Version)",
          "Mermaid Avenue Vol. II",
          "Mermaid Avenue Vol. III",
          "Cruel Country",
          "Being There",
          "A Ghost Is Born (Deluxe Version)",
          "Being There",
          "Star Wars",
          "A Ghost Is Born (Deluxe Version)",
          "Mermaid Avenue Vol. II",
          "Star Wars",
          "Mermaid Avenue Vol. III",
          "Schmilco",
          "Mermaid Avenue: The Complete Sessions",
          "Mermaid Avenue",
          "Mermaid Avenue Vol. III",
          "Sky Blue Sky",
          "Mermaid Avenue: The Complete Sessions",
          "Mermaid Avenue",
          "Mermaid Avenue Vol. II",
          "Mermaid Avenue: The Complete Sessions",
          "Mermaid Avenue: The Complete Sessions",
          "Mermaid Avenue Vol. II",
          "Mermaid Avenue Vol. III",
          "Mermaid Avenue: The Complete Sessions",
          "Mermaid Avenue",
          "summerteeth (Deluxe Edition)",
          "Summerteeth"
         ],
         "legendgroup": "",
         "name": "",
         "pull": [
          0.1,
          0,
          0,
          0,
          0,
          0,
          0,
          0,
          0,
          0
         ],
         "showlegend": true,
         "textinfo": "label+percent",
         "type": "pie",
         "values": [
          901333,
          723960,
          642200,
          472627,
          441480,
          436573,
          411467,
          403867,
          388267,
          386440,
          383547,
          372400,
          368573,
          365973,
          363973,
          363720,
          363000,
          357160,
          354173,
          349801,
          343400,
          340427,
          339160,
          333600,
          333573,
          331200,
          318773,
          318640,
          316880,
          316853,
          314787,
          313907,
          305413,
          305413,
          304240,
          303853,
          298533,
          298533,
          297047,
          296333,
          292107,
          291133,
          290573,
          290573,
          289867,
          288773,
          287813,
          286773,
          282880,
          282760,
          282453,
          281027,
          278133,
          277800,
          274133,
          271947,
          270920,
          266560,
          266160,
          264081,
          263907,
          261947,
          261747,
          259800,
          259173,
          257347,
          256853,
          256293,
          255320,
          254827,
          254253,
          251387,
          251053,
          250640,
          250333,
          249253,
          249067,
          248680,
          247640,
          247627,
          247400,
          246933,
          246933,
          245840,
          245840,
          243587,
          243493,
          242440,
          241787,
          240547,
          240000,
          239813,
          238867,
          238804,
          238360,
          238173,
          237120,
          236413,
          236093,
          235453,
          235293,
          235080,
          234840,
          234560,
          234316,
          233933,
          233600,
          233600,
          233440,
          233213,
          233040,
          232227,
          232027,
          229853,
          229680,
          229489,
          226933,
          226867,
          226280,
          226040,
          226027,
          224307,
          224293,
          223346,
          223307,
          223160,
          222613,
          222320,
          221133,
          221053,
          220773,
          220093,
          220027,
          218667,
          218107,
          218053,
          217840,
          216493,
          216107,
          215347,
          213947,
          213547,
          213173,
          213173,
          213128,
          212147,
          210867,
          210413,
          209760,
          209240,
          208520,
          208293,
          208293,
          207893,
          207893,
          207560,
          207107,
          206840,
          206400,
          206320,
          206254,
          206240,
          205960,
          205960,
          205827,
          204977,
          204707,
          202827,
          202140,
          201733,
          201480,
          201067,
          201027,
          200839,
          200733,
          200720,
          200373,
          200355,
          200333,
          199933,
          199707,
          199373,
          197133,
          196827,
          196827,
          196780,
          195381,
          194493,
          194040,
          192427,
          192427,
          192085,
          191388,
          191013,
          189533,
          189467,
          188947,
          187173,
          186120,
          185813,
          185813,
          184907,
          183067,
          182964,
          182570,
          181880,
          181280,
          180133,
          179976,
          179680,
          179667,
          178213,
          177840,
          177493,
          177493,
          177493,
          177147,
          177107,
          175947,
          174798,
          173867,
          172934,
          171467,
          170067,
          169000,
          168200,
          167333,
          167093,
          166693,
          165430,
          165107,
          165013,
          164667,
          163951,
          163080,
          162560,
          162560,
          160972,
          160920,
          159733,
          159160,
          157973,
          156973,
          155520,
          154773,
          154693,
          153307,
          153187,
          151000,
          150413,
          149806,
          143640,
          138379,
          135707,
          135707,
          132387,
          131053,
          110293,
          110293,
          110293,
          110293,
          104973,
          104973,
          98240,
          96240,
          96240,
          23253,
          22880
         ]
        }
       ],
       "layout": {
        "legend": {
         "tracegroupgap": 0
        },
        "template": {
         "data": {
          "bar": [
           {
            "error_x": {
             "color": "#2a3f5f"
            },
            "error_y": {
             "color": "#2a3f5f"
            },
            "marker": {
             "line": {
              "color": "#E5ECF6",
              "width": 0.5
             },
             "pattern": {
              "fillmode": "overlay",
              "size": 10,
              "solidity": 0.2
             }
            },
            "type": "bar"
           }
          ],
          "barpolar": [
           {
            "marker": {
             "line": {
              "color": "#E5ECF6",
              "width": 0.5
             },
             "pattern": {
              "fillmode": "overlay",
              "size": 10,
              "solidity": 0.2
             }
            },
            "type": "barpolar"
           }
          ],
          "carpet": [
           {
            "aaxis": {
             "endlinecolor": "#2a3f5f",
             "gridcolor": "white",
             "linecolor": "white",
             "minorgridcolor": "white",
             "startlinecolor": "#2a3f5f"
            },
            "baxis": {
             "endlinecolor": "#2a3f5f",
             "gridcolor": "white",
             "linecolor": "white",
             "minorgridcolor": "white",
             "startlinecolor": "#2a3f5f"
            },
            "type": "carpet"
           }
          ],
          "choropleth": [
           {
            "colorbar": {
             "outlinewidth": 0,
             "ticks": ""
            },
            "type": "choropleth"
           }
          ],
          "contour": [
           {
            "colorbar": {
             "outlinewidth": 0,
             "ticks": ""
            },
            "colorscale": [
             [
              0,
              "#0d0887"
             ],
             [
              0.1111111111111111,
              "#46039f"
             ],
             [
              0.2222222222222222,
              "#7201a8"
             ],
             [
              0.3333333333333333,
              "#9c179e"
             ],
             [
              0.4444444444444444,
              "#bd3786"
             ],
             [
              0.5555555555555556,
              "#d8576b"
             ],
             [
              0.6666666666666666,
              "#ed7953"
             ],
             [
              0.7777777777777778,
              "#fb9f3a"
             ],
             [
              0.8888888888888888,
              "#fdca26"
             ],
             [
              1,
              "#f0f921"
             ]
            ],
            "type": "contour"
           }
          ],
          "contourcarpet": [
           {
            "colorbar": {
             "outlinewidth": 0,
             "ticks": ""
            },
            "type": "contourcarpet"
           }
          ],
          "heatmap": [
           {
            "colorbar": {
             "outlinewidth": 0,
             "ticks": ""
            },
            "colorscale": [
             [
              0,
              "#0d0887"
             ],
             [
              0.1111111111111111,
              "#46039f"
             ],
             [
              0.2222222222222222,
              "#7201a8"
             ],
             [
              0.3333333333333333,
              "#9c179e"
             ],
             [
              0.4444444444444444,
              "#bd3786"
             ],
             [
              0.5555555555555556,
              "#d8576b"
             ],
             [
              0.6666666666666666,
              "#ed7953"
             ],
             [
              0.7777777777777778,
              "#fb9f3a"
             ],
             [
              0.8888888888888888,
              "#fdca26"
             ],
             [
              1,
              "#f0f921"
             ]
            ],
            "type": "heatmap"
           }
          ],
          "heatmapgl": [
           {
            "colorbar": {
             "outlinewidth": 0,
             "ticks": ""
            },
            "colorscale": [
             [
              0,
              "#0d0887"
             ],
             [
              0.1111111111111111,
              "#46039f"
             ],
             [
              0.2222222222222222,
              "#7201a8"
             ],
             [
              0.3333333333333333,
              "#9c179e"
             ],
             [
              0.4444444444444444,
              "#bd3786"
             ],
             [
              0.5555555555555556,
              "#d8576b"
             ],
             [
              0.6666666666666666,
              "#ed7953"
             ],
             [
              0.7777777777777778,
              "#fb9f3a"
             ],
             [
              0.8888888888888888,
              "#fdca26"
             ],
             [
              1,
              "#f0f921"
             ]
            ],
            "type": "heatmapgl"
           }
          ],
          "histogram": [
           {
            "marker": {
             "pattern": {
              "fillmode": "overlay",
              "size": 10,
              "solidity": 0.2
             }
            },
            "type": "histogram"
           }
          ],
          "histogram2d": [
           {
            "colorbar": {
             "outlinewidth": 0,
             "ticks": ""
            },
            "colorscale": [
             [
              0,
              "#0d0887"
             ],
             [
              0.1111111111111111,
              "#46039f"
             ],
             [
              0.2222222222222222,
              "#7201a8"
             ],
             [
              0.3333333333333333,
              "#9c179e"
             ],
             [
              0.4444444444444444,
              "#bd3786"
             ],
             [
              0.5555555555555556,
              "#d8576b"
             ],
             [
              0.6666666666666666,
              "#ed7953"
             ],
             [
              0.7777777777777778,
              "#fb9f3a"
             ],
             [
              0.8888888888888888,
              "#fdca26"
             ],
             [
              1,
              "#f0f921"
             ]
            ],
            "type": "histogram2d"
           }
          ],
          "histogram2dcontour": [
           {
            "colorbar": {
             "outlinewidth": 0,
             "ticks": ""
            },
            "colorscale": [
             [
              0,
              "#0d0887"
             ],
             [
              0.1111111111111111,
              "#46039f"
             ],
             [
              0.2222222222222222,
              "#7201a8"
             ],
             [
              0.3333333333333333,
              "#9c179e"
             ],
             [
              0.4444444444444444,
              "#bd3786"
             ],
             [
              0.5555555555555556,
              "#d8576b"
             ],
             [
              0.6666666666666666,
              "#ed7953"
             ],
             [
              0.7777777777777778,
              "#fb9f3a"
             ],
             [
              0.8888888888888888,
              "#fdca26"
             ],
             [
              1,
              "#f0f921"
             ]
            ],
            "type": "histogram2dcontour"
           }
          ],
          "mesh3d": [
           {
            "colorbar": {
             "outlinewidth": 0,
             "ticks": ""
            },
            "type": "mesh3d"
           }
          ],
          "parcoords": [
           {
            "line": {
             "colorbar": {
              "outlinewidth": 0,
              "ticks": ""
             }
            },
            "type": "parcoords"
           }
          ],
          "pie": [
           {
            "automargin": true,
            "type": "pie"
           }
          ],
          "scatter": [
           {
            "fillpattern": {
             "fillmode": "overlay",
             "size": 10,
             "solidity": 0.2
            },
            "type": "scatter"
           }
          ],
          "scatter3d": [
           {
            "line": {
             "colorbar": {
              "outlinewidth": 0,
              "ticks": ""
             }
            },
            "marker": {
             "colorbar": {
              "outlinewidth": 0,
              "ticks": ""
             }
            },
            "type": "scatter3d"
           }
          ],
          "scattercarpet": [
           {
            "marker": {
             "colorbar": {
              "outlinewidth": 0,
              "ticks": ""
             }
            },
            "type": "scattercarpet"
           }
          ],
          "scattergeo": [
           {
            "marker": {
             "colorbar": {
              "outlinewidth": 0,
              "ticks": ""
             }
            },
            "type": "scattergeo"
           }
          ],
          "scattergl": [
           {
            "marker": {
             "colorbar": {
              "outlinewidth": 0,
              "ticks": ""
             }
            },
            "type": "scattergl"
           }
          ],
          "scattermapbox": [
           {
            "marker": {
             "colorbar": {
              "outlinewidth": 0,
              "ticks": ""
             }
            },
            "type": "scattermapbox"
           }
          ],
          "scatterpolar": [
           {
            "marker": {
             "colorbar": {
              "outlinewidth": 0,
              "ticks": ""
             }
            },
            "type": "scatterpolar"
           }
          ],
          "scatterpolargl": [
           {
            "marker": {
             "colorbar": {
              "outlinewidth": 0,
              "ticks": ""
             }
            },
            "type": "scatterpolargl"
           }
          ],
          "scatterternary": [
           {
            "marker": {
             "colorbar": {
              "outlinewidth": 0,
              "ticks": ""
             }
            },
            "type": "scatterternary"
           }
          ],
          "surface": [
           {
            "colorbar": {
             "outlinewidth": 0,
             "ticks": ""
            },
            "colorscale": [
             [
              0,
              "#0d0887"
             ],
             [
              0.1111111111111111,
              "#46039f"
             ],
             [
              0.2222222222222222,
              "#7201a8"
             ],
             [
              0.3333333333333333,
              "#9c179e"
             ],
             [
              0.4444444444444444,
              "#bd3786"
             ],
             [
              0.5555555555555556,
              "#d8576b"
             ],
             [
              0.6666666666666666,
              "#ed7953"
             ],
             [
              0.7777777777777778,
              "#fb9f3a"
             ],
             [
              0.8888888888888888,
              "#fdca26"
             ],
             [
              1,
              "#f0f921"
             ]
            ],
            "type": "surface"
           }
          ],
          "table": [
           {
            "cells": {
             "fill": {
              "color": "#EBF0F8"
             },
             "line": {
              "color": "white"
             }
            },
            "header": {
             "fill": {
              "color": "#C8D4E3"
             },
             "line": {
              "color": "white"
             }
            },
            "type": "table"
           }
          ]
         },
         "layout": {
          "annotationdefaults": {
           "arrowcolor": "#2a3f5f",
           "arrowhead": 0,
           "arrowwidth": 1
          },
          "autotypenumbers": "strict",
          "coloraxis": {
           "colorbar": {
            "outlinewidth": 0,
            "ticks": ""
           }
          },
          "colorscale": {
           "diverging": [
            [
             0,
             "#8e0152"
            ],
            [
             0.1,
             "#c51b7d"
            ],
            [
             0.2,
             "#de77ae"
            ],
            [
             0.3,
             "#f1b6da"
            ],
            [
             0.4,
             "#fde0ef"
            ],
            [
             0.5,
             "#f7f7f7"
            ],
            [
             0.6,
             "#e6f5d0"
            ],
            [
             0.7,
             "#b8e186"
            ],
            [
             0.8,
             "#7fbc41"
            ],
            [
             0.9,
             "#4d9221"
            ],
            [
             1,
             "#276419"
            ]
           ],
           "sequential": [
            [
             0,
             "#0d0887"
            ],
            [
             0.1111111111111111,
             "#46039f"
            ],
            [
             0.2222222222222222,
             "#7201a8"
            ],
            [
             0.3333333333333333,
             "#9c179e"
            ],
            [
             0.4444444444444444,
             "#bd3786"
            ],
            [
             0.5555555555555556,
             "#d8576b"
            ],
            [
             0.6666666666666666,
             "#ed7953"
            ],
            [
             0.7777777777777778,
             "#fb9f3a"
            ],
            [
             0.8888888888888888,
             "#fdca26"
            ],
            [
             1,
             "#f0f921"
            ]
           ],
           "sequentialminus": [
            [
             0,
             "#0d0887"
            ],
            [
             0.1111111111111111,
             "#46039f"
            ],
            [
             0.2222222222222222,
             "#7201a8"
            ],
            [
             0.3333333333333333,
             "#9c179e"
            ],
            [
             0.4444444444444444,
             "#bd3786"
            ],
            [
             0.5555555555555556,
             "#d8576b"
            ],
            [
             0.6666666666666666,
             "#ed7953"
            ],
            [
             0.7777777777777778,
             "#fb9f3a"
            ],
            [
             0.8888888888888888,
             "#fdca26"
            ],
            [
             1,
             "#f0f921"
            ]
           ]
          },
          "colorway": [
           "#636efa",
           "#EF553B",
           "#00cc96",
           "#ab63fa",
           "#FFA15A",
           "#19d3f3",
           "#FF6692",
           "#B6E880",
           "#FF97FF",
           "#FECB52"
          ],
          "font": {
           "color": "#2a3f5f"
          },
          "geo": {
           "bgcolor": "white",
           "lakecolor": "white",
           "landcolor": "#E5ECF6",
           "showlakes": true,
           "showland": true,
           "subunitcolor": "white"
          },
          "hoverlabel": {
           "align": "left"
          },
          "hovermode": "closest",
          "mapbox": {
           "style": "light"
          },
          "paper_bgcolor": "white",
          "plot_bgcolor": "#E5ECF6",
          "polar": {
           "angularaxis": {
            "gridcolor": "white",
            "linecolor": "white",
            "ticks": ""
           },
           "bgcolor": "#E5ECF6",
           "radialaxis": {
            "gridcolor": "white",
            "linecolor": "white",
            "ticks": ""
           }
          },
          "scene": {
           "xaxis": {
            "backgroundcolor": "#E5ECF6",
            "gridcolor": "white",
            "gridwidth": 2,
            "linecolor": "white",
            "showbackground": true,
            "ticks": "",
            "zerolinecolor": "white"
           },
           "yaxis": {
            "backgroundcolor": "#E5ECF6",
            "gridcolor": "white",
            "gridwidth": 2,
            "linecolor": "white",
            "showbackground": true,
            "ticks": "",
            "zerolinecolor": "white"
           },
           "zaxis": {
            "backgroundcolor": "#E5ECF6",
            "gridcolor": "white",
            "gridwidth": 2,
            "linecolor": "white",
            "showbackground": true,
            "ticks": "",
            "zerolinecolor": "white"
           }
          },
          "shapedefaults": {
           "line": {
            "color": "#2a3f5f"
           }
          },
          "ternary": {
           "aaxis": {
            "gridcolor": "white",
            "linecolor": "white",
            "ticks": ""
           },
           "baxis": {
            "gridcolor": "white",
            "linecolor": "white",
            "ticks": ""
           },
           "bgcolor": "#E5ECF6",
           "caxis": {
            "gridcolor": "white",
            "linecolor": "white",
            "ticks": ""
           }
          },
          "title": {
           "x": 0.05
          },
          "xaxis": {
           "automargin": true,
           "gridcolor": "white",
           "linecolor": "white",
           "ticks": "",
           "title": {
            "standoff": 15
           },
           "zerolinecolor": "white",
           "zerolinewidth": 2
          },
          "yaxis": {
           "automargin": true,
           "gridcolor": "white",
           "linecolor": "white",
           "ticks": "",
           "title": {
            "standoff": 15
           },
           "zerolinecolor": "white",
           "zerolinewidth": 2
          }
         }
        },
        "title": {
         "text": "Album Duration"
        }
       }
      }
     },
     "metadata": {},
     "output_type": "display_data"
    }
   ],
   "source": [
    "def create_album_duration(df):\n",
    "        def ms_to_min_sec(ms):\n",
    "                minutes, seconds = divmod(ms // 1000, 60)\n",
    "                return f'{minutes}m{seconds}s'\n",
    "\n",
    "        df_album_duration = df.sort_values(by='duration_ms', ascending=False)\n",
    "        df_album_duration.loc[:, 'duration_formatted'] = df_album_duration['duration_ms'].apply(ms_to_min_sec)\n",
    "        fig = px.pie(df_album_duration, names='album', values='duration_ms',\n",
    "                hover_data=['album', 'duration_formatted'],\n",
    "                title='Album Duration')\n",
    "        fig.update_traces(textinfo='label+percent', pull=[0.1, 0, 0, 0, 0, 0, 0, 0, 0, 0])\n",
    "        return fig.show()\n",
    "create_album_duration(df)"
   ]
  },
  {
   "cell_type": "markdown",
   "metadata": {},
   "source": [
    "### \n",
    "<p> In this visualization we see the number of lyrics per song grouped by albums. </p>"
   ]
  },
  {
   "cell_type": "code",
   "execution_count": 63,
   "metadata": {},
   "outputs": [
    {
     "data": {
      "application/vnd.plotly.v1+json": {
       "config": {
        "plotlyServerURL": "https://plot.ly"
       },
       "data": [
        {
         "hovertemplate": "track=%{y}<br>count_letter=%{x}<extra></extra>",
         "legendgroup": "Dreamer in My Dreams",
         "marker": {
          "color": "#636efa"
         },
         "name": "Dreamer in My Dreams",
         "orientation": "h",
         "showlegend": true,
         "type": "funnel",
         "x": [
          1147
         ],
         "xaxis": "x",
         "y": [
          "Dreamer in My Dreams"
         ],
         "yaxis": "y"
        },
        {
         "hovertemplate": "track=%{y}<br>count_letter=%{x}<extra></extra>",
         "legendgroup": "Misunderstood",
         "marker": {
          "color": "#EF553B"
         },
         "name": "Misunderstood",
         "orientation": "h",
         "showlegend": true,
         "type": "funnel",
         "x": [
          1092
         ],
         "xaxis": "x",
         "y": [
          "Misunderstood"
         ],
         "yaxis": "y"
        },
        {
         "hovertemplate": "track=%{y}<br>count_letter=%{x}<extra></extra>",
         "legendgroup": "Monday",
         "marker": {
          "color": "#00cc96"
         },
         "name": "Monday",
         "orientation": "h",
         "showlegend": true,
         "type": "funnel",
         "x": [
          791
         ],
         "xaxis": "x",
         "y": [
          "Monday"
         ],
         "yaxis": "y"
        },
        {
         "hovertemplate": "track=%{y}<br>count_letter=%{x}<extra></extra>",
         "legendgroup": "Outta Mind (Outta Sight)",
         "marker": {
          "color": "#ab63fa"
         },
         "name": "Outta Mind (Outta Sight)",
         "orientation": "h",
         "showlegend": true,
         "type": "funnel",
         "x": [
          755
         ],
         "xaxis": "x",
         "y": [
          "Outta Mind (Outta Sight)"
         ],
         "yaxis": "y"
        },
        {
         "hovertemplate": "track=%{y}<br>count_letter=%{x}<extra></extra>",
         "legendgroup": "Say You Miss Me",
         "marker": {
          "color": "#FFA15A"
         },
         "name": "Say You Miss Me",
         "orientation": "h",
         "showlegend": true,
         "type": "funnel",
         "x": [
          681
         ],
         "xaxis": "x",
         "y": [
          "Say You Miss Me"
         ],
         "yaxis": "y"
        },
        {
         "hovertemplate": "track=%{y}<br>count_letter=%{x}<extra></extra>",
         "legendgroup": "Sunken Treasure",
         "marker": {
          "color": "#19d3f3"
         },
         "name": "Sunken Treasure",
         "orientation": "h",
         "showlegend": true,
         "type": "funnel",
         "x": [
          669
         ],
         "xaxis": "x",
         "y": [
          "Sunken Treasure"
         ],
         "yaxis": "y"
        },
        {
         "hovertemplate": "track=%{y}<br>count_letter=%{x}<extra></extra>",
         "legendgroup": "What's the World Got in Store",
         "marker": {
          "color": "#FF6692"
         },
         "name": "What's the World Got in Store",
         "orientation": "h",
         "showlegend": true,
         "type": "funnel",
         "x": [
          646
         ],
         "xaxis": "x",
         "y": [
          "What's the World Got in Store"
         ],
         "yaxis": "y"
        },
        {
         "hovertemplate": "track=%{y}<br>count_letter=%{x}<extra></extra>",
         "legendgroup": "Outtasite (Outta Mind)",
         "marker": {
          "color": "#B6E880"
         },
         "name": "Outtasite (Outta Mind)",
         "orientation": "h",
         "showlegend": true,
         "type": "funnel",
         "x": [
          617
         ],
         "xaxis": "x",
         "y": [
          "Outtasite (Outta Mind)"
         ],
         "yaxis": "y"
        },
        {
         "hovertemplate": "track=%{y}<br>count_letter=%{x}<extra></extra>",
         "legendgroup": "The Lonely 1",
         "marker": {
          "color": "#FF97FF"
         },
         "name": "The Lonely 1",
         "orientation": "h",
         "showlegend": true,
         "type": "funnel",
         "x": [
          595
         ],
         "xaxis": "x",
         "y": [
          "The Lonely 1"
         ],
         "yaxis": "y"
        },
        {
         "hovertemplate": "track=%{y}<br>count_letter=%{x}<extra></extra>",
         "legendgroup": "Forget the Flowers",
         "marker": {
          "color": "#FECB52"
         },
         "name": "Forget the Flowers",
         "orientation": "h",
         "showlegend": true,
         "type": "funnel",
         "x": [
          563
         ],
         "xaxis": "x",
         "y": [
          "Forget the Flowers"
         ],
         "yaxis": "y"
        },
        {
         "hovertemplate": "track=%{y}<br>count_letter=%{x}<extra></extra>",
         "legendgroup": "Hotel Arizona",
         "marker": {
          "color": "#636efa"
         },
         "name": "Hotel Arizona",
         "orientation": "h",
         "showlegend": true,
         "type": "funnel",
         "x": [
          511
         ],
         "xaxis": "x",
         "y": [
          "Hotel Arizona"
         ],
         "yaxis": "y"
        },
        {
         "hovertemplate": "track=%{y}<br>count_letter=%{x}<extra></extra>",
         "legendgroup": "(Was I) In Your Dreams",
         "marker": {
          "color": "#EF553B"
         },
         "name": "(Was I) In Your Dreams",
         "orientation": "h",
         "showlegend": true,
         "type": "funnel",
         "x": [
          506
         ],
         "xaxis": "x",
         "y": [
          "(Was I) In Your Dreams"
         ],
         "yaxis": "y"
        },
        {
         "hovertemplate": "track=%{y}<br>count_letter=%{x}<extra></extra>",
         "legendgroup": "Someday Soon",
         "marker": {
          "color": "#00cc96"
         },
         "name": "Someday Soon",
         "orientation": "h",
         "showlegend": true,
         "type": "funnel",
         "x": [
          467
         ],
         "xaxis": "x",
         "y": [
          "Someday Soon"
         ],
         "yaxis": "y"
        },
        {
         "hovertemplate": "track=%{y}<br>count_letter=%{x}<extra></extra>",
         "legendgroup": "I Got You (At the End of the Century)",
         "marker": {
          "color": "#ab63fa"
         },
         "name": "I Got You (At the End of the Century)",
         "orientation": "h",
         "showlegend": true,
         "type": "funnel",
         "x": [
          449
         ],
         "xaxis": "x",
         "y": [
          "I Got You (At the End of the Century)"
         ],
         "yaxis": "y"
        },
        {
         "hovertemplate": "track=%{y}<br>count_letter=%{x}<extra></extra>",
         "legendgroup": "Why Would You Wanna Live",
         "marker": {
          "color": "#FFA15A"
         },
         "name": "Why Would You Wanna Live",
         "orientation": "h",
         "showlegend": true,
         "type": "funnel",
         "x": [
          397
         ],
         "xaxis": "x",
         "y": [
          "Why Would You Wanna Live"
         ],
         "yaxis": "y"
        },
        {
         "hovertemplate": "track=%{y}<br>count_letter=%{x}<extra></extra>",
         "legendgroup": "Far, Far Away",
         "marker": {
          "color": "#19d3f3"
         },
         "name": "Far, Far Away",
         "orientation": "h",
         "showlegend": true,
         "type": "funnel",
         "x": [
          372
         ],
         "xaxis": "x",
         "y": [
          "Far, Far Away"
         ],
         "yaxis": "y"
        },
        {
         "hovertemplate": "track=%{y}<br>count_letter=%{x}<extra></extra>",
         "legendgroup": "Someone Else's Song",
         "marker": {
          "color": "#FF6692"
         },
         "name": "Someone Else's Song",
         "orientation": "h",
         "showlegend": true,
         "type": "funnel",
         "x": [
          350
         ],
         "xaxis": "x",
         "y": [
          "Someone Else's Song"
         ],
         "yaxis": "y"
        },
        {
         "hovertemplate": "track=%{y}<br>count_letter=%{x}<extra></extra>",
         "legendgroup": "Kingpin",
         "marker": {
          "color": "#B6E880"
         },
         "name": "Kingpin",
         "orientation": "h",
         "showlegend": true,
         "type": "funnel",
         "x": [
          323
         ],
         "xaxis": "x",
         "y": [
          "Kingpin"
         ],
         "yaxis": "y"
        },
        {
         "hovertemplate": "track=%{y}<br>count_letter=%{x}<extra></extra>",
         "legendgroup": "Red-Eyed and Blue",
         "marker": {
          "color": "#FF97FF"
         },
         "name": "Red-Eyed and Blue",
         "orientation": "h",
         "showlegend": true,
         "type": "funnel",
         "x": [
          260
         ],
         "xaxis": "x",
         "y": [
          "Red-Eyed and Blue"
         ],
         "yaxis": "y"
        }
       ],
       "layout": {
        "annotations": [
         {
          "showarrow": false,
          "text": "Album - Being There",
          "x": 0.5,
          "xref": "paper",
          "y": -0.1,
          "yref": "paper"
         }
        ],
        "legend": {
         "title": {
          "text": "track"
         },
         "tracegroupgap": 0
        },
        "margin": {
         "t": 60
        },
        "template": {
         "data": {
          "bar": [
           {
            "error_x": {
             "color": "#2a3f5f"
            },
            "error_y": {
             "color": "#2a3f5f"
            },
            "marker": {
             "line": {
              "color": "#E5ECF6",
              "width": 0.5
             },
             "pattern": {
              "fillmode": "overlay",
              "size": 10,
              "solidity": 0.2
             }
            },
            "type": "bar"
           }
          ],
          "barpolar": [
           {
            "marker": {
             "line": {
              "color": "#E5ECF6",
              "width": 0.5
             },
             "pattern": {
              "fillmode": "overlay",
              "size": 10,
              "solidity": 0.2
             }
            },
            "type": "barpolar"
           }
          ],
          "carpet": [
           {
            "aaxis": {
             "endlinecolor": "#2a3f5f",
             "gridcolor": "white",
             "linecolor": "white",
             "minorgridcolor": "white",
             "startlinecolor": "#2a3f5f"
            },
            "baxis": {
             "endlinecolor": "#2a3f5f",
             "gridcolor": "white",
             "linecolor": "white",
             "minorgridcolor": "white",
             "startlinecolor": "#2a3f5f"
            },
            "type": "carpet"
           }
          ],
          "choropleth": [
           {
            "colorbar": {
             "outlinewidth": 0,
             "ticks": ""
            },
            "type": "choropleth"
           }
          ],
          "contour": [
           {
            "colorbar": {
             "outlinewidth": 0,
             "ticks": ""
            },
            "colorscale": [
             [
              0,
              "#0d0887"
             ],
             [
              0.1111111111111111,
              "#46039f"
             ],
             [
              0.2222222222222222,
              "#7201a8"
             ],
             [
              0.3333333333333333,
              "#9c179e"
             ],
             [
              0.4444444444444444,
              "#bd3786"
             ],
             [
              0.5555555555555556,
              "#d8576b"
             ],
             [
              0.6666666666666666,
              "#ed7953"
             ],
             [
              0.7777777777777778,
              "#fb9f3a"
             ],
             [
              0.8888888888888888,
              "#fdca26"
             ],
             [
              1,
              "#f0f921"
             ]
            ],
            "type": "contour"
           }
          ],
          "contourcarpet": [
           {
            "colorbar": {
             "outlinewidth": 0,
             "ticks": ""
            },
            "type": "contourcarpet"
           }
          ],
          "heatmap": [
           {
            "colorbar": {
             "outlinewidth": 0,
             "ticks": ""
            },
            "colorscale": [
             [
              0,
              "#0d0887"
             ],
             [
              0.1111111111111111,
              "#46039f"
             ],
             [
              0.2222222222222222,
              "#7201a8"
             ],
             [
              0.3333333333333333,
              "#9c179e"
             ],
             [
              0.4444444444444444,
              "#bd3786"
             ],
             [
              0.5555555555555556,
              "#d8576b"
             ],
             [
              0.6666666666666666,
              "#ed7953"
             ],
             [
              0.7777777777777778,
              "#fb9f3a"
             ],
             [
              0.8888888888888888,
              "#fdca26"
             ],
             [
              1,
              "#f0f921"
             ]
            ],
            "type": "heatmap"
           }
          ],
          "heatmapgl": [
           {
            "colorbar": {
             "outlinewidth": 0,
             "ticks": ""
            },
            "colorscale": [
             [
              0,
              "#0d0887"
             ],
             [
              0.1111111111111111,
              "#46039f"
             ],
             [
              0.2222222222222222,
              "#7201a8"
             ],
             [
              0.3333333333333333,
              "#9c179e"
             ],
             [
              0.4444444444444444,
              "#bd3786"
             ],
             [
              0.5555555555555556,
              "#d8576b"
             ],
             [
              0.6666666666666666,
              "#ed7953"
             ],
             [
              0.7777777777777778,
              "#fb9f3a"
             ],
             [
              0.8888888888888888,
              "#fdca26"
             ],
             [
              1,
              "#f0f921"
             ]
            ],
            "type": "heatmapgl"
           }
          ],
          "histogram": [
           {
            "marker": {
             "pattern": {
              "fillmode": "overlay",
              "size": 10,
              "solidity": 0.2
             }
            },
            "type": "histogram"
           }
          ],
          "histogram2d": [
           {
            "colorbar": {
             "outlinewidth": 0,
             "ticks": ""
            },
            "colorscale": [
             [
              0,
              "#0d0887"
             ],
             [
              0.1111111111111111,
              "#46039f"
             ],
             [
              0.2222222222222222,
              "#7201a8"
             ],
             [
              0.3333333333333333,
              "#9c179e"
             ],
             [
              0.4444444444444444,
              "#bd3786"
             ],
             [
              0.5555555555555556,
              "#d8576b"
             ],
             [
              0.6666666666666666,
              "#ed7953"
             ],
             [
              0.7777777777777778,
              "#fb9f3a"
             ],
             [
              0.8888888888888888,
              "#fdca26"
             ],
             [
              1,
              "#f0f921"
             ]
            ],
            "type": "histogram2d"
           }
          ],
          "histogram2dcontour": [
           {
            "colorbar": {
             "outlinewidth": 0,
             "ticks": ""
            },
            "colorscale": [
             [
              0,
              "#0d0887"
             ],
             [
              0.1111111111111111,
              "#46039f"
             ],
             [
              0.2222222222222222,
              "#7201a8"
             ],
             [
              0.3333333333333333,
              "#9c179e"
             ],
             [
              0.4444444444444444,
              "#bd3786"
             ],
             [
              0.5555555555555556,
              "#d8576b"
             ],
             [
              0.6666666666666666,
              "#ed7953"
             ],
             [
              0.7777777777777778,
              "#fb9f3a"
             ],
             [
              0.8888888888888888,
              "#fdca26"
             ],
             [
              1,
              "#f0f921"
             ]
            ],
            "type": "histogram2dcontour"
           }
          ],
          "mesh3d": [
           {
            "colorbar": {
             "outlinewidth": 0,
             "ticks": ""
            },
            "type": "mesh3d"
           }
          ],
          "parcoords": [
           {
            "line": {
             "colorbar": {
              "outlinewidth": 0,
              "ticks": ""
             }
            },
            "type": "parcoords"
           }
          ],
          "pie": [
           {
            "automargin": true,
            "type": "pie"
           }
          ],
          "scatter": [
           {
            "fillpattern": {
             "fillmode": "overlay",
             "size": 10,
             "solidity": 0.2
            },
            "type": "scatter"
           }
          ],
          "scatter3d": [
           {
            "line": {
             "colorbar": {
              "outlinewidth": 0,
              "ticks": ""
             }
            },
            "marker": {
             "colorbar": {
              "outlinewidth": 0,
              "ticks": ""
             }
            },
            "type": "scatter3d"
           }
          ],
          "scattercarpet": [
           {
            "marker": {
             "colorbar": {
              "outlinewidth": 0,
              "ticks": ""
             }
            },
            "type": "scattercarpet"
           }
          ],
          "scattergeo": [
           {
            "marker": {
             "colorbar": {
              "outlinewidth": 0,
              "ticks": ""
             }
            },
            "type": "scattergeo"
           }
          ],
          "scattergl": [
           {
            "marker": {
             "colorbar": {
              "outlinewidth": 0,
              "ticks": ""
             }
            },
            "type": "scattergl"
           }
          ],
          "scattermapbox": [
           {
            "marker": {
             "colorbar": {
              "outlinewidth": 0,
              "ticks": ""
             }
            },
            "type": "scattermapbox"
           }
          ],
          "scatterpolar": [
           {
            "marker": {
             "colorbar": {
              "outlinewidth": 0,
              "ticks": ""
             }
            },
            "type": "scatterpolar"
           }
          ],
          "scatterpolargl": [
           {
            "marker": {
             "colorbar": {
              "outlinewidth": 0,
              "ticks": ""
             }
            },
            "type": "scatterpolargl"
           }
          ],
          "scatterternary": [
           {
            "marker": {
             "colorbar": {
              "outlinewidth": 0,
              "ticks": ""
             }
            },
            "type": "scatterternary"
           }
          ],
          "surface": [
           {
            "colorbar": {
             "outlinewidth": 0,
             "ticks": ""
            },
            "colorscale": [
             [
              0,
              "#0d0887"
             ],
             [
              0.1111111111111111,
              "#46039f"
             ],
             [
              0.2222222222222222,
              "#7201a8"
             ],
             [
              0.3333333333333333,
              "#9c179e"
             ],
             [
              0.4444444444444444,
              "#bd3786"
             ],
             [
              0.5555555555555556,
              "#d8576b"
             ],
             [
              0.6666666666666666,
              "#ed7953"
             ],
             [
              0.7777777777777778,
              "#fb9f3a"
             ],
             [
              0.8888888888888888,
              "#fdca26"
             ],
             [
              1,
              "#f0f921"
             ]
            ],
            "type": "surface"
           }
          ],
          "table": [
           {
            "cells": {
             "fill": {
              "color": "#EBF0F8"
             },
             "line": {
              "color": "white"
             }
            },
            "header": {
             "fill": {
              "color": "#C8D4E3"
             },
             "line": {
              "color": "white"
             }
            },
            "type": "table"
           }
          ]
         },
         "layout": {
          "annotationdefaults": {
           "arrowcolor": "#2a3f5f",
           "arrowhead": 0,
           "arrowwidth": 1
          },
          "autotypenumbers": "strict",
          "coloraxis": {
           "colorbar": {
            "outlinewidth": 0,
            "ticks": ""
           }
          },
          "colorscale": {
           "diverging": [
            [
             0,
             "#8e0152"
            ],
            [
             0.1,
             "#c51b7d"
            ],
            [
             0.2,
             "#de77ae"
            ],
            [
             0.3,
             "#f1b6da"
            ],
            [
             0.4,
             "#fde0ef"
            ],
            [
             0.5,
             "#f7f7f7"
            ],
            [
             0.6,
             "#e6f5d0"
            ],
            [
             0.7,
             "#b8e186"
            ],
            [
             0.8,
             "#7fbc41"
            ],
            [
             0.9,
             "#4d9221"
            ],
            [
             1,
             "#276419"
            ]
           ],
           "sequential": [
            [
             0,
             "#0d0887"
            ],
            [
             0.1111111111111111,
             "#46039f"
            ],
            [
             0.2222222222222222,
             "#7201a8"
            ],
            [
             0.3333333333333333,
             "#9c179e"
            ],
            [
             0.4444444444444444,
             "#bd3786"
            ],
            [
             0.5555555555555556,
             "#d8576b"
            ],
            [
             0.6666666666666666,
             "#ed7953"
            ],
            [
             0.7777777777777778,
             "#fb9f3a"
            ],
            [
             0.8888888888888888,
             "#fdca26"
            ],
            [
             1,
             "#f0f921"
            ]
           ],
           "sequentialminus": [
            [
             0,
             "#0d0887"
            ],
            [
             0.1111111111111111,
             "#46039f"
            ],
            [
             0.2222222222222222,
             "#7201a8"
            ],
            [
             0.3333333333333333,
             "#9c179e"
            ],
            [
             0.4444444444444444,
             "#bd3786"
            ],
            [
             0.5555555555555556,
             "#d8576b"
            ],
            [
             0.6666666666666666,
             "#ed7953"
            ],
            [
             0.7777777777777778,
             "#fb9f3a"
            ],
            [
             0.8888888888888888,
             "#fdca26"
            ],
            [
             1,
             "#f0f921"
            ]
           ]
          },
          "colorway": [
           "#636efa",
           "#EF553B",
           "#00cc96",
           "#ab63fa",
           "#FFA15A",
           "#19d3f3",
           "#FF6692",
           "#B6E880",
           "#FF97FF",
           "#FECB52"
          ],
          "font": {
           "color": "#2a3f5f"
          },
          "geo": {
           "bgcolor": "white",
           "lakecolor": "white",
           "landcolor": "#E5ECF6",
           "showlakes": true,
           "showland": true,
           "subunitcolor": "white"
          },
          "hoverlabel": {
           "align": "left"
          },
          "hovermode": "closest",
          "mapbox": {
           "style": "light"
          },
          "paper_bgcolor": "white",
          "plot_bgcolor": "#E5ECF6",
          "polar": {
           "angularaxis": {
            "gridcolor": "white",
            "linecolor": "white",
            "ticks": ""
           },
           "bgcolor": "#E5ECF6",
           "radialaxis": {
            "gridcolor": "white",
            "linecolor": "white",
            "ticks": ""
           }
          },
          "scene": {
           "xaxis": {
            "backgroundcolor": "#E5ECF6",
            "gridcolor": "white",
            "gridwidth": 2,
            "linecolor": "white",
            "showbackground": true,
            "ticks": "",
            "zerolinecolor": "white"
           },
           "yaxis": {
            "backgroundcolor": "#E5ECF6",
            "gridcolor": "white",
            "gridwidth": 2,
            "linecolor": "white",
            "showbackground": true,
            "ticks": "",
            "zerolinecolor": "white"
           },
           "zaxis": {
            "backgroundcolor": "#E5ECF6",
            "gridcolor": "white",
            "gridwidth": 2,
            "linecolor": "white",
            "showbackground": true,
            "ticks": "",
            "zerolinecolor": "white"
           }
          },
          "shapedefaults": {
           "line": {
            "color": "#2a3f5f"
           }
          },
          "ternary": {
           "aaxis": {
            "gridcolor": "white",
            "linecolor": "white",
            "ticks": ""
           },
           "baxis": {
            "gridcolor": "white",
            "linecolor": "white",
            "ticks": ""
           },
           "bgcolor": "#E5ECF6",
           "caxis": {
            "gridcolor": "white",
            "linecolor": "white",
            "ticks": ""
           }
          },
          "title": {
           "x": 0.05
          },
          "xaxis": {
           "automargin": true,
           "gridcolor": "white",
           "linecolor": "white",
           "ticks": "",
           "title": {
            "standoff": 15
           },
           "zerolinecolor": "white",
           "zerolinewidth": 2
          },
          "yaxis": {
           "automargin": true,
           "gridcolor": "white",
           "linecolor": "white",
           "ticks": "",
           "title": {
            "standoff": 15
           },
           "zerolinecolor": "white",
           "zerolinewidth": 2
          }
         }
        },
        "xaxis": {
         "anchor": "y",
         "domain": [
          0,
          1
         ],
         "showticklabels": false,
         "tickangle": 45,
         "title": {
          "text": " "
         }
        },
        "yaxis": {
         "anchor": "x",
         "categoryarray": [
          "Red-Eyed and Blue",
          "Kingpin",
          "Someone Else's Song",
          "Far, Far Away",
          "Why Would You Wanna Live",
          "I Got You (At the End of the Century)",
          "Someday Soon",
          "(Was I) In Your Dreams",
          "Hotel Arizona",
          "Forget the Flowers",
          "The Lonely 1",
          "Outtasite (Outta Mind)",
          "What's the World Got in Store",
          "Sunken Treasure",
          "Say You Miss Me",
          "Outta Mind (Outta Sight)",
          "Monday",
          "Misunderstood",
          "Dreamer in My Dreams"
         ],
         "categoryorder": "array",
         "domain": [
          0,
          1
         ],
         "showticklabels": false,
         "tickangle": 45,
         "title": {
          "text": " "
         }
        }
       }
      }
     },
     "metadata": {},
     "output_type": "display_data"
    },
    {
     "data": {
      "application/vnd.plotly.v1+json": {
       "config": {
        "plotlyServerURL": "https://plot.ly"
       },
       "data": [
        {
         "hovertemplate": "track=%{y}<br>count_letter=%{x}<extra></extra>",
         "legendgroup": "Way Over Yonder In The Minor Key",
         "marker": {
          "color": "#636efa"
         },
         "name": "Way Over Yonder In The Minor Key",
         "orientation": "h",
         "showlegend": true,
         "type": "funnel",
         "x": [
          1280
         ],
         "xaxis": "x",
         "y": [
          "Way Over Yonder In The Minor Key"
         ],
         "yaxis": "y"
        },
        {
         "hovertemplate": "track=%{y}<br>count_letter=%{x}<extra></extra>",
         "legendgroup": "The Unwelcome Guest",
         "marker": {
          "color": "#EF553B"
         },
         "name": "The Unwelcome Guest",
         "orientation": "h",
         "showlegend": true,
         "type": "funnel",
         "x": [
          1279
         ],
         "xaxis": "x",
         "y": [
          "The Unwelcome Guest"
         ],
         "yaxis": "y"
        },
        {
         "hovertemplate": "track=%{y}<br>count_letter=%{x}<extra></extra>",
         "legendgroup": "Walt Whitman's Niece",
         "marker": {
          "color": "#00cc96"
         },
         "name": "Walt Whitman's Niece",
         "orientation": "h",
         "showlegend": true,
         "type": "funnel",
         "x": [
          1228
         ],
         "xaxis": "x",
         "y": [
          "Walt Whitman's Niece"
         ],
         "yaxis": "y"
        },
        {
         "hovertemplate": "track=%{y}<br>count_letter=%{x}<extra></extra>",
         "legendgroup": "California Stars",
         "marker": {
          "color": "#ab63fa"
         },
         "name": "California Stars",
         "orientation": "h",
         "showlegend": true,
         "type": "funnel",
         "x": [
          1073
         ],
         "xaxis": "x",
         "y": [
          "California Stars"
         ],
         "yaxis": "y"
        },
        {
         "hovertemplate": "track=%{y}<br>count_letter=%{x}<extra></extra>",
         "legendgroup": "Hesitating Beauty",
         "marker": {
          "color": "#FFA15A"
         },
         "name": "Hesitating Beauty",
         "orientation": "h",
         "showlegend": true,
         "type": "funnel",
         "x": [
          1012
         ],
         "xaxis": "x",
         "y": [
          "Hesitating Beauty"
         ],
         "yaxis": "y"
        },
        {
         "hovertemplate": "track=%{y}<br>count_letter=%{x}<extra></extra>",
         "legendgroup": "I Guess I Planted",
         "marker": {
          "color": "#19d3f3"
         },
         "name": "I Guess I Planted",
         "orientation": "h",
         "showlegend": true,
         "type": "funnel",
         "x": [
          938
         ],
         "xaxis": "x",
         "y": [
          "I Guess I Planted"
         ],
         "yaxis": "y"
        },
        {
         "hovertemplate": "track=%{y}<br>count_letter=%{x}<extra></extra>",
         "legendgroup": "Hoodoo Voodoo",
         "marker": {
          "color": "#FF6692"
         },
         "name": "Hoodoo Voodoo",
         "orientation": "h",
         "showlegend": true,
         "type": "funnel",
         "x": [
          909
         ],
         "xaxis": "x",
         "y": [
          "Hoodoo Voodoo"
         ],
         "yaxis": "y"
        },
        {
         "hovertemplate": "track=%{y}<br>count_letter=%{x}<extra></extra>",
         "legendgroup": "Eisler On The Go",
         "marker": {
          "color": "#B6E880"
         },
         "name": "Eisler On The Go",
         "orientation": "h",
         "showlegend": true,
         "type": "funnel",
         "x": [
          874
         ],
         "xaxis": "x",
         "y": [
          "Eisler On The Go"
         ],
         "yaxis": "y"
        },
        {
         "hovertemplate": "track=%{y}<br>count_letter=%{x}<extra></extra>",
         "legendgroup": "She Came Along To Me",
         "marker": {
          "color": "#FF97FF"
         },
         "name": "She Came Along To Me",
         "orientation": "h",
         "showlegend": true,
         "type": "funnel",
         "x": [
          825
         ],
         "xaxis": "x",
         "y": [
          "She Came Along To Me"
         ],
         "yaxis": "y"
        },
        {
         "hovertemplate": "track=%{y}<br>count_letter=%{x}<extra></extra>",
         "legendgroup": "One By One",
         "marker": {
          "color": "#FECB52"
         },
         "name": "One By One",
         "orientation": "h",
         "showlegend": true,
         "type": "funnel",
         "x": [
          711
         ],
         "xaxis": "x",
         "y": [
          "One By One"
         ],
         "yaxis": "y"
        },
        {
         "hovertemplate": "track=%{y}<br>count_letter=%{x}<extra></extra>",
         "legendgroup": "Ingrid Bergman",
         "marker": {
          "color": "#636efa"
         },
         "name": "Ingrid Bergman",
         "orientation": "h",
         "showlegend": true,
         "type": "funnel",
         "x": [
          608
         ],
         "xaxis": "x",
         "y": [
          "Ingrid Bergman"
         ],
         "yaxis": "y"
        },
        {
         "hovertemplate": "track=%{y}<br>count_letter=%{x}<extra></extra>",
         "legendgroup": "Christ For President",
         "marker": {
          "color": "#EF553B"
         },
         "name": "Christ For President",
         "orientation": "h",
         "showlegend": true,
         "type": "funnel",
         "x": [
          497
         ],
         "xaxis": "x",
         "y": [
          "Christ For President"
         ],
         "yaxis": "y"
        },
        {
         "hovertemplate": "track=%{y}<br>count_letter=%{x}<extra></extra>",
         "legendgroup": "At My Window Sad And Lonely",
         "marker": {
          "color": "#00cc96"
         },
         "name": "At My Window Sad And Lonely",
         "orientation": "h",
         "showlegend": true,
         "type": "funnel",
         "x": [
          489
         ],
         "xaxis": "x",
         "y": [
          "At My Window Sad And Lonely"
         ],
         "yaxis": "y"
        },
        {
         "hovertemplate": "track=%{y}<br>count_letter=%{x}<extra></extra>",
         "legendgroup": "Another Man's Done Gone",
         "marker": {
          "color": "#ab63fa"
         },
         "name": "Another Man's Done Gone",
         "orientation": "h",
         "showlegend": true,
         "type": "funnel",
         "x": [
          375
         ],
         "xaxis": "x",
         "y": [
          "Another Man's Done Gone"
         ],
         "yaxis": "y"
        },
        {
         "hovertemplate": "track=%{y}<br>count_letter=%{x}<extra></extra>",
         "legendgroup": "Birds And Ships",
         "marker": {
          "color": "#FFA15A"
         },
         "name": "Birds And Ships",
         "orientation": "h",
         "showlegend": true,
         "type": "funnel",
         "x": [
          340
         ],
         "xaxis": "x",
         "y": [
          "Birds And Ships"
         ],
         "yaxis": "y"
        }
       ],
       "layout": {
        "annotations": [
         {
          "showarrow": false,
          "text": "Album - Mermaid Avenue",
          "x": 0.5,
          "xref": "paper",
          "y": -0.1,
          "yref": "paper"
         }
        ],
        "legend": {
         "title": {
          "text": "track"
         },
         "tracegroupgap": 0
        },
        "margin": {
         "t": 60
        },
        "template": {
         "data": {
          "bar": [
           {
            "error_x": {
             "color": "#2a3f5f"
            },
            "error_y": {
             "color": "#2a3f5f"
            },
            "marker": {
             "line": {
              "color": "#E5ECF6",
              "width": 0.5
             },
             "pattern": {
              "fillmode": "overlay",
              "size": 10,
              "solidity": 0.2
             }
            },
            "type": "bar"
           }
          ],
          "barpolar": [
           {
            "marker": {
             "line": {
              "color": "#E5ECF6",
              "width": 0.5
             },
             "pattern": {
              "fillmode": "overlay",
              "size": 10,
              "solidity": 0.2
             }
            },
            "type": "barpolar"
           }
          ],
          "carpet": [
           {
            "aaxis": {
             "endlinecolor": "#2a3f5f",
             "gridcolor": "white",
             "linecolor": "white",
             "minorgridcolor": "white",
             "startlinecolor": "#2a3f5f"
            },
            "baxis": {
             "endlinecolor": "#2a3f5f",
             "gridcolor": "white",
             "linecolor": "white",
             "minorgridcolor": "white",
             "startlinecolor": "#2a3f5f"
            },
            "type": "carpet"
           }
          ],
          "choropleth": [
           {
            "colorbar": {
             "outlinewidth": 0,
             "ticks": ""
            },
            "type": "choropleth"
           }
          ],
          "contour": [
           {
            "colorbar": {
             "outlinewidth": 0,
             "ticks": ""
            },
            "colorscale": [
             [
              0,
              "#0d0887"
             ],
             [
              0.1111111111111111,
              "#46039f"
             ],
             [
              0.2222222222222222,
              "#7201a8"
             ],
             [
              0.3333333333333333,
              "#9c179e"
             ],
             [
              0.4444444444444444,
              "#bd3786"
             ],
             [
              0.5555555555555556,
              "#d8576b"
             ],
             [
              0.6666666666666666,
              "#ed7953"
             ],
             [
              0.7777777777777778,
              "#fb9f3a"
             ],
             [
              0.8888888888888888,
              "#fdca26"
             ],
             [
              1,
              "#f0f921"
             ]
            ],
            "type": "contour"
           }
          ],
          "contourcarpet": [
           {
            "colorbar": {
             "outlinewidth": 0,
             "ticks": ""
            },
            "type": "contourcarpet"
           }
          ],
          "heatmap": [
           {
            "colorbar": {
             "outlinewidth": 0,
             "ticks": ""
            },
            "colorscale": [
             [
              0,
              "#0d0887"
             ],
             [
              0.1111111111111111,
              "#46039f"
             ],
             [
              0.2222222222222222,
              "#7201a8"
             ],
             [
              0.3333333333333333,
              "#9c179e"
             ],
             [
              0.4444444444444444,
              "#bd3786"
             ],
             [
              0.5555555555555556,
              "#d8576b"
             ],
             [
              0.6666666666666666,
              "#ed7953"
             ],
             [
              0.7777777777777778,
              "#fb9f3a"
             ],
             [
              0.8888888888888888,
              "#fdca26"
             ],
             [
              1,
              "#f0f921"
             ]
            ],
            "type": "heatmap"
           }
          ],
          "heatmapgl": [
           {
            "colorbar": {
             "outlinewidth": 0,
             "ticks": ""
            },
            "colorscale": [
             [
              0,
              "#0d0887"
             ],
             [
              0.1111111111111111,
              "#46039f"
             ],
             [
              0.2222222222222222,
              "#7201a8"
             ],
             [
              0.3333333333333333,
              "#9c179e"
             ],
             [
              0.4444444444444444,
              "#bd3786"
             ],
             [
              0.5555555555555556,
              "#d8576b"
             ],
             [
              0.6666666666666666,
              "#ed7953"
             ],
             [
              0.7777777777777778,
              "#fb9f3a"
             ],
             [
              0.8888888888888888,
              "#fdca26"
             ],
             [
              1,
              "#f0f921"
             ]
            ],
            "type": "heatmapgl"
           }
          ],
          "histogram": [
           {
            "marker": {
             "pattern": {
              "fillmode": "overlay",
              "size": 10,
              "solidity": 0.2
             }
            },
            "type": "histogram"
           }
          ],
          "histogram2d": [
           {
            "colorbar": {
             "outlinewidth": 0,
             "ticks": ""
            },
            "colorscale": [
             [
              0,
              "#0d0887"
             ],
             [
              0.1111111111111111,
              "#46039f"
             ],
             [
              0.2222222222222222,
              "#7201a8"
             ],
             [
              0.3333333333333333,
              "#9c179e"
             ],
             [
              0.4444444444444444,
              "#bd3786"
             ],
             [
              0.5555555555555556,
              "#d8576b"
             ],
             [
              0.6666666666666666,
              "#ed7953"
             ],
             [
              0.7777777777777778,
              "#fb9f3a"
             ],
             [
              0.8888888888888888,
              "#fdca26"
             ],
             [
              1,
              "#f0f921"
             ]
            ],
            "type": "histogram2d"
           }
          ],
          "histogram2dcontour": [
           {
            "colorbar": {
             "outlinewidth": 0,
             "ticks": ""
            },
            "colorscale": [
             [
              0,
              "#0d0887"
             ],
             [
              0.1111111111111111,
              "#46039f"
             ],
             [
              0.2222222222222222,
              "#7201a8"
             ],
             [
              0.3333333333333333,
              "#9c179e"
             ],
             [
              0.4444444444444444,
              "#bd3786"
             ],
             [
              0.5555555555555556,
              "#d8576b"
             ],
             [
              0.6666666666666666,
              "#ed7953"
             ],
             [
              0.7777777777777778,
              "#fb9f3a"
             ],
             [
              0.8888888888888888,
              "#fdca26"
             ],
             [
              1,
              "#f0f921"
             ]
            ],
            "type": "histogram2dcontour"
           }
          ],
          "mesh3d": [
           {
            "colorbar": {
             "outlinewidth": 0,
             "ticks": ""
            },
            "type": "mesh3d"
           }
          ],
          "parcoords": [
           {
            "line": {
             "colorbar": {
              "outlinewidth": 0,
              "ticks": ""
             }
            },
            "type": "parcoords"
           }
          ],
          "pie": [
           {
            "automargin": true,
            "type": "pie"
           }
          ],
          "scatter": [
           {
            "fillpattern": {
             "fillmode": "overlay",
             "size": 10,
             "solidity": 0.2
            },
            "type": "scatter"
           }
          ],
          "scatter3d": [
           {
            "line": {
             "colorbar": {
              "outlinewidth": 0,
              "ticks": ""
             }
            },
            "marker": {
             "colorbar": {
              "outlinewidth": 0,
              "ticks": ""
             }
            },
            "type": "scatter3d"
           }
          ],
          "scattercarpet": [
           {
            "marker": {
             "colorbar": {
              "outlinewidth": 0,
              "ticks": ""
             }
            },
            "type": "scattercarpet"
           }
          ],
          "scattergeo": [
           {
            "marker": {
             "colorbar": {
              "outlinewidth": 0,
              "ticks": ""
             }
            },
            "type": "scattergeo"
           }
          ],
          "scattergl": [
           {
            "marker": {
             "colorbar": {
              "outlinewidth": 0,
              "ticks": ""
             }
            },
            "type": "scattergl"
           }
          ],
          "scattermapbox": [
           {
            "marker": {
             "colorbar": {
              "outlinewidth": 0,
              "ticks": ""
             }
            },
            "type": "scattermapbox"
           }
          ],
          "scatterpolar": [
           {
            "marker": {
             "colorbar": {
              "outlinewidth": 0,
              "ticks": ""
             }
            },
            "type": "scatterpolar"
           }
          ],
          "scatterpolargl": [
           {
            "marker": {
             "colorbar": {
              "outlinewidth": 0,
              "ticks": ""
             }
            },
            "type": "scatterpolargl"
           }
          ],
          "scatterternary": [
           {
            "marker": {
             "colorbar": {
              "outlinewidth": 0,
              "ticks": ""
             }
            },
            "type": "scatterternary"
           }
          ],
          "surface": [
           {
            "colorbar": {
             "outlinewidth": 0,
             "ticks": ""
            },
            "colorscale": [
             [
              0,
              "#0d0887"
             ],
             [
              0.1111111111111111,
              "#46039f"
             ],
             [
              0.2222222222222222,
              "#7201a8"
             ],
             [
              0.3333333333333333,
              "#9c179e"
             ],
             [
              0.4444444444444444,
              "#bd3786"
             ],
             [
              0.5555555555555556,
              "#d8576b"
             ],
             [
              0.6666666666666666,
              "#ed7953"
             ],
             [
              0.7777777777777778,
              "#fb9f3a"
             ],
             [
              0.8888888888888888,
              "#fdca26"
             ],
             [
              1,
              "#f0f921"
             ]
            ],
            "type": "surface"
           }
          ],
          "table": [
           {
            "cells": {
             "fill": {
              "color": "#EBF0F8"
             },
             "line": {
              "color": "white"
             }
            },
            "header": {
             "fill": {
              "color": "#C8D4E3"
             },
             "line": {
              "color": "white"
             }
            },
            "type": "table"
           }
          ]
         },
         "layout": {
          "annotationdefaults": {
           "arrowcolor": "#2a3f5f",
           "arrowhead": 0,
           "arrowwidth": 1
          },
          "autotypenumbers": "strict",
          "coloraxis": {
           "colorbar": {
            "outlinewidth": 0,
            "ticks": ""
           }
          },
          "colorscale": {
           "diverging": [
            [
             0,
             "#8e0152"
            ],
            [
             0.1,
             "#c51b7d"
            ],
            [
             0.2,
             "#de77ae"
            ],
            [
             0.3,
             "#f1b6da"
            ],
            [
             0.4,
             "#fde0ef"
            ],
            [
             0.5,
             "#f7f7f7"
            ],
            [
             0.6,
             "#e6f5d0"
            ],
            [
             0.7,
             "#b8e186"
            ],
            [
             0.8,
             "#7fbc41"
            ],
            [
             0.9,
             "#4d9221"
            ],
            [
             1,
             "#276419"
            ]
           ],
           "sequential": [
            [
             0,
             "#0d0887"
            ],
            [
             0.1111111111111111,
             "#46039f"
            ],
            [
             0.2222222222222222,
             "#7201a8"
            ],
            [
             0.3333333333333333,
             "#9c179e"
            ],
            [
             0.4444444444444444,
             "#bd3786"
            ],
            [
             0.5555555555555556,
             "#d8576b"
            ],
            [
             0.6666666666666666,
             "#ed7953"
            ],
            [
             0.7777777777777778,
             "#fb9f3a"
            ],
            [
             0.8888888888888888,
             "#fdca26"
            ],
            [
             1,
             "#f0f921"
            ]
           ],
           "sequentialminus": [
            [
             0,
             "#0d0887"
            ],
            [
             0.1111111111111111,
             "#46039f"
            ],
            [
             0.2222222222222222,
             "#7201a8"
            ],
            [
             0.3333333333333333,
             "#9c179e"
            ],
            [
             0.4444444444444444,
             "#bd3786"
            ],
            [
             0.5555555555555556,
             "#d8576b"
            ],
            [
             0.6666666666666666,
             "#ed7953"
            ],
            [
             0.7777777777777778,
             "#fb9f3a"
            ],
            [
             0.8888888888888888,
             "#fdca26"
            ],
            [
             1,
             "#f0f921"
            ]
           ]
          },
          "colorway": [
           "#636efa",
           "#EF553B",
           "#00cc96",
           "#ab63fa",
           "#FFA15A",
           "#19d3f3",
           "#FF6692",
           "#B6E880",
           "#FF97FF",
           "#FECB52"
          ],
          "font": {
           "color": "#2a3f5f"
          },
          "geo": {
           "bgcolor": "white",
           "lakecolor": "white",
           "landcolor": "#E5ECF6",
           "showlakes": true,
           "showland": true,
           "subunitcolor": "white"
          },
          "hoverlabel": {
           "align": "left"
          },
          "hovermode": "closest",
          "mapbox": {
           "style": "light"
          },
          "paper_bgcolor": "white",
          "plot_bgcolor": "#E5ECF6",
          "polar": {
           "angularaxis": {
            "gridcolor": "white",
            "linecolor": "white",
            "ticks": ""
           },
           "bgcolor": "#E5ECF6",
           "radialaxis": {
            "gridcolor": "white",
            "linecolor": "white",
            "ticks": ""
           }
          },
          "scene": {
           "xaxis": {
            "backgroundcolor": "#E5ECF6",
            "gridcolor": "white",
            "gridwidth": 2,
            "linecolor": "white",
            "showbackground": true,
            "ticks": "",
            "zerolinecolor": "white"
           },
           "yaxis": {
            "backgroundcolor": "#E5ECF6",
            "gridcolor": "white",
            "gridwidth": 2,
            "linecolor": "white",
            "showbackground": true,
            "ticks": "",
            "zerolinecolor": "white"
           },
           "zaxis": {
            "backgroundcolor": "#E5ECF6",
            "gridcolor": "white",
            "gridwidth": 2,
            "linecolor": "white",
            "showbackground": true,
            "ticks": "",
            "zerolinecolor": "white"
           }
          },
          "shapedefaults": {
           "line": {
            "color": "#2a3f5f"
           }
          },
          "ternary": {
           "aaxis": {
            "gridcolor": "white",
            "linecolor": "white",
            "ticks": ""
           },
           "baxis": {
            "gridcolor": "white",
            "linecolor": "white",
            "ticks": ""
           },
           "bgcolor": "#E5ECF6",
           "caxis": {
            "gridcolor": "white",
            "linecolor": "white",
            "ticks": ""
           }
          },
          "title": {
           "x": 0.05
          },
          "xaxis": {
           "automargin": true,
           "gridcolor": "white",
           "linecolor": "white",
           "ticks": "",
           "title": {
            "standoff": 15
           },
           "zerolinecolor": "white",
           "zerolinewidth": 2
          },
          "yaxis": {
           "automargin": true,
           "gridcolor": "white",
           "linecolor": "white",
           "ticks": "",
           "title": {
            "standoff": 15
           },
           "zerolinecolor": "white",
           "zerolinewidth": 2
          }
         }
        },
        "xaxis": {
         "anchor": "y",
         "domain": [
          0,
          1
         ],
         "showticklabels": false,
         "tickangle": 45,
         "title": {
          "text": " "
         }
        },
        "yaxis": {
         "anchor": "x",
         "categoryarray": [
          "Birds And Ships",
          "Another Man's Done Gone",
          "At My Window Sad And Lonely",
          "Christ For President",
          "Ingrid Bergman",
          "One By One",
          "She Came Along To Me",
          "Eisler On The Go",
          "Hoodoo Voodoo",
          "I Guess I Planted",
          "Hesitating Beauty",
          "California Stars",
          "Walt Whitman's Niece",
          "The Unwelcome Guest",
          "Way Over Yonder In The Minor Key"
         ],
         "categoryorder": "array",
         "domain": [
          0,
          1
         ],
         "showticklabels": false,
         "tickangle": 45,
         "title": {
          "text": " "
         }
        }
       }
      }
     },
     "metadata": {},
     "output_type": "display_data"
    },
    {
     "data": {
      "application/vnd.plotly.v1+json": {
       "config": {
        "plotlyServerURL": "https://plot.ly"
       },
       "data": [
        {
         "hovertemplate": "track=%{y}<br>count_letter=%{x}<extra></extra>",
         "legendgroup": "She's a Jar",
         "marker": {
          "color": "#636efa"
         },
         "name": "She's a Jar",
         "orientation": "h",
         "showlegend": true,
         "type": "funnel",
         "x": [
          992
         ],
         "xaxis": "x",
         "y": [
          "She's a Jar"
         ],
         "yaxis": "y"
        },
        {
         "hovertemplate": "track=%{y}<br>count_letter=%{x}<extra></extra>",
         "legendgroup": "A Shot in the Arm",
         "marker": {
          "color": "#EF553B"
         },
         "name": "A Shot in the Arm",
         "orientation": "h",
         "showlegend": true,
         "type": "funnel",
         "x": [
          939
         ],
         "xaxis": "x",
         "y": [
          "A Shot in the Arm"
         ],
         "yaxis": "y"
        },
        {
         "hovertemplate": "track=%{y}<br>count_letter=%{x}<extra></extra>",
         "legendgroup": "Via Chicago",
         "marker": {
          "color": "#00cc96"
         },
         "name": "Via Chicago",
         "orientation": "h",
         "showlegend": true,
         "type": "funnel",
         "x": [
          934
         ],
         "xaxis": "x",
         "y": [
          "Via Chicago"
         ],
         "yaxis": "y"
        },
        {
         "hovertemplate": "track=%{y}<br>count_letter=%{x}<extra></extra>",
         "legendgroup": "Candyfloss",
         "marker": {
          "color": "#ab63fa"
         },
         "name": "Candyfloss",
         "orientation": "h",
         "showlegend": true,
         "type": "funnel",
         "x": [
          871
         ],
         "xaxis": "x",
         "y": [
          "Candyfloss"
         ],
         "yaxis": "y"
        },
        {
         "hovertemplate": "track=%{y}<br>count_letter=%{x}<extra></extra>",
         "legendgroup": "Can't Stand It",
         "marker": {
          "color": "#FFA15A"
         },
         "name": "Can't Stand It",
         "orientation": "h",
         "showlegend": true,
         "type": "funnel",
         "x": [
          796
         ],
         "xaxis": "x",
         "y": [
          "Can't Stand It"
         ],
         "yaxis": "y"
        },
        {
         "hovertemplate": "track=%{y}<br>count_letter=%{x}<extra></extra>",
         "legendgroup": "A Shot in the Arm - Remix",
         "marker": {
          "color": "#19d3f3"
         },
         "name": "A Shot in the Arm - Remix",
         "orientation": "h",
         "showlegend": true,
         "type": "funnel",
         "x": [
          736
         ],
         "xaxis": "x",
         "y": [
          "A Shot in the Arm - Remix"
         ],
         "yaxis": "y"
        },
        {
         "hovertemplate": "track=%{y}<br>count_letter=%{x}<extra></extra>",
         "legendgroup": "Nothing'severgonnastandinmyway (Again)",
         "marker": {
          "color": "#FF6692"
         },
         "name": "Nothing'severgonnastandinmyway (Again)",
         "orientation": "h",
         "showlegend": true,
         "type": "funnel",
         "x": [
          732
         ],
         "xaxis": "x",
         "y": [
          "Nothing'severgonnastandinmyway (Again)"
         ],
         "yaxis": "y"
        },
        {
         "hovertemplate": "track=%{y}<br>count_letter=%{x}<extra></extra>",
         "legendgroup": "I'm Always in Love",
         "marker": {
          "color": "#B6E880"
         },
         "name": "I'm Always in Love",
         "orientation": "h",
         "showlegend": true,
         "type": "funnel",
         "x": [
          580
         ],
         "xaxis": "x",
         "y": [
          "I'm Always in Love"
         ],
         "yaxis": "y"
        },
        {
         "hovertemplate": "track=%{y}<br>count_letter=%{x}<extra></extra>",
         "legendgroup": "Summer Teeth",
         "marker": {
          "color": "#FF97FF"
         },
         "name": "Summer Teeth",
         "orientation": "h",
         "showlegend": true,
         "type": "funnel",
         "x": [
          554
         ],
         "xaxis": "x",
         "y": [
          "Summer Teeth"
         ],
         "yaxis": "y"
        },
        {
         "hovertemplate": "track=%{y}<br>count_letter=%{x}<extra></extra>",
         "legendgroup": "When You Wake up Feeling Old",
         "marker": {
          "color": "#FECB52"
         },
         "name": "When You Wake up Feeling Old",
         "orientation": "h",
         "showlegend": true,
         "type": "funnel",
         "x": [
          539
         ],
         "xaxis": "x",
         "y": [
          "When You Wake up Feeling Old"
         ],
         "yaxis": "y"
        },
        {
         "hovertemplate": "track=%{y}<br>count_letter=%{x}<extra></extra>",
         "legendgroup": "How to Fight Loneliness",
         "marker": {
          "color": "#636efa"
         },
         "name": "How to Fight Loneliness",
         "orientation": "h",
         "showlegend": true,
         "type": "funnel",
         "x": [
          523
         ],
         "xaxis": "x",
         "y": [
          "How to Fight Loneliness"
         ],
         "yaxis": "y"
        },
        {
         "hovertemplate": "track=%{y}<br>count_letter=%{x}<extra></extra>",
         "legendgroup": "ELT",
         "marker": {
          "color": "#EF553B"
         },
         "name": "ELT",
         "orientation": "h",
         "showlegend": true,
         "type": "funnel",
         "x": [
          455
         ],
         "xaxis": "x",
         "y": [
          "ELT"
         ],
         "yaxis": "y"
        },
        {
         "hovertemplate": "track=%{y}<br>count_letter=%{x}<extra></extra>",
         "legendgroup": "We're Just Friends",
         "marker": {
          "color": "#00cc96"
         },
         "name": "We're Just Friends",
         "orientation": "h",
         "showlegend": true,
         "type": "funnel",
         "x": [
          414
         ],
         "xaxis": "x",
         "y": [
          "We're Just Friends"
         ],
         "yaxis": "y"
        },
        {
         "hovertemplate": "track=%{y}<br>count_letter=%{x}<extra></extra>",
         "legendgroup": "My Darling",
         "marker": {
          "color": "#ab63fa"
         },
         "name": "My Darling",
         "orientation": "h",
         "showlegend": true,
         "type": "funnel",
         "x": [
          321
         ],
         "xaxis": "x",
         "y": [
          "My Darling"
         ],
         "yaxis": "y"
        },
        {
         "hovertemplate": "track=%{y}<br>count_letter=%{x}<extra></extra>",
         "legendgroup": "In a Future Age",
         "marker": {
          "color": "#FFA15A"
         },
         "name": "In a Future Age",
         "orientation": "h",
         "showlegend": true,
         "type": "funnel",
         "x": [
          292
         ],
         "xaxis": "x",
         "y": [
          "In a Future Age"
         ],
         "yaxis": "y"
        },
        {
         "hovertemplate": "track=%{y}<br>count_letter=%{x}<extra></extra>",
         "legendgroup": "Pieholden Suite",
         "marker": {
          "color": "#19d3f3"
         },
         "name": "Pieholden Suite",
         "orientation": "h",
         "showlegend": true,
         "type": "funnel",
         "x": [
          274
         ],
         "xaxis": "x",
         "y": [
          "Pieholden Suite"
         ],
         "yaxis": "y"
        },
        {
         "hovertemplate": "track=%{y}<br>count_letter=%{x}<extra></extra>",
         "legendgroup": "23 Seconds of Silence",
         "marker": {
          "color": "#FF6692"
         },
         "name": "23 Seconds of Silence",
         "orientation": "h",
         "showlegend": true,
         "type": "funnel",
         "x": [
          21
         ],
         "xaxis": "x",
         "y": [
          "23 Seconds of Silence"
         ],
         "yaxis": "y"
        }
       ],
       "layout": {
        "annotations": [
         {
          "showarrow": false,
          "text": "Album - Summerteeth",
          "x": 0.5,
          "xref": "paper",
          "y": -0.1,
          "yref": "paper"
         }
        ],
        "legend": {
         "title": {
          "text": "track"
         },
         "tracegroupgap": 0
        },
        "margin": {
         "t": 60
        },
        "template": {
         "data": {
          "bar": [
           {
            "error_x": {
             "color": "#2a3f5f"
            },
            "error_y": {
             "color": "#2a3f5f"
            },
            "marker": {
             "line": {
              "color": "#E5ECF6",
              "width": 0.5
             },
             "pattern": {
              "fillmode": "overlay",
              "size": 10,
              "solidity": 0.2
             }
            },
            "type": "bar"
           }
          ],
          "barpolar": [
           {
            "marker": {
             "line": {
              "color": "#E5ECF6",
              "width": 0.5
             },
             "pattern": {
              "fillmode": "overlay",
              "size": 10,
              "solidity": 0.2
             }
            },
            "type": "barpolar"
           }
          ],
          "carpet": [
           {
            "aaxis": {
             "endlinecolor": "#2a3f5f",
             "gridcolor": "white",
             "linecolor": "white",
             "minorgridcolor": "white",
             "startlinecolor": "#2a3f5f"
            },
            "baxis": {
             "endlinecolor": "#2a3f5f",
             "gridcolor": "white",
             "linecolor": "white",
             "minorgridcolor": "white",
             "startlinecolor": "#2a3f5f"
            },
            "type": "carpet"
           }
          ],
          "choropleth": [
           {
            "colorbar": {
             "outlinewidth": 0,
             "ticks": ""
            },
            "type": "choropleth"
           }
          ],
          "contour": [
           {
            "colorbar": {
             "outlinewidth": 0,
             "ticks": ""
            },
            "colorscale": [
             [
              0,
              "#0d0887"
             ],
             [
              0.1111111111111111,
              "#46039f"
             ],
             [
              0.2222222222222222,
              "#7201a8"
             ],
             [
              0.3333333333333333,
              "#9c179e"
             ],
             [
              0.4444444444444444,
              "#bd3786"
             ],
             [
              0.5555555555555556,
              "#d8576b"
             ],
             [
              0.6666666666666666,
              "#ed7953"
             ],
             [
              0.7777777777777778,
              "#fb9f3a"
             ],
             [
              0.8888888888888888,
              "#fdca26"
             ],
             [
              1,
              "#f0f921"
             ]
            ],
            "type": "contour"
           }
          ],
          "contourcarpet": [
           {
            "colorbar": {
             "outlinewidth": 0,
             "ticks": ""
            },
            "type": "contourcarpet"
           }
          ],
          "heatmap": [
           {
            "colorbar": {
             "outlinewidth": 0,
             "ticks": ""
            },
            "colorscale": [
             [
              0,
              "#0d0887"
             ],
             [
              0.1111111111111111,
              "#46039f"
             ],
             [
              0.2222222222222222,
              "#7201a8"
             ],
             [
              0.3333333333333333,
              "#9c179e"
             ],
             [
              0.4444444444444444,
              "#bd3786"
             ],
             [
              0.5555555555555556,
              "#d8576b"
             ],
             [
              0.6666666666666666,
              "#ed7953"
             ],
             [
              0.7777777777777778,
              "#fb9f3a"
             ],
             [
              0.8888888888888888,
              "#fdca26"
             ],
             [
              1,
              "#f0f921"
             ]
            ],
            "type": "heatmap"
           }
          ],
          "heatmapgl": [
           {
            "colorbar": {
             "outlinewidth": 0,
             "ticks": ""
            },
            "colorscale": [
             [
              0,
              "#0d0887"
             ],
             [
              0.1111111111111111,
              "#46039f"
             ],
             [
              0.2222222222222222,
              "#7201a8"
             ],
             [
              0.3333333333333333,
              "#9c179e"
             ],
             [
              0.4444444444444444,
              "#bd3786"
             ],
             [
              0.5555555555555556,
              "#d8576b"
             ],
             [
              0.6666666666666666,
              "#ed7953"
             ],
             [
              0.7777777777777778,
              "#fb9f3a"
             ],
             [
              0.8888888888888888,
              "#fdca26"
             ],
             [
              1,
              "#f0f921"
             ]
            ],
            "type": "heatmapgl"
           }
          ],
          "histogram": [
           {
            "marker": {
             "pattern": {
              "fillmode": "overlay",
              "size": 10,
              "solidity": 0.2
             }
            },
            "type": "histogram"
           }
          ],
          "histogram2d": [
           {
            "colorbar": {
             "outlinewidth": 0,
             "ticks": ""
            },
            "colorscale": [
             [
              0,
              "#0d0887"
             ],
             [
              0.1111111111111111,
              "#46039f"
             ],
             [
              0.2222222222222222,
              "#7201a8"
             ],
             [
              0.3333333333333333,
              "#9c179e"
             ],
             [
              0.4444444444444444,
              "#bd3786"
             ],
             [
              0.5555555555555556,
              "#d8576b"
             ],
             [
              0.6666666666666666,
              "#ed7953"
             ],
             [
              0.7777777777777778,
              "#fb9f3a"
             ],
             [
              0.8888888888888888,
              "#fdca26"
             ],
             [
              1,
              "#f0f921"
             ]
            ],
            "type": "histogram2d"
           }
          ],
          "histogram2dcontour": [
           {
            "colorbar": {
             "outlinewidth": 0,
             "ticks": ""
            },
            "colorscale": [
             [
              0,
              "#0d0887"
             ],
             [
              0.1111111111111111,
              "#46039f"
             ],
             [
              0.2222222222222222,
              "#7201a8"
             ],
             [
              0.3333333333333333,
              "#9c179e"
             ],
             [
              0.4444444444444444,
              "#bd3786"
             ],
             [
              0.5555555555555556,
              "#d8576b"
             ],
             [
              0.6666666666666666,
              "#ed7953"
             ],
             [
              0.7777777777777778,
              "#fb9f3a"
             ],
             [
              0.8888888888888888,
              "#fdca26"
             ],
             [
              1,
              "#f0f921"
             ]
            ],
            "type": "histogram2dcontour"
           }
          ],
          "mesh3d": [
           {
            "colorbar": {
             "outlinewidth": 0,
             "ticks": ""
            },
            "type": "mesh3d"
           }
          ],
          "parcoords": [
           {
            "line": {
             "colorbar": {
              "outlinewidth": 0,
              "ticks": ""
             }
            },
            "type": "parcoords"
           }
          ],
          "pie": [
           {
            "automargin": true,
            "type": "pie"
           }
          ],
          "scatter": [
           {
            "fillpattern": {
             "fillmode": "overlay",
             "size": 10,
             "solidity": 0.2
            },
            "type": "scatter"
           }
          ],
          "scatter3d": [
           {
            "line": {
             "colorbar": {
              "outlinewidth": 0,
              "ticks": ""
             }
            },
            "marker": {
             "colorbar": {
              "outlinewidth": 0,
              "ticks": ""
             }
            },
            "type": "scatter3d"
           }
          ],
          "scattercarpet": [
           {
            "marker": {
             "colorbar": {
              "outlinewidth": 0,
              "ticks": ""
             }
            },
            "type": "scattercarpet"
           }
          ],
          "scattergeo": [
           {
            "marker": {
             "colorbar": {
              "outlinewidth": 0,
              "ticks": ""
             }
            },
            "type": "scattergeo"
           }
          ],
          "scattergl": [
           {
            "marker": {
             "colorbar": {
              "outlinewidth": 0,
              "ticks": ""
             }
            },
            "type": "scattergl"
           }
          ],
          "scattermapbox": [
           {
            "marker": {
             "colorbar": {
              "outlinewidth": 0,
              "ticks": ""
             }
            },
            "type": "scattermapbox"
           }
          ],
          "scatterpolar": [
           {
            "marker": {
             "colorbar": {
              "outlinewidth": 0,
              "ticks": ""
             }
            },
            "type": "scatterpolar"
           }
          ],
          "scatterpolargl": [
           {
            "marker": {
             "colorbar": {
              "outlinewidth": 0,
              "ticks": ""
             }
            },
            "type": "scatterpolargl"
           }
          ],
          "scatterternary": [
           {
            "marker": {
             "colorbar": {
              "outlinewidth": 0,
              "ticks": ""
             }
            },
            "type": "scatterternary"
           }
          ],
          "surface": [
           {
            "colorbar": {
             "outlinewidth": 0,
             "ticks": ""
            },
            "colorscale": [
             [
              0,
              "#0d0887"
             ],
             [
              0.1111111111111111,
              "#46039f"
             ],
             [
              0.2222222222222222,
              "#7201a8"
             ],
             [
              0.3333333333333333,
              "#9c179e"
             ],
             [
              0.4444444444444444,
              "#bd3786"
             ],
             [
              0.5555555555555556,
              "#d8576b"
             ],
             [
              0.6666666666666666,
              "#ed7953"
             ],
             [
              0.7777777777777778,
              "#fb9f3a"
             ],
             [
              0.8888888888888888,
              "#fdca26"
             ],
             [
              1,
              "#f0f921"
             ]
            ],
            "type": "surface"
           }
          ],
          "table": [
           {
            "cells": {
             "fill": {
              "color": "#EBF0F8"
             },
             "line": {
              "color": "white"
             }
            },
            "header": {
             "fill": {
              "color": "#C8D4E3"
             },
             "line": {
              "color": "white"
             }
            },
            "type": "table"
           }
          ]
         },
         "layout": {
          "annotationdefaults": {
           "arrowcolor": "#2a3f5f",
           "arrowhead": 0,
           "arrowwidth": 1
          },
          "autotypenumbers": "strict",
          "coloraxis": {
           "colorbar": {
            "outlinewidth": 0,
            "ticks": ""
           }
          },
          "colorscale": {
           "diverging": [
            [
             0,
             "#8e0152"
            ],
            [
             0.1,
             "#c51b7d"
            ],
            [
             0.2,
             "#de77ae"
            ],
            [
             0.3,
             "#f1b6da"
            ],
            [
             0.4,
             "#fde0ef"
            ],
            [
             0.5,
             "#f7f7f7"
            ],
            [
             0.6,
             "#e6f5d0"
            ],
            [
             0.7,
             "#b8e186"
            ],
            [
             0.8,
             "#7fbc41"
            ],
            [
             0.9,
             "#4d9221"
            ],
            [
             1,
             "#276419"
            ]
           ],
           "sequential": [
            [
             0,
             "#0d0887"
            ],
            [
             0.1111111111111111,
             "#46039f"
            ],
            [
             0.2222222222222222,
             "#7201a8"
            ],
            [
             0.3333333333333333,
             "#9c179e"
            ],
            [
             0.4444444444444444,
             "#bd3786"
            ],
            [
             0.5555555555555556,
             "#d8576b"
            ],
            [
             0.6666666666666666,
             "#ed7953"
            ],
            [
             0.7777777777777778,
             "#fb9f3a"
            ],
            [
             0.8888888888888888,
             "#fdca26"
            ],
            [
             1,
             "#f0f921"
            ]
           ],
           "sequentialminus": [
            [
             0,
             "#0d0887"
            ],
            [
             0.1111111111111111,
             "#46039f"
            ],
            [
             0.2222222222222222,
             "#7201a8"
            ],
            [
             0.3333333333333333,
             "#9c179e"
            ],
            [
             0.4444444444444444,
             "#bd3786"
            ],
            [
             0.5555555555555556,
             "#d8576b"
            ],
            [
             0.6666666666666666,
             "#ed7953"
            ],
            [
             0.7777777777777778,
             "#fb9f3a"
            ],
            [
             0.8888888888888888,
             "#fdca26"
            ],
            [
             1,
             "#f0f921"
            ]
           ]
          },
          "colorway": [
           "#636efa",
           "#EF553B",
           "#00cc96",
           "#ab63fa",
           "#FFA15A",
           "#19d3f3",
           "#FF6692",
           "#B6E880",
           "#FF97FF",
           "#FECB52"
          ],
          "font": {
           "color": "#2a3f5f"
          },
          "geo": {
           "bgcolor": "white",
           "lakecolor": "white",
           "landcolor": "#E5ECF6",
           "showlakes": true,
           "showland": true,
           "subunitcolor": "white"
          },
          "hoverlabel": {
           "align": "left"
          },
          "hovermode": "closest",
          "mapbox": {
           "style": "light"
          },
          "paper_bgcolor": "white",
          "plot_bgcolor": "#E5ECF6",
          "polar": {
           "angularaxis": {
            "gridcolor": "white",
            "linecolor": "white",
            "ticks": ""
           },
           "bgcolor": "#E5ECF6",
           "radialaxis": {
            "gridcolor": "white",
            "linecolor": "white",
            "ticks": ""
           }
          },
          "scene": {
           "xaxis": {
            "backgroundcolor": "#E5ECF6",
            "gridcolor": "white",
            "gridwidth": 2,
            "linecolor": "white",
            "showbackground": true,
            "ticks": "",
            "zerolinecolor": "white"
           },
           "yaxis": {
            "backgroundcolor": "#E5ECF6",
            "gridcolor": "white",
            "gridwidth": 2,
            "linecolor": "white",
            "showbackground": true,
            "ticks": "",
            "zerolinecolor": "white"
           },
           "zaxis": {
            "backgroundcolor": "#E5ECF6",
            "gridcolor": "white",
            "gridwidth": 2,
            "linecolor": "white",
            "showbackground": true,
            "ticks": "",
            "zerolinecolor": "white"
           }
          },
          "shapedefaults": {
           "line": {
            "color": "#2a3f5f"
           }
          },
          "ternary": {
           "aaxis": {
            "gridcolor": "white",
            "linecolor": "white",
            "ticks": ""
           },
           "baxis": {
            "gridcolor": "white",
            "linecolor": "white",
            "ticks": ""
           },
           "bgcolor": "#E5ECF6",
           "caxis": {
            "gridcolor": "white",
            "linecolor": "white",
            "ticks": ""
           }
          },
          "title": {
           "x": 0.05
          },
          "xaxis": {
           "automargin": true,
           "gridcolor": "white",
           "linecolor": "white",
           "ticks": "",
           "title": {
            "standoff": 15
           },
           "zerolinecolor": "white",
           "zerolinewidth": 2
          },
          "yaxis": {
           "automargin": true,
           "gridcolor": "white",
           "linecolor": "white",
           "ticks": "",
           "title": {
            "standoff": 15
           },
           "zerolinecolor": "white",
           "zerolinewidth": 2
          }
         }
        },
        "xaxis": {
         "anchor": "y",
         "domain": [
          0,
          1
         ],
         "showticklabels": false,
         "tickangle": 45,
         "title": {
          "text": " "
         }
        },
        "yaxis": {
         "anchor": "x",
         "categoryarray": [
          "23 Seconds of Silence",
          "Pieholden Suite",
          "In a Future Age",
          "My Darling",
          "We're Just Friends",
          "ELT",
          "How to Fight Loneliness",
          "When You Wake up Feeling Old",
          "Summer Teeth",
          "I'm Always in Love",
          "Nothing'severgonnastandinmyway (Again)",
          "A Shot in the Arm - Remix",
          "Can't Stand It",
          "Candyfloss",
          "Via Chicago",
          "A Shot in the Arm",
          "She's a Jar"
         ],
         "categoryorder": "array",
         "domain": [
          0,
          1
         ],
         "showticklabels": false,
         "tickangle": 45,
         "title": {
          "text": " "
         }
        }
       }
      }
     },
     "metadata": {},
     "output_type": "display_data"
    },
    {
     "data": {
      "application/vnd.plotly.v1+json": {
       "config": {
        "plotlyServerURL": "https://plot.ly"
       },
       "data": [
        {
         "hovertemplate": "track=%{y}<br>count_letter=%{x}<extra></extra>",
         "legendgroup": "Remember The Mountain Bed",
         "marker": {
          "color": "#636efa"
         },
         "name": "Remember The Mountain Bed",
         "orientation": "h",
         "showlegend": true,
         "type": "funnel",
         "x": [
          1959
         ],
         "xaxis": "x",
         "y": [
          "Remember The Mountain Bed"
         ],
         "yaxis": "y"
        },
        {
         "hovertemplate": "track=%{y}<br>count_letter=%{x}<extra></extra>",
         "legendgroup": "Meanest Man",
         "marker": {
          "color": "#EF553B"
         },
         "name": "Meanest Man",
         "orientation": "h",
         "showlegend": true,
         "type": "funnel",
         "x": [
          1237
         ],
         "xaxis": "x",
         "y": [
          "Meanest Man"
         ],
         "yaxis": "y"
        },
        {
         "hovertemplate": "track=%{y}<br>count_letter=%{x}<extra></extra>",
         "legendgroup": "Airline To Heaven",
         "marker": {
          "color": "#00cc96"
         },
         "name": "Airline To Heaven",
         "orientation": "h",
         "showlegend": true,
         "type": "funnel",
         "x": [
          1146
         ],
         "xaxis": "x",
         "y": [
          "Airline To Heaven"
         ],
         "yaxis": "y"
        },
        {
         "hovertemplate": "track=%{y}<br>count_letter=%{x}<extra></extra>",
         "legendgroup": "Aginst Th' Law",
         "marker": {
          "color": "#ab63fa"
         },
         "name": "Aginst Th' Law",
         "orientation": "h",
         "showlegend": true,
         "type": "funnel",
         "x": [
          938
         ],
         "xaxis": "x",
         "y": [
          "Aginst Th' Law"
         ],
         "yaxis": "y"
        },
        {
         "hovertemplate": "track=%{y}<br>count_letter=%{x}<extra></extra>",
         "legendgroup": "Feed Of Man",
         "marker": {
          "color": "#FFA15A"
         },
         "name": "Feed Of Man",
         "orientation": "h",
         "showlegend": true,
         "type": "funnel",
         "x": [
          911
         ],
         "xaxis": "x",
         "y": [
          "Feed Of Man"
         ],
         "yaxis": "y"
        },
        {
         "hovertemplate": "track=%{y}<br>count_letter=%{x}<extra></extra>",
         "legendgroup": "All You Fascists",
         "marker": {
          "color": "#19d3f3"
         },
         "name": "All You Fascists",
         "orientation": "h",
         "showlegend": true,
         "type": "funnel",
         "x": [
          881
         ],
         "xaxis": "x",
         "y": [
          "All You Fascists"
         ],
         "yaxis": "y"
        },
        {
         "hovertemplate": "track=%{y}<br>count_letter=%{x}<extra></extra>",
         "legendgroup": "Black Wind Blowing",
         "marker": {
          "color": "#FF6692"
         },
         "name": "Black Wind Blowing",
         "orientation": "h",
         "showlegend": true,
         "type": "funnel",
         "x": [
          873
         ],
         "xaxis": "x",
         "y": [
          "Black Wind Blowing"
         ],
         "yaxis": "y"
        },
        {
         "hovertemplate": "track=%{y}<br>count_letter=%{x}<extra></extra>",
         "legendgroup": "Blood Of The Lamb",
         "marker": {
          "color": "#B6E880"
         },
         "name": "Blood Of The Lamb",
         "orientation": "h",
         "showlegend": true,
         "type": "funnel",
         "x": [
          811
         ],
         "xaxis": "x",
         "y": [
          "Blood Of The Lamb"
         ],
         "yaxis": "y"
        },
        {
         "hovertemplate": "track=%{y}<br>count_letter=%{x}<extra></extra>",
         "legendgroup": "Hot Rod Hotel",
         "marker": {
          "color": "#FF97FF"
         },
         "name": "Hot Rod Hotel",
         "orientation": "h",
         "showlegend": true,
         "type": "funnel",
         "x": [
          804
         ],
         "xaxis": "x",
         "y": [
          "Hot Rod Hotel"
         ],
         "yaxis": "y"
        },
        {
         "hovertemplate": "track=%{y}<br>count_letter=%{x}<extra></extra>",
         "legendgroup": "Joe DiMaggio Done It Again",
         "marker": {
          "color": "#FECB52"
         },
         "name": "Joe DiMaggio Done It Again",
         "orientation": "h",
         "showlegend": true,
         "type": "funnel",
         "x": [
          802
         ],
         "xaxis": "x",
         "y": [
          "Joe DiMaggio Done It Again"
         ],
         "yaxis": "y"
        },
        {
         "hovertemplate": "track=%{y}<br>count_letter=%{x}<extra></extra>",
         "legendgroup": "Secret Of The Sea",
         "marker": {
          "color": "#636efa"
         },
         "name": "Secret Of The Sea",
         "orientation": "h",
         "showlegend": true,
         "type": "funnel",
         "x": [
          735
         ],
         "xaxis": "x",
         "y": [
          "Secret Of The Sea"
         ],
         "yaxis": "y"
        },
        {
         "hovertemplate": "track=%{y}<br>count_letter=%{x}<extra></extra>",
         "legendgroup": "Stetson Kennedy",
         "marker": {
          "color": "#EF553B"
         },
         "name": "Stetson Kennedy",
         "orientation": "h",
         "showlegend": true,
         "type": "funnel",
         "x": [
          713
         ],
         "xaxis": "x",
         "y": [
          "Stetson Kennedy"
         ],
         "yaxis": "y"
        },
        {
         "hovertemplate": "track=%{y}<br>count_letter=%{x}<extra></extra>",
         "legendgroup": "I Was Born",
         "marker": {
          "color": "#00cc96"
         },
         "name": "I Was Born",
         "orientation": "h",
         "showlegend": true,
         "type": "funnel",
         "x": [
          575
         ],
         "xaxis": "x",
         "y": [
          "I Was Born"
         ],
         "yaxis": "y"
        },
        {
         "hovertemplate": "track=%{y}<br>count_letter=%{x}<extra></extra>",
         "legendgroup": "Someday Some Morning Sometime",
         "marker": {
          "color": "#ab63fa"
         },
         "name": "Someday Some Morning Sometime",
         "orientation": "h",
         "showlegend": true,
         "type": "funnel",
         "x": [
          390
         ],
         "xaxis": "x",
         "y": [
          "Someday Some Morning Sometime"
         ],
         "yaxis": "y"
        },
        {
         "hovertemplate": "track=%{y}<br>count_letter=%{x}<extra></extra>",
         "legendgroup": "My Flying Saucer",
         "marker": {
          "color": "#FFA15A"
         },
         "name": "My Flying Saucer",
         "orientation": "h",
         "showlegend": true,
         "type": "funnel",
         "x": [
          385
         ],
         "xaxis": "x",
         "y": [
          "My Flying Saucer"
         ],
         "yaxis": "y"
        }
       ],
       "layout": {
        "annotations": [
         {
          "showarrow": false,
          "text": "Album - Mermaid Avenue Vol. II",
          "x": 0.5,
          "xref": "paper",
          "y": -0.1,
          "yref": "paper"
         }
        ],
        "legend": {
         "title": {
          "text": "track"
         },
         "tracegroupgap": 0
        },
        "margin": {
         "t": 60
        },
        "template": {
         "data": {
          "bar": [
           {
            "error_x": {
             "color": "#2a3f5f"
            },
            "error_y": {
             "color": "#2a3f5f"
            },
            "marker": {
             "line": {
              "color": "#E5ECF6",
              "width": 0.5
             },
             "pattern": {
              "fillmode": "overlay",
              "size": 10,
              "solidity": 0.2
             }
            },
            "type": "bar"
           }
          ],
          "barpolar": [
           {
            "marker": {
             "line": {
              "color": "#E5ECF6",
              "width": 0.5
             },
             "pattern": {
              "fillmode": "overlay",
              "size": 10,
              "solidity": 0.2
             }
            },
            "type": "barpolar"
           }
          ],
          "carpet": [
           {
            "aaxis": {
             "endlinecolor": "#2a3f5f",
             "gridcolor": "white",
             "linecolor": "white",
             "minorgridcolor": "white",
             "startlinecolor": "#2a3f5f"
            },
            "baxis": {
             "endlinecolor": "#2a3f5f",
             "gridcolor": "white",
             "linecolor": "white",
             "minorgridcolor": "white",
             "startlinecolor": "#2a3f5f"
            },
            "type": "carpet"
           }
          ],
          "choropleth": [
           {
            "colorbar": {
             "outlinewidth": 0,
             "ticks": ""
            },
            "type": "choropleth"
           }
          ],
          "contour": [
           {
            "colorbar": {
             "outlinewidth": 0,
             "ticks": ""
            },
            "colorscale": [
             [
              0,
              "#0d0887"
             ],
             [
              0.1111111111111111,
              "#46039f"
             ],
             [
              0.2222222222222222,
              "#7201a8"
             ],
             [
              0.3333333333333333,
              "#9c179e"
             ],
             [
              0.4444444444444444,
              "#bd3786"
             ],
             [
              0.5555555555555556,
              "#d8576b"
             ],
             [
              0.6666666666666666,
              "#ed7953"
             ],
             [
              0.7777777777777778,
              "#fb9f3a"
             ],
             [
              0.8888888888888888,
              "#fdca26"
             ],
             [
              1,
              "#f0f921"
             ]
            ],
            "type": "contour"
           }
          ],
          "contourcarpet": [
           {
            "colorbar": {
             "outlinewidth": 0,
             "ticks": ""
            },
            "type": "contourcarpet"
           }
          ],
          "heatmap": [
           {
            "colorbar": {
             "outlinewidth": 0,
             "ticks": ""
            },
            "colorscale": [
             [
              0,
              "#0d0887"
             ],
             [
              0.1111111111111111,
              "#46039f"
             ],
             [
              0.2222222222222222,
              "#7201a8"
             ],
             [
              0.3333333333333333,
              "#9c179e"
             ],
             [
              0.4444444444444444,
              "#bd3786"
             ],
             [
              0.5555555555555556,
              "#d8576b"
             ],
             [
              0.6666666666666666,
              "#ed7953"
             ],
             [
              0.7777777777777778,
              "#fb9f3a"
             ],
             [
              0.8888888888888888,
              "#fdca26"
             ],
             [
              1,
              "#f0f921"
             ]
            ],
            "type": "heatmap"
           }
          ],
          "heatmapgl": [
           {
            "colorbar": {
             "outlinewidth": 0,
             "ticks": ""
            },
            "colorscale": [
             [
              0,
              "#0d0887"
             ],
             [
              0.1111111111111111,
              "#46039f"
             ],
             [
              0.2222222222222222,
              "#7201a8"
             ],
             [
              0.3333333333333333,
              "#9c179e"
             ],
             [
              0.4444444444444444,
              "#bd3786"
             ],
             [
              0.5555555555555556,
              "#d8576b"
             ],
             [
              0.6666666666666666,
              "#ed7953"
             ],
             [
              0.7777777777777778,
              "#fb9f3a"
             ],
             [
              0.8888888888888888,
              "#fdca26"
             ],
             [
              1,
              "#f0f921"
             ]
            ],
            "type": "heatmapgl"
           }
          ],
          "histogram": [
           {
            "marker": {
             "pattern": {
              "fillmode": "overlay",
              "size": 10,
              "solidity": 0.2
             }
            },
            "type": "histogram"
           }
          ],
          "histogram2d": [
           {
            "colorbar": {
             "outlinewidth": 0,
             "ticks": ""
            },
            "colorscale": [
             [
              0,
              "#0d0887"
             ],
             [
              0.1111111111111111,
              "#46039f"
             ],
             [
              0.2222222222222222,
              "#7201a8"
             ],
             [
              0.3333333333333333,
              "#9c179e"
             ],
             [
              0.4444444444444444,
              "#bd3786"
             ],
             [
              0.5555555555555556,
              "#d8576b"
             ],
             [
              0.6666666666666666,
              "#ed7953"
             ],
             [
              0.7777777777777778,
              "#fb9f3a"
             ],
             [
              0.8888888888888888,
              "#fdca26"
             ],
             [
              1,
              "#f0f921"
             ]
            ],
            "type": "histogram2d"
           }
          ],
          "histogram2dcontour": [
           {
            "colorbar": {
             "outlinewidth": 0,
             "ticks": ""
            },
            "colorscale": [
             [
              0,
              "#0d0887"
             ],
             [
              0.1111111111111111,
              "#46039f"
             ],
             [
              0.2222222222222222,
              "#7201a8"
             ],
             [
              0.3333333333333333,
              "#9c179e"
             ],
             [
              0.4444444444444444,
              "#bd3786"
             ],
             [
              0.5555555555555556,
              "#d8576b"
             ],
             [
              0.6666666666666666,
              "#ed7953"
             ],
             [
              0.7777777777777778,
              "#fb9f3a"
             ],
             [
              0.8888888888888888,
              "#fdca26"
             ],
             [
              1,
              "#f0f921"
             ]
            ],
            "type": "histogram2dcontour"
           }
          ],
          "mesh3d": [
           {
            "colorbar": {
             "outlinewidth": 0,
             "ticks": ""
            },
            "type": "mesh3d"
           }
          ],
          "parcoords": [
           {
            "line": {
             "colorbar": {
              "outlinewidth": 0,
              "ticks": ""
             }
            },
            "type": "parcoords"
           }
          ],
          "pie": [
           {
            "automargin": true,
            "type": "pie"
           }
          ],
          "scatter": [
           {
            "fillpattern": {
             "fillmode": "overlay",
             "size": 10,
             "solidity": 0.2
            },
            "type": "scatter"
           }
          ],
          "scatter3d": [
           {
            "line": {
             "colorbar": {
              "outlinewidth": 0,
              "ticks": ""
             }
            },
            "marker": {
             "colorbar": {
              "outlinewidth": 0,
              "ticks": ""
             }
            },
            "type": "scatter3d"
           }
          ],
          "scattercarpet": [
           {
            "marker": {
             "colorbar": {
              "outlinewidth": 0,
              "ticks": ""
             }
            },
            "type": "scattercarpet"
           }
          ],
          "scattergeo": [
           {
            "marker": {
             "colorbar": {
              "outlinewidth": 0,
              "ticks": ""
             }
            },
            "type": "scattergeo"
           }
          ],
          "scattergl": [
           {
            "marker": {
             "colorbar": {
              "outlinewidth": 0,
              "ticks": ""
             }
            },
            "type": "scattergl"
           }
          ],
          "scattermapbox": [
           {
            "marker": {
             "colorbar": {
              "outlinewidth": 0,
              "ticks": ""
             }
            },
            "type": "scattermapbox"
           }
          ],
          "scatterpolar": [
           {
            "marker": {
             "colorbar": {
              "outlinewidth": 0,
              "ticks": ""
             }
            },
            "type": "scatterpolar"
           }
          ],
          "scatterpolargl": [
           {
            "marker": {
             "colorbar": {
              "outlinewidth": 0,
              "ticks": ""
             }
            },
            "type": "scatterpolargl"
           }
          ],
          "scatterternary": [
           {
            "marker": {
             "colorbar": {
              "outlinewidth": 0,
              "ticks": ""
             }
            },
            "type": "scatterternary"
           }
          ],
          "surface": [
           {
            "colorbar": {
             "outlinewidth": 0,
             "ticks": ""
            },
            "colorscale": [
             [
              0,
              "#0d0887"
             ],
             [
              0.1111111111111111,
              "#46039f"
             ],
             [
              0.2222222222222222,
              "#7201a8"
             ],
             [
              0.3333333333333333,
              "#9c179e"
             ],
             [
              0.4444444444444444,
              "#bd3786"
             ],
             [
              0.5555555555555556,
              "#d8576b"
             ],
             [
              0.6666666666666666,
              "#ed7953"
             ],
             [
              0.7777777777777778,
              "#fb9f3a"
             ],
             [
              0.8888888888888888,
              "#fdca26"
             ],
             [
              1,
              "#f0f921"
             ]
            ],
            "type": "surface"
           }
          ],
          "table": [
           {
            "cells": {
             "fill": {
              "color": "#EBF0F8"
             },
             "line": {
              "color": "white"
             }
            },
            "header": {
             "fill": {
              "color": "#C8D4E3"
             },
             "line": {
              "color": "white"
             }
            },
            "type": "table"
           }
          ]
         },
         "layout": {
          "annotationdefaults": {
           "arrowcolor": "#2a3f5f",
           "arrowhead": 0,
           "arrowwidth": 1
          },
          "autotypenumbers": "strict",
          "coloraxis": {
           "colorbar": {
            "outlinewidth": 0,
            "ticks": ""
           }
          },
          "colorscale": {
           "diverging": [
            [
             0,
             "#8e0152"
            ],
            [
             0.1,
             "#c51b7d"
            ],
            [
             0.2,
             "#de77ae"
            ],
            [
             0.3,
             "#f1b6da"
            ],
            [
             0.4,
             "#fde0ef"
            ],
            [
             0.5,
             "#f7f7f7"
            ],
            [
             0.6,
             "#e6f5d0"
            ],
            [
             0.7,
             "#b8e186"
            ],
            [
             0.8,
             "#7fbc41"
            ],
            [
             0.9,
             "#4d9221"
            ],
            [
             1,
             "#276419"
            ]
           ],
           "sequential": [
            [
             0,
             "#0d0887"
            ],
            [
             0.1111111111111111,
             "#46039f"
            ],
            [
             0.2222222222222222,
             "#7201a8"
            ],
            [
             0.3333333333333333,
             "#9c179e"
            ],
            [
             0.4444444444444444,
             "#bd3786"
            ],
            [
             0.5555555555555556,
             "#d8576b"
            ],
            [
             0.6666666666666666,
             "#ed7953"
            ],
            [
             0.7777777777777778,
             "#fb9f3a"
            ],
            [
             0.8888888888888888,
             "#fdca26"
            ],
            [
             1,
             "#f0f921"
            ]
           ],
           "sequentialminus": [
            [
             0,
             "#0d0887"
            ],
            [
             0.1111111111111111,
             "#46039f"
            ],
            [
             0.2222222222222222,
             "#7201a8"
            ],
            [
             0.3333333333333333,
             "#9c179e"
            ],
            [
             0.4444444444444444,
             "#bd3786"
            ],
            [
             0.5555555555555556,
             "#d8576b"
            ],
            [
             0.6666666666666666,
             "#ed7953"
            ],
            [
             0.7777777777777778,
             "#fb9f3a"
            ],
            [
             0.8888888888888888,
             "#fdca26"
            ],
            [
             1,
             "#f0f921"
            ]
           ]
          },
          "colorway": [
           "#636efa",
           "#EF553B",
           "#00cc96",
           "#ab63fa",
           "#FFA15A",
           "#19d3f3",
           "#FF6692",
           "#B6E880",
           "#FF97FF",
           "#FECB52"
          ],
          "font": {
           "color": "#2a3f5f"
          },
          "geo": {
           "bgcolor": "white",
           "lakecolor": "white",
           "landcolor": "#E5ECF6",
           "showlakes": true,
           "showland": true,
           "subunitcolor": "white"
          },
          "hoverlabel": {
           "align": "left"
          },
          "hovermode": "closest",
          "mapbox": {
           "style": "light"
          },
          "paper_bgcolor": "white",
          "plot_bgcolor": "#E5ECF6",
          "polar": {
           "angularaxis": {
            "gridcolor": "white",
            "linecolor": "white",
            "ticks": ""
           },
           "bgcolor": "#E5ECF6",
           "radialaxis": {
            "gridcolor": "white",
            "linecolor": "white",
            "ticks": ""
           }
          },
          "scene": {
           "xaxis": {
            "backgroundcolor": "#E5ECF6",
            "gridcolor": "white",
            "gridwidth": 2,
            "linecolor": "white",
            "showbackground": true,
            "ticks": "",
            "zerolinecolor": "white"
           },
           "yaxis": {
            "backgroundcolor": "#E5ECF6",
            "gridcolor": "white",
            "gridwidth": 2,
            "linecolor": "white",
            "showbackground": true,
            "ticks": "",
            "zerolinecolor": "white"
           },
           "zaxis": {
            "backgroundcolor": "#E5ECF6",
            "gridcolor": "white",
            "gridwidth": 2,
            "linecolor": "white",
            "showbackground": true,
            "ticks": "",
            "zerolinecolor": "white"
           }
          },
          "shapedefaults": {
           "line": {
            "color": "#2a3f5f"
           }
          },
          "ternary": {
           "aaxis": {
            "gridcolor": "white",
            "linecolor": "white",
            "ticks": ""
           },
           "baxis": {
            "gridcolor": "white",
            "linecolor": "white",
            "ticks": ""
           },
           "bgcolor": "#E5ECF6",
           "caxis": {
            "gridcolor": "white",
            "linecolor": "white",
            "ticks": ""
           }
          },
          "title": {
           "x": 0.05
          },
          "xaxis": {
           "automargin": true,
           "gridcolor": "white",
           "linecolor": "white",
           "ticks": "",
           "title": {
            "standoff": 15
           },
           "zerolinecolor": "white",
           "zerolinewidth": 2
          },
          "yaxis": {
           "automargin": true,
           "gridcolor": "white",
           "linecolor": "white",
           "ticks": "",
           "title": {
            "standoff": 15
           },
           "zerolinecolor": "white",
           "zerolinewidth": 2
          }
         }
        },
        "xaxis": {
         "anchor": "y",
         "domain": [
          0,
          1
         ],
         "showticklabels": false,
         "tickangle": 45,
         "title": {
          "text": " "
         }
        },
        "yaxis": {
         "anchor": "x",
         "categoryarray": [
          "My Flying Saucer",
          "Someday Some Morning Sometime",
          "I Was Born",
          "Stetson Kennedy",
          "Secret Of The Sea",
          "Joe DiMaggio Done It Again",
          "Hot Rod Hotel",
          "Blood Of The Lamb",
          "Black Wind Blowing",
          "All You Fascists",
          "Feed Of Man",
          "Aginst Th' Law",
          "Airline To Heaven",
          "Meanest Man",
          "Remember The Mountain Bed"
         ],
         "categoryorder": "array",
         "domain": [
          0,
          1
         ],
         "showticklabels": false,
         "tickangle": 45,
         "title": {
          "text": " "
         }
        }
       }
      }
     },
     "metadata": {},
     "output_type": "display_data"
    },
    {
     "data": {
      "application/vnd.plotly.v1+json": {
       "config": {
        "plotlyServerURL": "https://plot.ly"
       },
       "data": [
        {
         "hovertemplate": "track=%{y}<br>count_letter=%{x}<extra></extra>",
         "legendgroup": "Jesus, Etc. - The Unified Theory of Everything Version",
         "marker": {
          "color": "#636efa"
         },
         "name": "Jesus, Etc. - The Unified Theory of Everything Version",
         "orientation": "h",
         "showlegend": true,
         "type": "funnel",
         "x": [
          77694
         ],
         "xaxis": "x",
         "y": [
          "Jesus, Etc. - The Unified Theory of Everything Version"
         ],
         "yaxis": "y"
        },
        {
         "hovertemplate": "track=%{y}<br>count_letter=%{x}<extra></extra>",
         "legendgroup": "Kamera - The Unified Theory of Everything Version",
         "marker": {
          "color": "#EF553B"
         },
         "name": "Kamera - The Unified Theory of Everything Version",
         "orientation": "h",
         "showlegend": true,
         "type": "funnel",
         "x": [
          589
         ],
         "xaxis": "x",
         "y": [
          "Kamera - The Unified Theory of Everything Version"
         ],
         "yaxis": "y"
        }
       ],
       "layout": {
        "annotations": [
         {
          "showarrow": false,
          "text": "Album - Yankee Hotel Foxtrot (Deluxe Edition)",
          "x": 0.5,
          "xref": "paper",
          "y": -0.1,
          "yref": "paper"
         }
        ],
        "legend": {
         "title": {
          "text": "track"
         },
         "tracegroupgap": 0
        },
        "margin": {
         "t": 60
        },
        "template": {
         "data": {
          "bar": [
           {
            "error_x": {
             "color": "#2a3f5f"
            },
            "error_y": {
             "color": "#2a3f5f"
            },
            "marker": {
             "line": {
              "color": "#E5ECF6",
              "width": 0.5
             },
             "pattern": {
              "fillmode": "overlay",
              "size": 10,
              "solidity": 0.2
             }
            },
            "type": "bar"
           }
          ],
          "barpolar": [
           {
            "marker": {
             "line": {
              "color": "#E5ECF6",
              "width": 0.5
             },
             "pattern": {
              "fillmode": "overlay",
              "size": 10,
              "solidity": 0.2
             }
            },
            "type": "barpolar"
           }
          ],
          "carpet": [
           {
            "aaxis": {
             "endlinecolor": "#2a3f5f",
             "gridcolor": "white",
             "linecolor": "white",
             "minorgridcolor": "white",
             "startlinecolor": "#2a3f5f"
            },
            "baxis": {
             "endlinecolor": "#2a3f5f",
             "gridcolor": "white",
             "linecolor": "white",
             "minorgridcolor": "white",
             "startlinecolor": "#2a3f5f"
            },
            "type": "carpet"
           }
          ],
          "choropleth": [
           {
            "colorbar": {
             "outlinewidth": 0,
             "ticks": ""
            },
            "type": "choropleth"
           }
          ],
          "contour": [
           {
            "colorbar": {
             "outlinewidth": 0,
             "ticks": ""
            },
            "colorscale": [
             [
              0,
              "#0d0887"
             ],
             [
              0.1111111111111111,
              "#46039f"
             ],
             [
              0.2222222222222222,
              "#7201a8"
             ],
             [
              0.3333333333333333,
              "#9c179e"
             ],
             [
              0.4444444444444444,
              "#bd3786"
             ],
             [
              0.5555555555555556,
              "#d8576b"
             ],
             [
              0.6666666666666666,
              "#ed7953"
             ],
             [
              0.7777777777777778,
              "#fb9f3a"
             ],
             [
              0.8888888888888888,
              "#fdca26"
             ],
             [
              1,
              "#f0f921"
             ]
            ],
            "type": "contour"
           }
          ],
          "contourcarpet": [
           {
            "colorbar": {
             "outlinewidth": 0,
             "ticks": ""
            },
            "type": "contourcarpet"
           }
          ],
          "heatmap": [
           {
            "colorbar": {
             "outlinewidth": 0,
             "ticks": ""
            },
            "colorscale": [
             [
              0,
              "#0d0887"
             ],
             [
              0.1111111111111111,
              "#46039f"
             ],
             [
              0.2222222222222222,
              "#7201a8"
             ],
             [
              0.3333333333333333,
              "#9c179e"
             ],
             [
              0.4444444444444444,
              "#bd3786"
             ],
             [
              0.5555555555555556,
              "#d8576b"
             ],
             [
              0.6666666666666666,
              "#ed7953"
             ],
             [
              0.7777777777777778,
              "#fb9f3a"
             ],
             [
              0.8888888888888888,
              "#fdca26"
             ],
             [
              1,
              "#f0f921"
             ]
            ],
            "type": "heatmap"
           }
          ],
          "heatmapgl": [
           {
            "colorbar": {
             "outlinewidth": 0,
             "ticks": ""
            },
            "colorscale": [
             [
              0,
              "#0d0887"
             ],
             [
              0.1111111111111111,
              "#46039f"
             ],
             [
              0.2222222222222222,
              "#7201a8"
             ],
             [
              0.3333333333333333,
              "#9c179e"
             ],
             [
              0.4444444444444444,
              "#bd3786"
             ],
             [
              0.5555555555555556,
              "#d8576b"
             ],
             [
              0.6666666666666666,
              "#ed7953"
             ],
             [
              0.7777777777777778,
              "#fb9f3a"
             ],
             [
              0.8888888888888888,
              "#fdca26"
             ],
             [
              1,
              "#f0f921"
             ]
            ],
            "type": "heatmapgl"
           }
          ],
          "histogram": [
           {
            "marker": {
             "pattern": {
              "fillmode": "overlay",
              "size": 10,
              "solidity": 0.2
             }
            },
            "type": "histogram"
           }
          ],
          "histogram2d": [
           {
            "colorbar": {
             "outlinewidth": 0,
             "ticks": ""
            },
            "colorscale": [
             [
              0,
              "#0d0887"
             ],
             [
              0.1111111111111111,
              "#46039f"
             ],
             [
              0.2222222222222222,
              "#7201a8"
             ],
             [
              0.3333333333333333,
              "#9c179e"
             ],
             [
              0.4444444444444444,
              "#bd3786"
             ],
             [
              0.5555555555555556,
              "#d8576b"
             ],
             [
              0.6666666666666666,
              "#ed7953"
             ],
             [
              0.7777777777777778,
              "#fb9f3a"
             ],
             [
              0.8888888888888888,
              "#fdca26"
             ],
             [
              1,
              "#f0f921"
             ]
            ],
            "type": "histogram2d"
           }
          ],
          "histogram2dcontour": [
           {
            "colorbar": {
             "outlinewidth": 0,
             "ticks": ""
            },
            "colorscale": [
             [
              0,
              "#0d0887"
             ],
             [
              0.1111111111111111,
              "#46039f"
             ],
             [
              0.2222222222222222,
              "#7201a8"
             ],
             [
              0.3333333333333333,
              "#9c179e"
             ],
             [
              0.4444444444444444,
              "#bd3786"
             ],
             [
              0.5555555555555556,
              "#d8576b"
             ],
             [
              0.6666666666666666,
              "#ed7953"
             ],
             [
              0.7777777777777778,
              "#fb9f3a"
             ],
             [
              0.8888888888888888,
              "#fdca26"
             ],
             [
              1,
              "#f0f921"
             ]
            ],
            "type": "histogram2dcontour"
           }
          ],
          "mesh3d": [
           {
            "colorbar": {
             "outlinewidth": 0,
             "ticks": ""
            },
            "type": "mesh3d"
           }
          ],
          "parcoords": [
           {
            "line": {
             "colorbar": {
              "outlinewidth": 0,
              "ticks": ""
             }
            },
            "type": "parcoords"
           }
          ],
          "pie": [
           {
            "automargin": true,
            "type": "pie"
           }
          ],
          "scatter": [
           {
            "fillpattern": {
             "fillmode": "overlay",
             "size": 10,
             "solidity": 0.2
            },
            "type": "scatter"
           }
          ],
          "scatter3d": [
           {
            "line": {
             "colorbar": {
              "outlinewidth": 0,
              "ticks": ""
             }
            },
            "marker": {
             "colorbar": {
              "outlinewidth": 0,
              "ticks": ""
             }
            },
            "type": "scatter3d"
           }
          ],
          "scattercarpet": [
           {
            "marker": {
             "colorbar": {
              "outlinewidth": 0,
              "ticks": ""
             }
            },
            "type": "scattercarpet"
           }
          ],
          "scattergeo": [
           {
            "marker": {
             "colorbar": {
              "outlinewidth": 0,
              "ticks": ""
             }
            },
            "type": "scattergeo"
           }
          ],
          "scattergl": [
           {
            "marker": {
             "colorbar": {
              "outlinewidth": 0,
              "ticks": ""
             }
            },
            "type": "scattergl"
           }
          ],
          "scattermapbox": [
           {
            "marker": {
             "colorbar": {
              "outlinewidth": 0,
              "ticks": ""
             }
            },
            "type": "scattermapbox"
           }
          ],
          "scatterpolar": [
           {
            "marker": {
             "colorbar": {
              "outlinewidth": 0,
              "ticks": ""
             }
            },
            "type": "scatterpolar"
           }
          ],
          "scatterpolargl": [
           {
            "marker": {
             "colorbar": {
              "outlinewidth": 0,
              "ticks": ""
             }
            },
            "type": "scatterpolargl"
           }
          ],
          "scatterternary": [
           {
            "marker": {
             "colorbar": {
              "outlinewidth": 0,
              "ticks": ""
             }
            },
            "type": "scatterternary"
           }
          ],
          "surface": [
           {
            "colorbar": {
             "outlinewidth": 0,
             "ticks": ""
            },
            "colorscale": [
             [
              0,
              "#0d0887"
             ],
             [
              0.1111111111111111,
              "#46039f"
             ],
             [
              0.2222222222222222,
              "#7201a8"
             ],
             [
              0.3333333333333333,
              "#9c179e"
             ],
             [
              0.4444444444444444,
              "#bd3786"
             ],
             [
              0.5555555555555556,
              "#d8576b"
             ],
             [
              0.6666666666666666,
              "#ed7953"
             ],
             [
              0.7777777777777778,
              "#fb9f3a"
             ],
             [
              0.8888888888888888,
              "#fdca26"
             ],
             [
              1,
              "#f0f921"
             ]
            ],
            "type": "surface"
           }
          ],
          "table": [
           {
            "cells": {
             "fill": {
              "color": "#EBF0F8"
             },
             "line": {
              "color": "white"
             }
            },
            "header": {
             "fill": {
              "color": "#C8D4E3"
             },
             "line": {
              "color": "white"
             }
            },
            "type": "table"
           }
          ]
         },
         "layout": {
          "annotationdefaults": {
           "arrowcolor": "#2a3f5f",
           "arrowhead": 0,
           "arrowwidth": 1
          },
          "autotypenumbers": "strict",
          "coloraxis": {
           "colorbar": {
            "outlinewidth": 0,
            "ticks": ""
           }
          },
          "colorscale": {
           "diverging": [
            [
             0,
             "#8e0152"
            ],
            [
             0.1,
             "#c51b7d"
            ],
            [
             0.2,
             "#de77ae"
            ],
            [
             0.3,
             "#f1b6da"
            ],
            [
             0.4,
             "#fde0ef"
            ],
            [
             0.5,
             "#f7f7f7"
            ],
            [
             0.6,
             "#e6f5d0"
            ],
            [
             0.7,
             "#b8e186"
            ],
            [
             0.8,
             "#7fbc41"
            ],
            [
             0.9,
             "#4d9221"
            ],
            [
             1,
             "#276419"
            ]
           ],
           "sequential": [
            [
             0,
             "#0d0887"
            ],
            [
             0.1111111111111111,
             "#46039f"
            ],
            [
             0.2222222222222222,
             "#7201a8"
            ],
            [
             0.3333333333333333,
             "#9c179e"
            ],
            [
             0.4444444444444444,
             "#bd3786"
            ],
            [
             0.5555555555555556,
             "#d8576b"
            ],
            [
             0.6666666666666666,
             "#ed7953"
            ],
            [
             0.7777777777777778,
             "#fb9f3a"
            ],
            [
             0.8888888888888888,
             "#fdca26"
            ],
            [
             1,
             "#f0f921"
            ]
           ],
           "sequentialminus": [
            [
             0,
             "#0d0887"
            ],
            [
             0.1111111111111111,
             "#46039f"
            ],
            [
             0.2222222222222222,
             "#7201a8"
            ],
            [
             0.3333333333333333,
             "#9c179e"
            ],
            [
             0.4444444444444444,
             "#bd3786"
            ],
            [
             0.5555555555555556,
             "#d8576b"
            ],
            [
             0.6666666666666666,
             "#ed7953"
            ],
            [
             0.7777777777777778,
             "#fb9f3a"
            ],
            [
             0.8888888888888888,
             "#fdca26"
            ],
            [
             1,
             "#f0f921"
            ]
           ]
          },
          "colorway": [
           "#636efa",
           "#EF553B",
           "#00cc96",
           "#ab63fa",
           "#FFA15A",
           "#19d3f3",
           "#FF6692",
           "#B6E880",
           "#FF97FF",
           "#FECB52"
          ],
          "font": {
           "color": "#2a3f5f"
          },
          "geo": {
           "bgcolor": "white",
           "lakecolor": "white",
           "landcolor": "#E5ECF6",
           "showlakes": true,
           "showland": true,
           "subunitcolor": "white"
          },
          "hoverlabel": {
           "align": "left"
          },
          "hovermode": "closest",
          "mapbox": {
           "style": "light"
          },
          "paper_bgcolor": "white",
          "plot_bgcolor": "#E5ECF6",
          "polar": {
           "angularaxis": {
            "gridcolor": "white",
            "linecolor": "white",
            "ticks": ""
           },
           "bgcolor": "#E5ECF6",
           "radialaxis": {
            "gridcolor": "white",
            "linecolor": "white",
            "ticks": ""
           }
          },
          "scene": {
           "xaxis": {
            "backgroundcolor": "#E5ECF6",
            "gridcolor": "white",
            "gridwidth": 2,
            "linecolor": "white",
            "showbackground": true,
            "ticks": "",
            "zerolinecolor": "white"
           },
           "yaxis": {
            "backgroundcolor": "#E5ECF6",
            "gridcolor": "white",
            "gridwidth": 2,
            "linecolor": "white",
            "showbackground": true,
            "ticks": "",
            "zerolinecolor": "white"
           },
           "zaxis": {
            "backgroundcolor": "#E5ECF6",
            "gridcolor": "white",
            "gridwidth": 2,
            "linecolor": "white",
            "showbackground": true,
            "ticks": "",
            "zerolinecolor": "white"
           }
          },
          "shapedefaults": {
           "line": {
            "color": "#2a3f5f"
           }
          },
          "ternary": {
           "aaxis": {
            "gridcolor": "white",
            "linecolor": "white",
            "ticks": ""
           },
           "baxis": {
            "gridcolor": "white",
            "linecolor": "white",
            "ticks": ""
           },
           "bgcolor": "#E5ECF6",
           "caxis": {
            "gridcolor": "white",
            "linecolor": "white",
            "ticks": ""
           }
          },
          "title": {
           "x": 0.05
          },
          "xaxis": {
           "automargin": true,
           "gridcolor": "white",
           "linecolor": "white",
           "ticks": "",
           "title": {
            "standoff": 15
           },
           "zerolinecolor": "white",
           "zerolinewidth": 2
          },
          "yaxis": {
           "automargin": true,
           "gridcolor": "white",
           "linecolor": "white",
           "ticks": "",
           "title": {
            "standoff": 15
           },
           "zerolinecolor": "white",
           "zerolinewidth": 2
          }
         }
        },
        "xaxis": {
         "anchor": "y",
         "domain": [
          0,
          1
         ],
         "showticklabels": false,
         "tickangle": 45,
         "title": {
          "text": " "
         }
        },
        "yaxis": {
         "anchor": "x",
         "categoryarray": [
          "Kamera - The Unified Theory of Everything Version",
          "Jesus, Etc. - The Unified Theory of Everything Version"
         ],
         "categoryorder": "array",
         "domain": [
          0,
          1
         ],
         "showticklabels": false,
         "tickangle": 45,
         "title": {
          "text": " "
         }
        }
       }
      }
     },
     "metadata": {},
     "output_type": "display_data"
    },
    {
     "data": {
      "application/vnd.plotly.v1+json": {
       "config": {
        "plotlyServerURL": "https://plot.ly"
       },
       "data": [
        {
         "hovertemplate": "track=%{y}<br>count_letter=%{x}<extra></extra>",
         "legendgroup": "Reservations - 2022 Remaster",
         "marker": {
          "color": "#636efa"
         },
         "name": "Reservations - 2022 Remaster",
         "orientation": "h",
         "showlegend": true,
         "type": "funnel",
         "x": [
          8684
         ],
         "xaxis": "x",
         "y": [
          "Reservations - 2022 Remaster"
         ],
         "yaxis": "y"
        },
        {
         "hovertemplate": "track=%{y}<br>count_letter=%{x}<extra></extra>",
         "legendgroup": "Poor Places - 2022 Remaster",
         "marker": {
          "color": "#EF553B"
         },
         "name": "Poor Places - 2022 Remaster",
         "orientation": "h",
         "showlegend": true,
         "type": "funnel",
         "x": [
          6855
         ],
         "xaxis": "x",
         "y": [
          "Poor Places - 2022 Remaster"
         ],
         "yaxis": "y"
        }
       ],
       "layout": {
        "annotations": [
         {
          "showarrow": false,
          "text": "Album - Yankee Hotel Foxtrot (2022 Remaster)",
          "x": 0.5,
          "xref": "paper",
          "y": -0.1,
          "yref": "paper"
         }
        ],
        "legend": {
         "title": {
          "text": "track"
         },
         "tracegroupgap": 0
        },
        "margin": {
         "t": 60
        },
        "template": {
         "data": {
          "bar": [
           {
            "error_x": {
             "color": "#2a3f5f"
            },
            "error_y": {
             "color": "#2a3f5f"
            },
            "marker": {
             "line": {
              "color": "#E5ECF6",
              "width": 0.5
             },
             "pattern": {
              "fillmode": "overlay",
              "size": 10,
              "solidity": 0.2
             }
            },
            "type": "bar"
           }
          ],
          "barpolar": [
           {
            "marker": {
             "line": {
              "color": "#E5ECF6",
              "width": 0.5
             },
             "pattern": {
              "fillmode": "overlay",
              "size": 10,
              "solidity": 0.2
             }
            },
            "type": "barpolar"
           }
          ],
          "carpet": [
           {
            "aaxis": {
             "endlinecolor": "#2a3f5f",
             "gridcolor": "white",
             "linecolor": "white",
             "minorgridcolor": "white",
             "startlinecolor": "#2a3f5f"
            },
            "baxis": {
             "endlinecolor": "#2a3f5f",
             "gridcolor": "white",
             "linecolor": "white",
             "minorgridcolor": "white",
             "startlinecolor": "#2a3f5f"
            },
            "type": "carpet"
           }
          ],
          "choropleth": [
           {
            "colorbar": {
             "outlinewidth": 0,
             "ticks": ""
            },
            "type": "choropleth"
           }
          ],
          "contour": [
           {
            "colorbar": {
             "outlinewidth": 0,
             "ticks": ""
            },
            "colorscale": [
             [
              0,
              "#0d0887"
             ],
             [
              0.1111111111111111,
              "#46039f"
             ],
             [
              0.2222222222222222,
              "#7201a8"
             ],
             [
              0.3333333333333333,
              "#9c179e"
             ],
             [
              0.4444444444444444,
              "#bd3786"
             ],
             [
              0.5555555555555556,
              "#d8576b"
             ],
             [
              0.6666666666666666,
              "#ed7953"
             ],
             [
              0.7777777777777778,
              "#fb9f3a"
             ],
             [
              0.8888888888888888,
              "#fdca26"
             ],
             [
              1,
              "#f0f921"
             ]
            ],
            "type": "contour"
           }
          ],
          "contourcarpet": [
           {
            "colorbar": {
             "outlinewidth": 0,
             "ticks": ""
            },
            "type": "contourcarpet"
           }
          ],
          "heatmap": [
           {
            "colorbar": {
             "outlinewidth": 0,
             "ticks": ""
            },
            "colorscale": [
             [
              0,
              "#0d0887"
             ],
             [
              0.1111111111111111,
              "#46039f"
             ],
             [
              0.2222222222222222,
              "#7201a8"
             ],
             [
              0.3333333333333333,
              "#9c179e"
             ],
             [
              0.4444444444444444,
              "#bd3786"
             ],
             [
              0.5555555555555556,
              "#d8576b"
             ],
             [
              0.6666666666666666,
              "#ed7953"
             ],
             [
              0.7777777777777778,
              "#fb9f3a"
             ],
             [
              0.8888888888888888,
              "#fdca26"
             ],
             [
              1,
              "#f0f921"
             ]
            ],
            "type": "heatmap"
           }
          ],
          "heatmapgl": [
           {
            "colorbar": {
             "outlinewidth": 0,
             "ticks": ""
            },
            "colorscale": [
             [
              0,
              "#0d0887"
             ],
             [
              0.1111111111111111,
              "#46039f"
             ],
             [
              0.2222222222222222,
              "#7201a8"
             ],
             [
              0.3333333333333333,
              "#9c179e"
             ],
             [
              0.4444444444444444,
              "#bd3786"
             ],
             [
              0.5555555555555556,
              "#d8576b"
             ],
             [
              0.6666666666666666,
              "#ed7953"
             ],
             [
              0.7777777777777778,
              "#fb9f3a"
             ],
             [
              0.8888888888888888,
              "#fdca26"
             ],
             [
              1,
              "#f0f921"
             ]
            ],
            "type": "heatmapgl"
           }
          ],
          "histogram": [
           {
            "marker": {
             "pattern": {
              "fillmode": "overlay",
              "size": 10,
              "solidity": 0.2
             }
            },
            "type": "histogram"
           }
          ],
          "histogram2d": [
           {
            "colorbar": {
             "outlinewidth": 0,
             "ticks": ""
            },
            "colorscale": [
             [
              0,
              "#0d0887"
             ],
             [
              0.1111111111111111,
              "#46039f"
             ],
             [
              0.2222222222222222,
              "#7201a8"
             ],
             [
              0.3333333333333333,
              "#9c179e"
             ],
             [
              0.4444444444444444,
              "#bd3786"
             ],
             [
              0.5555555555555556,
              "#d8576b"
             ],
             [
              0.6666666666666666,
              "#ed7953"
             ],
             [
              0.7777777777777778,
              "#fb9f3a"
             ],
             [
              0.8888888888888888,
              "#fdca26"
             ],
             [
              1,
              "#f0f921"
             ]
            ],
            "type": "histogram2d"
           }
          ],
          "histogram2dcontour": [
           {
            "colorbar": {
             "outlinewidth": 0,
             "ticks": ""
            },
            "colorscale": [
             [
              0,
              "#0d0887"
             ],
             [
              0.1111111111111111,
              "#46039f"
             ],
             [
              0.2222222222222222,
              "#7201a8"
             ],
             [
              0.3333333333333333,
              "#9c179e"
             ],
             [
              0.4444444444444444,
              "#bd3786"
             ],
             [
              0.5555555555555556,
              "#d8576b"
             ],
             [
              0.6666666666666666,
              "#ed7953"
             ],
             [
              0.7777777777777778,
              "#fb9f3a"
             ],
             [
              0.8888888888888888,
              "#fdca26"
             ],
             [
              1,
              "#f0f921"
             ]
            ],
            "type": "histogram2dcontour"
           }
          ],
          "mesh3d": [
           {
            "colorbar": {
             "outlinewidth": 0,
             "ticks": ""
            },
            "type": "mesh3d"
           }
          ],
          "parcoords": [
           {
            "line": {
             "colorbar": {
              "outlinewidth": 0,
              "ticks": ""
             }
            },
            "type": "parcoords"
           }
          ],
          "pie": [
           {
            "automargin": true,
            "type": "pie"
           }
          ],
          "scatter": [
           {
            "fillpattern": {
             "fillmode": "overlay",
             "size": 10,
             "solidity": 0.2
            },
            "type": "scatter"
           }
          ],
          "scatter3d": [
           {
            "line": {
             "colorbar": {
              "outlinewidth": 0,
              "ticks": ""
             }
            },
            "marker": {
             "colorbar": {
              "outlinewidth": 0,
              "ticks": ""
             }
            },
            "type": "scatter3d"
           }
          ],
          "scattercarpet": [
           {
            "marker": {
             "colorbar": {
              "outlinewidth": 0,
              "ticks": ""
             }
            },
            "type": "scattercarpet"
           }
          ],
          "scattergeo": [
           {
            "marker": {
             "colorbar": {
              "outlinewidth": 0,
              "ticks": ""
             }
            },
            "type": "scattergeo"
           }
          ],
          "scattergl": [
           {
            "marker": {
             "colorbar": {
              "outlinewidth": 0,
              "ticks": ""
             }
            },
            "type": "scattergl"
           }
          ],
          "scattermapbox": [
           {
            "marker": {
             "colorbar": {
              "outlinewidth": 0,
              "ticks": ""
             }
            },
            "type": "scattermapbox"
           }
          ],
          "scatterpolar": [
           {
            "marker": {
             "colorbar": {
              "outlinewidth": 0,
              "ticks": ""
             }
            },
            "type": "scatterpolar"
           }
          ],
          "scatterpolargl": [
           {
            "marker": {
             "colorbar": {
              "outlinewidth": 0,
              "ticks": ""
             }
            },
            "type": "scatterpolargl"
           }
          ],
          "scatterternary": [
           {
            "marker": {
             "colorbar": {
              "outlinewidth": 0,
              "ticks": ""
             }
            },
            "type": "scatterternary"
           }
          ],
          "surface": [
           {
            "colorbar": {
             "outlinewidth": 0,
             "ticks": ""
            },
            "colorscale": [
             [
              0,
              "#0d0887"
             ],
             [
              0.1111111111111111,
              "#46039f"
             ],
             [
              0.2222222222222222,
              "#7201a8"
             ],
             [
              0.3333333333333333,
              "#9c179e"
             ],
             [
              0.4444444444444444,
              "#bd3786"
             ],
             [
              0.5555555555555556,
              "#d8576b"
             ],
             [
              0.6666666666666666,
              "#ed7953"
             ],
             [
              0.7777777777777778,
              "#fb9f3a"
             ],
             [
              0.8888888888888888,
              "#fdca26"
             ],
             [
              1,
              "#f0f921"
             ]
            ],
            "type": "surface"
           }
          ],
          "table": [
           {
            "cells": {
             "fill": {
              "color": "#EBF0F8"
             },
             "line": {
              "color": "white"
             }
            },
            "header": {
             "fill": {
              "color": "#C8D4E3"
             },
             "line": {
              "color": "white"
             }
            },
            "type": "table"
           }
          ]
         },
         "layout": {
          "annotationdefaults": {
           "arrowcolor": "#2a3f5f",
           "arrowhead": 0,
           "arrowwidth": 1
          },
          "autotypenumbers": "strict",
          "coloraxis": {
           "colorbar": {
            "outlinewidth": 0,
            "ticks": ""
           }
          },
          "colorscale": {
           "diverging": [
            [
             0,
             "#8e0152"
            ],
            [
             0.1,
             "#c51b7d"
            ],
            [
             0.2,
             "#de77ae"
            ],
            [
             0.3,
             "#f1b6da"
            ],
            [
             0.4,
             "#fde0ef"
            ],
            [
             0.5,
             "#f7f7f7"
            ],
            [
             0.6,
             "#e6f5d0"
            ],
            [
             0.7,
             "#b8e186"
            ],
            [
             0.8,
             "#7fbc41"
            ],
            [
             0.9,
             "#4d9221"
            ],
            [
             1,
             "#276419"
            ]
           ],
           "sequential": [
            [
             0,
             "#0d0887"
            ],
            [
             0.1111111111111111,
             "#46039f"
            ],
            [
             0.2222222222222222,
             "#7201a8"
            ],
            [
             0.3333333333333333,
             "#9c179e"
            ],
            [
             0.4444444444444444,
             "#bd3786"
            ],
            [
             0.5555555555555556,
             "#d8576b"
            ],
            [
             0.6666666666666666,
             "#ed7953"
            ],
            [
             0.7777777777777778,
             "#fb9f3a"
            ],
            [
             0.8888888888888888,
             "#fdca26"
            ],
            [
             1,
             "#f0f921"
            ]
           ],
           "sequentialminus": [
            [
             0,
             "#0d0887"
            ],
            [
             0.1111111111111111,
             "#46039f"
            ],
            [
             0.2222222222222222,
             "#7201a8"
            ],
            [
             0.3333333333333333,
             "#9c179e"
            ],
            [
             0.4444444444444444,
             "#bd3786"
            ],
            [
             0.5555555555555556,
             "#d8576b"
            ],
            [
             0.6666666666666666,
             "#ed7953"
            ],
            [
             0.7777777777777778,
             "#fb9f3a"
            ],
            [
             0.8888888888888888,
             "#fdca26"
            ],
            [
             1,
             "#f0f921"
            ]
           ]
          },
          "colorway": [
           "#636efa",
           "#EF553B",
           "#00cc96",
           "#ab63fa",
           "#FFA15A",
           "#19d3f3",
           "#FF6692",
           "#B6E880",
           "#FF97FF",
           "#FECB52"
          ],
          "font": {
           "color": "#2a3f5f"
          },
          "geo": {
           "bgcolor": "white",
           "lakecolor": "white",
           "landcolor": "#E5ECF6",
           "showlakes": true,
           "showland": true,
           "subunitcolor": "white"
          },
          "hoverlabel": {
           "align": "left"
          },
          "hovermode": "closest",
          "mapbox": {
           "style": "light"
          },
          "paper_bgcolor": "white",
          "plot_bgcolor": "#E5ECF6",
          "polar": {
           "angularaxis": {
            "gridcolor": "white",
            "linecolor": "white",
            "ticks": ""
           },
           "bgcolor": "#E5ECF6",
           "radialaxis": {
            "gridcolor": "white",
            "linecolor": "white",
            "ticks": ""
           }
          },
          "scene": {
           "xaxis": {
            "backgroundcolor": "#E5ECF6",
            "gridcolor": "white",
            "gridwidth": 2,
            "linecolor": "white",
            "showbackground": true,
            "ticks": "",
            "zerolinecolor": "white"
           },
           "yaxis": {
            "backgroundcolor": "#E5ECF6",
            "gridcolor": "white",
            "gridwidth": 2,
            "linecolor": "white",
            "showbackground": true,
            "ticks": "",
            "zerolinecolor": "white"
           },
           "zaxis": {
            "backgroundcolor": "#E5ECF6",
            "gridcolor": "white",
            "gridwidth": 2,
            "linecolor": "white",
            "showbackground": true,
            "ticks": "",
            "zerolinecolor": "white"
           }
          },
          "shapedefaults": {
           "line": {
            "color": "#2a3f5f"
           }
          },
          "ternary": {
           "aaxis": {
            "gridcolor": "white",
            "linecolor": "white",
            "ticks": ""
           },
           "baxis": {
            "gridcolor": "white",
            "linecolor": "white",
            "ticks": ""
           },
           "bgcolor": "#E5ECF6",
           "caxis": {
            "gridcolor": "white",
            "linecolor": "white",
            "ticks": ""
           }
          },
          "title": {
           "x": 0.05
          },
          "xaxis": {
           "automargin": true,
           "gridcolor": "white",
           "linecolor": "white",
           "ticks": "",
           "title": {
            "standoff": 15
           },
           "zerolinecolor": "white",
           "zerolinewidth": 2
          },
          "yaxis": {
           "automargin": true,
           "gridcolor": "white",
           "linecolor": "white",
           "ticks": "",
           "title": {
            "standoff": 15
           },
           "zerolinecolor": "white",
           "zerolinewidth": 2
          }
         }
        },
        "xaxis": {
         "anchor": "y",
         "domain": [
          0,
          1
         ],
         "showticklabels": false,
         "tickangle": 45,
         "title": {
          "text": " "
         }
        },
        "yaxis": {
         "anchor": "x",
         "categoryarray": [
          "Poor Places - 2022 Remaster",
          "Reservations - 2022 Remaster"
         ],
         "categoryorder": "array",
         "domain": [
          0,
          1
         ],
         "showticklabels": false,
         "tickangle": 45,
         "title": {
          "text": " "
         }
        }
       }
      }
     },
     "metadata": {},
     "output_type": "display_data"
    },
    {
     "data": {
      "application/vnd.plotly.v1+json": {
       "config": {
        "plotlyServerURL": "https://plot.ly"
       },
       "data": [
        {
         "hovertemplate": "track=%{y}<br>count_letter=%{x}<extra></extra>",
         "legendgroup": "Handshake Drugs - Live",
         "marker": {
          "color": "#636efa"
         },
         "name": "Handshake Drugs - Live",
         "orientation": "h",
         "showlegend": true,
         "type": "funnel",
         "x": [
          969
         ],
         "xaxis": "x",
         "y": [
          "Handshake Drugs - Live"
         ],
         "yaxis": "y"
        },
        {
         "hovertemplate": "track=%{y}<br>count_letter=%{x}<extra></extra>",
         "legendgroup": "Handshake Drugs",
         "marker": {
          "color": "#EF553B"
         },
         "name": "Handshake Drugs",
         "orientation": "h",
         "showlegend": true,
         "type": "funnel",
         "x": [
          968
         ],
         "xaxis": "x",
         "y": [
          "Handshake Drugs"
         ],
         "yaxis": "y"
        },
        {
         "hovertemplate": "track=%{y}<br>count_letter=%{x}<extra></extra>",
         "legendgroup": "Company in My Back",
         "marker": {
          "color": "#00cc96"
         },
         "name": "Company in My Back",
         "orientation": "h",
         "showlegend": true,
         "type": "funnel",
         "x": [
          875
         ],
         "xaxis": "x",
         "y": [
          "Company in My Back"
         ],
         "yaxis": "y"
        },
        {
         "hovertemplate": "track=%{y}<br>count_letter=%{x}<extra></extra>",
         "legendgroup": "Wishful Thinking",
         "marker": {
          "color": "#ab63fa"
         },
         "name": "Wishful Thinking",
         "orientation": "h",
         "showlegend": true,
         "type": "funnel",
         "x": [
          799
         ],
         "xaxis": "x",
         "y": [
          "Wishful Thinking"
         ],
         "yaxis": "y"
        },
        {
         "hovertemplate": "track=%{y}<br>count_letter=%{x}<extra></extra>",
         "legendgroup": "Hummingbird",
         "marker": {
          "color": "#FFA15A"
         },
         "name": "Hummingbird",
         "orientation": "h",
         "showlegend": true,
         "type": "funnel",
         "x": [
          792
         ],
         "xaxis": "x",
         "y": [
          "Hummingbird"
         ],
         "yaxis": "y"
        },
        {
         "hovertemplate": "track=%{y}<br>count_letter=%{x}<extra></extra>",
         "legendgroup": "Spiders (Kidsmoke)",
         "marker": {
          "color": "#19d3f3"
         },
         "name": "Spiders (Kidsmoke)",
         "orientation": "h",
         "showlegend": true,
         "type": "funnel",
         "x": [
          759
         ],
         "xaxis": "x",
         "y": [
          "Spiders (Kidsmoke)"
         ],
         "yaxis": "y"
        },
        {
         "hovertemplate": "track=%{y}<br>count_letter=%{x}<extra></extra>",
         "legendgroup": "Muzzle of Bees",
         "marker": {
          "color": "#FF6692"
         },
         "name": "Muzzle of Bees",
         "orientation": "h",
         "showlegend": true,
         "type": "funnel",
         "x": [
          584
         ],
         "xaxis": "x",
         "y": [
          "Muzzle of Bees"
         ],
         "yaxis": "y"
        },
        {
         "hovertemplate": "track=%{y}<br>count_letter=%{x}<extra></extra>",
         "legendgroup": "Theologians",
         "marker": {
          "color": "#B6E880"
         },
         "name": "Theologians",
         "orientation": "h",
         "showlegend": true,
         "type": "funnel",
         "x": [
          563
         ],
         "xaxis": "x",
         "y": [
          "Theologians"
         ],
         "yaxis": "y"
        },
        {
         "hovertemplate": "track=%{y}<br>count_letter=%{x}<extra></extra>",
         "legendgroup": "Less Than You Think",
         "marker": {
          "color": "#FF97FF"
         },
         "name": "Less Than You Think",
         "orientation": "h",
         "showlegend": true,
         "type": "funnel",
         "x": [
          560
         ],
         "xaxis": "x",
         "y": [
          "Less Than You Think"
         ],
         "yaxis": "y"
        },
        {
         "hovertemplate": "track=%{y}<br>count_letter=%{x}<extra></extra>",
         "legendgroup": "The Late Greats - Live",
         "marker": {
          "color": "#FECB52"
         },
         "name": "The Late Greats - Live",
         "orientation": "h",
         "showlegend": true,
         "type": "funnel",
         "x": [
          491
         ],
         "xaxis": "x",
         "y": [
          "The Late Greats - Live"
         ],
         "yaxis": "y"
        },
        {
         "hovertemplate": "track=%{y}<br>count_letter=%{x}<extra></extra>",
         "legendgroup": "The Late Greats",
         "marker": {
          "color": "#636efa"
         },
         "name": "The Late Greats",
         "orientation": "h",
         "showlegend": true,
         "type": "funnel",
         "x": [
          486
         ],
         "xaxis": "x",
         "y": [
          "The Late Greats"
         ],
         "yaxis": "y"
        },
        {
         "hovertemplate": "track=%{y}<br>count_letter=%{x}<extra></extra>",
         "legendgroup": "I'm a Wheel",
         "marker": {
          "color": "#EF553B"
         },
         "name": "I'm a Wheel",
         "orientation": "h",
         "showlegend": true,
         "type": "funnel",
         "x": [
          443
         ],
         "xaxis": "x",
         "y": [
          "I'm a Wheel"
         ],
         "yaxis": "y"
        },
        {
         "hovertemplate": "track=%{y}<br>count_letter=%{x}<extra></extra>",
         "legendgroup": "Hell Is Chrome",
         "marker": {
          "color": "#00cc96"
         },
         "name": "Hell Is Chrome",
         "orientation": "h",
         "showlegend": true,
         "type": "funnel",
         "x": [
          382
         ],
         "xaxis": "x",
         "y": [
          "Hell Is Chrome"
         ],
         "yaxis": "y"
        },
        {
         "hovertemplate": "track=%{y}<br>count_letter=%{x}<extra></extra>",
         "legendgroup": "Panthers",
         "marker": {
          "color": "#ab63fa"
         },
         "name": "Panthers",
         "orientation": "h",
         "showlegend": true,
         "type": "funnel",
         "x": [
          382
         ],
         "xaxis": "x",
         "y": [
          "Panthers"
         ],
         "yaxis": "y"
        },
        {
         "hovertemplate": "track=%{y}<br>count_letter=%{x}<extra></extra>",
         "legendgroup": "At Least That's What You Said",
         "marker": {
          "color": "#FFA15A"
         },
         "name": "At Least That's What You Said",
         "orientation": "h",
         "showlegend": true,
         "type": "funnel",
         "x": [
          338
         ],
         "xaxis": "x",
         "y": [
          "At Least That's What You Said"
         ],
         "yaxis": "y"
        },
        {
         "hovertemplate": "track=%{y}<br>count_letter=%{x}<extra></extra>",
         "legendgroup": "At Least That's What You Said - Live",
         "marker": {
          "color": "#19d3f3"
         },
         "name": "At Least That's What You Said - Live",
         "orientation": "h",
         "showlegend": true,
         "type": "funnel",
         "x": [
          336
         ],
         "xaxis": "x",
         "y": [
          "At Least That's What You Said - Live"
         ],
         "yaxis": "y"
        },
        {
         "hovertemplate": "track=%{y}<br>count_letter=%{x}<extra></extra>",
         "legendgroup": "Kicking Television",
         "marker": {
          "color": "#FF6692"
         },
         "name": "Kicking Television",
         "orientation": "h",
         "showlegend": true,
         "type": "funnel",
         "x": [
          320
         ],
         "xaxis": "x",
         "y": [
          "Kicking Television"
         ],
         "yaxis": "y"
        }
       ],
       "layout": {
        "annotations": [
         {
          "showarrow": false,
          "text": "Album - A Ghost Is Born (Deluxe Version)",
          "x": 0.5,
          "xref": "paper",
          "y": -0.1,
          "yref": "paper"
         }
        ],
        "legend": {
         "title": {
          "text": "track"
         },
         "tracegroupgap": 0
        },
        "margin": {
         "t": 60
        },
        "template": {
         "data": {
          "bar": [
           {
            "error_x": {
             "color": "#2a3f5f"
            },
            "error_y": {
             "color": "#2a3f5f"
            },
            "marker": {
             "line": {
              "color": "#E5ECF6",
              "width": 0.5
             },
             "pattern": {
              "fillmode": "overlay",
              "size": 10,
              "solidity": 0.2
             }
            },
            "type": "bar"
           }
          ],
          "barpolar": [
           {
            "marker": {
             "line": {
              "color": "#E5ECF6",
              "width": 0.5
             },
             "pattern": {
              "fillmode": "overlay",
              "size": 10,
              "solidity": 0.2
             }
            },
            "type": "barpolar"
           }
          ],
          "carpet": [
           {
            "aaxis": {
             "endlinecolor": "#2a3f5f",
             "gridcolor": "white",
             "linecolor": "white",
             "minorgridcolor": "white",
             "startlinecolor": "#2a3f5f"
            },
            "baxis": {
             "endlinecolor": "#2a3f5f",
             "gridcolor": "white",
             "linecolor": "white",
             "minorgridcolor": "white",
             "startlinecolor": "#2a3f5f"
            },
            "type": "carpet"
           }
          ],
          "choropleth": [
           {
            "colorbar": {
             "outlinewidth": 0,
             "ticks": ""
            },
            "type": "choropleth"
           }
          ],
          "contour": [
           {
            "colorbar": {
             "outlinewidth": 0,
             "ticks": ""
            },
            "colorscale": [
             [
              0,
              "#0d0887"
             ],
             [
              0.1111111111111111,
              "#46039f"
             ],
             [
              0.2222222222222222,
              "#7201a8"
             ],
             [
              0.3333333333333333,
              "#9c179e"
             ],
             [
              0.4444444444444444,
              "#bd3786"
             ],
             [
              0.5555555555555556,
              "#d8576b"
             ],
             [
              0.6666666666666666,
              "#ed7953"
             ],
             [
              0.7777777777777778,
              "#fb9f3a"
             ],
             [
              0.8888888888888888,
              "#fdca26"
             ],
             [
              1,
              "#f0f921"
             ]
            ],
            "type": "contour"
           }
          ],
          "contourcarpet": [
           {
            "colorbar": {
             "outlinewidth": 0,
             "ticks": ""
            },
            "type": "contourcarpet"
           }
          ],
          "heatmap": [
           {
            "colorbar": {
             "outlinewidth": 0,
             "ticks": ""
            },
            "colorscale": [
             [
              0,
              "#0d0887"
             ],
             [
              0.1111111111111111,
              "#46039f"
             ],
             [
              0.2222222222222222,
              "#7201a8"
             ],
             [
              0.3333333333333333,
              "#9c179e"
             ],
             [
              0.4444444444444444,
              "#bd3786"
             ],
             [
              0.5555555555555556,
              "#d8576b"
             ],
             [
              0.6666666666666666,
              "#ed7953"
             ],
             [
              0.7777777777777778,
              "#fb9f3a"
             ],
             [
              0.8888888888888888,
              "#fdca26"
             ],
             [
              1,
              "#f0f921"
             ]
            ],
            "type": "heatmap"
           }
          ],
          "heatmapgl": [
           {
            "colorbar": {
             "outlinewidth": 0,
             "ticks": ""
            },
            "colorscale": [
             [
              0,
              "#0d0887"
             ],
             [
              0.1111111111111111,
              "#46039f"
             ],
             [
              0.2222222222222222,
              "#7201a8"
             ],
             [
              0.3333333333333333,
              "#9c179e"
             ],
             [
              0.4444444444444444,
              "#bd3786"
             ],
             [
              0.5555555555555556,
              "#d8576b"
             ],
             [
              0.6666666666666666,
              "#ed7953"
             ],
             [
              0.7777777777777778,
              "#fb9f3a"
             ],
             [
              0.8888888888888888,
              "#fdca26"
             ],
             [
              1,
              "#f0f921"
             ]
            ],
            "type": "heatmapgl"
           }
          ],
          "histogram": [
           {
            "marker": {
             "pattern": {
              "fillmode": "overlay",
              "size": 10,
              "solidity": 0.2
             }
            },
            "type": "histogram"
           }
          ],
          "histogram2d": [
           {
            "colorbar": {
             "outlinewidth": 0,
             "ticks": ""
            },
            "colorscale": [
             [
              0,
              "#0d0887"
             ],
             [
              0.1111111111111111,
              "#46039f"
             ],
             [
              0.2222222222222222,
              "#7201a8"
             ],
             [
              0.3333333333333333,
              "#9c179e"
             ],
             [
              0.4444444444444444,
              "#bd3786"
             ],
             [
              0.5555555555555556,
              "#d8576b"
             ],
             [
              0.6666666666666666,
              "#ed7953"
             ],
             [
              0.7777777777777778,
              "#fb9f3a"
             ],
             [
              0.8888888888888888,
              "#fdca26"
             ],
             [
              1,
              "#f0f921"
             ]
            ],
            "type": "histogram2d"
           }
          ],
          "histogram2dcontour": [
           {
            "colorbar": {
             "outlinewidth": 0,
             "ticks": ""
            },
            "colorscale": [
             [
              0,
              "#0d0887"
             ],
             [
              0.1111111111111111,
              "#46039f"
             ],
             [
              0.2222222222222222,
              "#7201a8"
             ],
             [
              0.3333333333333333,
              "#9c179e"
             ],
             [
              0.4444444444444444,
              "#bd3786"
             ],
             [
              0.5555555555555556,
              "#d8576b"
             ],
             [
              0.6666666666666666,
              "#ed7953"
             ],
             [
              0.7777777777777778,
              "#fb9f3a"
             ],
             [
              0.8888888888888888,
              "#fdca26"
             ],
             [
              1,
              "#f0f921"
             ]
            ],
            "type": "histogram2dcontour"
           }
          ],
          "mesh3d": [
           {
            "colorbar": {
             "outlinewidth": 0,
             "ticks": ""
            },
            "type": "mesh3d"
           }
          ],
          "parcoords": [
           {
            "line": {
             "colorbar": {
              "outlinewidth": 0,
              "ticks": ""
             }
            },
            "type": "parcoords"
           }
          ],
          "pie": [
           {
            "automargin": true,
            "type": "pie"
           }
          ],
          "scatter": [
           {
            "fillpattern": {
             "fillmode": "overlay",
             "size": 10,
             "solidity": 0.2
            },
            "type": "scatter"
           }
          ],
          "scatter3d": [
           {
            "line": {
             "colorbar": {
              "outlinewidth": 0,
              "ticks": ""
             }
            },
            "marker": {
             "colorbar": {
              "outlinewidth": 0,
              "ticks": ""
             }
            },
            "type": "scatter3d"
           }
          ],
          "scattercarpet": [
           {
            "marker": {
             "colorbar": {
              "outlinewidth": 0,
              "ticks": ""
             }
            },
            "type": "scattercarpet"
           }
          ],
          "scattergeo": [
           {
            "marker": {
             "colorbar": {
              "outlinewidth": 0,
              "ticks": ""
             }
            },
            "type": "scattergeo"
           }
          ],
          "scattergl": [
           {
            "marker": {
             "colorbar": {
              "outlinewidth": 0,
              "ticks": ""
             }
            },
            "type": "scattergl"
           }
          ],
          "scattermapbox": [
           {
            "marker": {
             "colorbar": {
              "outlinewidth": 0,
              "ticks": ""
             }
            },
            "type": "scattermapbox"
           }
          ],
          "scatterpolar": [
           {
            "marker": {
             "colorbar": {
              "outlinewidth": 0,
              "ticks": ""
             }
            },
            "type": "scatterpolar"
           }
          ],
          "scatterpolargl": [
           {
            "marker": {
             "colorbar": {
              "outlinewidth": 0,
              "ticks": ""
             }
            },
            "type": "scatterpolargl"
           }
          ],
          "scatterternary": [
           {
            "marker": {
             "colorbar": {
              "outlinewidth": 0,
              "ticks": ""
             }
            },
            "type": "scatterternary"
           }
          ],
          "surface": [
           {
            "colorbar": {
             "outlinewidth": 0,
             "ticks": ""
            },
            "colorscale": [
             [
              0,
              "#0d0887"
             ],
             [
              0.1111111111111111,
              "#46039f"
             ],
             [
              0.2222222222222222,
              "#7201a8"
             ],
             [
              0.3333333333333333,
              "#9c179e"
             ],
             [
              0.4444444444444444,
              "#bd3786"
             ],
             [
              0.5555555555555556,
              "#d8576b"
             ],
             [
              0.6666666666666666,
              "#ed7953"
             ],
             [
              0.7777777777777778,
              "#fb9f3a"
             ],
             [
              0.8888888888888888,
              "#fdca26"
             ],
             [
              1,
              "#f0f921"
             ]
            ],
            "type": "surface"
           }
          ],
          "table": [
           {
            "cells": {
             "fill": {
              "color": "#EBF0F8"
             },
             "line": {
              "color": "white"
             }
            },
            "header": {
             "fill": {
              "color": "#C8D4E3"
             },
             "line": {
              "color": "white"
             }
            },
            "type": "table"
           }
          ]
         },
         "layout": {
          "annotationdefaults": {
           "arrowcolor": "#2a3f5f",
           "arrowhead": 0,
           "arrowwidth": 1
          },
          "autotypenumbers": "strict",
          "coloraxis": {
           "colorbar": {
            "outlinewidth": 0,
            "ticks": ""
           }
          },
          "colorscale": {
           "diverging": [
            [
             0,
             "#8e0152"
            ],
            [
             0.1,
             "#c51b7d"
            ],
            [
             0.2,
             "#de77ae"
            ],
            [
             0.3,
             "#f1b6da"
            ],
            [
             0.4,
             "#fde0ef"
            ],
            [
             0.5,
             "#f7f7f7"
            ],
            [
             0.6,
             "#e6f5d0"
            ],
            [
             0.7,
             "#b8e186"
            ],
            [
             0.8,
             "#7fbc41"
            ],
            [
             0.9,
             "#4d9221"
            ],
            [
             1,
             "#276419"
            ]
           ],
           "sequential": [
            [
             0,
             "#0d0887"
            ],
            [
             0.1111111111111111,
             "#46039f"
            ],
            [
             0.2222222222222222,
             "#7201a8"
            ],
            [
             0.3333333333333333,
             "#9c179e"
            ],
            [
             0.4444444444444444,
             "#bd3786"
            ],
            [
             0.5555555555555556,
             "#d8576b"
            ],
            [
             0.6666666666666666,
             "#ed7953"
            ],
            [
             0.7777777777777778,
             "#fb9f3a"
            ],
            [
             0.8888888888888888,
             "#fdca26"
            ],
            [
             1,
             "#f0f921"
            ]
           ],
           "sequentialminus": [
            [
             0,
             "#0d0887"
            ],
            [
             0.1111111111111111,
             "#46039f"
            ],
            [
             0.2222222222222222,
             "#7201a8"
            ],
            [
             0.3333333333333333,
             "#9c179e"
            ],
            [
             0.4444444444444444,
             "#bd3786"
            ],
            [
             0.5555555555555556,
             "#d8576b"
            ],
            [
             0.6666666666666666,
             "#ed7953"
            ],
            [
             0.7777777777777778,
             "#fb9f3a"
            ],
            [
             0.8888888888888888,
             "#fdca26"
            ],
            [
             1,
             "#f0f921"
            ]
           ]
          },
          "colorway": [
           "#636efa",
           "#EF553B",
           "#00cc96",
           "#ab63fa",
           "#FFA15A",
           "#19d3f3",
           "#FF6692",
           "#B6E880",
           "#FF97FF",
           "#FECB52"
          ],
          "font": {
           "color": "#2a3f5f"
          },
          "geo": {
           "bgcolor": "white",
           "lakecolor": "white",
           "landcolor": "#E5ECF6",
           "showlakes": true,
           "showland": true,
           "subunitcolor": "white"
          },
          "hoverlabel": {
           "align": "left"
          },
          "hovermode": "closest",
          "mapbox": {
           "style": "light"
          },
          "paper_bgcolor": "white",
          "plot_bgcolor": "#E5ECF6",
          "polar": {
           "angularaxis": {
            "gridcolor": "white",
            "linecolor": "white",
            "ticks": ""
           },
           "bgcolor": "#E5ECF6",
           "radialaxis": {
            "gridcolor": "white",
            "linecolor": "white",
            "ticks": ""
           }
          },
          "scene": {
           "xaxis": {
            "backgroundcolor": "#E5ECF6",
            "gridcolor": "white",
            "gridwidth": 2,
            "linecolor": "white",
            "showbackground": true,
            "ticks": "",
            "zerolinecolor": "white"
           },
           "yaxis": {
            "backgroundcolor": "#E5ECF6",
            "gridcolor": "white",
            "gridwidth": 2,
            "linecolor": "white",
            "showbackground": true,
            "ticks": "",
            "zerolinecolor": "white"
           },
           "zaxis": {
            "backgroundcolor": "#E5ECF6",
            "gridcolor": "white",
            "gridwidth": 2,
            "linecolor": "white",
            "showbackground": true,
            "ticks": "",
            "zerolinecolor": "white"
           }
          },
          "shapedefaults": {
           "line": {
            "color": "#2a3f5f"
           }
          },
          "ternary": {
           "aaxis": {
            "gridcolor": "white",
            "linecolor": "white",
            "ticks": ""
           },
           "baxis": {
            "gridcolor": "white",
            "linecolor": "white",
            "ticks": ""
           },
           "bgcolor": "#E5ECF6",
           "caxis": {
            "gridcolor": "white",
            "linecolor": "white",
            "ticks": ""
           }
          },
          "title": {
           "x": 0.05
          },
          "xaxis": {
           "automargin": true,
           "gridcolor": "white",
           "linecolor": "white",
           "ticks": "",
           "title": {
            "standoff": 15
           },
           "zerolinecolor": "white",
           "zerolinewidth": 2
          },
          "yaxis": {
           "automargin": true,
           "gridcolor": "white",
           "linecolor": "white",
           "ticks": "",
           "title": {
            "standoff": 15
           },
           "zerolinecolor": "white",
           "zerolinewidth": 2
          }
         }
        },
        "xaxis": {
         "anchor": "y",
         "domain": [
          0,
          1
         ],
         "showticklabels": false,
         "tickangle": 45,
         "title": {
          "text": " "
         }
        },
        "yaxis": {
         "anchor": "x",
         "categoryarray": [
          "Kicking Television",
          "At Least That's What You Said - Live",
          "At Least That's What You Said",
          "Panthers",
          "Hell Is Chrome",
          "I'm a Wheel",
          "The Late Greats",
          "The Late Greats - Live",
          "Less Than You Think",
          "Theologians",
          "Muzzle of Bees",
          "Spiders (Kidsmoke)",
          "Hummingbird",
          "Wishful Thinking",
          "Company in My Back",
          "Handshake Drugs",
          "Handshake Drugs - Live"
         ],
         "categoryorder": "array",
         "domain": [
          0,
          1
         ],
         "showticklabels": false,
         "tickangle": 45,
         "title": {
          "text": " "
         }
        }
       }
      }
     },
     "metadata": {},
     "output_type": "display_data"
    },
    {
     "data": {
      "application/vnd.plotly.v1+json": {
       "config": {
        "plotlyServerURL": "https://plot.ly"
       },
       "data": [
        {
         "hovertemplate": "track=%{y}<br>count_letter=%{x}<extra></extra>",
         "legendgroup": "Airline to Heaven",
         "marker": {
          "color": "#636efa"
         },
         "name": "Airline to Heaven",
         "orientation": "h",
         "showlegend": true,
         "type": "funnel",
         "x": [
          1146
         ],
         "xaxis": "x",
         "y": [
          "Airline to Heaven"
         ],
         "yaxis": "y"
        },
        {
         "hovertemplate": "track=%{y}<br>count_letter=%{x}<extra></extra>",
         "legendgroup": "Misunderstood",
         "marker": {
          "color": "#EF553B"
         },
         "name": "Misunderstood",
         "orientation": "h",
         "showlegend": true,
         "type": "funnel",
         "x": [
          1092
         ],
         "xaxis": "x",
         "y": [
          "Misunderstood"
         ],
         "yaxis": "y"
        },
        {
         "hovertemplate": "track=%{y}<br>count_letter=%{x}<extra></extra>",
         "legendgroup": "Jesus, Etc.",
         "marker": {
          "color": "#00cc96"
         },
         "name": "Jesus, Etc.",
         "orientation": "h",
         "showlegend": true,
         "type": "funnel",
         "x": [
          1008
         ],
         "xaxis": "x",
         "y": [
          "Jesus, Etc."
         ],
         "yaxis": "y"
        },
        {
         "hovertemplate": "track=%{y}<br>count_letter=%{x}<extra></extra>",
         "legendgroup": "I Am Trying to Break Your Heart",
         "marker": {
          "color": "#ab63fa"
         },
         "name": "I Am Trying to Break Your Heart",
         "orientation": "h",
         "showlegend": true,
         "type": "funnel",
         "x": [
          996
         ],
         "xaxis": "x",
         "y": [
          "I Am Trying to Break Your Heart"
         ],
         "yaxis": "y"
        },
        {
         "hovertemplate": "track=%{y}<br>count_letter=%{x}<extra></extra>",
         "legendgroup": "I'm the Man Who Loves You",
         "marker": {
          "color": "#FFA15A"
         },
         "name": "I'm the Man Who Loves You",
         "orientation": "h",
         "showlegend": true,
         "type": "funnel",
         "x": [
          983
         ],
         "xaxis": "x",
         "y": [
          "I'm the Man Who Loves You"
         ],
         "yaxis": "y"
        },
        {
         "hovertemplate": "track=%{y}<br>count_letter=%{x}<extra></extra>",
         "legendgroup": "Handshake Drugs",
         "marker": {
          "color": "#19d3f3"
         },
         "name": "Handshake Drugs",
         "orientation": "h",
         "showlegend": true,
         "type": "funnel",
         "x": [
          968
         ],
         "xaxis": "x",
         "y": [
          "Handshake Drugs"
         ],
         "yaxis": "y"
        },
        {
         "hovertemplate": "track=%{y}<br>count_letter=%{x}<extra></extra>",
         "legendgroup": "Shot in the Arm",
         "marker": {
          "color": "#FF6692"
         },
         "name": "Shot in the Arm",
         "orientation": "h",
         "showlegend": true,
         "type": "funnel",
         "x": [
          939
         ],
         "xaxis": "x",
         "y": [
          "Shot in the Arm"
         ],
         "yaxis": "y"
        },
        {
         "hovertemplate": "track=%{y}<br>count_letter=%{x}<extra></extra>",
         "legendgroup": "Via Chicago",
         "marker": {
          "color": "#B6E880"
         },
         "name": "Via Chicago",
         "orientation": "h",
         "showlegend": true,
         "type": "funnel",
         "x": [
          934
         ],
         "xaxis": "x",
         "y": [
          "Via Chicago"
         ],
         "yaxis": "y"
        },
        {
         "hovertemplate": "track=%{y}<br>count_letter=%{x}<extra></extra>",
         "legendgroup": "Company in My Back",
         "marker": {
          "color": "#FF97FF"
         },
         "name": "Company in My Back",
         "orientation": "h",
         "showlegend": true,
         "type": "funnel",
         "x": [
          875
         ],
         "xaxis": "x",
         "y": [
          "Company in My Back"
         ],
         "yaxis": "y"
        },
        {
         "hovertemplate": "track=%{y}<br>count_letter=%{x}<extra></extra>",
         "legendgroup": "Wishful Thinking",
         "marker": {
          "color": "#FECB52"
         },
         "name": "Wishful Thinking",
         "orientation": "h",
         "showlegend": true,
         "type": "funnel",
         "x": [
          799
         ],
         "xaxis": "x",
         "y": [
          "Wishful Thinking"
         ],
         "yaxis": "y"
        },
        {
         "hovertemplate": "track=%{y}<br>count_letter=%{x}<extra></extra>",
         "legendgroup": "Heavy Metal Drummer",
         "marker": {
          "color": "#636efa"
         },
         "name": "Heavy Metal Drummer",
         "orientation": "h",
         "showlegend": true,
         "type": "funnel",
         "x": [
          797
         ],
         "xaxis": "x",
         "y": [
          "Heavy Metal Drummer"
         ],
         "yaxis": "y"
        },
        {
         "hovertemplate": "track=%{y}<br>count_letter=%{x}<extra></extra>",
         "legendgroup": "Hummingbird",
         "marker": {
          "color": "#EF553B"
         },
         "name": "Hummingbird",
         "orientation": "h",
         "showlegend": true,
         "type": "funnel",
         "x": [
          792
         ],
         "xaxis": "x",
         "y": [
          "Hummingbird"
         ],
         "yaxis": "y"
        },
        {
         "hovertemplate": "track=%{y}<br>count_letter=%{x}<extra></extra>",
         "legendgroup": "Ashes of American Flags",
         "marker": {
          "color": "#00cc96"
         },
         "name": "Ashes of American Flags",
         "orientation": "h",
         "showlegend": true,
         "type": "funnel",
         "x": [
          731
         ],
         "xaxis": "x",
         "y": [
          "Ashes of American Flags"
         ],
         "yaxis": "y"
        },
        {
         "hovertemplate": "track=%{y}<br>count_letter=%{x}<extra></extra>",
         "legendgroup": "Radio Cure",
         "marker": {
          "color": "#ab63fa"
         },
         "name": "Radio Cure",
         "orientation": "h",
         "showlegend": true,
         "type": "funnel",
         "x": [
          720
         ],
         "xaxis": "x",
         "y": [
          "Radio Cure"
         ],
         "yaxis": "y"
        },
        {
         "hovertemplate": "track=%{y}<br>count_letter=%{x}<extra></extra>",
         "legendgroup": "One by One",
         "marker": {
          "color": "#FFA15A"
         },
         "name": "One by One",
         "orientation": "h",
         "showlegend": true,
         "type": "funnel",
         "x": [
          711
         ],
         "xaxis": "x",
         "y": [
          "One by One"
         ],
         "yaxis": "y"
        },
        {
         "hovertemplate": "track=%{y}<br>count_letter=%{x}<extra></extra>",
         "legendgroup": "Muzzle of Bees",
         "marker": {
          "color": "#19d3f3"
         },
         "name": "Muzzle of Bees",
         "orientation": "h",
         "showlegend": true,
         "type": "funnel",
         "x": [
          584
         ],
         "xaxis": "x",
         "y": [
          "Muzzle of Bees"
         ],
         "yaxis": "y"
        },
        {
         "hovertemplate": "track=%{y}<br>count_letter=%{x}<extra></extra>",
         "legendgroup": "The Late Greats",
         "marker": {
          "color": "#FF6692"
         },
         "name": "The Late Greats",
         "orientation": "h",
         "showlegend": true,
         "type": "funnel",
         "x": [
          486
         ],
         "xaxis": "x",
         "y": [
          "The Late Greats"
         ],
         "yaxis": "y"
        },
        {
         "hovertemplate": "track=%{y}<br>count_letter=%{x}<extra></extra>",
         "legendgroup": "Hell Is Chrome",
         "marker": {
          "color": "#B6E880"
         },
         "name": "Hell Is Chrome",
         "orientation": "h",
         "showlegend": true,
         "type": "funnel",
         "x": [
          382
         ],
         "xaxis": "x",
         "y": [
          "Hell Is Chrome"
         ],
         "yaxis": "y"
        },
        {
         "hovertemplate": "track=%{y}<br>count_letter=%{x}<extra></extra>",
         "legendgroup": "At Least That's What You Said",
         "marker": {
          "color": "#FF97FF"
         },
         "name": "At Least That's What You Said",
         "orientation": "h",
         "showlegend": true,
         "type": "funnel",
         "x": [
          338
         ],
         "xaxis": "x",
         "y": [
          "At Least That's What You Said"
         ],
         "yaxis": "y"
        },
        {
         "hovertemplate": "track=%{y}<br>count_letter=%{x}<extra></extra>",
         "legendgroup": "Kicking Television",
         "marker": {
          "color": "#FECB52"
         },
         "name": "Kicking Television",
         "orientation": "h",
         "showlegend": true,
         "type": "funnel",
         "x": [
          320
         ],
         "xaxis": "x",
         "y": [
          "Kicking Television"
         ],
         "yaxis": "y"
        }
       ],
       "layout": {
        "annotations": [
         {
          "showarrow": false,
          "text": "Album - Kicking Television, Live in Chicago",
          "x": 0.5,
          "xref": "paper",
          "y": -0.1,
          "yref": "paper"
         }
        ],
        "legend": {
         "title": {
          "text": "track"
         },
         "tracegroupgap": 0
        },
        "margin": {
         "t": 60
        },
        "template": {
         "data": {
          "bar": [
           {
            "error_x": {
             "color": "#2a3f5f"
            },
            "error_y": {
             "color": "#2a3f5f"
            },
            "marker": {
             "line": {
              "color": "#E5ECF6",
              "width": 0.5
             },
             "pattern": {
              "fillmode": "overlay",
              "size": 10,
              "solidity": 0.2
             }
            },
            "type": "bar"
           }
          ],
          "barpolar": [
           {
            "marker": {
             "line": {
              "color": "#E5ECF6",
              "width": 0.5
             },
             "pattern": {
              "fillmode": "overlay",
              "size": 10,
              "solidity": 0.2
             }
            },
            "type": "barpolar"
           }
          ],
          "carpet": [
           {
            "aaxis": {
             "endlinecolor": "#2a3f5f",
             "gridcolor": "white",
             "linecolor": "white",
             "minorgridcolor": "white",
             "startlinecolor": "#2a3f5f"
            },
            "baxis": {
             "endlinecolor": "#2a3f5f",
             "gridcolor": "white",
             "linecolor": "white",
             "minorgridcolor": "white",
             "startlinecolor": "#2a3f5f"
            },
            "type": "carpet"
           }
          ],
          "choropleth": [
           {
            "colorbar": {
             "outlinewidth": 0,
             "ticks": ""
            },
            "type": "choropleth"
           }
          ],
          "contour": [
           {
            "colorbar": {
             "outlinewidth": 0,
             "ticks": ""
            },
            "colorscale": [
             [
              0,
              "#0d0887"
             ],
             [
              0.1111111111111111,
              "#46039f"
             ],
             [
              0.2222222222222222,
              "#7201a8"
             ],
             [
              0.3333333333333333,
              "#9c179e"
             ],
             [
              0.4444444444444444,
              "#bd3786"
             ],
             [
              0.5555555555555556,
              "#d8576b"
             ],
             [
              0.6666666666666666,
              "#ed7953"
             ],
             [
              0.7777777777777778,
              "#fb9f3a"
             ],
             [
              0.8888888888888888,
              "#fdca26"
             ],
             [
              1,
              "#f0f921"
             ]
            ],
            "type": "contour"
           }
          ],
          "contourcarpet": [
           {
            "colorbar": {
             "outlinewidth": 0,
             "ticks": ""
            },
            "type": "contourcarpet"
           }
          ],
          "heatmap": [
           {
            "colorbar": {
             "outlinewidth": 0,
             "ticks": ""
            },
            "colorscale": [
             [
              0,
              "#0d0887"
             ],
             [
              0.1111111111111111,
              "#46039f"
             ],
             [
              0.2222222222222222,
              "#7201a8"
             ],
             [
              0.3333333333333333,
              "#9c179e"
             ],
             [
              0.4444444444444444,
              "#bd3786"
             ],
             [
              0.5555555555555556,
              "#d8576b"
             ],
             [
              0.6666666666666666,
              "#ed7953"
             ],
             [
              0.7777777777777778,
              "#fb9f3a"
             ],
             [
              0.8888888888888888,
              "#fdca26"
             ],
             [
              1,
              "#f0f921"
             ]
            ],
            "type": "heatmap"
           }
          ],
          "heatmapgl": [
           {
            "colorbar": {
             "outlinewidth": 0,
             "ticks": ""
            },
            "colorscale": [
             [
              0,
              "#0d0887"
             ],
             [
              0.1111111111111111,
              "#46039f"
             ],
             [
              0.2222222222222222,
              "#7201a8"
             ],
             [
              0.3333333333333333,
              "#9c179e"
             ],
             [
              0.4444444444444444,
              "#bd3786"
             ],
             [
              0.5555555555555556,
              "#d8576b"
             ],
             [
              0.6666666666666666,
              "#ed7953"
             ],
             [
              0.7777777777777778,
              "#fb9f3a"
             ],
             [
              0.8888888888888888,
              "#fdca26"
             ],
             [
              1,
              "#f0f921"
             ]
            ],
            "type": "heatmapgl"
           }
          ],
          "histogram": [
           {
            "marker": {
             "pattern": {
              "fillmode": "overlay",
              "size": 10,
              "solidity": 0.2
             }
            },
            "type": "histogram"
           }
          ],
          "histogram2d": [
           {
            "colorbar": {
             "outlinewidth": 0,
             "ticks": ""
            },
            "colorscale": [
             [
              0,
              "#0d0887"
             ],
             [
              0.1111111111111111,
              "#46039f"
             ],
             [
              0.2222222222222222,
              "#7201a8"
             ],
             [
              0.3333333333333333,
              "#9c179e"
             ],
             [
              0.4444444444444444,
              "#bd3786"
             ],
             [
              0.5555555555555556,
              "#d8576b"
             ],
             [
              0.6666666666666666,
              "#ed7953"
             ],
             [
              0.7777777777777778,
              "#fb9f3a"
             ],
             [
              0.8888888888888888,
              "#fdca26"
             ],
             [
              1,
              "#f0f921"
             ]
            ],
            "type": "histogram2d"
           }
          ],
          "histogram2dcontour": [
           {
            "colorbar": {
             "outlinewidth": 0,
             "ticks": ""
            },
            "colorscale": [
             [
              0,
              "#0d0887"
             ],
             [
              0.1111111111111111,
              "#46039f"
             ],
             [
              0.2222222222222222,
              "#7201a8"
             ],
             [
              0.3333333333333333,
              "#9c179e"
             ],
             [
              0.4444444444444444,
              "#bd3786"
             ],
             [
              0.5555555555555556,
              "#d8576b"
             ],
             [
              0.6666666666666666,
              "#ed7953"
             ],
             [
              0.7777777777777778,
              "#fb9f3a"
             ],
             [
              0.8888888888888888,
              "#fdca26"
             ],
             [
              1,
              "#f0f921"
             ]
            ],
            "type": "histogram2dcontour"
           }
          ],
          "mesh3d": [
           {
            "colorbar": {
             "outlinewidth": 0,
             "ticks": ""
            },
            "type": "mesh3d"
           }
          ],
          "parcoords": [
           {
            "line": {
             "colorbar": {
              "outlinewidth": 0,
              "ticks": ""
             }
            },
            "type": "parcoords"
           }
          ],
          "pie": [
           {
            "automargin": true,
            "type": "pie"
           }
          ],
          "scatter": [
           {
            "fillpattern": {
             "fillmode": "overlay",
             "size": 10,
             "solidity": 0.2
            },
            "type": "scatter"
           }
          ],
          "scatter3d": [
           {
            "line": {
             "colorbar": {
              "outlinewidth": 0,
              "ticks": ""
             }
            },
            "marker": {
             "colorbar": {
              "outlinewidth": 0,
              "ticks": ""
             }
            },
            "type": "scatter3d"
           }
          ],
          "scattercarpet": [
           {
            "marker": {
             "colorbar": {
              "outlinewidth": 0,
              "ticks": ""
             }
            },
            "type": "scattercarpet"
           }
          ],
          "scattergeo": [
           {
            "marker": {
             "colorbar": {
              "outlinewidth": 0,
              "ticks": ""
             }
            },
            "type": "scattergeo"
           }
          ],
          "scattergl": [
           {
            "marker": {
             "colorbar": {
              "outlinewidth": 0,
              "ticks": ""
             }
            },
            "type": "scattergl"
           }
          ],
          "scattermapbox": [
           {
            "marker": {
             "colorbar": {
              "outlinewidth": 0,
              "ticks": ""
             }
            },
            "type": "scattermapbox"
           }
          ],
          "scatterpolar": [
           {
            "marker": {
             "colorbar": {
              "outlinewidth": 0,
              "ticks": ""
             }
            },
            "type": "scatterpolar"
           }
          ],
          "scatterpolargl": [
           {
            "marker": {
             "colorbar": {
              "outlinewidth": 0,
              "ticks": ""
             }
            },
            "type": "scatterpolargl"
           }
          ],
          "scatterternary": [
           {
            "marker": {
             "colorbar": {
              "outlinewidth": 0,
              "ticks": ""
             }
            },
            "type": "scatterternary"
           }
          ],
          "surface": [
           {
            "colorbar": {
             "outlinewidth": 0,
             "ticks": ""
            },
            "colorscale": [
             [
              0,
              "#0d0887"
             ],
             [
              0.1111111111111111,
              "#46039f"
             ],
             [
              0.2222222222222222,
              "#7201a8"
             ],
             [
              0.3333333333333333,
              "#9c179e"
             ],
             [
              0.4444444444444444,
              "#bd3786"
             ],
             [
              0.5555555555555556,
              "#d8576b"
             ],
             [
              0.6666666666666666,
              "#ed7953"
             ],
             [
              0.7777777777777778,
              "#fb9f3a"
             ],
             [
              0.8888888888888888,
              "#fdca26"
             ],
             [
              1,
              "#f0f921"
             ]
            ],
            "type": "surface"
           }
          ],
          "table": [
           {
            "cells": {
             "fill": {
              "color": "#EBF0F8"
             },
             "line": {
              "color": "white"
             }
            },
            "header": {
             "fill": {
              "color": "#C8D4E3"
             },
             "line": {
              "color": "white"
             }
            },
            "type": "table"
           }
          ]
         },
         "layout": {
          "annotationdefaults": {
           "arrowcolor": "#2a3f5f",
           "arrowhead": 0,
           "arrowwidth": 1
          },
          "autotypenumbers": "strict",
          "coloraxis": {
           "colorbar": {
            "outlinewidth": 0,
            "ticks": ""
           }
          },
          "colorscale": {
           "diverging": [
            [
             0,
             "#8e0152"
            ],
            [
             0.1,
             "#c51b7d"
            ],
            [
             0.2,
             "#de77ae"
            ],
            [
             0.3,
             "#f1b6da"
            ],
            [
             0.4,
             "#fde0ef"
            ],
            [
             0.5,
             "#f7f7f7"
            ],
            [
             0.6,
             "#e6f5d0"
            ],
            [
             0.7,
             "#b8e186"
            ],
            [
             0.8,
             "#7fbc41"
            ],
            [
             0.9,
             "#4d9221"
            ],
            [
             1,
             "#276419"
            ]
           ],
           "sequential": [
            [
             0,
             "#0d0887"
            ],
            [
             0.1111111111111111,
             "#46039f"
            ],
            [
             0.2222222222222222,
             "#7201a8"
            ],
            [
             0.3333333333333333,
             "#9c179e"
            ],
            [
             0.4444444444444444,
             "#bd3786"
            ],
            [
             0.5555555555555556,
             "#d8576b"
            ],
            [
             0.6666666666666666,
             "#ed7953"
            ],
            [
             0.7777777777777778,
             "#fb9f3a"
            ],
            [
             0.8888888888888888,
             "#fdca26"
            ],
            [
             1,
             "#f0f921"
            ]
           ],
           "sequentialminus": [
            [
             0,
             "#0d0887"
            ],
            [
             0.1111111111111111,
             "#46039f"
            ],
            [
             0.2222222222222222,
             "#7201a8"
            ],
            [
             0.3333333333333333,
             "#9c179e"
            ],
            [
             0.4444444444444444,
             "#bd3786"
            ],
            [
             0.5555555555555556,
             "#d8576b"
            ],
            [
             0.6666666666666666,
             "#ed7953"
            ],
            [
             0.7777777777777778,
             "#fb9f3a"
            ],
            [
             0.8888888888888888,
             "#fdca26"
            ],
            [
             1,
             "#f0f921"
            ]
           ]
          },
          "colorway": [
           "#636efa",
           "#EF553B",
           "#00cc96",
           "#ab63fa",
           "#FFA15A",
           "#19d3f3",
           "#FF6692",
           "#B6E880",
           "#FF97FF",
           "#FECB52"
          ],
          "font": {
           "color": "#2a3f5f"
          },
          "geo": {
           "bgcolor": "white",
           "lakecolor": "white",
           "landcolor": "#E5ECF6",
           "showlakes": true,
           "showland": true,
           "subunitcolor": "white"
          },
          "hoverlabel": {
           "align": "left"
          },
          "hovermode": "closest",
          "mapbox": {
           "style": "light"
          },
          "paper_bgcolor": "white",
          "plot_bgcolor": "#E5ECF6",
          "polar": {
           "angularaxis": {
            "gridcolor": "white",
            "linecolor": "white",
            "ticks": ""
           },
           "bgcolor": "#E5ECF6",
           "radialaxis": {
            "gridcolor": "white",
            "linecolor": "white",
            "ticks": ""
           }
          },
          "scene": {
           "xaxis": {
            "backgroundcolor": "#E5ECF6",
            "gridcolor": "white",
            "gridwidth": 2,
            "linecolor": "white",
            "showbackground": true,
            "ticks": "",
            "zerolinecolor": "white"
           },
           "yaxis": {
            "backgroundcolor": "#E5ECF6",
            "gridcolor": "white",
            "gridwidth": 2,
            "linecolor": "white",
            "showbackground": true,
            "ticks": "",
            "zerolinecolor": "white"
           },
           "zaxis": {
            "backgroundcolor": "#E5ECF6",
            "gridcolor": "white",
            "gridwidth": 2,
            "linecolor": "white",
            "showbackground": true,
            "ticks": "",
            "zerolinecolor": "white"
           }
          },
          "shapedefaults": {
           "line": {
            "color": "#2a3f5f"
           }
          },
          "ternary": {
           "aaxis": {
            "gridcolor": "white",
            "linecolor": "white",
            "ticks": ""
           },
           "baxis": {
            "gridcolor": "white",
            "linecolor": "white",
            "ticks": ""
           },
           "bgcolor": "#E5ECF6",
           "caxis": {
            "gridcolor": "white",
            "linecolor": "white",
            "ticks": ""
           }
          },
          "title": {
           "x": 0.05
          },
          "xaxis": {
           "automargin": true,
           "gridcolor": "white",
           "linecolor": "white",
           "ticks": "",
           "title": {
            "standoff": 15
           },
           "zerolinecolor": "white",
           "zerolinewidth": 2
          },
          "yaxis": {
           "automargin": true,
           "gridcolor": "white",
           "linecolor": "white",
           "ticks": "",
           "title": {
            "standoff": 15
           },
           "zerolinecolor": "white",
           "zerolinewidth": 2
          }
         }
        },
        "xaxis": {
         "anchor": "y",
         "domain": [
          0,
          1
         ],
         "showticklabels": false,
         "tickangle": 45,
         "title": {
          "text": " "
         }
        },
        "yaxis": {
         "anchor": "x",
         "categoryarray": [
          "Kicking Television",
          "At Least That's What You Said",
          "Hell Is Chrome",
          "The Late Greats",
          "Muzzle of Bees",
          "One by One",
          "Radio Cure",
          "Ashes of American Flags",
          "Hummingbird",
          "Heavy Metal Drummer",
          "Wishful Thinking",
          "Company in My Back",
          "Via Chicago",
          "Shot in the Arm",
          "Handshake Drugs",
          "I'm the Man Who Loves You",
          "I Am Trying to Break Your Heart",
          "Jesus, Etc.",
          "Misunderstood",
          "Airline to Heaven"
         ],
         "categoryorder": "array",
         "domain": [
          0,
          1
         ],
         "showticklabels": false,
         "tickangle": 45,
         "title": {
          "text": " "
         }
        }
       }
      }
     },
     "metadata": {},
     "output_type": "display_data"
    },
    {
     "data": {
      "application/vnd.plotly.v1+json": {
       "config": {
        "plotlyServerURL": "https://plot.ly"
       },
       "data": [
        {
         "hovertemplate": "track=%{y}<br>count_letter=%{x}<extra></extra>",
         "legendgroup": "You Are My Face",
         "marker": {
          "color": "#636efa"
         },
         "name": "You Are My Face",
         "orientation": "h",
         "showlegend": true,
         "type": "funnel",
         "x": [
          833
         ],
         "xaxis": "x",
         "y": [
          "You Are My Face"
         ],
         "yaxis": "y"
        },
        {
         "hovertemplate": "track=%{y}<br>count_letter=%{x}<extra></extra>",
         "legendgroup": "Hate It Here",
         "marker": {
          "color": "#EF553B"
         },
         "name": "Hate It Here",
         "orientation": "h",
         "showlegend": true,
         "type": "funnel",
         "x": [
          787
         ],
         "xaxis": "x",
         "y": [
          "Hate It Here"
         ],
         "yaxis": "y"
        },
        {
         "hovertemplate": "track=%{y}<br>count_letter=%{x}<extra></extra>",
         "legendgroup": "On and on and On",
         "marker": {
          "color": "#00cc96"
         },
         "name": "On and on and On",
         "orientation": "h",
         "showlegend": true,
         "type": "funnel",
         "x": [
          784
         ],
         "xaxis": "x",
         "y": [
          "On and on and On"
         ],
         "yaxis": "y"
        },
        {
         "hovertemplate": "track=%{y}<br>count_letter=%{x}<extra></extra>",
         "legendgroup": "Shake It Off",
         "marker": {
          "color": "#ab63fa"
         },
         "name": "Shake It Off",
         "orientation": "h",
         "showlegend": true,
         "type": "funnel",
         "x": [
          752
         ],
         "xaxis": "x",
         "y": [
          "Shake It Off"
         ],
         "yaxis": "y"
        },
        {
         "hovertemplate": "track=%{y}<br>count_letter=%{x}<extra></extra>",
         "legendgroup": "Let's Not Get Carried Away",
         "marker": {
          "color": "#FFA15A"
         },
         "name": "Let's Not Get Carried Away",
         "orientation": "h",
         "showlegend": true,
         "type": "funnel",
         "x": [
          742
         ],
         "xaxis": "x",
         "y": [
          "Let's Not Get Carried Away"
         ],
         "yaxis": "y"
        },
        {
         "hovertemplate": "track=%{y}<br>count_letter=%{x}<extra></extra>",
         "legendgroup": "What Light",
         "marker": {
          "color": "#19d3f3"
         },
         "name": "What Light",
         "orientation": "h",
         "showlegend": true,
         "type": "funnel",
         "x": [
          690
         ],
         "xaxis": "x",
         "y": [
          "What Light"
         ],
         "yaxis": "y"
        },
        {
         "hovertemplate": "track=%{y}<br>count_letter=%{x}<extra></extra>",
         "legendgroup": "The Thanks I Get",
         "marker": {
          "color": "#FF6692"
         },
         "name": "The Thanks I Get",
         "orientation": "h",
         "showlegend": true,
         "type": "funnel",
         "x": [
          673
         ],
         "xaxis": "x",
         "y": [
          "The Thanks I Get"
         ],
         "yaxis": "y"
        },
        {
         "hovertemplate": "track=%{y}<br>count_letter=%{x}<extra></extra>",
         "legendgroup": "Walken",
         "marker": {
          "color": "#B6E880"
         },
         "name": "Walken",
         "orientation": "h",
         "showlegend": true,
         "type": "funnel",
         "x": [
          586
         ],
         "xaxis": "x",
         "y": [
          "Walken"
         ],
         "yaxis": "y"
        },
        {
         "hovertemplate": "track=%{y}<br>count_letter=%{x}<extra></extra>",
         "legendgroup": "Side with the Seeds",
         "marker": {
          "color": "#FF97FF"
         },
         "name": "Side with the Seeds",
         "orientation": "h",
         "showlegend": true,
         "type": "funnel",
         "x": [
          495
         ],
         "xaxis": "x",
         "y": [
          "Side with the Seeds"
         ],
         "yaxis": "y"
        },
        {
         "hovertemplate": "track=%{y}<br>count_letter=%{x}<extra></extra>",
         "legendgroup": "Impossible Germany",
         "marker": {
          "color": "#FECB52"
         },
         "name": "Impossible Germany",
         "orientation": "h",
         "showlegend": true,
         "type": "funnel",
         "x": [
          494
         ],
         "xaxis": "x",
         "y": [
          "Impossible Germany"
         ],
         "yaxis": "y"
        },
        {
         "hovertemplate": "track=%{y}<br>count_letter=%{x}<extra></extra>",
         "legendgroup": "Impossible Germany - Live",
         "marker": {
          "color": "#636efa"
         },
         "name": "Impossible Germany - Live",
         "orientation": "h",
         "showlegend": true,
         "type": "funnel",
         "x": [
          492
         ],
         "xaxis": "x",
         "y": [
          "Impossible Germany - Live"
         ],
         "yaxis": "y"
        },
        {
         "hovertemplate": "track=%{y}<br>count_letter=%{x}<extra></extra>",
         "legendgroup": "Sky Blue Sky",
         "marker": {
          "color": "#EF553B"
         },
         "name": "Sky Blue Sky",
         "orientation": "h",
         "showlegend": true,
         "type": "funnel",
         "x": [
          486
         ],
         "xaxis": "x",
         "y": [
          "Sky Blue Sky"
         ],
         "yaxis": "y"
        },
        {
         "hovertemplate": "track=%{y}<br>count_letter=%{x}<extra></extra>",
         "legendgroup": "Leave Me (Like You Found Me)",
         "marker": {
          "color": "#00cc96"
         },
         "name": "Leave Me (Like You Found Me)",
         "orientation": "h",
         "showlegend": true,
         "type": "funnel",
         "x": [
          431
         ],
         "xaxis": "x",
         "y": [
          "Leave Me (Like You Found Me)"
         ],
         "yaxis": "y"
        },
        {
         "hovertemplate": "track=%{y}<br>count_letter=%{x}<extra></extra>",
         "legendgroup": "One True Vine",
         "marker": {
          "color": "#ab63fa"
         },
         "name": "One True Vine",
         "orientation": "h",
         "showlegend": true,
         "type": "funnel",
         "x": [
          419
         ],
         "xaxis": "x",
         "y": [
          "One True Vine"
         ],
         "yaxis": "y"
        },
        {
         "hovertemplate": "track=%{y}<br>count_letter=%{x}<extra></extra>",
         "legendgroup": "Please Be Patient with Me",
         "marker": {
          "color": "#FFA15A"
         },
         "name": "Please Be Patient with Me",
         "orientation": "h",
         "showlegend": true,
         "type": "funnel",
         "x": [
          403
         ],
         "xaxis": "x",
         "y": [
          "Please Be Patient with Me"
         ],
         "yaxis": "y"
        },
        {
         "hovertemplate": "track=%{y}<br>count_letter=%{x}<extra></extra>",
         "legendgroup": "Either Way",
         "marker": {
          "color": "#19d3f3"
         },
         "name": "Either Way",
         "orientation": "h",
         "showlegend": true,
         "type": "funnel",
         "x": [
          387
         ],
         "xaxis": "x",
         "y": [
          "Either Way"
         ],
         "yaxis": "y"
        }
       ],
       "layout": {
        "annotations": [
         {
          "showarrow": false,
          "text": "Album - Sky Blue Sky",
          "x": 0.5,
          "xref": "paper",
          "y": -0.1,
          "yref": "paper"
         }
        ],
        "legend": {
         "title": {
          "text": "track"
         },
         "tracegroupgap": 0
        },
        "margin": {
         "t": 60
        },
        "template": {
         "data": {
          "bar": [
           {
            "error_x": {
             "color": "#2a3f5f"
            },
            "error_y": {
             "color": "#2a3f5f"
            },
            "marker": {
             "line": {
              "color": "#E5ECF6",
              "width": 0.5
             },
             "pattern": {
              "fillmode": "overlay",
              "size": 10,
              "solidity": 0.2
             }
            },
            "type": "bar"
           }
          ],
          "barpolar": [
           {
            "marker": {
             "line": {
              "color": "#E5ECF6",
              "width": 0.5
             },
             "pattern": {
              "fillmode": "overlay",
              "size": 10,
              "solidity": 0.2
             }
            },
            "type": "barpolar"
           }
          ],
          "carpet": [
           {
            "aaxis": {
             "endlinecolor": "#2a3f5f",
             "gridcolor": "white",
             "linecolor": "white",
             "minorgridcolor": "white",
             "startlinecolor": "#2a3f5f"
            },
            "baxis": {
             "endlinecolor": "#2a3f5f",
             "gridcolor": "white",
             "linecolor": "white",
             "minorgridcolor": "white",
             "startlinecolor": "#2a3f5f"
            },
            "type": "carpet"
           }
          ],
          "choropleth": [
           {
            "colorbar": {
             "outlinewidth": 0,
             "ticks": ""
            },
            "type": "choropleth"
           }
          ],
          "contour": [
           {
            "colorbar": {
             "outlinewidth": 0,
             "ticks": ""
            },
            "colorscale": [
             [
              0,
              "#0d0887"
             ],
             [
              0.1111111111111111,
              "#46039f"
             ],
             [
              0.2222222222222222,
              "#7201a8"
             ],
             [
              0.3333333333333333,
              "#9c179e"
             ],
             [
              0.4444444444444444,
              "#bd3786"
             ],
             [
              0.5555555555555556,
              "#d8576b"
             ],
             [
              0.6666666666666666,
              "#ed7953"
             ],
             [
              0.7777777777777778,
              "#fb9f3a"
             ],
             [
              0.8888888888888888,
              "#fdca26"
             ],
             [
              1,
              "#f0f921"
             ]
            ],
            "type": "contour"
           }
          ],
          "contourcarpet": [
           {
            "colorbar": {
             "outlinewidth": 0,
             "ticks": ""
            },
            "type": "contourcarpet"
           }
          ],
          "heatmap": [
           {
            "colorbar": {
             "outlinewidth": 0,
             "ticks": ""
            },
            "colorscale": [
             [
              0,
              "#0d0887"
             ],
             [
              0.1111111111111111,
              "#46039f"
             ],
             [
              0.2222222222222222,
              "#7201a8"
             ],
             [
              0.3333333333333333,
              "#9c179e"
             ],
             [
              0.4444444444444444,
              "#bd3786"
             ],
             [
              0.5555555555555556,
              "#d8576b"
             ],
             [
              0.6666666666666666,
              "#ed7953"
             ],
             [
              0.7777777777777778,
              "#fb9f3a"
             ],
             [
              0.8888888888888888,
              "#fdca26"
             ],
             [
              1,
              "#f0f921"
             ]
            ],
            "type": "heatmap"
           }
          ],
          "heatmapgl": [
           {
            "colorbar": {
             "outlinewidth": 0,
             "ticks": ""
            },
            "colorscale": [
             [
              0,
              "#0d0887"
             ],
             [
              0.1111111111111111,
              "#46039f"
             ],
             [
              0.2222222222222222,
              "#7201a8"
             ],
             [
              0.3333333333333333,
              "#9c179e"
             ],
             [
              0.4444444444444444,
              "#bd3786"
             ],
             [
              0.5555555555555556,
              "#d8576b"
             ],
             [
              0.6666666666666666,
              "#ed7953"
             ],
             [
              0.7777777777777778,
              "#fb9f3a"
             ],
             [
              0.8888888888888888,
              "#fdca26"
             ],
             [
              1,
              "#f0f921"
             ]
            ],
            "type": "heatmapgl"
           }
          ],
          "histogram": [
           {
            "marker": {
             "pattern": {
              "fillmode": "overlay",
              "size": 10,
              "solidity": 0.2
             }
            },
            "type": "histogram"
           }
          ],
          "histogram2d": [
           {
            "colorbar": {
             "outlinewidth": 0,
             "ticks": ""
            },
            "colorscale": [
             [
              0,
              "#0d0887"
             ],
             [
              0.1111111111111111,
              "#46039f"
             ],
             [
              0.2222222222222222,
              "#7201a8"
             ],
             [
              0.3333333333333333,
              "#9c179e"
             ],
             [
              0.4444444444444444,
              "#bd3786"
             ],
             [
              0.5555555555555556,
              "#d8576b"
             ],
             [
              0.6666666666666666,
              "#ed7953"
             ],
             [
              0.7777777777777778,
              "#fb9f3a"
             ],
             [
              0.8888888888888888,
              "#fdca26"
             ],
             [
              1,
              "#f0f921"
             ]
            ],
            "type": "histogram2d"
           }
          ],
          "histogram2dcontour": [
           {
            "colorbar": {
             "outlinewidth": 0,
             "ticks": ""
            },
            "colorscale": [
             [
              0,
              "#0d0887"
             ],
             [
              0.1111111111111111,
              "#46039f"
             ],
             [
              0.2222222222222222,
              "#7201a8"
             ],
             [
              0.3333333333333333,
              "#9c179e"
             ],
             [
              0.4444444444444444,
              "#bd3786"
             ],
             [
              0.5555555555555556,
              "#d8576b"
             ],
             [
              0.6666666666666666,
              "#ed7953"
             ],
             [
              0.7777777777777778,
              "#fb9f3a"
             ],
             [
              0.8888888888888888,
              "#fdca26"
             ],
             [
              1,
              "#f0f921"
             ]
            ],
            "type": "histogram2dcontour"
           }
          ],
          "mesh3d": [
           {
            "colorbar": {
             "outlinewidth": 0,
             "ticks": ""
            },
            "type": "mesh3d"
           }
          ],
          "parcoords": [
           {
            "line": {
             "colorbar": {
              "outlinewidth": 0,
              "ticks": ""
             }
            },
            "type": "parcoords"
           }
          ],
          "pie": [
           {
            "automargin": true,
            "type": "pie"
           }
          ],
          "scatter": [
           {
            "fillpattern": {
             "fillmode": "overlay",
             "size": 10,
             "solidity": 0.2
            },
            "type": "scatter"
           }
          ],
          "scatter3d": [
           {
            "line": {
             "colorbar": {
              "outlinewidth": 0,
              "ticks": ""
             }
            },
            "marker": {
             "colorbar": {
              "outlinewidth": 0,
              "ticks": ""
             }
            },
            "type": "scatter3d"
           }
          ],
          "scattercarpet": [
           {
            "marker": {
             "colorbar": {
              "outlinewidth": 0,
              "ticks": ""
             }
            },
            "type": "scattercarpet"
           }
          ],
          "scattergeo": [
           {
            "marker": {
             "colorbar": {
              "outlinewidth": 0,
              "ticks": ""
             }
            },
            "type": "scattergeo"
           }
          ],
          "scattergl": [
           {
            "marker": {
             "colorbar": {
              "outlinewidth": 0,
              "ticks": ""
             }
            },
            "type": "scattergl"
           }
          ],
          "scattermapbox": [
           {
            "marker": {
             "colorbar": {
              "outlinewidth": 0,
              "ticks": ""
             }
            },
            "type": "scattermapbox"
           }
          ],
          "scatterpolar": [
           {
            "marker": {
             "colorbar": {
              "outlinewidth": 0,
              "ticks": ""
             }
            },
            "type": "scatterpolar"
           }
          ],
          "scatterpolargl": [
           {
            "marker": {
             "colorbar": {
              "outlinewidth": 0,
              "ticks": ""
             }
            },
            "type": "scatterpolargl"
           }
          ],
          "scatterternary": [
           {
            "marker": {
             "colorbar": {
              "outlinewidth": 0,
              "ticks": ""
             }
            },
            "type": "scatterternary"
           }
          ],
          "surface": [
           {
            "colorbar": {
             "outlinewidth": 0,
             "ticks": ""
            },
            "colorscale": [
             [
              0,
              "#0d0887"
             ],
             [
              0.1111111111111111,
              "#46039f"
             ],
             [
              0.2222222222222222,
              "#7201a8"
             ],
             [
              0.3333333333333333,
              "#9c179e"
             ],
             [
              0.4444444444444444,
              "#bd3786"
             ],
             [
              0.5555555555555556,
              "#d8576b"
             ],
             [
              0.6666666666666666,
              "#ed7953"
             ],
             [
              0.7777777777777778,
              "#fb9f3a"
             ],
             [
              0.8888888888888888,
              "#fdca26"
             ],
             [
              1,
              "#f0f921"
             ]
            ],
            "type": "surface"
           }
          ],
          "table": [
           {
            "cells": {
             "fill": {
              "color": "#EBF0F8"
             },
             "line": {
              "color": "white"
             }
            },
            "header": {
             "fill": {
              "color": "#C8D4E3"
             },
             "line": {
              "color": "white"
             }
            },
            "type": "table"
           }
          ]
         },
         "layout": {
          "annotationdefaults": {
           "arrowcolor": "#2a3f5f",
           "arrowhead": 0,
           "arrowwidth": 1
          },
          "autotypenumbers": "strict",
          "coloraxis": {
           "colorbar": {
            "outlinewidth": 0,
            "ticks": ""
           }
          },
          "colorscale": {
           "diverging": [
            [
             0,
             "#8e0152"
            ],
            [
             0.1,
             "#c51b7d"
            ],
            [
             0.2,
             "#de77ae"
            ],
            [
             0.3,
             "#f1b6da"
            ],
            [
             0.4,
             "#fde0ef"
            ],
            [
             0.5,
             "#f7f7f7"
            ],
            [
             0.6,
             "#e6f5d0"
            ],
            [
             0.7,
             "#b8e186"
            ],
            [
             0.8,
             "#7fbc41"
            ],
            [
             0.9,
             "#4d9221"
            ],
            [
             1,
             "#276419"
            ]
           ],
           "sequential": [
            [
             0,
             "#0d0887"
            ],
            [
             0.1111111111111111,
             "#46039f"
            ],
            [
             0.2222222222222222,
             "#7201a8"
            ],
            [
             0.3333333333333333,
             "#9c179e"
            ],
            [
             0.4444444444444444,
             "#bd3786"
            ],
            [
             0.5555555555555556,
             "#d8576b"
            ],
            [
             0.6666666666666666,
             "#ed7953"
            ],
            [
             0.7777777777777778,
             "#fb9f3a"
            ],
            [
             0.8888888888888888,
             "#fdca26"
            ],
            [
             1,
             "#f0f921"
            ]
           ],
           "sequentialminus": [
            [
             0,
             "#0d0887"
            ],
            [
             0.1111111111111111,
             "#46039f"
            ],
            [
             0.2222222222222222,
             "#7201a8"
            ],
            [
             0.3333333333333333,
             "#9c179e"
            ],
            [
             0.4444444444444444,
             "#bd3786"
            ],
            [
             0.5555555555555556,
             "#d8576b"
            ],
            [
             0.6666666666666666,
             "#ed7953"
            ],
            [
             0.7777777777777778,
             "#fb9f3a"
            ],
            [
             0.8888888888888888,
             "#fdca26"
            ],
            [
             1,
             "#f0f921"
            ]
           ]
          },
          "colorway": [
           "#636efa",
           "#EF553B",
           "#00cc96",
           "#ab63fa",
           "#FFA15A",
           "#19d3f3",
           "#FF6692",
           "#B6E880",
           "#FF97FF",
           "#FECB52"
          ],
          "font": {
           "color": "#2a3f5f"
          },
          "geo": {
           "bgcolor": "white",
           "lakecolor": "white",
           "landcolor": "#E5ECF6",
           "showlakes": true,
           "showland": true,
           "subunitcolor": "white"
          },
          "hoverlabel": {
           "align": "left"
          },
          "hovermode": "closest",
          "mapbox": {
           "style": "light"
          },
          "paper_bgcolor": "white",
          "plot_bgcolor": "#E5ECF6",
          "polar": {
           "angularaxis": {
            "gridcolor": "white",
            "linecolor": "white",
            "ticks": ""
           },
           "bgcolor": "#E5ECF6",
           "radialaxis": {
            "gridcolor": "white",
            "linecolor": "white",
            "ticks": ""
           }
          },
          "scene": {
           "xaxis": {
            "backgroundcolor": "#E5ECF6",
            "gridcolor": "white",
            "gridwidth": 2,
            "linecolor": "white",
            "showbackground": true,
            "ticks": "",
            "zerolinecolor": "white"
           },
           "yaxis": {
            "backgroundcolor": "#E5ECF6",
            "gridcolor": "white",
            "gridwidth": 2,
            "linecolor": "white",
            "showbackground": true,
            "ticks": "",
            "zerolinecolor": "white"
           },
           "zaxis": {
            "backgroundcolor": "#E5ECF6",
            "gridcolor": "white",
            "gridwidth": 2,
            "linecolor": "white",
            "showbackground": true,
            "ticks": "",
            "zerolinecolor": "white"
           }
          },
          "shapedefaults": {
           "line": {
            "color": "#2a3f5f"
           }
          },
          "ternary": {
           "aaxis": {
            "gridcolor": "white",
            "linecolor": "white",
            "ticks": ""
           },
           "baxis": {
            "gridcolor": "white",
            "linecolor": "white",
            "ticks": ""
           },
           "bgcolor": "#E5ECF6",
           "caxis": {
            "gridcolor": "white",
            "linecolor": "white",
            "ticks": ""
           }
          },
          "title": {
           "x": 0.05
          },
          "xaxis": {
           "automargin": true,
           "gridcolor": "white",
           "linecolor": "white",
           "ticks": "",
           "title": {
            "standoff": 15
           },
           "zerolinecolor": "white",
           "zerolinewidth": 2
          },
          "yaxis": {
           "automargin": true,
           "gridcolor": "white",
           "linecolor": "white",
           "ticks": "",
           "title": {
            "standoff": 15
           },
           "zerolinecolor": "white",
           "zerolinewidth": 2
          }
         }
        },
        "xaxis": {
         "anchor": "y",
         "domain": [
          0,
          1
         ],
         "showticklabels": false,
         "tickangle": 45,
         "title": {
          "text": " "
         }
        },
        "yaxis": {
         "anchor": "x",
         "categoryarray": [
          "Either Way",
          "Please Be Patient with Me",
          "One True Vine",
          "Leave Me (Like You Found Me)",
          "Sky Blue Sky",
          "Impossible Germany - Live",
          "Impossible Germany",
          "Side with the Seeds",
          "Walken",
          "The Thanks I Get",
          "What Light",
          "Let's Not Get Carried Away",
          "Shake It Off",
          "On and on and On",
          "Hate It Here",
          "You Are My Face"
         ],
         "categoryorder": "array",
         "domain": [
          0,
          1
         ],
         "showticklabels": false,
         "tickangle": 45,
         "title": {
          "text": " "
         }
        }
       }
      }
     },
     "metadata": {},
     "output_type": "display_data"
    },
    {
     "data": {
      "application/vnd.plotly.v1+json": {
       "config": {
        "plotlyServerURL": "https://plot.ly"
       },
       "data": [
        {
         "hovertemplate": "track=%{y}<br>count_letter=%{x}<extra></extra>",
         "legendgroup": "I'll Fight",
         "marker": {
          "color": "#636efa"
         },
         "name": "I'll Fight",
         "orientation": "h",
         "showlegend": true,
         "type": "funnel",
         "x": [
          1388
         ],
         "xaxis": "x",
         "y": [
          "I'll Fight"
         ],
         "yaxis": "y"
        },
        {
         "hovertemplate": "track=%{y}<br>count_letter=%{x}<extra></extra>",
         "legendgroup": "You Never Know",
         "marker": {
          "color": "#EF553B"
         },
         "name": "You Never Know",
         "orientation": "h",
         "showlegend": true,
         "type": "funnel",
         "x": [
          947
         ],
         "xaxis": "x",
         "y": [
          "You Never Know"
         ],
         "yaxis": "y"
        },
        {
         "hovertemplate": "track=%{y}<br>count_letter=%{x}<extra></extra>",
         "legendgroup": "Dark Neon",
         "marker": {
          "color": "#00cc96"
         },
         "name": "Dark Neon",
         "orientation": "h",
         "showlegend": true,
         "type": "funnel",
         "x": [
          914
         ],
         "xaxis": "x",
         "y": [
          "Dark Neon"
         ],
         "yaxis": "y"
        },
        {
         "hovertemplate": "track=%{y}<br>count_letter=%{x}<extra></extra>",
         "legendgroup": "Sonny Feeling",
         "marker": {
          "color": "#ab63fa"
         },
         "name": "Sonny Feeling",
         "orientation": "h",
         "showlegend": true,
         "type": "funnel",
         "x": [
          886
         ],
         "xaxis": "x",
         "y": [
          "Sonny Feeling"
         ],
         "yaxis": "y"
        },
        {
         "hovertemplate": "track=%{y}<br>count_letter=%{x}<extra></extra>",
         "legendgroup": "Country Disappeared",
         "marker": {
          "color": "#FFA15A"
         },
         "name": "Country Disappeared",
         "orientation": "h",
         "showlegend": true,
         "type": "funnel",
         "x": [
          844
         ],
         "xaxis": "x",
         "y": [
          "Country Disappeared"
         ],
         "yaxis": "y"
        },
        {
         "hovertemplate": "track=%{y}<br>count_letter=%{x}<extra></extra>",
         "legendgroup": "Wilco (The Song)",
         "marker": {
          "color": "#19d3f3"
         },
         "name": "Wilco (The Song)",
         "orientation": "h",
         "showlegend": true,
         "type": "funnel",
         "x": [
          673
         ],
         "xaxis": "x",
         "y": [
          "Wilco (The Song)"
         ],
         "yaxis": "y"
        },
        {
         "hovertemplate": "track=%{y}<br>count_letter=%{x}<extra></extra>",
         "legendgroup": "You and I",
         "marker": {
          "color": "#FF6692"
         },
         "name": "You and I",
         "orientation": "h",
         "showlegend": true,
         "type": "funnel",
         "x": [
          614
         ],
         "xaxis": "x",
         "y": [
          "You and I"
         ],
         "yaxis": "y"
        },
        {
         "hovertemplate": "track=%{y}<br>count_letter=%{x}<extra></extra>",
         "legendgroup": "Bull Black Nova",
         "marker": {
          "color": "#B6E880"
         },
         "name": "Bull Black Nova",
         "orientation": "h",
         "showlegend": true,
         "type": "funnel",
         "x": [
          578
         ],
         "xaxis": "x",
         "y": [
          "Bull Black Nova"
         ],
         "yaxis": "y"
        },
        {
         "hovertemplate": "track=%{y}<br>count_letter=%{x}<extra></extra>",
         "legendgroup": "Everlasting Everything",
         "marker": {
          "color": "#FF97FF"
         },
         "name": "Everlasting Everything",
         "orientation": "h",
         "showlegend": true,
         "type": "funnel",
         "x": [
          553
         ],
         "xaxis": "x",
         "y": [
          "Everlasting Everything"
         ],
         "yaxis": "y"
        },
        {
         "hovertemplate": "track=%{y}<br>count_letter=%{x}<extra></extra>",
         "legendgroup": "One Wing",
         "marker": {
          "color": "#FECB52"
         },
         "name": "One Wing",
         "orientation": "h",
         "showlegend": true,
         "type": "funnel",
         "x": [
          533
         ],
         "xaxis": "x",
         "y": [
          "One Wing"
         ],
         "yaxis": "y"
        },
        {
         "hovertemplate": "track=%{y}<br>count_letter=%{x}<extra></extra>",
         "legendgroup": "Deeper Down",
         "marker": {
          "color": "#636efa"
         },
         "name": "Deeper Down",
         "orientation": "h",
         "showlegend": true,
         "type": "funnel",
         "x": [
          467
         ],
         "xaxis": "x",
         "y": [
          "Deeper Down"
         ],
         "yaxis": "y"
        },
        {
         "hovertemplate": "track=%{y}<br>count_letter=%{x}<extra></extra>",
         "legendgroup": "Solitaire",
         "marker": {
          "color": "#EF553B"
         },
         "name": "Solitaire",
         "orientation": "h",
         "showlegend": true,
         "type": "funnel",
         "x": [
          380
         ],
         "xaxis": "x",
         "y": [
          "Solitaire"
         ],
         "yaxis": "y"
        }
       ],
       "layout": {
        "annotations": [
         {
          "showarrow": false,
          "text": "Album - Wilco (The Album)",
          "x": 0.5,
          "xref": "paper",
          "y": -0.1,
          "yref": "paper"
         }
        ],
        "legend": {
         "title": {
          "text": "track"
         },
         "tracegroupgap": 0
        },
        "margin": {
         "t": 60
        },
        "template": {
         "data": {
          "bar": [
           {
            "error_x": {
             "color": "#2a3f5f"
            },
            "error_y": {
             "color": "#2a3f5f"
            },
            "marker": {
             "line": {
              "color": "#E5ECF6",
              "width": 0.5
             },
             "pattern": {
              "fillmode": "overlay",
              "size": 10,
              "solidity": 0.2
             }
            },
            "type": "bar"
           }
          ],
          "barpolar": [
           {
            "marker": {
             "line": {
              "color": "#E5ECF6",
              "width": 0.5
             },
             "pattern": {
              "fillmode": "overlay",
              "size": 10,
              "solidity": 0.2
             }
            },
            "type": "barpolar"
           }
          ],
          "carpet": [
           {
            "aaxis": {
             "endlinecolor": "#2a3f5f",
             "gridcolor": "white",
             "linecolor": "white",
             "minorgridcolor": "white",
             "startlinecolor": "#2a3f5f"
            },
            "baxis": {
             "endlinecolor": "#2a3f5f",
             "gridcolor": "white",
             "linecolor": "white",
             "minorgridcolor": "white",
             "startlinecolor": "#2a3f5f"
            },
            "type": "carpet"
           }
          ],
          "choropleth": [
           {
            "colorbar": {
             "outlinewidth": 0,
             "ticks": ""
            },
            "type": "choropleth"
           }
          ],
          "contour": [
           {
            "colorbar": {
             "outlinewidth": 0,
             "ticks": ""
            },
            "colorscale": [
             [
              0,
              "#0d0887"
             ],
             [
              0.1111111111111111,
              "#46039f"
             ],
             [
              0.2222222222222222,
              "#7201a8"
             ],
             [
              0.3333333333333333,
              "#9c179e"
             ],
             [
              0.4444444444444444,
              "#bd3786"
             ],
             [
              0.5555555555555556,
              "#d8576b"
             ],
             [
              0.6666666666666666,
              "#ed7953"
             ],
             [
              0.7777777777777778,
              "#fb9f3a"
             ],
             [
              0.8888888888888888,
              "#fdca26"
             ],
             [
              1,
              "#f0f921"
             ]
            ],
            "type": "contour"
           }
          ],
          "contourcarpet": [
           {
            "colorbar": {
             "outlinewidth": 0,
             "ticks": ""
            },
            "type": "contourcarpet"
           }
          ],
          "heatmap": [
           {
            "colorbar": {
             "outlinewidth": 0,
             "ticks": ""
            },
            "colorscale": [
             [
              0,
              "#0d0887"
             ],
             [
              0.1111111111111111,
              "#46039f"
             ],
             [
              0.2222222222222222,
              "#7201a8"
             ],
             [
              0.3333333333333333,
              "#9c179e"
             ],
             [
              0.4444444444444444,
              "#bd3786"
             ],
             [
              0.5555555555555556,
              "#d8576b"
             ],
             [
              0.6666666666666666,
              "#ed7953"
             ],
             [
              0.7777777777777778,
              "#fb9f3a"
             ],
             [
              0.8888888888888888,
              "#fdca26"
             ],
             [
              1,
              "#f0f921"
             ]
            ],
            "type": "heatmap"
           }
          ],
          "heatmapgl": [
           {
            "colorbar": {
             "outlinewidth": 0,
             "ticks": ""
            },
            "colorscale": [
             [
              0,
              "#0d0887"
             ],
             [
              0.1111111111111111,
              "#46039f"
             ],
             [
              0.2222222222222222,
              "#7201a8"
             ],
             [
              0.3333333333333333,
              "#9c179e"
             ],
             [
              0.4444444444444444,
              "#bd3786"
             ],
             [
              0.5555555555555556,
              "#d8576b"
             ],
             [
              0.6666666666666666,
              "#ed7953"
             ],
             [
              0.7777777777777778,
              "#fb9f3a"
             ],
             [
              0.8888888888888888,
              "#fdca26"
             ],
             [
              1,
              "#f0f921"
             ]
            ],
            "type": "heatmapgl"
           }
          ],
          "histogram": [
           {
            "marker": {
             "pattern": {
              "fillmode": "overlay",
              "size": 10,
              "solidity": 0.2
             }
            },
            "type": "histogram"
           }
          ],
          "histogram2d": [
           {
            "colorbar": {
             "outlinewidth": 0,
             "ticks": ""
            },
            "colorscale": [
             [
              0,
              "#0d0887"
             ],
             [
              0.1111111111111111,
              "#46039f"
             ],
             [
              0.2222222222222222,
              "#7201a8"
             ],
             [
              0.3333333333333333,
              "#9c179e"
             ],
             [
              0.4444444444444444,
              "#bd3786"
             ],
             [
              0.5555555555555556,
              "#d8576b"
             ],
             [
              0.6666666666666666,
              "#ed7953"
             ],
             [
              0.7777777777777778,
              "#fb9f3a"
             ],
             [
              0.8888888888888888,
              "#fdca26"
             ],
             [
              1,
              "#f0f921"
             ]
            ],
            "type": "histogram2d"
           }
          ],
          "histogram2dcontour": [
           {
            "colorbar": {
             "outlinewidth": 0,
             "ticks": ""
            },
            "colorscale": [
             [
              0,
              "#0d0887"
             ],
             [
              0.1111111111111111,
              "#46039f"
             ],
             [
              0.2222222222222222,
              "#7201a8"
             ],
             [
              0.3333333333333333,
              "#9c179e"
             ],
             [
              0.4444444444444444,
              "#bd3786"
             ],
             [
              0.5555555555555556,
              "#d8576b"
             ],
             [
              0.6666666666666666,
              "#ed7953"
             ],
             [
              0.7777777777777778,
              "#fb9f3a"
             ],
             [
              0.8888888888888888,
              "#fdca26"
             ],
             [
              1,
              "#f0f921"
             ]
            ],
            "type": "histogram2dcontour"
           }
          ],
          "mesh3d": [
           {
            "colorbar": {
             "outlinewidth": 0,
             "ticks": ""
            },
            "type": "mesh3d"
           }
          ],
          "parcoords": [
           {
            "line": {
             "colorbar": {
              "outlinewidth": 0,
              "ticks": ""
             }
            },
            "type": "parcoords"
           }
          ],
          "pie": [
           {
            "automargin": true,
            "type": "pie"
           }
          ],
          "scatter": [
           {
            "fillpattern": {
             "fillmode": "overlay",
             "size": 10,
             "solidity": 0.2
            },
            "type": "scatter"
           }
          ],
          "scatter3d": [
           {
            "line": {
             "colorbar": {
              "outlinewidth": 0,
              "ticks": ""
             }
            },
            "marker": {
             "colorbar": {
              "outlinewidth": 0,
              "ticks": ""
             }
            },
            "type": "scatter3d"
           }
          ],
          "scattercarpet": [
           {
            "marker": {
             "colorbar": {
              "outlinewidth": 0,
              "ticks": ""
             }
            },
            "type": "scattercarpet"
           }
          ],
          "scattergeo": [
           {
            "marker": {
             "colorbar": {
              "outlinewidth": 0,
              "ticks": ""
             }
            },
            "type": "scattergeo"
           }
          ],
          "scattergl": [
           {
            "marker": {
             "colorbar": {
              "outlinewidth": 0,
              "ticks": ""
             }
            },
            "type": "scattergl"
           }
          ],
          "scattermapbox": [
           {
            "marker": {
             "colorbar": {
              "outlinewidth": 0,
              "ticks": ""
             }
            },
            "type": "scattermapbox"
           }
          ],
          "scatterpolar": [
           {
            "marker": {
             "colorbar": {
              "outlinewidth": 0,
              "ticks": ""
             }
            },
            "type": "scatterpolar"
           }
          ],
          "scatterpolargl": [
           {
            "marker": {
             "colorbar": {
              "outlinewidth": 0,
              "ticks": ""
             }
            },
            "type": "scatterpolargl"
           }
          ],
          "scatterternary": [
           {
            "marker": {
             "colorbar": {
              "outlinewidth": 0,
              "ticks": ""
             }
            },
            "type": "scatterternary"
           }
          ],
          "surface": [
           {
            "colorbar": {
             "outlinewidth": 0,
             "ticks": ""
            },
            "colorscale": [
             [
              0,
              "#0d0887"
             ],
             [
              0.1111111111111111,
              "#46039f"
             ],
             [
              0.2222222222222222,
              "#7201a8"
             ],
             [
              0.3333333333333333,
              "#9c179e"
             ],
             [
              0.4444444444444444,
              "#bd3786"
             ],
             [
              0.5555555555555556,
              "#d8576b"
             ],
             [
              0.6666666666666666,
              "#ed7953"
             ],
             [
              0.7777777777777778,
              "#fb9f3a"
             ],
             [
              0.8888888888888888,
              "#fdca26"
             ],
             [
              1,
              "#f0f921"
             ]
            ],
            "type": "surface"
           }
          ],
          "table": [
           {
            "cells": {
             "fill": {
              "color": "#EBF0F8"
             },
             "line": {
              "color": "white"
             }
            },
            "header": {
             "fill": {
              "color": "#C8D4E3"
             },
             "line": {
              "color": "white"
             }
            },
            "type": "table"
           }
          ]
         },
         "layout": {
          "annotationdefaults": {
           "arrowcolor": "#2a3f5f",
           "arrowhead": 0,
           "arrowwidth": 1
          },
          "autotypenumbers": "strict",
          "coloraxis": {
           "colorbar": {
            "outlinewidth": 0,
            "ticks": ""
           }
          },
          "colorscale": {
           "diverging": [
            [
             0,
             "#8e0152"
            ],
            [
             0.1,
             "#c51b7d"
            ],
            [
             0.2,
             "#de77ae"
            ],
            [
             0.3,
             "#f1b6da"
            ],
            [
             0.4,
             "#fde0ef"
            ],
            [
             0.5,
             "#f7f7f7"
            ],
            [
             0.6,
             "#e6f5d0"
            ],
            [
             0.7,
             "#b8e186"
            ],
            [
             0.8,
             "#7fbc41"
            ],
            [
             0.9,
             "#4d9221"
            ],
            [
             1,
             "#276419"
            ]
           ],
           "sequential": [
            [
             0,
             "#0d0887"
            ],
            [
             0.1111111111111111,
             "#46039f"
            ],
            [
             0.2222222222222222,
             "#7201a8"
            ],
            [
             0.3333333333333333,
             "#9c179e"
            ],
            [
             0.4444444444444444,
             "#bd3786"
            ],
            [
             0.5555555555555556,
             "#d8576b"
            ],
            [
             0.6666666666666666,
             "#ed7953"
            ],
            [
             0.7777777777777778,
             "#fb9f3a"
            ],
            [
             0.8888888888888888,
             "#fdca26"
            ],
            [
             1,
             "#f0f921"
            ]
           ],
           "sequentialminus": [
            [
             0,
             "#0d0887"
            ],
            [
             0.1111111111111111,
             "#46039f"
            ],
            [
             0.2222222222222222,
             "#7201a8"
            ],
            [
             0.3333333333333333,
             "#9c179e"
            ],
            [
             0.4444444444444444,
             "#bd3786"
            ],
            [
             0.5555555555555556,
             "#d8576b"
            ],
            [
             0.6666666666666666,
             "#ed7953"
            ],
            [
             0.7777777777777778,
             "#fb9f3a"
            ],
            [
             0.8888888888888888,
             "#fdca26"
            ],
            [
             1,
             "#f0f921"
            ]
           ]
          },
          "colorway": [
           "#636efa",
           "#EF553B",
           "#00cc96",
           "#ab63fa",
           "#FFA15A",
           "#19d3f3",
           "#FF6692",
           "#B6E880",
           "#FF97FF",
           "#FECB52"
          ],
          "font": {
           "color": "#2a3f5f"
          },
          "geo": {
           "bgcolor": "white",
           "lakecolor": "white",
           "landcolor": "#E5ECF6",
           "showlakes": true,
           "showland": true,
           "subunitcolor": "white"
          },
          "hoverlabel": {
           "align": "left"
          },
          "hovermode": "closest",
          "mapbox": {
           "style": "light"
          },
          "paper_bgcolor": "white",
          "plot_bgcolor": "#E5ECF6",
          "polar": {
           "angularaxis": {
            "gridcolor": "white",
            "linecolor": "white",
            "ticks": ""
           },
           "bgcolor": "#E5ECF6",
           "radialaxis": {
            "gridcolor": "white",
            "linecolor": "white",
            "ticks": ""
           }
          },
          "scene": {
           "xaxis": {
            "backgroundcolor": "#E5ECF6",
            "gridcolor": "white",
            "gridwidth": 2,
            "linecolor": "white",
            "showbackground": true,
            "ticks": "",
            "zerolinecolor": "white"
           },
           "yaxis": {
            "backgroundcolor": "#E5ECF6",
            "gridcolor": "white",
            "gridwidth": 2,
            "linecolor": "white",
            "showbackground": true,
            "ticks": "",
            "zerolinecolor": "white"
           },
           "zaxis": {
            "backgroundcolor": "#E5ECF6",
            "gridcolor": "white",
            "gridwidth": 2,
            "linecolor": "white",
            "showbackground": true,
            "ticks": "",
            "zerolinecolor": "white"
           }
          },
          "shapedefaults": {
           "line": {
            "color": "#2a3f5f"
           }
          },
          "ternary": {
           "aaxis": {
            "gridcolor": "white",
            "linecolor": "white",
            "ticks": ""
           },
           "baxis": {
            "gridcolor": "white",
            "linecolor": "white",
            "ticks": ""
           },
           "bgcolor": "#E5ECF6",
           "caxis": {
            "gridcolor": "white",
            "linecolor": "white",
            "ticks": ""
           }
          },
          "title": {
           "x": 0.05
          },
          "xaxis": {
           "automargin": true,
           "gridcolor": "white",
           "linecolor": "white",
           "ticks": "",
           "title": {
            "standoff": 15
           },
           "zerolinecolor": "white",
           "zerolinewidth": 2
          },
          "yaxis": {
           "automargin": true,
           "gridcolor": "white",
           "linecolor": "white",
           "ticks": "",
           "title": {
            "standoff": 15
           },
           "zerolinecolor": "white",
           "zerolinewidth": 2
          }
         }
        },
        "xaxis": {
         "anchor": "y",
         "domain": [
          0,
          1
         ],
         "showticklabels": false,
         "tickangle": 45,
         "title": {
          "text": " "
         }
        },
        "yaxis": {
         "anchor": "x",
         "categoryarray": [
          "Solitaire",
          "Deeper Down",
          "One Wing",
          "Everlasting Everything",
          "Bull Black Nova",
          "You and I",
          "Wilco (The Song)",
          "Country Disappeared",
          "Sonny Feeling",
          "Dark Neon",
          "You Never Know",
          "I'll Fight"
         ],
         "categoryorder": "array",
         "domain": [
          0,
          1
         ],
         "showticklabels": false,
         "tickangle": 45,
         "title": {
          "text": " "
         }
        }
       }
      }
     },
     "metadata": {},
     "output_type": "display_data"
    },
    {
     "data": {
      "application/vnd.plotly.v1+json": {
       "config": {
        "plotlyServerURL": "https://plot.ly"
       },
       "data": [
        {
         "hovertemplate": "track=%{y}<br>count_letter=%{x}<extra></extra>",
         "legendgroup": "Standing O",
         "marker": {
          "color": "#636efa"
         },
         "name": "Standing O",
         "orientation": "h",
         "showlegend": true,
         "type": "funnel",
         "x": [
          881
         ],
         "xaxis": "x",
         "y": [
          "Standing O"
         ],
         "yaxis": "y"
        },
        {
         "hovertemplate": "track=%{y}<br>count_letter=%{x}<extra></extra>",
         "legendgroup": "Whole Love",
         "marker": {
          "color": "#EF553B"
         },
         "name": "Whole Love",
         "orientation": "h",
         "showlegend": true,
         "type": "funnel",
         "x": [
          810
         ],
         "xaxis": "x",
         "y": [
          "Whole Love"
         ],
         "yaxis": "y"
        },
        {
         "hovertemplate": "track=%{y}<br>count_letter=%{x}<extra></extra>",
         "legendgroup": "One Sunday Morning (Song for Jane Smiley's Boyfriend)",
         "marker": {
          "color": "#00cc96"
         },
         "name": "One Sunday Morning (Song for Jane Smiley's Boyfriend)",
         "orientation": "h",
         "showlegend": true,
         "type": "funnel",
         "x": [
          804
         ],
         "xaxis": "x",
         "y": [
          "One Sunday Morning (Song for Jane Smiley's Boyfriend)"
         ],
         "yaxis": "y"
        },
        {
         "hovertemplate": "track=%{y}<br>count_letter=%{x}<extra></extra>",
         "legendgroup": "Capitol City",
         "marker": {
          "color": "#ab63fa"
         },
         "name": "Capitol City",
         "orientation": "h",
         "showlegend": true,
         "type": "funnel",
         "x": [
          771
         ],
         "xaxis": "x",
         "y": [
          "Capitol City"
         ],
         "yaxis": "y"
        },
        {
         "hovertemplate": "track=%{y}<br>count_letter=%{x}<extra></extra>",
         "legendgroup": "Open Mind",
         "marker": {
          "color": "#FFA15A"
         },
         "name": "Open Mind",
         "orientation": "h",
         "showlegend": true,
         "type": "funnel",
         "x": [
          770
         ],
         "xaxis": "x",
         "y": [
          "Open Mind"
         ],
         "yaxis": "y"
        },
        {
         "hovertemplate": "track=%{y}<br>count_letter=%{x}<extra></extra>",
         "legendgroup": "Sometimes It Happens",
         "marker": {
          "color": "#19d3f3"
         },
         "name": "Sometimes It Happens",
         "orientation": "h",
         "showlegend": true,
         "type": "funnel",
         "x": [
          719
         ],
         "xaxis": "x",
         "y": [
          "Sometimes It Happens"
         ],
         "yaxis": "y"
        },
        {
         "hovertemplate": "track=%{y}<br>count_letter=%{x}<extra></extra>",
         "legendgroup": "Message from Mid-Bar",
         "marker": {
          "color": "#FF6692"
         },
         "name": "Message from Mid-Bar",
         "orientation": "h",
         "showlegend": true,
         "type": "funnel",
         "x": [
          706
         ],
         "xaxis": "x",
         "y": [
          "Message from Mid-Bar"
         ],
         "yaxis": "y"
        },
        {
         "hovertemplate": "track=%{y}<br>count_letter=%{x}<extra></extra>",
         "legendgroup": "Born Alone",
         "marker": {
          "color": "#B6E880"
         },
         "name": "Born Alone",
         "orientation": "h",
         "showlegend": true,
         "type": "funnel",
         "x": [
          695
         ],
         "xaxis": "x",
         "y": [
          "Born Alone"
         ],
         "yaxis": "y"
        },
        {
         "hovertemplate": "track=%{y}<br>count_letter=%{x}<extra></extra>",
         "legendgroup": "I Might",
         "marker": {
          "color": "#FF97FF"
         },
         "name": "I Might",
         "orientation": "h",
         "showlegend": true,
         "type": "funnel",
         "x": [
          673
         ],
         "xaxis": "x",
         "y": [
          "I Might"
         ],
         "yaxis": "y"
        },
        {
         "hovertemplate": "track=%{y}<br>count_letter=%{x}<extra></extra>",
         "legendgroup": "Dawned On Me",
         "marker": {
          "color": "#FECB52"
         },
         "name": "Dawned On Me",
         "orientation": "h",
         "showlegend": true,
         "type": "funnel",
         "x": [
          576
         ],
         "xaxis": "x",
         "y": [
          "Dawned On Me"
         ],
         "yaxis": "y"
        },
        {
         "hovertemplate": "track=%{y}<br>count_letter=%{x}<extra></extra>",
         "legendgroup": "I Love My Label",
         "marker": {
          "color": "#636efa"
         },
         "name": "I Love My Label",
         "orientation": "h",
         "showlegend": true,
         "type": "funnel",
         "x": [
          539
         ],
         "xaxis": "x",
         "y": [
          "I Love My Label"
         ],
         "yaxis": "y"
        },
        {
         "hovertemplate": "track=%{y}<br>count_letter=%{x}<extra></extra>",
         "legendgroup": "Art of Almost",
         "marker": {
          "color": "#EF553B"
         },
         "name": "Art of Almost",
         "orientation": "h",
         "showlegend": true,
         "type": "funnel",
         "x": [
          436
         ],
         "xaxis": "x",
         "y": [
          "Art of Almost"
         ],
         "yaxis": "y"
        },
        {
         "hovertemplate": "track=%{y}<br>count_letter=%{x}<extra></extra>",
         "legendgroup": "Rising Red Lung",
         "marker": {
          "color": "#00cc96"
         },
         "name": "Rising Red Lung",
         "orientation": "h",
         "showlegend": true,
         "type": "funnel",
         "x": [
          429
         ],
         "xaxis": "x",
         "y": [
          "Rising Red Lung"
         ],
         "yaxis": "y"
        },
        {
         "hovertemplate": "track=%{y}<br>count_letter=%{x}<extra></extra>",
         "legendgroup": "Sunloathe",
         "marker": {
          "color": "#ab63fa"
         },
         "name": "Sunloathe",
         "orientation": "h",
         "showlegend": true,
         "type": "funnel",
         "x": [
          375
         ],
         "xaxis": "x",
         "y": [
          "Sunloathe"
         ],
         "yaxis": "y"
        },
        {
         "hovertemplate": "track=%{y}<br>count_letter=%{x}<extra></extra>",
         "legendgroup": "Black Moon - Alt",
         "marker": {
          "color": "#FFA15A"
         },
         "name": "Black Moon - Alt",
         "orientation": "h",
         "showlegend": true,
         "type": "funnel",
         "x": [
          331
         ],
         "xaxis": "x",
         "y": [
          "Black Moon - Alt"
         ],
         "yaxis": "y"
        },
        {
         "hovertemplate": "track=%{y}<br>count_letter=%{x}<extra></extra>",
         "legendgroup": "Black Moon",
         "marker": {
          "color": "#19d3f3"
         },
         "name": "Black Moon",
         "orientation": "h",
         "showlegend": true,
         "type": "funnel",
         "x": [
          329
         ],
         "xaxis": "x",
         "y": [
          "Black Moon"
         ],
         "yaxis": "y"
        }
       ],
       "layout": {
        "annotations": [
         {
          "showarrow": false,
          "text": "Album - The Whole Love (Deluxe Version)",
          "x": 0.5,
          "xref": "paper",
          "y": -0.1,
          "yref": "paper"
         }
        ],
        "legend": {
         "title": {
          "text": "track"
         },
         "tracegroupgap": 0
        },
        "margin": {
         "t": 60
        },
        "template": {
         "data": {
          "bar": [
           {
            "error_x": {
             "color": "#2a3f5f"
            },
            "error_y": {
             "color": "#2a3f5f"
            },
            "marker": {
             "line": {
              "color": "#E5ECF6",
              "width": 0.5
             },
             "pattern": {
              "fillmode": "overlay",
              "size": 10,
              "solidity": 0.2
             }
            },
            "type": "bar"
           }
          ],
          "barpolar": [
           {
            "marker": {
             "line": {
              "color": "#E5ECF6",
              "width": 0.5
             },
             "pattern": {
              "fillmode": "overlay",
              "size": 10,
              "solidity": 0.2
             }
            },
            "type": "barpolar"
           }
          ],
          "carpet": [
           {
            "aaxis": {
             "endlinecolor": "#2a3f5f",
             "gridcolor": "white",
             "linecolor": "white",
             "minorgridcolor": "white",
             "startlinecolor": "#2a3f5f"
            },
            "baxis": {
             "endlinecolor": "#2a3f5f",
             "gridcolor": "white",
             "linecolor": "white",
             "minorgridcolor": "white",
             "startlinecolor": "#2a3f5f"
            },
            "type": "carpet"
           }
          ],
          "choropleth": [
           {
            "colorbar": {
             "outlinewidth": 0,
             "ticks": ""
            },
            "type": "choropleth"
           }
          ],
          "contour": [
           {
            "colorbar": {
             "outlinewidth": 0,
             "ticks": ""
            },
            "colorscale": [
             [
              0,
              "#0d0887"
             ],
             [
              0.1111111111111111,
              "#46039f"
             ],
             [
              0.2222222222222222,
              "#7201a8"
             ],
             [
              0.3333333333333333,
              "#9c179e"
             ],
             [
              0.4444444444444444,
              "#bd3786"
             ],
             [
              0.5555555555555556,
              "#d8576b"
             ],
             [
              0.6666666666666666,
              "#ed7953"
             ],
             [
              0.7777777777777778,
              "#fb9f3a"
             ],
             [
              0.8888888888888888,
              "#fdca26"
             ],
             [
              1,
              "#f0f921"
             ]
            ],
            "type": "contour"
           }
          ],
          "contourcarpet": [
           {
            "colorbar": {
             "outlinewidth": 0,
             "ticks": ""
            },
            "type": "contourcarpet"
           }
          ],
          "heatmap": [
           {
            "colorbar": {
             "outlinewidth": 0,
             "ticks": ""
            },
            "colorscale": [
             [
              0,
              "#0d0887"
             ],
             [
              0.1111111111111111,
              "#46039f"
             ],
             [
              0.2222222222222222,
              "#7201a8"
             ],
             [
              0.3333333333333333,
              "#9c179e"
             ],
             [
              0.4444444444444444,
              "#bd3786"
             ],
             [
              0.5555555555555556,
              "#d8576b"
             ],
             [
              0.6666666666666666,
              "#ed7953"
             ],
             [
              0.7777777777777778,
              "#fb9f3a"
             ],
             [
              0.8888888888888888,
              "#fdca26"
             ],
             [
              1,
              "#f0f921"
             ]
            ],
            "type": "heatmap"
           }
          ],
          "heatmapgl": [
           {
            "colorbar": {
             "outlinewidth": 0,
             "ticks": ""
            },
            "colorscale": [
             [
              0,
              "#0d0887"
             ],
             [
              0.1111111111111111,
              "#46039f"
             ],
             [
              0.2222222222222222,
              "#7201a8"
             ],
             [
              0.3333333333333333,
              "#9c179e"
             ],
             [
              0.4444444444444444,
              "#bd3786"
             ],
             [
              0.5555555555555556,
              "#d8576b"
             ],
             [
              0.6666666666666666,
              "#ed7953"
             ],
             [
              0.7777777777777778,
              "#fb9f3a"
             ],
             [
              0.8888888888888888,
              "#fdca26"
             ],
             [
              1,
              "#f0f921"
             ]
            ],
            "type": "heatmapgl"
           }
          ],
          "histogram": [
           {
            "marker": {
             "pattern": {
              "fillmode": "overlay",
              "size": 10,
              "solidity": 0.2
             }
            },
            "type": "histogram"
           }
          ],
          "histogram2d": [
           {
            "colorbar": {
             "outlinewidth": 0,
             "ticks": ""
            },
            "colorscale": [
             [
              0,
              "#0d0887"
             ],
             [
              0.1111111111111111,
              "#46039f"
             ],
             [
              0.2222222222222222,
              "#7201a8"
             ],
             [
              0.3333333333333333,
              "#9c179e"
             ],
             [
              0.4444444444444444,
              "#bd3786"
             ],
             [
              0.5555555555555556,
              "#d8576b"
             ],
             [
              0.6666666666666666,
              "#ed7953"
             ],
             [
              0.7777777777777778,
              "#fb9f3a"
             ],
             [
              0.8888888888888888,
              "#fdca26"
             ],
             [
              1,
              "#f0f921"
             ]
            ],
            "type": "histogram2d"
           }
          ],
          "histogram2dcontour": [
           {
            "colorbar": {
             "outlinewidth": 0,
             "ticks": ""
            },
            "colorscale": [
             [
              0,
              "#0d0887"
             ],
             [
              0.1111111111111111,
              "#46039f"
             ],
             [
              0.2222222222222222,
              "#7201a8"
             ],
             [
              0.3333333333333333,
              "#9c179e"
             ],
             [
              0.4444444444444444,
              "#bd3786"
             ],
             [
              0.5555555555555556,
              "#d8576b"
             ],
             [
              0.6666666666666666,
              "#ed7953"
             ],
             [
              0.7777777777777778,
              "#fb9f3a"
             ],
             [
              0.8888888888888888,
              "#fdca26"
             ],
             [
              1,
              "#f0f921"
             ]
            ],
            "type": "histogram2dcontour"
           }
          ],
          "mesh3d": [
           {
            "colorbar": {
             "outlinewidth": 0,
             "ticks": ""
            },
            "type": "mesh3d"
           }
          ],
          "parcoords": [
           {
            "line": {
             "colorbar": {
              "outlinewidth": 0,
              "ticks": ""
             }
            },
            "type": "parcoords"
           }
          ],
          "pie": [
           {
            "automargin": true,
            "type": "pie"
           }
          ],
          "scatter": [
           {
            "fillpattern": {
             "fillmode": "overlay",
             "size": 10,
             "solidity": 0.2
            },
            "type": "scatter"
           }
          ],
          "scatter3d": [
           {
            "line": {
             "colorbar": {
              "outlinewidth": 0,
              "ticks": ""
             }
            },
            "marker": {
             "colorbar": {
              "outlinewidth": 0,
              "ticks": ""
             }
            },
            "type": "scatter3d"
           }
          ],
          "scattercarpet": [
           {
            "marker": {
             "colorbar": {
              "outlinewidth": 0,
              "ticks": ""
             }
            },
            "type": "scattercarpet"
           }
          ],
          "scattergeo": [
           {
            "marker": {
             "colorbar": {
              "outlinewidth": 0,
              "ticks": ""
             }
            },
            "type": "scattergeo"
           }
          ],
          "scattergl": [
           {
            "marker": {
             "colorbar": {
              "outlinewidth": 0,
              "ticks": ""
             }
            },
            "type": "scattergl"
           }
          ],
          "scattermapbox": [
           {
            "marker": {
             "colorbar": {
              "outlinewidth": 0,
              "ticks": ""
             }
            },
            "type": "scattermapbox"
           }
          ],
          "scatterpolar": [
           {
            "marker": {
             "colorbar": {
              "outlinewidth": 0,
              "ticks": ""
             }
            },
            "type": "scatterpolar"
           }
          ],
          "scatterpolargl": [
           {
            "marker": {
             "colorbar": {
              "outlinewidth": 0,
              "ticks": ""
             }
            },
            "type": "scatterpolargl"
           }
          ],
          "scatterternary": [
           {
            "marker": {
             "colorbar": {
              "outlinewidth": 0,
              "ticks": ""
             }
            },
            "type": "scatterternary"
           }
          ],
          "surface": [
           {
            "colorbar": {
             "outlinewidth": 0,
             "ticks": ""
            },
            "colorscale": [
             [
              0,
              "#0d0887"
             ],
             [
              0.1111111111111111,
              "#46039f"
             ],
             [
              0.2222222222222222,
              "#7201a8"
             ],
             [
              0.3333333333333333,
              "#9c179e"
             ],
             [
              0.4444444444444444,
              "#bd3786"
             ],
             [
              0.5555555555555556,
              "#d8576b"
             ],
             [
              0.6666666666666666,
              "#ed7953"
             ],
             [
              0.7777777777777778,
              "#fb9f3a"
             ],
             [
              0.8888888888888888,
              "#fdca26"
             ],
             [
              1,
              "#f0f921"
             ]
            ],
            "type": "surface"
           }
          ],
          "table": [
           {
            "cells": {
             "fill": {
              "color": "#EBF0F8"
             },
             "line": {
              "color": "white"
             }
            },
            "header": {
             "fill": {
              "color": "#C8D4E3"
             },
             "line": {
              "color": "white"
             }
            },
            "type": "table"
           }
          ]
         },
         "layout": {
          "annotationdefaults": {
           "arrowcolor": "#2a3f5f",
           "arrowhead": 0,
           "arrowwidth": 1
          },
          "autotypenumbers": "strict",
          "coloraxis": {
           "colorbar": {
            "outlinewidth": 0,
            "ticks": ""
           }
          },
          "colorscale": {
           "diverging": [
            [
             0,
             "#8e0152"
            ],
            [
             0.1,
             "#c51b7d"
            ],
            [
             0.2,
             "#de77ae"
            ],
            [
             0.3,
             "#f1b6da"
            ],
            [
             0.4,
             "#fde0ef"
            ],
            [
             0.5,
             "#f7f7f7"
            ],
            [
             0.6,
             "#e6f5d0"
            ],
            [
             0.7,
             "#b8e186"
            ],
            [
             0.8,
             "#7fbc41"
            ],
            [
             0.9,
             "#4d9221"
            ],
            [
             1,
             "#276419"
            ]
           ],
           "sequential": [
            [
             0,
             "#0d0887"
            ],
            [
             0.1111111111111111,
             "#46039f"
            ],
            [
             0.2222222222222222,
             "#7201a8"
            ],
            [
             0.3333333333333333,
             "#9c179e"
            ],
            [
             0.4444444444444444,
             "#bd3786"
            ],
            [
             0.5555555555555556,
             "#d8576b"
            ],
            [
             0.6666666666666666,
             "#ed7953"
            ],
            [
             0.7777777777777778,
             "#fb9f3a"
            ],
            [
             0.8888888888888888,
             "#fdca26"
            ],
            [
             1,
             "#f0f921"
            ]
           ],
           "sequentialminus": [
            [
             0,
             "#0d0887"
            ],
            [
             0.1111111111111111,
             "#46039f"
            ],
            [
             0.2222222222222222,
             "#7201a8"
            ],
            [
             0.3333333333333333,
             "#9c179e"
            ],
            [
             0.4444444444444444,
             "#bd3786"
            ],
            [
             0.5555555555555556,
             "#d8576b"
            ],
            [
             0.6666666666666666,
             "#ed7953"
            ],
            [
             0.7777777777777778,
             "#fb9f3a"
            ],
            [
             0.8888888888888888,
             "#fdca26"
            ],
            [
             1,
             "#f0f921"
            ]
           ]
          },
          "colorway": [
           "#636efa",
           "#EF553B",
           "#00cc96",
           "#ab63fa",
           "#FFA15A",
           "#19d3f3",
           "#FF6692",
           "#B6E880",
           "#FF97FF",
           "#FECB52"
          ],
          "font": {
           "color": "#2a3f5f"
          },
          "geo": {
           "bgcolor": "white",
           "lakecolor": "white",
           "landcolor": "#E5ECF6",
           "showlakes": true,
           "showland": true,
           "subunitcolor": "white"
          },
          "hoverlabel": {
           "align": "left"
          },
          "hovermode": "closest",
          "mapbox": {
           "style": "light"
          },
          "paper_bgcolor": "white",
          "plot_bgcolor": "#E5ECF6",
          "polar": {
           "angularaxis": {
            "gridcolor": "white",
            "linecolor": "white",
            "ticks": ""
           },
           "bgcolor": "#E5ECF6",
           "radialaxis": {
            "gridcolor": "white",
            "linecolor": "white",
            "ticks": ""
           }
          },
          "scene": {
           "xaxis": {
            "backgroundcolor": "#E5ECF6",
            "gridcolor": "white",
            "gridwidth": 2,
            "linecolor": "white",
            "showbackground": true,
            "ticks": "",
            "zerolinecolor": "white"
           },
           "yaxis": {
            "backgroundcolor": "#E5ECF6",
            "gridcolor": "white",
            "gridwidth": 2,
            "linecolor": "white",
            "showbackground": true,
            "ticks": "",
            "zerolinecolor": "white"
           },
           "zaxis": {
            "backgroundcolor": "#E5ECF6",
            "gridcolor": "white",
            "gridwidth": 2,
            "linecolor": "white",
            "showbackground": true,
            "ticks": "",
            "zerolinecolor": "white"
           }
          },
          "shapedefaults": {
           "line": {
            "color": "#2a3f5f"
           }
          },
          "ternary": {
           "aaxis": {
            "gridcolor": "white",
            "linecolor": "white",
            "ticks": ""
           },
           "baxis": {
            "gridcolor": "white",
            "linecolor": "white",
            "ticks": ""
           },
           "bgcolor": "#E5ECF6",
           "caxis": {
            "gridcolor": "white",
            "linecolor": "white",
            "ticks": ""
           }
          },
          "title": {
           "x": 0.05
          },
          "xaxis": {
           "automargin": true,
           "gridcolor": "white",
           "linecolor": "white",
           "ticks": "",
           "title": {
            "standoff": 15
           },
           "zerolinecolor": "white",
           "zerolinewidth": 2
          },
          "yaxis": {
           "automargin": true,
           "gridcolor": "white",
           "linecolor": "white",
           "ticks": "",
           "title": {
            "standoff": 15
           },
           "zerolinecolor": "white",
           "zerolinewidth": 2
          }
         }
        },
        "xaxis": {
         "anchor": "y",
         "domain": [
          0,
          1
         ],
         "showticklabels": false,
         "tickangle": 45,
         "title": {
          "text": " "
         }
        },
        "yaxis": {
         "anchor": "x",
         "categoryarray": [
          "Black Moon",
          "Black Moon - Alt",
          "Sunloathe",
          "Rising Red Lung",
          "Art of Almost",
          "I Love My Label",
          "Dawned On Me",
          "I Might",
          "Born Alone",
          "Message from Mid-Bar",
          "Sometimes It Happens",
          "Open Mind",
          "Capitol City",
          "One Sunday Morning (Song for Jane Smiley's Boyfriend)",
          "Whole Love",
          "Standing O"
         ],
         "categoryorder": "array",
         "domain": [
          0,
          1
         ],
         "showticklabels": false,
         "tickangle": 45,
         "title": {
          "text": " "
         }
        }
       }
      }
     },
     "metadata": {},
     "output_type": "display_data"
    },
    {
     "data": {
      "application/vnd.plotly.v1+json": {
       "config": {
        "plotlyServerURL": "https://plot.ly"
       },
       "data": [
        {
         "hovertemplate": "track=%{y}<br>count_letter=%{x}<extra></extra>",
         "legendgroup": "Way Over Yonder In The Minor Key",
         "marker": {
          "color": "#636efa"
         },
         "name": "Way Over Yonder In The Minor Key",
         "orientation": "h",
         "showlegend": true,
         "type": "funnel",
         "x": [
          1280
         ],
         "xaxis": "x",
         "y": [
          "Way Over Yonder In The Minor Key"
         ],
         "yaxis": "y"
        },
        {
         "hovertemplate": "track=%{y}<br>count_letter=%{x}<extra></extra>",
         "legendgroup": "The Unwelcome Guest",
         "marker": {
          "color": "#EF553B"
         },
         "name": "The Unwelcome Guest",
         "orientation": "h",
         "showlegend": true,
         "type": "funnel",
         "x": [
          1279
         ],
         "xaxis": "x",
         "y": [
          "The Unwelcome Guest"
         ],
         "yaxis": "y"
        },
        {
         "hovertemplate": "track=%{y}<br>count_letter=%{x}<extra></extra>",
         "legendgroup": "Walt Whitman's Niece",
         "marker": {
          "color": "#00cc96"
         },
         "name": "Walt Whitman's Niece",
         "orientation": "h",
         "showlegend": true,
         "type": "funnel",
         "x": [
          1228
         ],
         "xaxis": "x",
         "y": [
          "Walt Whitman's Niece"
         ],
         "yaxis": "y"
        },
        {
         "hovertemplate": "track=%{y}<br>count_letter=%{x}<extra></extra>",
         "legendgroup": "Airline To Heaven",
         "marker": {
          "color": "#ab63fa"
         },
         "name": "Airline To Heaven",
         "orientation": "h",
         "showlegend": true,
         "type": "funnel",
         "x": [
          1146
         ],
         "xaxis": "x",
         "y": [
          "Airline To Heaven"
         ],
         "yaxis": "y"
        },
        {
         "hovertemplate": "track=%{y}<br>count_letter=%{x}<extra></extra>",
         "legendgroup": "California Stars",
         "marker": {
          "color": "#FFA15A"
         },
         "name": "California Stars",
         "orientation": "h",
         "showlegend": true,
         "type": "funnel",
         "x": [
          1073
         ],
         "xaxis": "x",
         "y": [
          "California Stars"
         ],
         "yaxis": "y"
        },
        {
         "hovertemplate": "track=%{y}<br>count_letter=%{x}<extra></extra>",
         "legendgroup": "Hesitating Beauty",
         "marker": {
          "color": "#19d3f3"
         },
         "name": "Hesitating Beauty",
         "orientation": "h",
         "showlegend": true,
         "type": "funnel",
         "x": [
          1012
         ],
         "xaxis": "x",
         "y": [
          "Hesitating Beauty"
         ],
         "yaxis": "y"
        },
        {
         "hovertemplate": "track=%{y}<br>count_letter=%{x}<extra></extra>",
         "legendgroup": "I Guess I Planted",
         "marker": {
          "color": "#FF6692"
         },
         "name": "I Guess I Planted",
         "orientation": "h",
         "showlegend": true,
         "type": "funnel",
         "x": [
          938
         ],
         "xaxis": "x",
         "y": [
          "I Guess I Planted"
         ],
         "yaxis": "y"
        },
        {
         "hovertemplate": "track=%{y}<br>count_letter=%{x}<extra></extra>",
         "legendgroup": "Feed Of Man",
         "marker": {
          "color": "#B6E880"
         },
         "name": "Feed Of Man",
         "orientation": "h",
         "showlegend": true,
         "type": "funnel",
         "x": [
          911
         ],
         "xaxis": "x",
         "y": [
          "Feed Of Man"
         ],
         "yaxis": "y"
        },
        {
         "hovertemplate": "track=%{y}<br>count_letter=%{x}<extra></extra>",
         "legendgroup": "Hoodoo Voodoo",
         "marker": {
          "color": "#FF97FF"
         },
         "name": "Hoodoo Voodoo",
         "orientation": "h",
         "showlegend": true,
         "type": "funnel",
         "x": [
          909
         ],
         "xaxis": "x",
         "y": [
          "Hoodoo Voodoo"
         ],
         "yaxis": "y"
        },
        {
         "hovertemplate": "track=%{y}<br>count_letter=%{x}<extra></extra>",
         "legendgroup": "Eisler On The Go",
         "marker": {
          "color": "#FECB52"
         },
         "name": "Eisler On The Go",
         "orientation": "h",
         "showlegend": true,
         "type": "funnel",
         "x": [
          874
         ],
         "xaxis": "x",
         "y": [
          "Eisler On The Go"
         ],
         "yaxis": "y"
        },
        {
         "hovertemplate": "track=%{y}<br>count_letter=%{x}<extra></extra>",
         "legendgroup": "She Came Along To Me",
         "marker": {
          "color": "#636efa"
         },
         "name": "She Came Along To Me",
         "orientation": "h",
         "showlegend": true,
         "type": "funnel",
         "x": [
          825
         ],
         "xaxis": "x",
         "y": [
          "She Came Along To Me"
         ],
         "yaxis": "y"
        },
        {
         "hovertemplate": "track=%{y}<br>count_letter=%{x}<extra></extra>",
         "legendgroup": "Hot Rod Hotel",
         "marker": {
          "color": "#EF553B"
         },
         "name": "Hot Rod Hotel",
         "orientation": "h",
         "showlegend": true,
         "type": "funnel",
         "x": [
          804
         ],
         "xaxis": "x",
         "y": [
          "Hot Rod Hotel"
         ],
         "yaxis": "y"
        },
        {
         "hovertemplate": "track=%{y}<br>count_letter=%{x}<extra></extra>",
         "legendgroup": "One By One",
         "marker": {
          "color": "#00cc96"
         },
         "name": "One By One",
         "orientation": "h",
         "showlegend": true,
         "type": "funnel",
         "x": [
          711
         ],
         "xaxis": "x",
         "y": [
          "One By One"
         ],
         "yaxis": "y"
        },
        {
         "hovertemplate": "track=%{y}<br>count_letter=%{x}<extra></extra>",
         "legendgroup": "Ingrid Bergman",
         "marker": {
          "color": "#ab63fa"
         },
         "name": "Ingrid Bergman",
         "orientation": "h",
         "showlegend": true,
         "type": "funnel",
         "x": [
          608
         ],
         "xaxis": "x",
         "y": [
          "Ingrid Bergman"
         ],
         "yaxis": "y"
        },
        {
         "hovertemplate": "track=%{y}<br>count_letter=%{x}<extra></extra>",
         "legendgroup": "I Was Born",
         "marker": {
          "color": "#FFA15A"
         },
         "name": "I Was Born",
         "orientation": "h",
         "showlegend": true,
         "type": "funnel",
         "x": [
          575
         ],
         "xaxis": "x",
         "y": [
          "I Was Born"
         ],
         "yaxis": "y"
        },
        {
         "hovertemplate": "track=%{y}<br>count_letter=%{x}<extra></extra>",
         "legendgroup": "Christ For President",
         "marker": {
          "color": "#19d3f3"
         },
         "name": "Christ For President",
         "orientation": "h",
         "showlegend": true,
         "type": "funnel",
         "x": [
          497
         ],
         "xaxis": "x",
         "y": [
          "Christ For President"
         ],
         "yaxis": "y"
        },
        {
         "hovertemplate": "track=%{y}<br>count_letter=%{x}<extra></extra>",
         "legendgroup": "At My Window Sad And Lonely",
         "marker": {
          "color": "#FF6692"
         },
         "name": "At My Window Sad And Lonely",
         "orientation": "h",
         "showlegend": true,
         "type": "funnel",
         "x": [
          489
         ],
         "xaxis": "x",
         "y": [
          "At My Window Sad And Lonely"
         ],
         "yaxis": "y"
        },
        {
         "hovertemplate": "track=%{y}<br>count_letter=%{x}<extra></extra>",
         "legendgroup": "My Flying Saucer",
         "marker": {
          "color": "#B6E880"
         },
         "name": "My Flying Saucer",
         "orientation": "h",
         "showlegend": true,
         "type": "funnel",
         "x": [
          385
         ],
         "xaxis": "x",
         "y": [
          "My Flying Saucer"
         ],
         "yaxis": "y"
        },
        {
         "hovertemplate": "track=%{y}<br>count_letter=%{x}<extra></extra>",
         "legendgroup": "Another Man's Done Gone",
         "marker": {
          "color": "#FF97FF"
         },
         "name": "Another Man's Done Gone",
         "orientation": "h",
         "showlegend": true,
         "type": "funnel",
         "x": [
          375
         ],
         "xaxis": "x",
         "y": [
          "Another Man's Done Gone"
         ],
         "yaxis": "y"
        },
        {
         "hovertemplate": "track=%{y}<br>count_letter=%{x}<extra></extra>",
         "legendgroup": "Birds And Ships",
         "marker": {
          "color": "#FECB52"
         },
         "name": "Birds And Ships",
         "orientation": "h",
         "showlegend": true,
         "type": "funnel",
         "x": [
          340
         ],
         "xaxis": "x",
         "y": [
          "Birds And Ships"
         ],
         "yaxis": "y"
        }
       ],
       "layout": {
        "annotations": [
         {
          "showarrow": false,
          "text": "Album - Mermaid Avenue: The Complete Sessions",
          "x": 0.5,
          "xref": "paper",
          "y": -0.1,
          "yref": "paper"
         }
        ],
        "legend": {
         "title": {
          "text": "track"
         },
         "tracegroupgap": 0
        },
        "margin": {
         "t": 60
        },
        "template": {
         "data": {
          "bar": [
           {
            "error_x": {
             "color": "#2a3f5f"
            },
            "error_y": {
             "color": "#2a3f5f"
            },
            "marker": {
             "line": {
              "color": "#E5ECF6",
              "width": 0.5
             },
             "pattern": {
              "fillmode": "overlay",
              "size": 10,
              "solidity": 0.2
             }
            },
            "type": "bar"
           }
          ],
          "barpolar": [
           {
            "marker": {
             "line": {
              "color": "#E5ECF6",
              "width": 0.5
             },
             "pattern": {
              "fillmode": "overlay",
              "size": 10,
              "solidity": 0.2
             }
            },
            "type": "barpolar"
           }
          ],
          "carpet": [
           {
            "aaxis": {
             "endlinecolor": "#2a3f5f",
             "gridcolor": "white",
             "linecolor": "white",
             "minorgridcolor": "white",
             "startlinecolor": "#2a3f5f"
            },
            "baxis": {
             "endlinecolor": "#2a3f5f",
             "gridcolor": "white",
             "linecolor": "white",
             "minorgridcolor": "white",
             "startlinecolor": "#2a3f5f"
            },
            "type": "carpet"
           }
          ],
          "choropleth": [
           {
            "colorbar": {
             "outlinewidth": 0,
             "ticks": ""
            },
            "type": "choropleth"
           }
          ],
          "contour": [
           {
            "colorbar": {
             "outlinewidth": 0,
             "ticks": ""
            },
            "colorscale": [
             [
              0,
              "#0d0887"
             ],
             [
              0.1111111111111111,
              "#46039f"
             ],
             [
              0.2222222222222222,
              "#7201a8"
             ],
             [
              0.3333333333333333,
              "#9c179e"
             ],
             [
              0.4444444444444444,
              "#bd3786"
             ],
             [
              0.5555555555555556,
              "#d8576b"
             ],
             [
              0.6666666666666666,
              "#ed7953"
             ],
             [
              0.7777777777777778,
              "#fb9f3a"
             ],
             [
              0.8888888888888888,
              "#fdca26"
             ],
             [
              1,
              "#f0f921"
             ]
            ],
            "type": "contour"
           }
          ],
          "contourcarpet": [
           {
            "colorbar": {
             "outlinewidth": 0,
             "ticks": ""
            },
            "type": "contourcarpet"
           }
          ],
          "heatmap": [
           {
            "colorbar": {
             "outlinewidth": 0,
             "ticks": ""
            },
            "colorscale": [
             [
              0,
              "#0d0887"
             ],
             [
              0.1111111111111111,
              "#46039f"
             ],
             [
              0.2222222222222222,
              "#7201a8"
             ],
             [
              0.3333333333333333,
              "#9c179e"
             ],
             [
              0.4444444444444444,
              "#bd3786"
             ],
             [
              0.5555555555555556,
              "#d8576b"
             ],
             [
              0.6666666666666666,
              "#ed7953"
             ],
             [
              0.7777777777777778,
              "#fb9f3a"
             ],
             [
              0.8888888888888888,
              "#fdca26"
             ],
             [
              1,
              "#f0f921"
             ]
            ],
            "type": "heatmap"
           }
          ],
          "heatmapgl": [
           {
            "colorbar": {
             "outlinewidth": 0,
             "ticks": ""
            },
            "colorscale": [
             [
              0,
              "#0d0887"
             ],
             [
              0.1111111111111111,
              "#46039f"
             ],
             [
              0.2222222222222222,
              "#7201a8"
             ],
             [
              0.3333333333333333,
              "#9c179e"
             ],
             [
              0.4444444444444444,
              "#bd3786"
             ],
             [
              0.5555555555555556,
              "#d8576b"
             ],
             [
              0.6666666666666666,
              "#ed7953"
             ],
             [
              0.7777777777777778,
              "#fb9f3a"
             ],
             [
              0.8888888888888888,
              "#fdca26"
             ],
             [
              1,
              "#f0f921"
             ]
            ],
            "type": "heatmapgl"
           }
          ],
          "histogram": [
           {
            "marker": {
             "pattern": {
              "fillmode": "overlay",
              "size": 10,
              "solidity": 0.2
             }
            },
            "type": "histogram"
           }
          ],
          "histogram2d": [
           {
            "colorbar": {
             "outlinewidth": 0,
             "ticks": ""
            },
            "colorscale": [
             [
              0,
              "#0d0887"
             ],
             [
              0.1111111111111111,
              "#46039f"
             ],
             [
              0.2222222222222222,
              "#7201a8"
             ],
             [
              0.3333333333333333,
              "#9c179e"
             ],
             [
              0.4444444444444444,
              "#bd3786"
             ],
             [
              0.5555555555555556,
              "#d8576b"
             ],
             [
              0.6666666666666666,
              "#ed7953"
             ],
             [
              0.7777777777777778,
              "#fb9f3a"
             ],
             [
              0.8888888888888888,
              "#fdca26"
             ],
             [
              1,
              "#f0f921"
             ]
            ],
            "type": "histogram2d"
           }
          ],
          "histogram2dcontour": [
           {
            "colorbar": {
             "outlinewidth": 0,
             "ticks": ""
            },
            "colorscale": [
             [
              0,
              "#0d0887"
             ],
             [
              0.1111111111111111,
              "#46039f"
             ],
             [
              0.2222222222222222,
              "#7201a8"
             ],
             [
              0.3333333333333333,
              "#9c179e"
             ],
             [
              0.4444444444444444,
              "#bd3786"
             ],
             [
              0.5555555555555556,
              "#d8576b"
             ],
             [
              0.6666666666666666,
              "#ed7953"
             ],
             [
              0.7777777777777778,
              "#fb9f3a"
             ],
             [
              0.8888888888888888,
              "#fdca26"
             ],
             [
              1,
              "#f0f921"
             ]
            ],
            "type": "histogram2dcontour"
           }
          ],
          "mesh3d": [
           {
            "colorbar": {
             "outlinewidth": 0,
             "ticks": ""
            },
            "type": "mesh3d"
           }
          ],
          "parcoords": [
           {
            "line": {
             "colorbar": {
              "outlinewidth": 0,
              "ticks": ""
             }
            },
            "type": "parcoords"
           }
          ],
          "pie": [
           {
            "automargin": true,
            "type": "pie"
           }
          ],
          "scatter": [
           {
            "fillpattern": {
             "fillmode": "overlay",
             "size": 10,
             "solidity": 0.2
            },
            "type": "scatter"
           }
          ],
          "scatter3d": [
           {
            "line": {
             "colorbar": {
              "outlinewidth": 0,
              "ticks": ""
             }
            },
            "marker": {
             "colorbar": {
              "outlinewidth": 0,
              "ticks": ""
             }
            },
            "type": "scatter3d"
           }
          ],
          "scattercarpet": [
           {
            "marker": {
             "colorbar": {
              "outlinewidth": 0,
              "ticks": ""
             }
            },
            "type": "scattercarpet"
           }
          ],
          "scattergeo": [
           {
            "marker": {
             "colorbar": {
              "outlinewidth": 0,
              "ticks": ""
             }
            },
            "type": "scattergeo"
           }
          ],
          "scattergl": [
           {
            "marker": {
             "colorbar": {
              "outlinewidth": 0,
              "ticks": ""
             }
            },
            "type": "scattergl"
           }
          ],
          "scattermapbox": [
           {
            "marker": {
             "colorbar": {
              "outlinewidth": 0,
              "ticks": ""
             }
            },
            "type": "scattermapbox"
           }
          ],
          "scatterpolar": [
           {
            "marker": {
             "colorbar": {
              "outlinewidth": 0,
              "ticks": ""
             }
            },
            "type": "scatterpolar"
           }
          ],
          "scatterpolargl": [
           {
            "marker": {
             "colorbar": {
              "outlinewidth": 0,
              "ticks": ""
             }
            },
            "type": "scatterpolargl"
           }
          ],
          "scatterternary": [
           {
            "marker": {
             "colorbar": {
              "outlinewidth": 0,
              "ticks": ""
             }
            },
            "type": "scatterternary"
           }
          ],
          "surface": [
           {
            "colorbar": {
             "outlinewidth": 0,
             "ticks": ""
            },
            "colorscale": [
             [
              0,
              "#0d0887"
             ],
             [
              0.1111111111111111,
              "#46039f"
             ],
             [
              0.2222222222222222,
              "#7201a8"
             ],
             [
              0.3333333333333333,
              "#9c179e"
             ],
             [
              0.4444444444444444,
              "#bd3786"
             ],
             [
              0.5555555555555556,
              "#d8576b"
             ],
             [
              0.6666666666666666,
              "#ed7953"
             ],
             [
              0.7777777777777778,
              "#fb9f3a"
             ],
             [
              0.8888888888888888,
              "#fdca26"
             ],
             [
              1,
              "#f0f921"
             ]
            ],
            "type": "surface"
           }
          ],
          "table": [
           {
            "cells": {
             "fill": {
              "color": "#EBF0F8"
             },
             "line": {
              "color": "white"
             }
            },
            "header": {
             "fill": {
              "color": "#C8D4E3"
             },
             "line": {
              "color": "white"
             }
            },
            "type": "table"
           }
          ]
         },
         "layout": {
          "annotationdefaults": {
           "arrowcolor": "#2a3f5f",
           "arrowhead": 0,
           "arrowwidth": 1
          },
          "autotypenumbers": "strict",
          "coloraxis": {
           "colorbar": {
            "outlinewidth": 0,
            "ticks": ""
           }
          },
          "colorscale": {
           "diverging": [
            [
             0,
             "#8e0152"
            ],
            [
             0.1,
             "#c51b7d"
            ],
            [
             0.2,
             "#de77ae"
            ],
            [
             0.3,
             "#f1b6da"
            ],
            [
             0.4,
             "#fde0ef"
            ],
            [
             0.5,
             "#f7f7f7"
            ],
            [
             0.6,
             "#e6f5d0"
            ],
            [
             0.7,
             "#b8e186"
            ],
            [
             0.8,
             "#7fbc41"
            ],
            [
             0.9,
             "#4d9221"
            ],
            [
             1,
             "#276419"
            ]
           ],
           "sequential": [
            [
             0,
             "#0d0887"
            ],
            [
             0.1111111111111111,
             "#46039f"
            ],
            [
             0.2222222222222222,
             "#7201a8"
            ],
            [
             0.3333333333333333,
             "#9c179e"
            ],
            [
             0.4444444444444444,
             "#bd3786"
            ],
            [
             0.5555555555555556,
             "#d8576b"
            ],
            [
             0.6666666666666666,
             "#ed7953"
            ],
            [
             0.7777777777777778,
             "#fb9f3a"
            ],
            [
             0.8888888888888888,
             "#fdca26"
            ],
            [
             1,
             "#f0f921"
            ]
           ],
           "sequentialminus": [
            [
             0,
             "#0d0887"
            ],
            [
             0.1111111111111111,
             "#46039f"
            ],
            [
             0.2222222222222222,
             "#7201a8"
            ],
            [
             0.3333333333333333,
             "#9c179e"
            ],
            [
             0.4444444444444444,
             "#bd3786"
            ],
            [
             0.5555555555555556,
             "#d8576b"
            ],
            [
             0.6666666666666666,
             "#ed7953"
            ],
            [
             0.7777777777777778,
             "#fb9f3a"
            ],
            [
             0.8888888888888888,
             "#fdca26"
            ],
            [
             1,
             "#f0f921"
            ]
           ]
          },
          "colorway": [
           "#636efa",
           "#EF553B",
           "#00cc96",
           "#ab63fa",
           "#FFA15A",
           "#19d3f3",
           "#FF6692",
           "#B6E880",
           "#FF97FF",
           "#FECB52"
          ],
          "font": {
           "color": "#2a3f5f"
          },
          "geo": {
           "bgcolor": "white",
           "lakecolor": "white",
           "landcolor": "#E5ECF6",
           "showlakes": true,
           "showland": true,
           "subunitcolor": "white"
          },
          "hoverlabel": {
           "align": "left"
          },
          "hovermode": "closest",
          "mapbox": {
           "style": "light"
          },
          "paper_bgcolor": "white",
          "plot_bgcolor": "#E5ECF6",
          "polar": {
           "angularaxis": {
            "gridcolor": "white",
            "linecolor": "white",
            "ticks": ""
           },
           "bgcolor": "#E5ECF6",
           "radialaxis": {
            "gridcolor": "white",
            "linecolor": "white",
            "ticks": ""
           }
          },
          "scene": {
           "xaxis": {
            "backgroundcolor": "#E5ECF6",
            "gridcolor": "white",
            "gridwidth": 2,
            "linecolor": "white",
            "showbackground": true,
            "ticks": "",
            "zerolinecolor": "white"
           },
           "yaxis": {
            "backgroundcolor": "#E5ECF6",
            "gridcolor": "white",
            "gridwidth": 2,
            "linecolor": "white",
            "showbackground": true,
            "ticks": "",
            "zerolinecolor": "white"
           },
           "zaxis": {
            "backgroundcolor": "#E5ECF6",
            "gridcolor": "white",
            "gridwidth": 2,
            "linecolor": "white",
            "showbackground": true,
            "ticks": "",
            "zerolinecolor": "white"
           }
          },
          "shapedefaults": {
           "line": {
            "color": "#2a3f5f"
           }
          },
          "ternary": {
           "aaxis": {
            "gridcolor": "white",
            "linecolor": "white",
            "ticks": ""
           },
           "baxis": {
            "gridcolor": "white",
            "linecolor": "white",
            "ticks": ""
           },
           "bgcolor": "#E5ECF6",
           "caxis": {
            "gridcolor": "white",
            "linecolor": "white",
            "ticks": ""
           }
          },
          "title": {
           "x": 0.05
          },
          "xaxis": {
           "automargin": true,
           "gridcolor": "white",
           "linecolor": "white",
           "ticks": "",
           "title": {
            "standoff": 15
           },
           "zerolinecolor": "white",
           "zerolinewidth": 2
          },
          "yaxis": {
           "automargin": true,
           "gridcolor": "white",
           "linecolor": "white",
           "ticks": "",
           "title": {
            "standoff": 15
           },
           "zerolinecolor": "white",
           "zerolinewidth": 2
          }
         }
        },
        "xaxis": {
         "anchor": "y",
         "domain": [
          0,
          1
         ],
         "showticklabels": false,
         "tickangle": 45,
         "title": {
          "text": " "
         }
        },
        "yaxis": {
         "anchor": "x",
         "categoryarray": [
          "Birds And Ships",
          "Another Man's Done Gone",
          "My Flying Saucer",
          "At My Window Sad And Lonely",
          "Christ For President",
          "I Was Born",
          "Ingrid Bergman",
          "One By One",
          "Hot Rod Hotel",
          "She Came Along To Me",
          "Eisler On The Go",
          "Hoodoo Voodoo",
          "Feed Of Man",
          "I Guess I Planted",
          "Hesitating Beauty",
          "California Stars",
          "Airline To Heaven",
          "Walt Whitman's Niece",
          "The Unwelcome Guest",
          "Way Over Yonder In The Minor Key"
         ],
         "categoryorder": "array",
         "domain": [
          0,
          1
         ],
         "showticklabels": false,
         "tickangle": 45,
         "title": {
          "text": " "
         }
        }
       }
      }
     },
     "metadata": {},
     "output_type": "display_data"
    },
    {
     "data": {
      "application/vnd.plotly.v1+json": {
       "config": {
        "plotlyServerURL": "https://plot.ly"
       },
       "data": [
        {
         "hovertemplate": "track=%{y}<br>count_letter=%{x}<extra></extra>",
         "legendgroup": "I'm Out To Get",
         "marker": {
          "color": "#636efa"
         },
         "name": "I'm Out To Get",
         "orientation": "h",
         "showlegend": true,
         "type": "funnel",
         "x": [
          1503
         ],
         "xaxis": "x",
         "y": [
          "I'm Out To Get"
         ],
         "yaxis": "y"
        },
        {
         "hovertemplate": "track=%{y}<br>count_letter=%{x}<extra></extra>",
         "legendgroup": "Chain Of Broken Hearts",
         "marker": {
          "color": "#EF553B"
         },
         "name": "Chain Of Broken Hearts",
         "orientation": "h",
         "showlegend": true,
         "type": "funnel",
         "x": [
          1118
         ],
         "xaxis": "x",
         "y": [
          "Chain Of Broken Hearts"
         ],
         "yaxis": "y"
        },
        {
         "hovertemplate": "track=%{y}<br>count_letter=%{x}<extra></extra>",
         "legendgroup": "My Thirty Thousand",
         "marker": {
          "color": "#00cc96"
         },
         "name": "My Thirty Thousand",
         "orientation": "h",
         "showlegend": true,
         "type": "funnel",
         "x": [
          1116
         ],
         "xaxis": "x",
         "y": [
          "My Thirty Thousand"
         ],
         "yaxis": "y"
        },
        {
         "hovertemplate": "track=%{y}<br>count_letter=%{x}<extra></extra>",
         "legendgroup": "The Jolly Banker",
         "marker": {
          "color": "#ab63fa"
         },
         "name": "The Jolly Banker",
         "orientation": "h",
         "showlegend": true,
         "type": "funnel",
         "x": [
          1081
         ],
         "xaxis": "x",
         "y": [
          "The Jolly Banker"
         ],
         "yaxis": "y"
        },
        {
         "hovertemplate": "track=%{y}<br>count_letter=%{x}<extra></extra>",
         "legendgroup": "Listening To The Wind That Blows",
         "marker": {
          "color": "#FFA15A"
         },
         "name": "Listening To The Wind That Blows",
         "orientation": "h",
         "showlegend": true,
         "type": "funnel",
         "x": [
          1072
         ],
         "xaxis": "x",
         "y": [
          "Listening To The Wind That Blows"
         ],
         "yaxis": "y"
        },
        {
         "hovertemplate": "track=%{y}<br>count_letter=%{x}<extra></extra>",
         "legendgroup": "Ain'ta Gonna Grieve",
         "marker": {
          "color": "#19d3f3"
         },
         "name": "Ain'ta Gonna Grieve",
         "orientation": "h",
         "showlegend": true,
         "type": "funnel",
         "x": [
          1046
         ],
         "xaxis": "x",
         "y": [
          "Ain'ta Gonna Grieve"
         ],
         "yaxis": "y"
        },
        {
         "hovertemplate": "track=%{y}<br>count_letter=%{x}<extra></extra>",
         "legendgroup": "Tea Bag Blues",
         "marker": {
          "color": "#FF6692"
         },
         "name": "Tea Bag Blues",
         "orientation": "h",
         "showlegend": true,
         "type": "funnel",
         "x": [
          940
         ],
         "xaxis": "x",
         "y": [
          "Tea Bag Blues"
         ],
         "yaxis": "y"
        },
        {
         "hovertemplate": "track=%{y}<br>count_letter=%{x}<extra></extra>",
         "legendgroup": "Union Prayer",
         "marker": {
          "color": "#B6E880"
         },
         "name": "Union Prayer",
         "orientation": "h",
         "showlegend": true,
         "type": "funnel",
         "x": [
          915
         ],
         "xaxis": "x",
         "y": [
          "Union Prayer"
         ],
         "yaxis": "y"
        },
        {
         "hovertemplate": "track=%{y}<br>count_letter=%{x}<extra></extra>",
         "legendgroup": "Don't You Marry",
         "marker": {
          "color": "#FF97FF"
         },
         "name": "Don't You Marry",
         "orientation": "h",
         "showlegend": true,
         "type": "funnel",
         "x": [
          851
         ],
         "xaxis": "x",
         "y": [
          "Don't You Marry"
         ],
         "yaxis": "y"
        },
        {
         "hovertemplate": "track=%{y}<br>count_letter=%{x}<extra></extra>",
         "legendgroup": "When The Roses Bloom Again",
         "marker": {
          "color": "#FECB52"
         },
         "name": "When The Roses Bloom Again",
         "orientation": "h",
         "showlegend": true,
         "type": "funnel",
         "x": [
          847
         ],
         "xaxis": "x",
         "y": [
          "When The Roses Bloom Again"
         ],
         "yaxis": "y"
        },
        {
         "hovertemplate": "track=%{y}<br>count_letter=%{x}<extra></extra>",
         "legendgroup": "Be Kind To The Boy On The Road",
         "marker": {
          "color": "#636efa"
         },
         "name": "Be Kind To The Boy On The Road",
         "orientation": "h",
         "showlegend": true,
         "type": "funnel",
         "x": [
          841
         ],
         "xaxis": "x",
         "y": [
          "Be Kind To The Boy On The Road"
         ],
         "yaxis": "y"
        },
        {
         "hovertemplate": "track=%{y}<br>count_letter=%{x}<extra></extra>",
         "legendgroup": "Ought To Be Satisfied Now",
         "marker": {
          "color": "#EF553B"
         },
         "name": "Ought To Be Satisfied Now",
         "orientation": "h",
         "showlegend": true,
         "type": "funnel",
         "x": [
          809
         ],
         "xaxis": "x",
         "y": [
          "Ought To Be Satisfied Now"
         ],
         "yaxis": "y"
        },
        {
         "hovertemplate": "track=%{y}<br>count_letter=%{x}<extra></extra>",
         "legendgroup": "Bugeye Jim",
         "marker": {
          "color": "#00cc96"
         },
         "name": "Bugeye Jim",
         "orientation": "h",
         "showlegend": true,
         "type": "funnel",
         "x": [
          805
         ],
         "xaxis": "x",
         "y": [
          "Bugeye Jim"
         ],
         "yaxis": "y"
        },
        {
         "hovertemplate": "track=%{y}<br>count_letter=%{x}<extra></extra>",
         "legendgroup": "Go Down To The Water",
         "marker": {
          "color": "#ab63fa"
         },
         "name": "Go Down To The Water",
         "orientation": "h",
         "showlegend": true,
         "type": "funnel",
         "x": [
          747
         ],
         "xaxis": "x",
         "y": [
          "Go Down To The Water"
         ],
         "yaxis": "y"
        },
        {
         "hovertemplate": "track=%{y}<br>count_letter=%{x}<extra></extra>",
         "legendgroup": "Jailcell Blues",
         "marker": {
          "color": "#FFA15A"
         },
         "name": "Jailcell Blues",
         "orientation": "h",
         "showlegend": true,
         "type": "funnel",
         "x": [
          446
         ],
         "xaxis": "x",
         "y": [
          "Jailcell Blues"
         ],
         "yaxis": "y"
        },
        {
         "hovertemplate": "track=%{y}<br>count_letter=%{x}<extra></extra>",
         "legendgroup": "Give Me A Nail",
         "marker": {
          "color": "#19d3f3"
         },
         "name": "Give Me A Nail",
         "orientation": "h",
         "showlegend": true,
         "type": "funnel",
         "x": [
          416
         ],
         "xaxis": "x",
         "y": [
          "Give Me A Nail"
         ],
         "yaxis": "y"
        },
        {
         "hovertemplate": "track=%{y}<br>count_letter=%{x}<extra></extra>",
         "legendgroup": "Gotta Work",
         "marker": {
          "color": "#FF6692"
         },
         "name": "Gotta Work",
         "orientation": "h",
         "showlegend": true,
         "type": "funnel",
         "x": [
          383
         ],
         "xaxis": "x",
         "y": [
          "Gotta Work"
         ],
         "yaxis": "y"
        }
       ],
       "layout": {
        "annotations": [
         {
          "showarrow": false,
          "text": "Album - Mermaid Avenue Vol. III",
          "x": 0.5,
          "xref": "paper",
          "y": -0.1,
          "yref": "paper"
         }
        ],
        "legend": {
         "title": {
          "text": "track"
         },
         "tracegroupgap": 0
        },
        "margin": {
         "t": 60
        },
        "template": {
         "data": {
          "bar": [
           {
            "error_x": {
             "color": "#2a3f5f"
            },
            "error_y": {
             "color": "#2a3f5f"
            },
            "marker": {
             "line": {
              "color": "#E5ECF6",
              "width": 0.5
             },
             "pattern": {
              "fillmode": "overlay",
              "size": 10,
              "solidity": 0.2
             }
            },
            "type": "bar"
           }
          ],
          "barpolar": [
           {
            "marker": {
             "line": {
              "color": "#E5ECF6",
              "width": 0.5
             },
             "pattern": {
              "fillmode": "overlay",
              "size": 10,
              "solidity": 0.2
             }
            },
            "type": "barpolar"
           }
          ],
          "carpet": [
           {
            "aaxis": {
             "endlinecolor": "#2a3f5f",
             "gridcolor": "white",
             "linecolor": "white",
             "minorgridcolor": "white",
             "startlinecolor": "#2a3f5f"
            },
            "baxis": {
             "endlinecolor": "#2a3f5f",
             "gridcolor": "white",
             "linecolor": "white",
             "minorgridcolor": "white",
             "startlinecolor": "#2a3f5f"
            },
            "type": "carpet"
           }
          ],
          "choropleth": [
           {
            "colorbar": {
             "outlinewidth": 0,
             "ticks": ""
            },
            "type": "choropleth"
           }
          ],
          "contour": [
           {
            "colorbar": {
             "outlinewidth": 0,
             "ticks": ""
            },
            "colorscale": [
             [
              0,
              "#0d0887"
             ],
             [
              0.1111111111111111,
              "#46039f"
             ],
             [
              0.2222222222222222,
              "#7201a8"
             ],
             [
              0.3333333333333333,
              "#9c179e"
             ],
             [
              0.4444444444444444,
              "#bd3786"
             ],
             [
              0.5555555555555556,
              "#d8576b"
             ],
             [
              0.6666666666666666,
              "#ed7953"
             ],
             [
              0.7777777777777778,
              "#fb9f3a"
             ],
             [
              0.8888888888888888,
              "#fdca26"
             ],
             [
              1,
              "#f0f921"
             ]
            ],
            "type": "contour"
           }
          ],
          "contourcarpet": [
           {
            "colorbar": {
             "outlinewidth": 0,
             "ticks": ""
            },
            "type": "contourcarpet"
           }
          ],
          "heatmap": [
           {
            "colorbar": {
             "outlinewidth": 0,
             "ticks": ""
            },
            "colorscale": [
             [
              0,
              "#0d0887"
             ],
             [
              0.1111111111111111,
              "#46039f"
             ],
             [
              0.2222222222222222,
              "#7201a8"
             ],
             [
              0.3333333333333333,
              "#9c179e"
             ],
             [
              0.4444444444444444,
              "#bd3786"
             ],
             [
              0.5555555555555556,
              "#d8576b"
             ],
             [
              0.6666666666666666,
              "#ed7953"
             ],
             [
              0.7777777777777778,
              "#fb9f3a"
             ],
             [
              0.8888888888888888,
              "#fdca26"
             ],
             [
              1,
              "#f0f921"
             ]
            ],
            "type": "heatmap"
           }
          ],
          "heatmapgl": [
           {
            "colorbar": {
             "outlinewidth": 0,
             "ticks": ""
            },
            "colorscale": [
             [
              0,
              "#0d0887"
             ],
             [
              0.1111111111111111,
              "#46039f"
             ],
             [
              0.2222222222222222,
              "#7201a8"
             ],
             [
              0.3333333333333333,
              "#9c179e"
             ],
             [
              0.4444444444444444,
              "#bd3786"
             ],
             [
              0.5555555555555556,
              "#d8576b"
             ],
             [
              0.6666666666666666,
              "#ed7953"
             ],
             [
              0.7777777777777778,
              "#fb9f3a"
             ],
             [
              0.8888888888888888,
              "#fdca26"
             ],
             [
              1,
              "#f0f921"
             ]
            ],
            "type": "heatmapgl"
           }
          ],
          "histogram": [
           {
            "marker": {
             "pattern": {
              "fillmode": "overlay",
              "size": 10,
              "solidity": 0.2
             }
            },
            "type": "histogram"
           }
          ],
          "histogram2d": [
           {
            "colorbar": {
             "outlinewidth": 0,
             "ticks": ""
            },
            "colorscale": [
             [
              0,
              "#0d0887"
             ],
             [
              0.1111111111111111,
              "#46039f"
             ],
             [
              0.2222222222222222,
              "#7201a8"
             ],
             [
              0.3333333333333333,
              "#9c179e"
             ],
             [
              0.4444444444444444,
              "#bd3786"
             ],
             [
              0.5555555555555556,
              "#d8576b"
             ],
             [
              0.6666666666666666,
              "#ed7953"
             ],
             [
              0.7777777777777778,
              "#fb9f3a"
             ],
             [
              0.8888888888888888,
              "#fdca26"
             ],
             [
              1,
              "#f0f921"
             ]
            ],
            "type": "histogram2d"
           }
          ],
          "histogram2dcontour": [
           {
            "colorbar": {
             "outlinewidth": 0,
             "ticks": ""
            },
            "colorscale": [
             [
              0,
              "#0d0887"
             ],
             [
              0.1111111111111111,
              "#46039f"
             ],
             [
              0.2222222222222222,
              "#7201a8"
             ],
             [
              0.3333333333333333,
              "#9c179e"
             ],
             [
              0.4444444444444444,
              "#bd3786"
             ],
             [
              0.5555555555555556,
              "#d8576b"
             ],
             [
              0.6666666666666666,
              "#ed7953"
             ],
             [
              0.7777777777777778,
              "#fb9f3a"
             ],
             [
              0.8888888888888888,
              "#fdca26"
             ],
             [
              1,
              "#f0f921"
             ]
            ],
            "type": "histogram2dcontour"
           }
          ],
          "mesh3d": [
           {
            "colorbar": {
             "outlinewidth": 0,
             "ticks": ""
            },
            "type": "mesh3d"
           }
          ],
          "parcoords": [
           {
            "line": {
             "colorbar": {
              "outlinewidth": 0,
              "ticks": ""
             }
            },
            "type": "parcoords"
           }
          ],
          "pie": [
           {
            "automargin": true,
            "type": "pie"
           }
          ],
          "scatter": [
           {
            "fillpattern": {
             "fillmode": "overlay",
             "size": 10,
             "solidity": 0.2
            },
            "type": "scatter"
           }
          ],
          "scatter3d": [
           {
            "line": {
             "colorbar": {
              "outlinewidth": 0,
              "ticks": ""
             }
            },
            "marker": {
             "colorbar": {
              "outlinewidth": 0,
              "ticks": ""
             }
            },
            "type": "scatter3d"
           }
          ],
          "scattercarpet": [
           {
            "marker": {
             "colorbar": {
              "outlinewidth": 0,
              "ticks": ""
             }
            },
            "type": "scattercarpet"
           }
          ],
          "scattergeo": [
           {
            "marker": {
             "colorbar": {
              "outlinewidth": 0,
              "ticks": ""
             }
            },
            "type": "scattergeo"
           }
          ],
          "scattergl": [
           {
            "marker": {
             "colorbar": {
              "outlinewidth": 0,
              "ticks": ""
             }
            },
            "type": "scattergl"
           }
          ],
          "scattermapbox": [
           {
            "marker": {
             "colorbar": {
              "outlinewidth": 0,
              "ticks": ""
             }
            },
            "type": "scattermapbox"
           }
          ],
          "scatterpolar": [
           {
            "marker": {
             "colorbar": {
              "outlinewidth": 0,
              "ticks": ""
             }
            },
            "type": "scatterpolar"
           }
          ],
          "scatterpolargl": [
           {
            "marker": {
             "colorbar": {
              "outlinewidth": 0,
              "ticks": ""
             }
            },
            "type": "scatterpolargl"
           }
          ],
          "scatterternary": [
           {
            "marker": {
             "colorbar": {
              "outlinewidth": 0,
              "ticks": ""
             }
            },
            "type": "scatterternary"
           }
          ],
          "surface": [
           {
            "colorbar": {
             "outlinewidth": 0,
             "ticks": ""
            },
            "colorscale": [
             [
              0,
              "#0d0887"
             ],
             [
              0.1111111111111111,
              "#46039f"
             ],
             [
              0.2222222222222222,
              "#7201a8"
             ],
             [
              0.3333333333333333,
              "#9c179e"
             ],
             [
              0.4444444444444444,
              "#bd3786"
             ],
             [
              0.5555555555555556,
              "#d8576b"
             ],
             [
              0.6666666666666666,
              "#ed7953"
             ],
             [
              0.7777777777777778,
              "#fb9f3a"
             ],
             [
              0.8888888888888888,
              "#fdca26"
             ],
             [
              1,
              "#f0f921"
             ]
            ],
            "type": "surface"
           }
          ],
          "table": [
           {
            "cells": {
             "fill": {
              "color": "#EBF0F8"
             },
             "line": {
              "color": "white"
             }
            },
            "header": {
             "fill": {
              "color": "#C8D4E3"
             },
             "line": {
              "color": "white"
             }
            },
            "type": "table"
           }
          ]
         },
         "layout": {
          "annotationdefaults": {
           "arrowcolor": "#2a3f5f",
           "arrowhead": 0,
           "arrowwidth": 1
          },
          "autotypenumbers": "strict",
          "coloraxis": {
           "colorbar": {
            "outlinewidth": 0,
            "ticks": ""
           }
          },
          "colorscale": {
           "diverging": [
            [
             0,
             "#8e0152"
            ],
            [
             0.1,
             "#c51b7d"
            ],
            [
             0.2,
             "#de77ae"
            ],
            [
             0.3,
             "#f1b6da"
            ],
            [
             0.4,
             "#fde0ef"
            ],
            [
             0.5,
             "#f7f7f7"
            ],
            [
             0.6,
             "#e6f5d0"
            ],
            [
             0.7,
             "#b8e186"
            ],
            [
             0.8,
             "#7fbc41"
            ],
            [
             0.9,
             "#4d9221"
            ],
            [
             1,
             "#276419"
            ]
           ],
           "sequential": [
            [
             0,
             "#0d0887"
            ],
            [
             0.1111111111111111,
             "#46039f"
            ],
            [
             0.2222222222222222,
             "#7201a8"
            ],
            [
             0.3333333333333333,
             "#9c179e"
            ],
            [
             0.4444444444444444,
             "#bd3786"
            ],
            [
             0.5555555555555556,
             "#d8576b"
            ],
            [
             0.6666666666666666,
             "#ed7953"
            ],
            [
             0.7777777777777778,
             "#fb9f3a"
            ],
            [
             0.8888888888888888,
             "#fdca26"
            ],
            [
             1,
             "#f0f921"
            ]
           ],
           "sequentialminus": [
            [
             0,
             "#0d0887"
            ],
            [
             0.1111111111111111,
             "#46039f"
            ],
            [
             0.2222222222222222,
             "#7201a8"
            ],
            [
             0.3333333333333333,
             "#9c179e"
            ],
            [
             0.4444444444444444,
             "#bd3786"
            ],
            [
             0.5555555555555556,
             "#d8576b"
            ],
            [
             0.6666666666666666,
             "#ed7953"
            ],
            [
             0.7777777777777778,
             "#fb9f3a"
            ],
            [
             0.8888888888888888,
             "#fdca26"
            ],
            [
             1,
             "#f0f921"
            ]
           ]
          },
          "colorway": [
           "#636efa",
           "#EF553B",
           "#00cc96",
           "#ab63fa",
           "#FFA15A",
           "#19d3f3",
           "#FF6692",
           "#B6E880",
           "#FF97FF",
           "#FECB52"
          ],
          "font": {
           "color": "#2a3f5f"
          },
          "geo": {
           "bgcolor": "white",
           "lakecolor": "white",
           "landcolor": "#E5ECF6",
           "showlakes": true,
           "showland": true,
           "subunitcolor": "white"
          },
          "hoverlabel": {
           "align": "left"
          },
          "hovermode": "closest",
          "mapbox": {
           "style": "light"
          },
          "paper_bgcolor": "white",
          "plot_bgcolor": "#E5ECF6",
          "polar": {
           "angularaxis": {
            "gridcolor": "white",
            "linecolor": "white",
            "ticks": ""
           },
           "bgcolor": "#E5ECF6",
           "radialaxis": {
            "gridcolor": "white",
            "linecolor": "white",
            "ticks": ""
           }
          },
          "scene": {
           "xaxis": {
            "backgroundcolor": "#E5ECF6",
            "gridcolor": "white",
            "gridwidth": 2,
            "linecolor": "white",
            "showbackground": true,
            "ticks": "",
            "zerolinecolor": "white"
           },
           "yaxis": {
            "backgroundcolor": "#E5ECF6",
            "gridcolor": "white",
            "gridwidth": 2,
            "linecolor": "white",
            "showbackground": true,
            "ticks": "",
            "zerolinecolor": "white"
           },
           "zaxis": {
            "backgroundcolor": "#E5ECF6",
            "gridcolor": "white",
            "gridwidth": 2,
            "linecolor": "white",
            "showbackground": true,
            "ticks": "",
            "zerolinecolor": "white"
           }
          },
          "shapedefaults": {
           "line": {
            "color": "#2a3f5f"
           }
          },
          "ternary": {
           "aaxis": {
            "gridcolor": "white",
            "linecolor": "white",
            "ticks": ""
           },
           "baxis": {
            "gridcolor": "white",
            "linecolor": "white",
            "ticks": ""
           },
           "bgcolor": "#E5ECF6",
           "caxis": {
            "gridcolor": "white",
            "linecolor": "white",
            "ticks": ""
           }
          },
          "title": {
           "x": 0.05
          },
          "xaxis": {
           "automargin": true,
           "gridcolor": "white",
           "linecolor": "white",
           "ticks": "",
           "title": {
            "standoff": 15
           },
           "zerolinecolor": "white",
           "zerolinewidth": 2
          },
          "yaxis": {
           "automargin": true,
           "gridcolor": "white",
           "linecolor": "white",
           "ticks": "",
           "title": {
            "standoff": 15
           },
           "zerolinecolor": "white",
           "zerolinewidth": 2
          }
         }
        },
        "xaxis": {
         "anchor": "y",
         "domain": [
          0,
          1
         ],
         "showticklabels": false,
         "tickangle": 45,
         "title": {
          "text": " "
         }
        },
        "yaxis": {
         "anchor": "x",
         "categoryarray": [
          "Gotta Work",
          "Give Me A Nail",
          "Jailcell Blues",
          "Go Down To The Water",
          "Bugeye Jim",
          "Ought To Be Satisfied Now",
          "Be Kind To The Boy On The Road",
          "When The Roses Bloom Again",
          "Don't You Marry",
          "Union Prayer",
          "Tea Bag Blues",
          "Ain'ta Gonna Grieve",
          "Listening To The Wind That Blows",
          "The Jolly Banker",
          "My Thirty Thousand",
          "Chain Of Broken Hearts",
          "I'm Out To Get"
         ],
         "categoryorder": "array",
         "domain": [
          0,
          1
         ],
         "showticklabels": false,
         "tickangle": 45,
         "title": {
          "text": " "
         }
        }
       }
      }
     },
     "metadata": {},
     "output_type": "display_data"
    },
    {
     "data": {
      "application/vnd.plotly.v1+json": {
       "config": {
        "plotlyServerURL": "https://plot.ly"
       },
       "data": [
        {
         "hovertemplate": "track=%{y}<br>count_letter=%{x}<extra></extra>",
         "legendgroup": "Cold Slope",
         "marker": {
          "color": "#636efa"
         },
         "name": "Cold Slope",
         "orientation": "h",
         "showlegend": true,
         "type": "funnel",
         "x": [
          773
         ],
         "xaxis": "x",
         "y": [
          "Cold Slope"
         ],
         "yaxis": "y"
        },
        {
         "hovertemplate": "track=%{y}<br>count_letter=%{x}<extra></extra>",
         "legendgroup": "Random Name Generator",
         "marker": {
          "color": "#EF553B"
         },
         "name": "Random Name Generator",
         "orientation": "h",
         "showlegend": true,
         "type": "funnel",
         "x": [
          756
         ],
         "xaxis": "x",
         "y": [
          "Random Name Generator"
         ],
         "yaxis": "y"
        },
        {
         "hovertemplate": "track=%{y}<br>count_letter=%{x}<extra></extra>",
         "legendgroup": "The Joke Explained",
         "marker": {
          "color": "#00cc96"
         },
         "name": "The Joke Explained",
         "orientation": "h",
         "showlegend": true,
         "type": "funnel",
         "x": [
          651
         ],
         "xaxis": "x",
         "y": [
          "The Joke Explained"
         ],
         "yaxis": "y"
        },
        {
         "hovertemplate": "track=%{y}<br>count_letter=%{x}<extra></extra>",
         "legendgroup": "Taste the Ceiling",
         "marker": {
          "color": "#ab63fa"
         },
         "name": "Taste the Ceiling",
         "orientation": "h",
         "showlegend": true,
         "type": "funnel",
         "x": [
          627
         ],
         "xaxis": "x",
         "y": [
          "Taste the Ceiling"
         ],
         "yaxis": "y"
        },
        {
         "hovertemplate": "track=%{y}<br>count_letter=%{x}<extra></extra>",
         "legendgroup": "Pickled Ginger",
         "marker": {
          "color": "#FFA15A"
         },
         "name": "Pickled Ginger",
         "orientation": "h",
         "showlegend": true,
         "type": "funnel",
         "x": [
          558
         ],
         "xaxis": "x",
         "y": [
          "Pickled Ginger"
         ],
         "yaxis": "y"
        },
        {
         "hovertemplate": "track=%{y}<br>count_letter=%{x}<extra></extra>",
         "legendgroup": "You Satellite",
         "marker": {
          "color": "#19d3f3"
         },
         "name": "You Satellite",
         "orientation": "h",
         "showlegend": true,
         "type": "funnel",
         "x": [
          531
         ],
         "xaxis": "x",
         "y": [
          "You Satellite"
         ],
         "yaxis": "y"
        },
        {
         "hovertemplate": "track=%{y}<br>count_letter=%{x}<extra></extra>",
         "legendgroup": "Magnetized",
         "marker": {
          "color": "#FF6692"
         },
         "name": "Magnetized",
         "orientation": "h",
         "showlegend": true,
         "type": "funnel",
         "x": [
          526
         ],
         "xaxis": "x",
         "y": [
          "Magnetized"
         ],
         "yaxis": "y"
        },
        {
         "hovertemplate": "track=%{y}<br>count_letter=%{x}<extra></extra>",
         "legendgroup": "Where Do I Begin",
         "marker": {
          "color": "#B6E880"
         },
         "name": "Where Do I Begin",
         "orientation": "h",
         "showlegend": true,
         "type": "funnel",
         "x": [
          490
         ],
         "xaxis": "x",
         "y": [
          "Where Do I Begin"
         ],
         "yaxis": "y"
        },
        {
         "hovertemplate": "track=%{y}<br>count_letter=%{x}<extra></extra>",
         "legendgroup": "King Of You",
         "marker": {
          "color": "#FF97FF"
         },
         "name": "King Of You",
         "orientation": "h",
         "showlegend": true,
         "type": "funnel",
         "x": [
          450
         ],
         "xaxis": "x",
         "y": [
          "King Of You"
         ],
         "yaxis": "y"
        },
        {
         "hovertemplate": "track=%{y}<br>count_letter=%{x}<extra></extra>",
         "legendgroup": "More...",
         "marker": {
          "color": "#FECB52"
         },
         "name": "More...",
         "orientation": "h",
         "showlegend": true,
         "type": "funnel",
         "x": [
          435
         ],
         "xaxis": "x",
         "y": [
          "More..."
         ],
         "yaxis": "y"
        }
       ],
       "layout": {
        "annotations": [
         {
          "showarrow": false,
          "text": "Album - Star Wars",
          "x": 0.5,
          "xref": "paper",
          "y": -0.1,
          "yref": "paper"
         }
        ],
        "legend": {
         "title": {
          "text": "track"
         },
         "tracegroupgap": 0
        },
        "margin": {
         "t": 60
        },
        "template": {
         "data": {
          "bar": [
           {
            "error_x": {
             "color": "#2a3f5f"
            },
            "error_y": {
             "color": "#2a3f5f"
            },
            "marker": {
             "line": {
              "color": "#E5ECF6",
              "width": 0.5
             },
             "pattern": {
              "fillmode": "overlay",
              "size": 10,
              "solidity": 0.2
             }
            },
            "type": "bar"
           }
          ],
          "barpolar": [
           {
            "marker": {
             "line": {
              "color": "#E5ECF6",
              "width": 0.5
             },
             "pattern": {
              "fillmode": "overlay",
              "size": 10,
              "solidity": 0.2
             }
            },
            "type": "barpolar"
           }
          ],
          "carpet": [
           {
            "aaxis": {
             "endlinecolor": "#2a3f5f",
             "gridcolor": "white",
             "linecolor": "white",
             "minorgridcolor": "white",
             "startlinecolor": "#2a3f5f"
            },
            "baxis": {
             "endlinecolor": "#2a3f5f",
             "gridcolor": "white",
             "linecolor": "white",
             "minorgridcolor": "white",
             "startlinecolor": "#2a3f5f"
            },
            "type": "carpet"
           }
          ],
          "choropleth": [
           {
            "colorbar": {
             "outlinewidth": 0,
             "ticks": ""
            },
            "type": "choropleth"
           }
          ],
          "contour": [
           {
            "colorbar": {
             "outlinewidth": 0,
             "ticks": ""
            },
            "colorscale": [
             [
              0,
              "#0d0887"
             ],
             [
              0.1111111111111111,
              "#46039f"
             ],
             [
              0.2222222222222222,
              "#7201a8"
             ],
             [
              0.3333333333333333,
              "#9c179e"
             ],
             [
              0.4444444444444444,
              "#bd3786"
             ],
             [
              0.5555555555555556,
              "#d8576b"
             ],
             [
              0.6666666666666666,
              "#ed7953"
             ],
             [
              0.7777777777777778,
              "#fb9f3a"
             ],
             [
              0.8888888888888888,
              "#fdca26"
             ],
             [
              1,
              "#f0f921"
             ]
            ],
            "type": "contour"
           }
          ],
          "contourcarpet": [
           {
            "colorbar": {
             "outlinewidth": 0,
             "ticks": ""
            },
            "type": "contourcarpet"
           }
          ],
          "heatmap": [
           {
            "colorbar": {
             "outlinewidth": 0,
             "ticks": ""
            },
            "colorscale": [
             [
              0,
              "#0d0887"
             ],
             [
              0.1111111111111111,
              "#46039f"
             ],
             [
              0.2222222222222222,
              "#7201a8"
             ],
             [
              0.3333333333333333,
              "#9c179e"
             ],
             [
              0.4444444444444444,
              "#bd3786"
             ],
             [
              0.5555555555555556,
              "#d8576b"
             ],
             [
              0.6666666666666666,
              "#ed7953"
             ],
             [
              0.7777777777777778,
              "#fb9f3a"
             ],
             [
              0.8888888888888888,
              "#fdca26"
             ],
             [
              1,
              "#f0f921"
             ]
            ],
            "type": "heatmap"
           }
          ],
          "heatmapgl": [
           {
            "colorbar": {
             "outlinewidth": 0,
             "ticks": ""
            },
            "colorscale": [
             [
              0,
              "#0d0887"
             ],
             [
              0.1111111111111111,
              "#46039f"
             ],
             [
              0.2222222222222222,
              "#7201a8"
             ],
             [
              0.3333333333333333,
              "#9c179e"
             ],
             [
              0.4444444444444444,
              "#bd3786"
             ],
             [
              0.5555555555555556,
              "#d8576b"
             ],
             [
              0.6666666666666666,
              "#ed7953"
             ],
             [
              0.7777777777777778,
              "#fb9f3a"
             ],
             [
              0.8888888888888888,
              "#fdca26"
             ],
             [
              1,
              "#f0f921"
             ]
            ],
            "type": "heatmapgl"
           }
          ],
          "histogram": [
           {
            "marker": {
             "pattern": {
              "fillmode": "overlay",
              "size": 10,
              "solidity": 0.2
             }
            },
            "type": "histogram"
           }
          ],
          "histogram2d": [
           {
            "colorbar": {
             "outlinewidth": 0,
             "ticks": ""
            },
            "colorscale": [
             [
              0,
              "#0d0887"
             ],
             [
              0.1111111111111111,
              "#46039f"
             ],
             [
              0.2222222222222222,
              "#7201a8"
             ],
             [
              0.3333333333333333,
              "#9c179e"
             ],
             [
              0.4444444444444444,
              "#bd3786"
             ],
             [
              0.5555555555555556,
              "#d8576b"
             ],
             [
              0.6666666666666666,
              "#ed7953"
             ],
             [
              0.7777777777777778,
              "#fb9f3a"
             ],
             [
              0.8888888888888888,
              "#fdca26"
             ],
             [
              1,
              "#f0f921"
             ]
            ],
            "type": "histogram2d"
           }
          ],
          "histogram2dcontour": [
           {
            "colorbar": {
             "outlinewidth": 0,
             "ticks": ""
            },
            "colorscale": [
             [
              0,
              "#0d0887"
             ],
             [
              0.1111111111111111,
              "#46039f"
             ],
             [
              0.2222222222222222,
              "#7201a8"
             ],
             [
              0.3333333333333333,
              "#9c179e"
             ],
             [
              0.4444444444444444,
              "#bd3786"
             ],
             [
              0.5555555555555556,
              "#d8576b"
             ],
             [
              0.6666666666666666,
              "#ed7953"
             ],
             [
              0.7777777777777778,
              "#fb9f3a"
             ],
             [
              0.8888888888888888,
              "#fdca26"
             ],
             [
              1,
              "#f0f921"
             ]
            ],
            "type": "histogram2dcontour"
           }
          ],
          "mesh3d": [
           {
            "colorbar": {
             "outlinewidth": 0,
             "ticks": ""
            },
            "type": "mesh3d"
           }
          ],
          "parcoords": [
           {
            "line": {
             "colorbar": {
              "outlinewidth": 0,
              "ticks": ""
             }
            },
            "type": "parcoords"
           }
          ],
          "pie": [
           {
            "automargin": true,
            "type": "pie"
           }
          ],
          "scatter": [
           {
            "fillpattern": {
             "fillmode": "overlay",
             "size": 10,
             "solidity": 0.2
            },
            "type": "scatter"
           }
          ],
          "scatter3d": [
           {
            "line": {
             "colorbar": {
              "outlinewidth": 0,
              "ticks": ""
             }
            },
            "marker": {
             "colorbar": {
              "outlinewidth": 0,
              "ticks": ""
             }
            },
            "type": "scatter3d"
           }
          ],
          "scattercarpet": [
           {
            "marker": {
             "colorbar": {
              "outlinewidth": 0,
              "ticks": ""
             }
            },
            "type": "scattercarpet"
           }
          ],
          "scattergeo": [
           {
            "marker": {
             "colorbar": {
              "outlinewidth": 0,
              "ticks": ""
             }
            },
            "type": "scattergeo"
           }
          ],
          "scattergl": [
           {
            "marker": {
             "colorbar": {
              "outlinewidth": 0,
              "ticks": ""
             }
            },
            "type": "scattergl"
           }
          ],
          "scattermapbox": [
           {
            "marker": {
             "colorbar": {
              "outlinewidth": 0,
              "ticks": ""
             }
            },
            "type": "scattermapbox"
           }
          ],
          "scatterpolar": [
           {
            "marker": {
             "colorbar": {
              "outlinewidth": 0,
              "ticks": ""
             }
            },
            "type": "scatterpolar"
           }
          ],
          "scatterpolargl": [
           {
            "marker": {
             "colorbar": {
              "outlinewidth": 0,
              "ticks": ""
             }
            },
            "type": "scatterpolargl"
           }
          ],
          "scatterternary": [
           {
            "marker": {
             "colorbar": {
              "outlinewidth": 0,
              "ticks": ""
             }
            },
            "type": "scatterternary"
           }
          ],
          "surface": [
           {
            "colorbar": {
             "outlinewidth": 0,
             "ticks": ""
            },
            "colorscale": [
             [
              0,
              "#0d0887"
             ],
             [
              0.1111111111111111,
              "#46039f"
             ],
             [
              0.2222222222222222,
              "#7201a8"
             ],
             [
              0.3333333333333333,
              "#9c179e"
             ],
             [
              0.4444444444444444,
              "#bd3786"
             ],
             [
              0.5555555555555556,
              "#d8576b"
             ],
             [
              0.6666666666666666,
              "#ed7953"
             ],
             [
              0.7777777777777778,
              "#fb9f3a"
             ],
             [
              0.8888888888888888,
              "#fdca26"
             ],
             [
              1,
              "#f0f921"
             ]
            ],
            "type": "surface"
           }
          ],
          "table": [
           {
            "cells": {
             "fill": {
              "color": "#EBF0F8"
             },
             "line": {
              "color": "white"
             }
            },
            "header": {
             "fill": {
              "color": "#C8D4E3"
             },
             "line": {
              "color": "white"
             }
            },
            "type": "table"
           }
          ]
         },
         "layout": {
          "annotationdefaults": {
           "arrowcolor": "#2a3f5f",
           "arrowhead": 0,
           "arrowwidth": 1
          },
          "autotypenumbers": "strict",
          "coloraxis": {
           "colorbar": {
            "outlinewidth": 0,
            "ticks": ""
           }
          },
          "colorscale": {
           "diverging": [
            [
             0,
             "#8e0152"
            ],
            [
             0.1,
             "#c51b7d"
            ],
            [
             0.2,
             "#de77ae"
            ],
            [
             0.3,
             "#f1b6da"
            ],
            [
             0.4,
             "#fde0ef"
            ],
            [
             0.5,
             "#f7f7f7"
            ],
            [
             0.6,
             "#e6f5d0"
            ],
            [
             0.7,
             "#b8e186"
            ],
            [
             0.8,
             "#7fbc41"
            ],
            [
             0.9,
             "#4d9221"
            ],
            [
             1,
             "#276419"
            ]
           ],
           "sequential": [
            [
             0,
             "#0d0887"
            ],
            [
             0.1111111111111111,
             "#46039f"
            ],
            [
             0.2222222222222222,
             "#7201a8"
            ],
            [
             0.3333333333333333,
             "#9c179e"
            ],
            [
             0.4444444444444444,
             "#bd3786"
            ],
            [
             0.5555555555555556,
             "#d8576b"
            ],
            [
             0.6666666666666666,
             "#ed7953"
            ],
            [
             0.7777777777777778,
             "#fb9f3a"
            ],
            [
             0.8888888888888888,
             "#fdca26"
            ],
            [
             1,
             "#f0f921"
            ]
           ],
           "sequentialminus": [
            [
             0,
             "#0d0887"
            ],
            [
             0.1111111111111111,
             "#46039f"
            ],
            [
             0.2222222222222222,
             "#7201a8"
            ],
            [
             0.3333333333333333,
             "#9c179e"
            ],
            [
             0.4444444444444444,
             "#bd3786"
            ],
            [
             0.5555555555555556,
             "#d8576b"
            ],
            [
             0.6666666666666666,
             "#ed7953"
            ],
            [
             0.7777777777777778,
             "#fb9f3a"
            ],
            [
             0.8888888888888888,
             "#fdca26"
            ],
            [
             1,
             "#f0f921"
            ]
           ]
          },
          "colorway": [
           "#636efa",
           "#EF553B",
           "#00cc96",
           "#ab63fa",
           "#FFA15A",
           "#19d3f3",
           "#FF6692",
           "#B6E880",
           "#FF97FF",
           "#FECB52"
          ],
          "font": {
           "color": "#2a3f5f"
          },
          "geo": {
           "bgcolor": "white",
           "lakecolor": "white",
           "landcolor": "#E5ECF6",
           "showlakes": true,
           "showland": true,
           "subunitcolor": "white"
          },
          "hoverlabel": {
           "align": "left"
          },
          "hovermode": "closest",
          "mapbox": {
           "style": "light"
          },
          "paper_bgcolor": "white",
          "plot_bgcolor": "#E5ECF6",
          "polar": {
           "angularaxis": {
            "gridcolor": "white",
            "linecolor": "white",
            "ticks": ""
           },
           "bgcolor": "#E5ECF6",
           "radialaxis": {
            "gridcolor": "white",
            "linecolor": "white",
            "ticks": ""
           }
          },
          "scene": {
           "xaxis": {
            "backgroundcolor": "#E5ECF6",
            "gridcolor": "white",
            "gridwidth": 2,
            "linecolor": "white",
            "showbackground": true,
            "ticks": "",
            "zerolinecolor": "white"
           },
           "yaxis": {
            "backgroundcolor": "#E5ECF6",
            "gridcolor": "white",
            "gridwidth": 2,
            "linecolor": "white",
            "showbackground": true,
            "ticks": "",
            "zerolinecolor": "white"
           },
           "zaxis": {
            "backgroundcolor": "#E5ECF6",
            "gridcolor": "white",
            "gridwidth": 2,
            "linecolor": "white",
            "showbackground": true,
            "ticks": "",
            "zerolinecolor": "white"
           }
          },
          "shapedefaults": {
           "line": {
            "color": "#2a3f5f"
           }
          },
          "ternary": {
           "aaxis": {
            "gridcolor": "white",
            "linecolor": "white",
            "ticks": ""
           },
           "baxis": {
            "gridcolor": "white",
            "linecolor": "white",
            "ticks": ""
           },
           "bgcolor": "#E5ECF6",
           "caxis": {
            "gridcolor": "white",
            "linecolor": "white",
            "ticks": ""
           }
          },
          "title": {
           "x": 0.05
          },
          "xaxis": {
           "automargin": true,
           "gridcolor": "white",
           "linecolor": "white",
           "ticks": "",
           "title": {
            "standoff": 15
           },
           "zerolinecolor": "white",
           "zerolinewidth": 2
          },
          "yaxis": {
           "automargin": true,
           "gridcolor": "white",
           "linecolor": "white",
           "ticks": "",
           "title": {
            "standoff": 15
           },
           "zerolinecolor": "white",
           "zerolinewidth": 2
          }
         }
        },
        "xaxis": {
         "anchor": "y",
         "domain": [
          0,
          1
         ],
         "showticklabels": false,
         "tickangle": 45,
         "title": {
          "text": " "
         }
        },
        "yaxis": {
         "anchor": "x",
         "categoryarray": [
          "More...",
          "King Of You",
          "Where Do I Begin",
          "Magnetized",
          "You Satellite",
          "Pickled Ginger",
          "Taste the Ceiling",
          "The Joke Explained",
          "Random Name Generator",
          "Cold Slope"
         ],
         "categoryorder": "array",
         "domain": [
          0,
          1
         ],
         "showticklabels": false,
         "tickangle": 45,
         "title": {
          "text": " "
         }
        }
       }
      }
     },
     "metadata": {},
     "output_type": "display_data"
    },
    {
     "data": {
      "application/vnd.plotly.v1+json": {
       "config": {
        "plotlyServerURL": "https://plot.ly"
       },
       "data": [
        {
         "hovertemplate": "track=%{y}<br>count_letter=%{x}<extra></extra>",
         "legendgroup": "Cry All Day",
         "marker": {
          "color": "#636efa"
         },
         "name": "Cry All Day",
         "orientation": "h",
         "showlegend": true,
         "type": "funnel",
         "x": [
          902
         ],
         "xaxis": "x",
         "y": [
          "Cry All Day"
         ],
         "yaxis": "y"
        },
        {
         "hovertemplate": "track=%{y}<br>count_letter=%{x}<extra></extra>",
         "legendgroup": "Normal American Kids",
         "marker": {
          "color": "#EF553B"
         },
         "name": "Normal American Kids",
         "orientation": "h",
         "showlegend": true,
         "type": "funnel",
         "x": [
          834
         ],
         "xaxis": "x",
         "y": [
          "Normal American Kids"
         ],
         "yaxis": "y"
        },
        {
         "hovertemplate": "track=%{y}<br>count_letter=%{x}<extra></extra>",
         "legendgroup": "We Aren't the World (Safety Girl)",
         "marker": {
          "color": "#00cc96"
         },
         "name": "We Aren't the World (Safety Girl)",
         "orientation": "h",
         "showlegend": true,
         "type": "funnel",
         "x": [
          636
         ],
         "xaxis": "x",
         "y": [
          "We Aren't the World (Safety Girl)"
         ],
         "yaxis": "y"
        },
        {
         "hovertemplate": "track=%{y}<br>count_letter=%{x}<extra></extra>",
         "legendgroup": "Someone to Lose",
         "marker": {
          "color": "#ab63fa"
         },
         "name": "Someone to Lose",
         "orientation": "h",
         "showlegend": true,
         "type": "funnel",
         "x": [
          633
         ],
         "xaxis": "x",
         "y": [
          "Someone to Lose"
         ],
         "yaxis": "y"
        },
        {
         "hovertemplate": "track=%{y}<br>count_letter=%{x}<extra></extra>",
         "legendgroup": "Locator",
         "marker": {
          "color": "#FFA15A"
         },
         "name": "Locator",
         "orientation": "h",
         "showlegend": true,
         "type": "funnel",
         "x": [
          613
         ],
         "xaxis": "x",
         "y": [
          "Locator"
         ],
         "yaxis": "y"
        },
        {
         "hovertemplate": "track=%{y}<br>count_letter=%{x}<extra></extra>",
         "legendgroup": "Happiness",
         "marker": {
          "color": "#19d3f3"
         },
         "name": "Happiness",
         "orientation": "h",
         "showlegend": true,
         "type": "funnel",
         "x": [
          612
         ],
         "xaxis": "x",
         "y": [
          "Happiness"
         ],
         "yaxis": "y"
        },
        {
         "hovertemplate": "track=%{y}<br>count_letter=%{x}<extra></extra>",
         "legendgroup": "Nope",
         "marker": {
          "color": "#FF6692"
         },
         "name": "Nope",
         "orientation": "h",
         "showlegend": true,
         "type": "funnel",
         "x": [
          562
         ],
         "xaxis": "x",
         "y": [
          "Nope"
         ],
         "yaxis": "y"
        },
        {
         "hovertemplate": "track=%{y}<br>count_letter=%{x}<extra></extra>",
         "legendgroup": "If I Ever Was a Child",
         "marker": {
          "color": "#B6E880"
         },
         "name": "If I Ever Was a Child",
         "orientation": "h",
         "showlegend": true,
         "type": "funnel",
         "x": [
          530
         ],
         "xaxis": "x",
         "y": [
          "If I Ever Was a Child"
         ],
         "yaxis": "y"
        },
        {
         "hovertemplate": "track=%{y}<br>count_letter=%{x}<extra></extra>",
         "legendgroup": "Shrug and Destroy",
         "marker": {
          "color": "#FF97FF"
         },
         "name": "Shrug and Destroy",
         "orientation": "h",
         "showlegend": true,
         "type": "funnel",
         "x": [
          465
         ],
         "xaxis": "x",
         "y": [
          "Shrug and Destroy"
         ],
         "yaxis": "y"
        },
        {
         "hovertemplate": "track=%{y}<br>count_letter=%{x}<extra></extra>",
         "legendgroup": "Common Sense",
         "marker": {
          "color": "#FECB52"
         },
         "name": "Common Sense",
         "orientation": "h",
         "showlegend": true,
         "type": "funnel",
         "x": [
          372
         ],
         "xaxis": "x",
         "y": [
          "Common Sense"
         ],
         "yaxis": "y"
        },
        {
         "hovertemplate": "track=%{y}<br>count_letter=%{x}<extra></extra>",
         "legendgroup": "Just Say Goodbye",
         "marker": {
          "color": "#636efa"
         },
         "name": "Just Say Goodbye",
         "orientation": "h",
         "showlegend": true,
         "type": "funnel",
         "x": [
          352
         ],
         "xaxis": "x",
         "y": [
          "Just Say Goodbye"
         ],
         "yaxis": "y"
        },
        {
         "hovertemplate": "track=%{y}<br>count_letter=%{x}<extra></extra>",
         "legendgroup": "Quarters",
         "marker": {
          "color": "#EF553B"
         },
         "name": "Quarters",
         "orientation": "h",
         "showlegend": true,
         "type": "funnel",
         "x": [
          324
         ],
         "xaxis": "x",
         "y": [
          "Quarters"
         ],
         "yaxis": "y"
        }
       ],
       "layout": {
        "annotations": [
         {
          "showarrow": false,
          "text": "Album - Schmilco",
          "x": 0.5,
          "xref": "paper",
          "y": -0.1,
          "yref": "paper"
         }
        ],
        "legend": {
         "title": {
          "text": "track"
         },
         "tracegroupgap": 0
        },
        "margin": {
         "t": 60
        },
        "template": {
         "data": {
          "bar": [
           {
            "error_x": {
             "color": "#2a3f5f"
            },
            "error_y": {
             "color": "#2a3f5f"
            },
            "marker": {
             "line": {
              "color": "#E5ECF6",
              "width": 0.5
             },
             "pattern": {
              "fillmode": "overlay",
              "size": 10,
              "solidity": 0.2
             }
            },
            "type": "bar"
           }
          ],
          "barpolar": [
           {
            "marker": {
             "line": {
              "color": "#E5ECF6",
              "width": 0.5
             },
             "pattern": {
              "fillmode": "overlay",
              "size": 10,
              "solidity": 0.2
             }
            },
            "type": "barpolar"
           }
          ],
          "carpet": [
           {
            "aaxis": {
             "endlinecolor": "#2a3f5f",
             "gridcolor": "white",
             "linecolor": "white",
             "minorgridcolor": "white",
             "startlinecolor": "#2a3f5f"
            },
            "baxis": {
             "endlinecolor": "#2a3f5f",
             "gridcolor": "white",
             "linecolor": "white",
             "minorgridcolor": "white",
             "startlinecolor": "#2a3f5f"
            },
            "type": "carpet"
           }
          ],
          "choropleth": [
           {
            "colorbar": {
             "outlinewidth": 0,
             "ticks": ""
            },
            "type": "choropleth"
           }
          ],
          "contour": [
           {
            "colorbar": {
             "outlinewidth": 0,
             "ticks": ""
            },
            "colorscale": [
             [
              0,
              "#0d0887"
             ],
             [
              0.1111111111111111,
              "#46039f"
             ],
             [
              0.2222222222222222,
              "#7201a8"
             ],
             [
              0.3333333333333333,
              "#9c179e"
             ],
             [
              0.4444444444444444,
              "#bd3786"
             ],
             [
              0.5555555555555556,
              "#d8576b"
             ],
             [
              0.6666666666666666,
              "#ed7953"
             ],
             [
              0.7777777777777778,
              "#fb9f3a"
             ],
             [
              0.8888888888888888,
              "#fdca26"
             ],
             [
              1,
              "#f0f921"
             ]
            ],
            "type": "contour"
           }
          ],
          "contourcarpet": [
           {
            "colorbar": {
             "outlinewidth": 0,
             "ticks": ""
            },
            "type": "contourcarpet"
           }
          ],
          "heatmap": [
           {
            "colorbar": {
             "outlinewidth": 0,
             "ticks": ""
            },
            "colorscale": [
             [
              0,
              "#0d0887"
             ],
             [
              0.1111111111111111,
              "#46039f"
             ],
             [
              0.2222222222222222,
              "#7201a8"
             ],
             [
              0.3333333333333333,
              "#9c179e"
             ],
             [
              0.4444444444444444,
              "#bd3786"
             ],
             [
              0.5555555555555556,
              "#d8576b"
             ],
             [
              0.6666666666666666,
              "#ed7953"
             ],
             [
              0.7777777777777778,
              "#fb9f3a"
             ],
             [
              0.8888888888888888,
              "#fdca26"
             ],
             [
              1,
              "#f0f921"
             ]
            ],
            "type": "heatmap"
           }
          ],
          "heatmapgl": [
           {
            "colorbar": {
             "outlinewidth": 0,
             "ticks": ""
            },
            "colorscale": [
             [
              0,
              "#0d0887"
             ],
             [
              0.1111111111111111,
              "#46039f"
             ],
             [
              0.2222222222222222,
              "#7201a8"
             ],
             [
              0.3333333333333333,
              "#9c179e"
             ],
             [
              0.4444444444444444,
              "#bd3786"
             ],
             [
              0.5555555555555556,
              "#d8576b"
             ],
             [
              0.6666666666666666,
              "#ed7953"
             ],
             [
              0.7777777777777778,
              "#fb9f3a"
             ],
             [
              0.8888888888888888,
              "#fdca26"
             ],
             [
              1,
              "#f0f921"
             ]
            ],
            "type": "heatmapgl"
           }
          ],
          "histogram": [
           {
            "marker": {
             "pattern": {
              "fillmode": "overlay",
              "size": 10,
              "solidity": 0.2
             }
            },
            "type": "histogram"
           }
          ],
          "histogram2d": [
           {
            "colorbar": {
             "outlinewidth": 0,
             "ticks": ""
            },
            "colorscale": [
             [
              0,
              "#0d0887"
             ],
             [
              0.1111111111111111,
              "#46039f"
             ],
             [
              0.2222222222222222,
              "#7201a8"
             ],
             [
              0.3333333333333333,
              "#9c179e"
             ],
             [
              0.4444444444444444,
              "#bd3786"
             ],
             [
              0.5555555555555556,
              "#d8576b"
             ],
             [
              0.6666666666666666,
              "#ed7953"
             ],
             [
              0.7777777777777778,
              "#fb9f3a"
             ],
             [
              0.8888888888888888,
              "#fdca26"
             ],
             [
              1,
              "#f0f921"
             ]
            ],
            "type": "histogram2d"
           }
          ],
          "histogram2dcontour": [
           {
            "colorbar": {
             "outlinewidth": 0,
             "ticks": ""
            },
            "colorscale": [
             [
              0,
              "#0d0887"
             ],
             [
              0.1111111111111111,
              "#46039f"
             ],
             [
              0.2222222222222222,
              "#7201a8"
             ],
             [
              0.3333333333333333,
              "#9c179e"
             ],
             [
              0.4444444444444444,
              "#bd3786"
             ],
             [
              0.5555555555555556,
              "#d8576b"
             ],
             [
              0.6666666666666666,
              "#ed7953"
             ],
             [
              0.7777777777777778,
              "#fb9f3a"
             ],
             [
              0.8888888888888888,
              "#fdca26"
             ],
             [
              1,
              "#f0f921"
             ]
            ],
            "type": "histogram2dcontour"
           }
          ],
          "mesh3d": [
           {
            "colorbar": {
             "outlinewidth": 0,
             "ticks": ""
            },
            "type": "mesh3d"
           }
          ],
          "parcoords": [
           {
            "line": {
             "colorbar": {
              "outlinewidth": 0,
              "ticks": ""
             }
            },
            "type": "parcoords"
           }
          ],
          "pie": [
           {
            "automargin": true,
            "type": "pie"
           }
          ],
          "scatter": [
           {
            "fillpattern": {
             "fillmode": "overlay",
             "size": 10,
             "solidity": 0.2
            },
            "type": "scatter"
           }
          ],
          "scatter3d": [
           {
            "line": {
             "colorbar": {
              "outlinewidth": 0,
              "ticks": ""
             }
            },
            "marker": {
             "colorbar": {
              "outlinewidth": 0,
              "ticks": ""
             }
            },
            "type": "scatter3d"
           }
          ],
          "scattercarpet": [
           {
            "marker": {
             "colorbar": {
              "outlinewidth": 0,
              "ticks": ""
             }
            },
            "type": "scattercarpet"
           }
          ],
          "scattergeo": [
           {
            "marker": {
             "colorbar": {
              "outlinewidth": 0,
              "ticks": ""
             }
            },
            "type": "scattergeo"
           }
          ],
          "scattergl": [
           {
            "marker": {
             "colorbar": {
              "outlinewidth": 0,
              "ticks": ""
             }
            },
            "type": "scattergl"
           }
          ],
          "scattermapbox": [
           {
            "marker": {
             "colorbar": {
              "outlinewidth": 0,
              "ticks": ""
             }
            },
            "type": "scattermapbox"
           }
          ],
          "scatterpolar": [
           {
            "marker": {
             "colorbar": {
              "outlinewidth": 0,
              "ticks": ""
             }
            },
            "type": "scatterpolar"
           }
          ],
          "scatterpolargl": [
           {
            "marker": {
             "colorbar": {
              "outlinewidth": 0,
              "ticks": ""
             }
            },
            "type": "scatterpolargl"
           }
          ],
          "scatterternary": [
           {
            "marker": {
             "colorbar": {
              "outlinewidth": 0,
              "ticks": ""
             }
            },
            "type": "scatterternary"
           }
          ],
          "surface": [
           {
            "colorbar": {
             "outlinewidth": 0,
             "ticks": ""
            },
            "colorscale": [
             [
              0,
              "#0d0887"
             ],
             [
              0.1111111111111111,
              "#46039f"
             ],
             [
              0.2222222222222222,
              "#7201a8"
             ],
             [
              0.3333333333333333,
              "#9c179e"
             ],
             [
              0.4444444444444444,
              "#bd3786"
             ],
             [
              0.5555555555555556,
              "#d8576b"
             ],
             [
              0.6666666666666666,
              "#ed7953"
             ],
             [
              0.7777777777777778,
              "#fb9f3a"
             ],
             [
              0.8888888888888888,
              "#fdca26"
             ],
             [
              1,
              "#f0f921"
             ]
            ],
            "type": "surface"
           }
          ],
          "table": [
           {
            "cells": {
             "fill": {
              "color": "#EBF0F8"
             },
             "line": {
              "color": "white"
             }
            },
            "header": {
             "fill": {
              "color": "#C8D4E3"
             },
             "line": {
              "color": "white"
             }
            },
            "type": "table"
           }
          ]
         },
         "layout": {
          "annotationdefaults": {
           "arrowcolor": "#2a3f5f",
           "arrowhead": 0,
           "arrowwidth": 1
          },
          "autotypenumbers": "strict",
          "coloraxis": {
           "colorbar": {
            "outlinewidth": 0,
            "ticks": ""
           }
          },
          "colorscale": {
           "diverging": [
            [
             0,
             "#8e0152"
            ],
            [
             0.1,
             "#c51b7d"
            ],
            [
             0.2,
             "#de77ae"
            ],
            [
             0.3,
             "#f1b6da"
            ],
            [
             0.4,
             "#fde0ef"
            ],
            [
             0.5,
             "#f7f7f7"
            ],
            [
             0.6,
             "#e6f5d0"
            ],
            [
             0.7,
             "#b8e186"
            ],
            [
             0.8,
             "#7fbc41"
            ],
            [
             0.9,
             "#4d9221"
            ],
            [
             1,
             "#276419"
            ]
           ],
           "sequential": [
            [
             0,
             "#0d0887"
            ],
            [
             0.1111111111111111,
             "#46039f"
            ],
            [
             0.2222222222222222,
             "#7201a8"
            ],
            [
             0.3333333333333333,
             "#9c179e"
            ],
            [
             0.4444444444444444,
             "#bd3786"
            ],
            [
             0.5555555555555556,
             "#d8576b"
            ],
            [
             0.6666666666666666,
             "#ed7953"
            ],
            [
             0.7777777777777778,
             "#fb9f3a"
            ],
            [
             0.8888888888888888,
             "#fdca26"
            ],
            [
             1,
             "#f0f921"
            ]
           ],
           "sequentialminus": [
            [
             0,
             "#0d0887"
            ],
            [
             0.1111111111111111,
             "#46039f"
            ],
            [
             0.2222222222222222,
             "#7201a8"
            ],
            [
             0.3333333333333333,
             "#9c179e"
            ],
            [
             0.4444444444444444,
             "#bd3786"
            ],
            [
             0.5555555555555556,
             "#d8576b"
            ],
            [
             0.6666666666666666,
             "#ed7953"
            ],
            [
             0.7777777777777778,
             "#fb9f3a"
            ],
            [
             0.8888888888888888,
             "#fdca26"
            ],
            [
             1,
             "#f0f921"
            ]
           ]
          },
          "colorway": [
           "#636efa",
           "#EF553B",
           "#00cc96",
           "#ab63fa",
           "#FFA15A",
           "#19d3f3",
           "#FF6692",
           "#B6E880",
           "#FF97FF",
           "#FECB52"
          ],
          "font": {
           "color": "#2a3f5f"
          },
          "geo": {
           "bgcolor": "white",
           "lakecolor": "white",
           "landcolor": "#E5ECF6",
           "showlakes": true,
           "showland": true,
           "subunitcolor": "white"
          },
          "hoverlabel": {
           "align": "left"
          },
          "hovermode": "closest",
          "mapbox": {
           "style": "light"
          },
          "paper_bgcolor": "white",
          "plot_bgcolor": "#E5ECF6",
          "polar": {
           "angularaxis": {
            "gridcolor": "white",
            "linecolor": "white",
            "ticks": ""
           },
           "bgcolor": "#E5ECF6",
           "radialaxis": {
            "gridcolor": "white",
            "linecolor": "white",
            "ticks": ""
           }
          },
          "scene": {
           "xaxis": {
            "backgroundcolor": "#E5ECF6",
            "gridcolor": "white",
            "gridwidth": 2,
            "linecolor": "white",
            "showbackground": true,
            "ticks": "",
            "zerolinecolor": "white"
           },
           "yaxis": {
            "backgroundcolor": "#E5ECF6",
            "gridcolor": "white",
            "gridwidth": 2,
            "linecolor": "white",
            "showbackground": true,
            "ticks": "",
            "zerolinecolor": "white"
           },
           "zaxis": {
            "backgroundcolor": "#E5ECF6",
            "gridcolor": "white",
            "gridwidth": 2,
            "linecolor": "white",
            "showbackground": true,
            "ticks": "",
            "zerolinecolor": "white"
           }
          },
          "shapedefaults": {
           "line": {
            "color": "#2a3f5f"
           }
          },
          "ternary": {
           "aaxis": {
            "gridcolor": "white",
            "linecolor": "white",
            "ticks": ""
           },
           "baxis": {
            "gridcolor": "white",
            "linecolor": "white",
            "ticks": ""
           },
           "bgcolor": "#E5ECF6",
           "caxis": {
            "gridcolor": "white",
            "linecolor": "white",
            "ticks": ""
           }
          },
          "title": {
           "x": 0.05
          },
          "xaxis": {
           "automargin": true,
           "gridcolor": "white",
           "linecolor": "white",
           "ticks": "",
           "title": {
            "standoff": 15
           },
           "zerolinecolor": "white",
           "zerolinewidth": 2
          },
          "yaxis": {
           "automargin": true,
           "gridcolor": "white",
           "linecolor": "white",
           "ticks": "",
           "title": {
            "standoff": 15
           },
           "zerolinecolor": "white",
           "zerolinewidth": 2
          }
         }
        },
        "xaxis": {
         "anchor": "y",
         "domain": [
          0,
          1
         ],
         "showticklabels": false,
         "tickangle": 45,
         "title": {
          "text": " "
         }
        },
        "yaxis": {
         "anchor": "x",
         "categoryarray": [
          "Quarters",
          "Just Say Goodbye",
          "Common Sense",
          "Shrug and Destroy",
          "If I Ever Was a Child",
          "Nope",
          "Happiness",
          "Locator",
          "Someone to Lose",
          "We Aren't the World (Safety Girl)",
          "Normal American Kids",
          "Cry All Day"
         ],
         "categoryorder": "array",
         "domain": [
          0,
          1
         ],
         "showticklabels": false,
         "tickangle": 45,
         "title": {
          "text": " "
         }
        }
       }
      }
     },
     "metadata": {},
     "output_type": "display_data"
    },
    {
     "data": {
      "application/vnd.plotly.v1+json": {
       "config": {
        "plotlyServerURL": "https://plot.ly"
       },
       "data": [
        {
         "hovertemplate": "track=%{y}<br>count_letter=%{x}<extra></extra>",
         "legendgroup": "Hold Me Anyway",
         "marker": {
          "color": "#636efa"
         },
         "name": "Hold Me Anyway",
         "orientation": "h",
         "showlegend": true,
         "type": "funnel",
         "x": [
          767
         ],
         "xaxis": "x",
         "y": [
          "Hold Me Anyway"
         ],
         "yaxis": "y"
        },
        {
         "hovertemplate": "track=%{y}<br>count_letter=%{x}<extra></extra>",
         "legendgroup": "Bright Leaves",
         "marker": {
          "color": "#EF553B"
         },
         "name": "Bright Leaves",
         "orientation": "h",
         "showlegend": true,
         "type": "funnel",
         "x": [
          650
         ],
         "xaxis": "x",
         "y": [
          "Bright Leaves"
         ],
         "yaxis": "y"
        },
        {
         "hovertemplate": "track=%{y}<br>count_letter=%{x}<extra></extra>",
         "legendgroup": "White Wooden Cross",
         "marker": {
          "color": "#00cc96"
         },
         "name": "White Wooden Cross",
         "orientation": "h",
         "showlegend": true,
         "type": "funnel",
         "x": [
          597
         ],
         "xaxis": "x",
         "y": [
          "White Wooden Cross"
         ],
         "yaxis": "y"
        },
        {
         "hovertemplate": "track=%{y}<br>count_letter=%{x}<extra></extra>",
         "legendgroup": "An Empty Corner",
         "marker": {
          "color": "#ab63fa"
         },
         "name": "An Empty Corner",
         "orientation": "h",
         "showlegend": true,
         "type": "funnel",
         "x": [
          586
         ],
         "xaxis": "x",
         "y": [
          "An Empty Corner"
         ],
         "yaxis": "y"
        },
        {
         "hovertemplate": "track=%{y}<br>count_letter=%{x}<extra></extra>",
         "legendgroup": "Before Us",
         "marker": {
          "color": "#FFA15A"
         },
         "name": "Before Us",
         "orientation": "h",
         "showlegend": true,
         "type": "funnel",
         "x": [
          564
         ],
         "xaxis": "x",
         "y": [
          "Before Us"
         ],
         "yaxis": "y"
        },
        {
         "hovertemplate": "track=%{y}<br>count_letter=%{x}<extra></extra>",
         "legendgroup": "Everyone Hides",
         "marker": {
          "color": "#19d3f3"
         },
         "name": "Everyone Hides",
         "orientation": "h",
         "showlegend": true,
         "type": "funnel",
         "x": [
          562
         ],
         "xaxis": "x",
         "y": [
          "Everyone Hides"
         ],
         "yaxis": "y"
        },
        {
         "hovertemplate": "track=%{y}<br>count_letter=%{x}<extra></extra>",
         "legendgroup": "Love Is Everywhere (Beware)",
         "marker": {
          "color": "#FF6692"
         },
         "name": "Love Is Everywhere (Beware)",
         "orientation": "h",
         "showlegend": true,
         "type": "funnel",
         "x": [
          511
         ],
         "xaxis": "x",
         "y": [
          "Love Is Everywhere (Beware)"
         ],
         "yaxis": "y"
        },
        {
         "hovertemplate": "track=%{y}<br>count_letter=%{x}<extra></extra>",
         "legendgroup": "One and a Half Stars",
         "marker": {
          "color": "#B6E880"
         },
         "name": "One and a Half Stars",
         "orientation": "h",
         "showlegend": true,
         "type": "funnel",
         "x": [
          488
         ],
         "xaxis": "x",
         "y": [
          "One and a Half Stars"
         ],
         "yaxis": "y"
        },
        {
         "hovertemplate": "track=%{y}<br>count_letter=%{x}<extra></extra>",
         "legendgroup": "Quiet Amplifier",
         "marker": {
          "color": "#FF97FF"
         },
         "name": "Quiet Amplifier",
         "orientation": "h",
         "showlegend": true,
         "type": "funnel",
         "x": [
          470
         ],
         "xaxis": "x",
         "y": [
          "Quiet Amplifier"
         ],
         "yaxis": "y"
        },
        {
         "hovertemplate": "track=%{y}<br>count_letter=%{x}<extra></extra>",
         "legendgroup": "Citizens",
         "marker": {
          "color": "#FECB52"
         },
         "name": "Citizens",
         "orientation": "h",
         "showlegend": true,
         "type": "funnel",
         "x": [
          470
         ],
         "xaxis": "x",
         "y": [
          "Citizens"
         ],
         "yaxis": "y"
        },
        {
         "hovertemplate": "track=%{y}<br>count_letter=%{x}<extra></extra>",
         "legendgroup": "We Were Lucky",
         "marker": {
          "color": "#636efa"
         },
         "name": "We Were Lucky",
         "orientation": "h",
         "showlegend": true,
         "type": "funnel",
         "x": [
          395
         ],
         "xaxis": "x",
         "y": [
          "We Were Lucky"
         ],
         "yaxis": "y"
        }
       ],
       "layout": {
        "annotations": [
         {
          "showarrow": false,
          "text": "Album - Ode to Joy",
          "x": 0.5,
          "xref": "paper",
          "y": -0.1,
          "yref": "paper"
         }
        ],
        "legend": {
         "title": {
          "text": "track"
         },
         "tracegroupgap": 0
        },
        "margin": {
         "t": 60
        },
        "template": {
         "data": {
          "bar": [
           {
            "error_x": {
             "color": "#2a3f5f"
            },
            "error_y": {
             "color": "#2a3f5f"
            },
            "marker": {
             "line": {
              "color": "#E5ECF6",
              "width": 0.5
             },
             "pattern": {
              "fillmode": "overlay",
              "size": 10,
              "solidity": 0.2
             }
            },
            "type": "bar"
           }
          ],
          "barpolar": [
           {
            "marker": {
             "line": {
              "color": "#E5ECF6",
              "width": 0.5
             },
             "pattern": {
              "fillmode": "overlay",
              "size": 10,
              "solidity": 0.2
             }
            },
            "type": "barpolar"
           }
          ],
          "carpet": [
           {
            "aaxis": {
             "endlinecolor": "#2a3f5f",
             "gridcolor": "white",
             "linecolor": "white",
             "minorgridcolor": "white",
             "startlinecolor": "#2a3f5f"
            },
            "baxis": {
             "endlinecolor": "#2a3f5f",
             "gridcolor": "white",
             "linecolor": "white",
             "minorgridcolor": "white",
             "startlinecolor": "#2a3f5f"
            },
            "type": "carpet"
           }
          ],
          "choropleth": [
           {
            "colorbar": {
             "outlinewidth": 0,
             "ticks": ""
            },
            "type": "choropleth"
           }
          ],
          "contour": [
           {
            "colorbar": {
             "outlinewidth": 0,
             "ticks": ""
            },
            "colorscale": [
             [
              0,
              "#0d0887"
             ],
             [
              0.1111111111111111,
              "#46039f"
             ],
             [
              0.2222222222222222,
              "#7201a8"
             ],
             [
              0.3333333333333333,
              "#9c179e"
             ],
             [
              0.4444444444444444,
              "#bd3786"
             ],
             [
              0.5555555555555556,
              "#d8576b"
             ],
             [
              0.6666666666666666,
              "#ed7953"
             ],
             [
              0.7777777777777778,
              "#fb9f3a"
             ],
             [
              0.8888888888888888,
              "#fdca26"
             ],
             [
              1,
              "#f0f921"
             ]
            ],
            "type": "contour"
           }
          ],
          "contourcarpet": [
           {
            "colorbar": {
             "outlinewidth": 0,
             "ticks": ""
            },
            "type": "contourcarpet"
           }
          ],
          "heatmap": [
           {
            "colorbar": {
             "outlinewidth": 0,
             "ticks": ""
            },
            "colorscale": [
             [
              0,
              "#0d0887"
             ],
             [
              0.1111111111111111,
              "#46039f"
             ],
             [
              0.2222222222222222,
              "#7201a8"
             ],
             [
              0.3333333333333333,
              "#9c179e"
             ],
             [
              0.4444444444444444,
              "#bd3786"
             ],
             [
              0.5555555555555556,
              "#d8576b"
             ],
             [
              0.6666666666666666,
              "#ed7953"
             ],
             [
              0.7777777777777778,
              "#fb9f3a"
             ],
             [
              0.8888888888888888,
              "#fdca26"
             ],
             [
              1,
              "#f0f921"
             ]
            ],
            "type": "heatmap"
           }
          ],
          "heatmapgl": [
           {
            "colorbar": {
             "outlinewidth": 0,
             "ticks": ""
            },
            "colorscale": [
             [
              0,
              "#0d0887"
             ],
             [
              0.1111111111111111,
              "#46039f"
             ],
             [
              0.2222222222222222,
              "#7201a8"
             ],
             [
              0.3333333333333333,
              "#9c179e"
             ],
             [
              0.4444444444444444,
              "#bd3786"
             ],
             [
              0.5555555555555556,
              "#d8576b"
             ],
             [
              0.6666666666666666,
              "#ed7953"
             ],
             [
              0.7777777777777778,
              "#fb9f3a"
             ],
             [
              0.8888888888888888,
              "#fdca26"
             ],
             [
              1,
              "#f0f921"
             ]
            ],
            "type": "heatmapgl"
           }
          ],
          "histogram": [
           {
            "marker": {
             "pattern": {
              "fillmode": "overlay",
              "size": 10,
              "solidity": 0.2
             }
            },
            "type": "histogram"
           }
          ],
          "histogram2d": [
           {
            "colorbar": {
             "outlinewidth": 0,
             "ticks": ""
            },
            "colorscale": [
             [
              0,
              "#0d0887"
             ],
             [
              0.1111111111111111,
              "#46039f"
             ],
             [
              0.2222222222222222,
              "#7201a8"
             ],
             [
              0.3333333333333333,
              "#9c179e"
             ],
             [
              0.4444444444444444,
              "#bd3786"
             ],
             [
              0.5555555555555556,
              "#d8576b"
             ],
             [
              0.6666666666666666,
              "#ed7953"
             ],
             [
              0.7777777777777778,
              "#fb9f3a"
             ],
             [
              0.8888888888888888,
              "#fdca26"
             ],
             [
              1,
              "#f0f921"
             ]
            ],
            "type": "histogram2d"
           }
          ],
          "histogram2dcontour": [
           {
            "colorbar": {
             "outlinewidth": 0,
             "ticks": ""
            },
            "colorscale": [
             [
              0,
              "#0d0887"
             ],
             [
              0.1111111111111111,
              "#46039f"
             ],
             [
              0.2222222222222222,
              "#7201a8"
             ],
             [
              0.3333333333333333,
              "#9c179e"
             ],
             [
              0.4444444444444444,
              "#bd3786"
             ],
             [
              0.5555555555555556,
              "#d8576b"
             ],
             [
              0.6666666666666666,
              "#ed7953"
             ],
             [
              0.7777777777777778,
              "#fb9f3a"
             ],
             [
              0.8888888888888888,
              "#fdca26"
             ],
             [
              1,
              "#f0f921"
             ]
            ],
            "type": "histogram2dcontour"
           }
          ],
          "mesh3d": [
           {
            "colorbar": {
             "outlinewidth": 0,
             "ticks": ""
            },
            "type": "mesh3d"
           }
          ],
          "parcoords": [
           {
            "line": {
             "colorbar": {
              "outlinewidth": 0,
              "ticks": ""
             }
            },
            "type": "parcoords"
           }
          ],
          "pie": [
           {
            "automargin": true,
            "type": "pie"
           }
          ],
          "scatter": [
           {
            "fillpattern": {
             "fillmode": "overlay",
             "size": 10,
             "solidity": 0.2
            },
            "type": "scatter"
           }
          ],
          "scatter3d": [
           {
            "line": {
             "colorbar": {
              "outlinewidth": 0,
              "ticks": ""
             }
            },
            "marker": {
             "colorbar": {
              "outlinewidth": 0,
              "ticks": ""
             }
            },
            "type": "scatter3d"
           }
          ],
          "scattercarpet": [
           {
            "marker": {
             "colorbar": {
              "outlinewidth": 0,
              "ticks": ""
             }
            },
            "type": "scattercarpet"
           }
          ],
          "scattergeo": [
           {
            "marker": {
             "colorbar": {
              "outlinewidth": 0,
              "ticks": ""
             }
            },
            "type": "scattergeo"
           }
          ],
          "scattergl": [
           {
            "marker": {
             "colorbar": {
              "outlinewidth": 0,
              "ticks": ""
             }
            },
            "type": "scattergl"
           }
          ],
          "scattermapbox": [
           {
            "marker": {
             "colorbar": {
              "outlinewidth": 0,
              "ticks": ""
             }
            },
            "type": "scattermapbox"
           }
          ],
          "scatterpolar": [
           {
            "marker": {
             "colorbar": {
              "outlinewidth": 0,
              "ticks": ""
             }
            },
            "type": "scatterpolar"
           }
          ],
          "scatterpolargl": [
           {
            "marker": {
             "colorbar": {
              "outlinewidth": 0,
              "ticks": ""
             }
            },
            "type": "scatterpolargl"
           }
          ],
          "scatterternary": [
           {
            "marker": {
             "colorbar": {
              "outlinewidth": 0,
              "ticks": ""
             }
            },
            "type": "scatterternary"
           }
          ],
          "surface": [
           {
            "colorbar": {
             "outlinewidth": 0,
             "ticks": ""
            },
            "colorscale": [
             [
              0,
              "#0d0887"
             ],
             [
              0.1111111111111111,
              "#46039f"
             ],
             [
              0.2222222222222222,
              "#7201a8"
             ],
             [
              0.3333333333333333,
              "#9c179e"
             ],
             [
              0.4444444444444444,
              "#bd3786"
             ],
             [
              0.5555555555555556,
              "#d8576b"
             ],
             [
              0.6666666666666666,
              "#ed7953"
             ],
             [
              0.7777777777777778,
              "#fb9f3a"
             ],
             [
              0.8888888888888888,
              "#fdca26"
             ],
             [
              1,
              "#f0f921"
             ]
            ],
            "type": "surface"
           }
          ],
          "table": [
           {
            "cells": {
             "fill": {
              "color": "#EBF0F8"
             },
             "line": {
              "color": "white"
             }
            },
            "header": {
             "fill": {
              "color": "#C8D4E3"
             },
             "line": {
              "color": "white"
             }
            },
            "type": "table"
           }
          ]
         },
         "layout": {
          "annotationdefaults": {
           "arrowcolor": "#2a3f5f",
           "arrowhead": 0,
           "arrowwidth": 1
          },
          "autotypenumbers": "strict",
          "coloraxis": {
           "colorbar": {
            "outlinewidth": 0,
            "ticks": ""
           }
          },
          "colorscale": {
           "diverging": [
            [
             0,
             "#8e0152"
            ],
            [
             0.1,
             "#c51b7d"
            ],
            [
             0.2,
             "#de77ae"
            ],
            [
             0.3,
             "#f1b6da"
            ],
            [
             0.4,
             "#fde0ef"
            ],
            [
             0.5,
             "#f7f7f7"
            ],
            [
             0.6,
             "#e6f5d0"
            ],
            [
             0.7,
             "#b8e186"
            ],
            [
             0.8,
             "#7fbc41"
            ],
            [
             0.9,
             "#4d9221"
            ],
            [
             1,
             "#276419"
            ]
           ],
           "sequential": [
            [
             0,
             "#0d0887"
            ],
            [
             0.1111111111111111,
             "#46039f"
            ],
            [
             0.2222222222222222,
             "#7201a8"
            ],
            [
             0.3333333333333333,
             "#9c179e"
            ],
            [
             0.4444444444444444,
             "#bd3786"
            ],
            [
             0.5555555555555556,
             "#d8576b"
            ],
            [
             0.6666666666666666,
             "#ed7953"
            ],
            [
             0.7777777777777778,
             "#fb9f3a"
            ],
            [
             0.8888888888888888,
             "#fdca26"
            ],
            [
             1,
             "#f0f921"
            ]
           ],
           "sequentialminus": [
            [
             0,
             "#0d0887"
            ],
            [
             0.1111111111111111,
             "#46039f"
            ],
            [
             0.2222222222222222,
             "#7201a8"
            ],
            [
             0.3333333333333333,
             "#9c179e"
            ],
            [
             0.4444444444444444,
             "#bd3786"
            ],
            [
             0.5555555555555556,
             "#d8576b"
            ],
            [
             0.6666666666666666,
             "#ed7953"
            ],
            [
             0.7777777777777778,
             "#fb9f3a"
            ],
            [
             0.8888888888888888,
             "#fdca26"
            ],
            [
             1,
             "#f0f921"
            ]
           ]
          },
          "colorway": [
           "#636efa",
           "#EF553B",
           "#00cc96",
           "#ab63fa",
           "#FFA15A",
           "#19d3f3",
           "#FF6692",
           "#B6E880",
           "#FF97FF",
           "#FECB52"
          ],
          "font": {
           "color": "#2a3f5f"
          },
          "geo": {
           "bgcolor": "white",
           "lakecolor": "white",
           "landcolor": "#E5ECF6",
           "showlakes": true,
           "showland": true,
           "subunitcolor": "white"
          },
          "hoverlabel": {
           "align": "left"
          },
          "hovermode": "closest",
          "mapbox": {
           "style": "light"
          },
          "paper_bgcolor": "white",
          "plot_bgcolor": "#E5ECF6",
          "polar": {
           "angularaxis": {
            "gridcolor": "white",
            "linecolor": "white",
            "ticks": ""
           },
           "bgcolor": "#E5ECF6",
           "radialaxis": {
            "gridcolor": "white",
            "linecolor": "white",
            "ticks": ""
           }
          },
          "scene": {
           "xaxis": {
            "backgroundcolor": "#E5ECF6",
            "gridcolor": "white",
            "gridwidth": 2,
            "linecolor": "white",
            "showbackground": true,
            "ticks": "",
            "zerolinecolor": "white"
           },
           "yaxis": {
            "backgroundcolor": "#E5ECF6",
            "gridcolor": "white",
            "gridwidth": 2,
            "linecolor": "white",
            "showbackground": true,
            "ticks": "",
            "zerolinecolor": "white"
           },
           "zaxis": {
            "backgroundcolor": "#E5ECF6",
            "gridcolor": "white",
            "gridwidth": 2,
            "linecolor": "white",
            "showbackground": true,
            "ticks": "",
            "zerolinecolor": "white"
           }
          },
          "shapedefaults": {
           "line": {
            "color": "#2a3f5f"
           }
          },
          "ternary": {
           "aaxis": {
            "gridcolor": "white",
            "linecolor": "white",
            "ticks": ""
           },
           "baxis": {
            "gridcolor": "white",
            "linecolor": "white",
            "ticks": ""
           },
           "bgcolor": "#E5ECF6",
           "caxis": {
            "gridcolor": "white",
            "linecolor": "white",
            "ticks": ""
           }
          },
          "title": {
           "x": 0.05
          },
          "xaxis": {
           "automargin": true,
           "gridcolor": "white",
           "linecolor": "white",
           "ticks": "",
           "title": {
            "standoff": 15
           },
           "zerolinecolor": "white",
           "zerolinewidth": 2
          },
          "yaxis": {
           "automargin": true,
           "gridcolor": "white",
           "linecolor": "white",
           "ticks": "",
           "title": {
            "standoff": 15
           },
           "zerolinecolor": "white",
           "zerolinewidth": 2
          }
         }
        },
        "xaxis": {
         "anchor": "y",
         "domain": [
          0,
          1
         ],
         "showticklabels": false,
         "tickangle": 45,
         "title": {
          "text": " "
         }
        },
        "yaxis": {
         "anchor": "x",
         "categoryarray": [
          "We Were Lucky",
          "Citizens",
          "Quiet Amplifier",
          "One and a Half Stars",
          "Love Is Everywhere (Beware)",
          "Everyone Hides",
          "Before Us",
          "An Empty Corner",
          "White Wooden Cross",
          "Bright Leaves",
          "Hold Me Anyway"
         ],
         "categoryorder": "array",
         "domain": [
          0,
          1
         ],
         "showticklabels": false,
         "tickangle": 45,
         "title": {
          "text": " "
         }
        }
       }
      }
     },
     "metadata": {},
     "output_type": "display_data"
    },
    {
     "data": {
      "application/vnd.plotly.v1+json": {
       "config": {
        "plotlyServerURL": "https://plot.ly"
       },
       "data": [
        {
         "hovertemplate": "track=%{y}<br>count_letter=%{x}<extra></extra>",
         "legendgroup": "She's a Jar",
         "marker": {
          "color": "#636efa"
         },
         "name": "She's a Jar",
         "orientation": "h",
         "showlegend": true,
         "type": "funnel",
         "x": [
          992
         ],
         "xaxis": "x",
         "y": [
          "She's a Jar"
         ],
         "yaxis": "y"
        },
        {
         "hovertemplate": "track=%{y}<br>count_letter=%{x}<extra></extra>",
         "legendgroup": "A Shot in the Arm",
         "marker": {
          "color": "#EF553B"
         },
         "name": "A Shot in the Arm",
         "orientation": "h",
         "showlegend": true,
         "type": "funnel",
         "x": [
          939
         ],
         "xaxis": "x",
         "y": [
          "A Shot in the Arm"
         ],
         "yaxis": "y"
        },
        {
         "hovertemplate": "track=%{y}<br>count_letter=%{x}<extra></extra>",
         "legendgroup": "Via Chicago",
         "marker": {
          "color": "#00cc96"
         },
         "name": "Via Chicago",
         "orientation": "h",
         "showlegend": true,
         "type": "funnel",
         "x": [
          934
         ],
         "xaxis": "x",
         "y": [
          "Via Chicago"
         ],
         "yaxis": "y"
        },
        {
         "hovertemplate": "track=%{y}<br>count_letter=%{x}<extra></extra>",
         "legendgroup": "Candyfloss",
         "marker": {
          "color": "#ab63fa"
         },
         "name": "Candyfloss",
         "orientation": "h",
         "showlegend": true,
         "type": "funnel",
         "x": [
          871
         ],
         "xaxis": "x",
         "y": [
          "Candyfloss"
         ],
         "yaxis": "y"
        },
        {
         "hovertemplate": "track=%{y}<br>count_letter=%{x}<extra></extra>",
         "legendgroup": "Can't Stand It",
         "marker": {
          "color": "#FFA15A"
         },
         "name": "Can't Stand It",
         "orientation": "h",
         "showlegend": true,
         "type": "funnel",
         "x": [
          796
         ],
         "xaxis": "x",
         "y": [
          "Can't Stand It"
         ],
         "yaxis": "y"
        },
        {
         "hovertemplate": "track=%{y}<br>count_letter=%{x}<extra></extra>",
         "legendgroup": "A Shot in the Arm - Remix",
         "marker": {
          "color": "#19d3f3"
         },
         "name": "A Shot in the Arm - Remix",
         "orientation": "h",
         "showlegend": true,
         "type": "funnel",
         "x": [
          736
         ],
         "xaxis": "x",
         "y": [
          "A Shot in the Arm - Remix"
         ],
         "yaxis": "y"
        },
        {
         "hovertemplate": "track=%{y}<br>count_letter=%{x}<extra></extra>",
         "legendgroup": "Nothing'severgonnastandinmyway (Again)",
         "marker": {
          "color": "#FF6692"
         },
         "name": "Nothing'severgonnastandinmyway (Again)",
         "orientation": "h",
         "showlegend": true,
         "type": "funnel",
         "x": [
          732
         ],
         "xaxis": "x",
         "y": [
          "Nothing'severgonnastandinmyway (Again)"
         ],
         "yaxis": "y"
        },
        {
         "hovertemplate": "track=%{y}<br>count_letter=%{x}<extra></extra>",
         "legendgroup": "I'm Always in Love",
         "marker": {
          "color": "#B6E880"
         },
         "name": "I'm Always in Love",
         "orientation": "h",
         "showlegend": true,
         "type": "funnel",
         "x": [
          580
         ],
         "xaxis": "x",
         "y": [
          "I'm Always in Love"
         ],
         "yaxis": "y"
        },
        {
         "hovertemplate": "track=%{y}<br>count_letter=%{x}<extra></extra>",
         "legendgroup": "Summer Teeth",
         "marker": {
          "color": "#FF97FF"
         },
         "name": "Summer Teeth",
         "orientation": "h",
         "showlegend": true,
         "type": "funnel",
         "x": [
          554
         ],
         "xaxis": "x",
         "y": [
          "Summer Teeth"
         ],
         "yaxis": "y"
        },
        {
         "hovertemplate": "track=%{y}<br>count_letter=%{x}<extra></extra>",
         "legendgroup": "When You Wake up Feeling Old",
         "marker": {
          "color": "#FECB52"
         },
         "name": "When You Wake up Feeling Old",
         "orientation": "h",
         "showlegend": true,
         "type": "funnel",
         "x": [
          539
         ],
         "xaxis": "x",
         "y": [
          "When You Wake up Feeling Old"
         ],
         "yaxis": "y"
        },
        {
         "hovertemplate": "track=%{y}<br>count_letter=%{x}<extra></extra>",
         "legendgroup": "How to Fight Loneliness",
         "marker": {
          "color": "#636efa"
         },
         "name": "How to Fight Loneliness",
         "orientation": "h",
         "showlegend": true,
         "type": "funnel",
         "x": [
          523
         ],
         "xaxis": "x",
         "y": [
          "How to Fight Loneliness"
         ],
         "yaxis": "y"
        },
        {
         "hovertemplate": "track=%{y}<br>count_letter=%{x}<extra></extra>",
         "legendgroup": "ELT",
         "marker": {
          "color": "#EF553B"
         },
         "name": "ELT",
         "orientation": "h",
         "showlegend": true,
         "type": "funnel",
         "x": [
          455
         ],
         "xaxis": "x",
         "y": [
          "ELT"
         ],
         "yaxis": "y"
        },
        {
         "hovertemplate": "track=%{y}<br>count_letter=%{x}<extra></extra>",
         "legendgroup": "We're Just Friends",
         "marker": {
          "color": "#00cc96"
         },
         "name": "We're Just Friends",
         "orientation": "h",
         "showlegend": true,
         "type": "funnel",
         "x": [
          414
         ],
         "xaxis": "x",
         "y": [
          "We're Just Friends"
         ],
         "yaxis": "y"
        },
        {
         "hovertemplate": "track=%{y}<br>count_letter=%{x}<extra></extra>",
         "legendgroup": "My Darling",
         "marker": {
          "color": "#ab63fa"
         },
         "name": "My Darling",
         "orientation": "h",
         "showlegend": true,
         "type": "funnel",
         "x": [
          321
         ],
         "xaxis": "x",
         "y": [
          "My Darling"
         ],
         "yaxis": "y"
        },
        {
         "hovertemplate": "track=%{y}<br>count_letter=%{x}<extra></extra>",
         "legendgroup": "In a Future Age",
         "marker": {
          "color": "#FFA15A"
         },
         "name": "In a Future Age",
         "orientation": "h",
         "showlegend": true,
         "type": "funnel",
         "x": [
          292
         ],
         "xaxis": "x",
         "y": [
          "In a Future Age"
         ],
         "yaxis": "y"
        },
        {
         "hovertemplate": "track=%{y}<br>count_letter=%{x}<extra></extra>",
         "legendgroup": "Pieholden Suite",
         "marker": {
          "color": "#19d3f3"
         },
         "name": "Pieholden Suite",
         "orientation": "h",
         "showlegend": true,
         "type": "funnel",
         "x": [
          274
         ],
         "xaxis": "x",
         "y": [
          "Pieholden Suite"
         ],
         "yaxis": "y"
        },
        {
         "hovertemplate": "track=%{y}<br>count_letter=%{x}<extra></extra>",
         "legendgroup": "23 Seconds of Silence",
         "marker": {
          "color": "#FF6692"
         },
         "name": "23 Seconds of Silence",
         "orientation": "h",
         "showlegend": true,
         "type": "funnel",
         "x": [
          21
         ],
         "xaxis": "x",
         "y": [
          "23 Seconds of Silence"
         ],
         "yaxis": "y"
        }
       ],
       "layout": {
        "annotations": [
         {
          "showarrow": false,
          "text": "Album - summerteeth (Deluxe Edition)",
          "x": 0.5,
          "xref": "paper",
          "y": -0.1,
          "yref": "paper"
         }
        ],
        "legend": {
         "title": {
          "text": "track"
         },
         "tracegroupgap": 0
        },
        "margin": {
         "t": 60
        },
        "template": {
         "data": {
          "bar": [
           {
            "error_x": {
             "color": "#2a3f5f"
            },
            "error_y": {
             "color": "#2a3f5f"
            },
            "marker": {
             "line": {
              "color": "#E5ECF6",
              "width": 0.5
             },
             "pattern": {
              "fillmode": "overlay",
              "size": 10,
              "solidity": 0.2
             }
            },
            "type": "bar"
           }
          ],
          "barpolar": [
           {
            "marker": {
             "line": {
              "color": "#E5ECF6",
              "width": 0.5
             },
             "pattern": {
              "fillmode": "overlay",
              "size": 10,
              "solidity": 0.2
             }
            },
            "type": "barpolar"
           }
          ],
          "carpet": [
           {
            "aaxis": {
             "endlinecolor": "#2a3f5f",
             "gridcolor": "white",
             "linecolor": "white",
             "minorgridcolor": "white",
             "startlinecolor": "#2a3f5f"
            },
            "baxis": {
             "endlinecolor": "#2a3f5f",
             "gridcolor": "white",
             "linecolor": "white",
             "minorgridcolor": "white",
             "startlinecolor": "#2a3f5f"
            },
            "type": "carpet"
           }
          ],
          "choropleth": [
           {
            "colorbar": {
             "outlinewidth": 0,
             "ticks": ""
            },
            "type": "choropleth"
           }
          ],
          "contour": [
           {
            "colorbar": {
             "outlinewidth": 0,
             "ticks": ""
            },
            "colorscale": [
             [
              0,
              "#0d0887"
             ],
             [
              0.1111111111111111,
              "#46039f"
             ],
             [
              0.2222222222222222,
              "#7201a8"
             ],
             [
              0.3333333333333333,
              "#9c179e"
             ],
             [
              0.4444444444444444,
              "#bd3786"
             ],
             [
              0.5555555555555556,
              "#d8576b"
             ],
             [
              0.6666666666666666,
              "#ed7953"
             ],
             [
              0.7777777777777778,
              "#fb9f3a"
             ],
             [
              0.8888888888888888,
              "#fdca26"
             ],
             [
              1,
              "#f0f921"
             ]
            ],
            "type": "contour"
           }
          ],
          "contourcarpet": [
           {
            "colorbar": {
             "outlinewidth": 0,
             "ticks": ""
            },
            "type": "contourcarpet"
           }
          ],
          "heatmap": [
           {
            "colorbar": {
             "outlinewidth": 0,
             "ticks": ""
            },
            "colorscale": [
             [
              0,
              "#0d0887"
             ],
             [
              0.1111111111111111,
              "#46039f"
             ],
             [
              0.2222222222222222,
              "#7201a8"
             ],
             [
              0.3333333333333333,
              "#9c179e"
             ],
             [
              0.4444444444444444,
              "#bd3786"
             ],
             [
              0.5555555555555556,
              "#d8576b"
             ],
             [
              0.6666666666666666,
              "#ed7953"
             ],
             [
              0.7777777777777778,
              "#fb9f3a"
             ],
             [
              0.8888888888888888,
              "#fdca26"
             ],
             [
              1,
              "#f0f921"
             ]
            ],
            "type": "heatmap"
           }
          ],
          "heatmapgl": [
           {
            "colorbar": {
             "outlinewidth": 0,
             "ticks": ""
            },
            "colorscale": [
             [
              0,
              "#0d0887"
             ],
             [
              0.1111111111111111,
              "#46039f"
             ],
             [
              0.2222222222222222,
              "#7201a8"
             ],
             [
              0.3333333333333333,
              "#9c179e"
             ],
             [
              0.4444444444444444,
              "#bd3786"
             ],
             [
              0.5555555555555556,
              "#d8576b"
             ],
             [
              0.6666666666666666,
              "#ed7953"
             ],
             [
              0.7777777777777778,
              "#fb9f3a"
             ],
             [
              0.8888888888888888,
              "#fdca26"
             ],
             [
              1,
              "#f0f921"
             ]
            ],
            "type": "heatmapgl"
           }
          ],
          "histogram": [
           {
            "marker": {
             "pattern": {
              "fillmode": "overlay",
              "size": 10,
              "solidity": 0.2
             }
            },
            "type": "histogram"
           }
          ],
          "histogram2d": [
           {
            "colorbar": {
             "outlinewidth": 0,
             "ticks": ""
            },
            "colorscale": [
             [
              0,
              "#0d0887"
             ],
             [
              0.1111111111111111,
              "#46039f"
             ],
             [
              0.2222222222222222,
              "#7201a8"
             ],
             [
              0.3333333333333333,
              "#9c179e"
             ],
             [
              0.4444444444444444,
              "#bd3786"
             ],
             [
              0.5555555555555556,
              "#d8576b"
             ],
             [
              0.6666666666666666,
              "#ed7953"
             ],
             [
              0.7777777777777778,
              "#fb9f3a"
             ],
             [
              0.8888888888888888,
              "#fdca26"
             ],
             [
              1,
              "#f0f921"
             ]
            ],
            "type": "histogram2d"
           }
          ],
          "histogram2dcontour": [
           {
            "colorbar": {
             "outlinewidth": 0,
             "ticks": ""
            },
            "colorscale": [
             [
              0,
              "#0d0887"
             ],
             [
              0.1111111111111111,
              "#46039f"
             ],
             [
              0.2222222222222222,
              "#7201a8"
             ],
             [
              0.3333333333333333,
              "#9c179e"
             ],
             [
              0.4444444444444444,
              "#bd3786"
             ],
             [
              0.5555555555555556,
              "#d8576b"
             ],
             [
              0.6666666666666666,
              "#ed7953"
             ],
             [
              0.7777777777777778,
              "#fb9f3a"
             ],
             [
              0.8888888888888888,
              "#fdca26"
             ],
             [
              1,
              "#f0f921"
             ]
            ],
            "type": "histogram2dcontour"
           }
          ],
          "mesh3d": [
           {
            "colorbar": {
             "outlinewidth": 0,
             "ticks": ""
            },
            "type": "mesh3d"
           }
          ],
          "parcoords": [
           {
            "line": {
             "colorbar": {
              "outlinewidth": 0,
              "ticks": ""
             }
            },
            "type": "parcoords"
           }
          ],
          "pie": [
           {
            "automargin": true,
            "type": "pie"
           }
          ],
          "scatter": [
           {
            "fillpattern": {
             "fillmode": "overlay",
             "size": 10,
             "solidity": 0.2
            },
            "type": "scatter"
           }
          ],
          "scatter3d": [
           {
            "line": {
             "colorbar": {
              "outlinewidth": 0,
              "ticks": ""
             }
            },
            "marker": {
             "colorbar": {
              "outlinewidth": 0,
              "ticks": ""
             }
            },
            "type": "scatter3d"
           }
          ],
          "scattercarpet": [
           {
            "marker": {
             "colorbar": {
              "outlinewidth": 0,
              "ticks": ""
             }
            },
            "type": "scattercarpet"
           }
          ],
          "scattergeo": [
           {
            "marker": {
             "colorbar": {
              "outlinewidth": 0,
              "ticks": ""
             }
            },
            "type": "scattergeo"
           }
          ],
          "scattergl": [
           {
            "marker": {
             "colorbar": {
              "outlinewidth": 0,
              "ticks": ""
             }
            },
            "type": "scattergl"
           }
          ],
          "scattermapbox": [
           {
            "marker": {
             "colorbar": {
              "outlinewidth": 0,
              "ticks": ""
             }
            },
            "type": "scattermapbox"
           }
          ],
          "scatterpolar": [
           {
            "marker": {
             "colorbar": {
              "outlinewidth": 0,
              "ticks": ""
             }
            },
            "type": "scatterpolar"
           }
          ],
          "scatterpolargl": [
           {
            "marker": {
             "colorbar": {
              "outlinewidth": 0,
              "ticks": ""
             }
            },
            "type": "scatterpolargl"
           }
          ],
          "scatterternary": [
           {
            "marker": {
             "colorbar": {
              "outlinewidth": 0,
              "ticks": ""
             }
            },
            "type": "scatterternary"
           }
          ],
          "surface": [
           {
            "colorbar": {
             "outlinewidth": 0,
             "ticks": ""
            },
            "colorscale": [
             [
              0,
              "#0d0887"
             ],
             [
              0.1111111111111111,
              "#46039f"
             ],
             [
              0.2222222222222222,
              "#7201a8"
             ],
             [
              0.3333333333333333,
              "#9c179e"
             ],
             [
              0.4444444444444444,
              "#bd3786"
             ],
             [
              0.5555555555555556,
              "#d8576b"
             ],
             [
              0.6666666666666666,
              "#ed7953"
             ],
             [
              0.7777777777777778,
              "#fb9f3a"
             ],
             [
              0.8888888888888888,
              "#fdca26"
             ],
             [
              1,
              "#f0f921"
             ]
            ],
            "type": "surface"
           }
          ],
          "table": [
           {
            "cells": {
             "fill": {
              "color": "#EBF0F8"
             },
             "line": {
              "color": "white"
             }
            },
            "header": {
             "fill": {
              "color": "#C8D4E3"
             },
             "line": {
              "color": "white"
             }
            },
            "type": "table"
           }
          ]
         },
         "layout": {
          "annotationdefaults": {
           "arrowcolor": "#2a3f5f",
           "arrowhead": 0,
           "arrowwidth": 1
          },
          "autotypenumbers": "strict",
          "coloraxis": {
           "colorbar": {
            "outlinewidth": 0,
            "ticks": ""
           }
          },
          "colorscale": {
           "diverging": [
            [
             0,
             "#8e0152"
            ],
            [
             0.1,
             "#c51b7d"
            ],
            [
             0.2,
             "#de77ae"
            ],
            [
             0.3,
             "#f1b6da"
            ],
            [
             0.4,
             "#fde0ef"
            ],
            [
             0.5,
             "#f7f7f7"
            ],
            [
             0.6,
             "#e6f5d0"
            ],
            [
             0.7,
             "#b8e186"
            ],
            [
             0.8,
             "#7fbc41"
            ],
            [
             0.9,
             "#4d9221"
            ],
            [
             1,
             "#276419"
            ]
           ],
           "sequential": [
            [
             0,
             "#0d0887"
            ],
            [
             0.1111111111111111,
             "#46039f"
            ],
            [
             0.2222222222222222,
             "#7201a8"
            ],
            [
             0.3333333333333333,
             "#9c179e"
            ],
            [
             0.4444444444444444,
             "#bd3786"
            ],
            [
             0.5555555555555556,
             "#d8576b"
            ],
            [
             0.6666666666666666,
             "#ed7953"
            ],
            [
             0.7777777777777778,
             "#fb9f3a"
            ],
            [
             0.8888888888888888,
             "#fdca26"
            ],
            [
             1,
             "#f0f921"
            ]
           ],
           "sequentialminus": [
            [
             0,
             "#0d0887"
            ],
            [
             0.1111111111111111,
             "#46039f"
            ],
            [
             0.2222222222222222,
             "#7201a8"
            ],
            [
             0.3333333333333333,
             "#9c179e"
            ],
            [
             0.4444444444444444,
             "#bd3786"
            ],
            [
             0.5555555555555556,
             "#d8576b"
            ],
            [
             0.6666666666666666,
             "#ed7953"
            ],
            [
             0.7777777777777778,
             "#fb9f3a"
            ],
            [
             0.8888888888888888,
             "#fdca26"
            ],
            [
             1,
             "#f0f921"
            ]
           ]
          },
          "colorway": [
           "#636efa",
           "#EF553B",
           "#00cc96",
           "#ab63fa",
           "#FFA15A",
           "#19d3f3",
           "#FF6692",
           "#B6E880",
           "#FF97FF",
           "#FECB52"
          ],
          "font": {
           "color": "#2a3f5f"
          },
          "geo": {
           "bgcolor": "white",
           "lakecolor": "white",
           "landcolor": "#E5ECF6",
           "showlakes": true,
           "showland": true,
           "subunitcolor": "white"
          },
          "hoverlabel": {
           "align": "left"
          },
          "hovermode": "closest",
          "mapbox": {
           "style": "light"
          },
          "paper_bgcolor": "white",
          "plot_bgcolor": "#E5ECF6",
          "polar": {
           "angularaxis": {
            "gridcolor": "white",
            "linecolor": "white",
            "ticks": ""
           },
           "bgcolor": "#E5ECF6",
           "radialaxis": {
            "gridcolor": "white",
            "linecolor": "white",
            "ticks": ""
           }
          },
          "scene": {
           "xaxis": {
            "backgroundcolor": "#E5ECF6",
            "gridcolor": "white",
            "gridwidth": 2,
            "linecolor": "white",
            "showbackground": true,
            "ticks": "",
            "zerolinecolor": "white"
           },
           "yaxis": {
            "backgroundcolor": "#E5ECF6",
            "gridcolor": "white",
            "gridwidth": 2,
            "linecolor": "white",
            "showbackground": true,
            "ticks": "",
            "zerolinecolor": "white"
           },
           "zaxis": {
            "backgroundcolor": "#E5ECF6",
            "gridcolor": "white",
            "gridwidth": 2,
            "linecolor": "white",
            "showbackground": true,
            "ticks": "",
            "zerolinecolor": "white"
           }
          },
          "shapedefaults": {
           "line": {
            "color": "#2a3f5f"
           }
          },
          "ternary": {
           "aaxis": {
            "gridcolor": "white",
            "linecolor": "white",
            "ticks": ""
           },
           "baxis": {
            "gridcolor": "white",
            "linecolor": "white",
            "ticks": ""
           },
           "bgcolor": "#E5ECF6",
           "caxis": {
            "gridcolor": "white",
            "linecolor": "white",
            "ticks": ""
           }
          },
          "title": {
           "x": 0.05
          },
          "xaxis": {
           "automargin": true,
           "gridcolor": "white",
           "linecolor": "white",
           "ticks": "",
           "title": {
            "standoff": 15
           },
           "zerolinecolor": "white",
           "zerolinewidth": 2
          },
          "yaxis": {
           "automargin": true,
           "gridcolor": "white",
           "linecolor": "white",
           "ticks": "",
           "title": {
            "standoff": 15
           },
           "zerolinecolor": "white",
           "zerolinewidth": 2
          }
         }
        },
        "xaxis": {
         "anchor": "y",
         "domain": [
          0,
          1
         ],
         "showticklabels": false,
         "tickangle": 45,
         "title": {
          "text": " "
         }
        },
        "yaxis": {
         "anchor": "x",
         "categoryarray": [
          "23 Seconds of Silence",
          "Pieholden Suite",
          "In a Future Age",
          "My Darling",
          "We're Just Friends",
          "ELT",
          "How to Fight Loneliness",
          "When You Wake up Feeling Old",
          "Summer Teeth",
          "I'm Always in Love",
          "Nothing'severgonnastandinmyway (Again)",
          "A Shot in the Arm - Remix",
          "Can't Stand It",
          "Candyfloss",
          "Via Chicago",
          "A Shot in the Arm",
          "She's a Jar"
         ],
         "categoryorder": "array",
         "domain": [
          0,
          1
         ],
         "showticklabels": false,
         "tickangle": 45,
         "title": {
          "text": " "
         }
        }
       }
      }
     },
     "metadata": {},
     "output_type": "display_data"
    },
    {
     "data": {
      "application/vnd.plotly.v1+json": {
       "config": {
        "plotlyServerURL": "https://plot.ly"
       },
       "data": [
        {
         "hovertemplate": "track=%{y}<br>count_letter=%{x}<extra></extra>",
         "legendgroup": "A Lifetime to Find",
         "marker": {
          "color": "#636efa"
         },
         "name": "A Lifetime to Find",
         "orientation": "h",
         "showlegend": true,
         "type": "funnel",
         "x": [
          1140
         ],
         "xaxis": "x",
         "y": [
          "A Lifetime to Find"
         ],
         "yaxis": "y"
        },
        {
         "hovertemplate": "track=%{y}<br>count_letter=%{x}<extra></extra>",
         "legendgroup": "Hints",
         "marker": {
          "color": "#EF553B"
         },
         "name": "Hints",
         "orientation": "h",
         "showlegend": true,
         "type": "funnel",
         "x": [
          986
         ],
         "xaxis": "x",
         "y": [
          "Hints"
         ],
         "yaxis": "y"
        },
        {
         "hovertemplate": "track=%{y}<br>count_letter=%{x}<extra></extra>",
         "legendgroup": "Story to Tell",
         "marker": {
          "color": "#00cc96"
         },
         "name": "Story to Tell",
         "orientation": "h",
         "showlegend": true,
         "type": "funnel",
         "x": [
          778
         ],
         "xaxis": "x",
         "y": [
          "Story to Tell"
         ],
         "yaxis": "y"
        },
        {
         "hovertemplate": "track=%{y}<br>count_letter=%{x}<extra></extra>",
         "legendgroup": "Falling Apart (Right Now)",
         "marker": {
          "color": "#ab63fa"
         },
         "name": "Falling Apart (Right Now)",
         "orientation": "h",
         "showlegend": true,
         "type": "funnel",
         "x": [
          761
         ],
         "xaxis": "x",
         "y": [
          "Falling Apart (Right Now)"
         ],
         "yaxis": "y"
        },
        {
         "hovertemplate": "track=%{y}<br>count_letter=%{x}<extra></extra>",
         "legendgroup": "All Across the World",
         "marker": {
          "color": "#FFA15A"
         },
         "name": "All Across the World",
         "orientation": "h",
         "showlegend": true,
         "type": "funnel",
         "x": [
          724
         ],
         "xaxis": "x",
         "y": [
          "All Across the World"
         ],
         "yaxis": "y"
        },
        {
         "hovertemplate": "track=%{y}<br>count_letter=%{x}<extra></extra>",
         "legendgroup": "Ambulance",
         "marker": {
          "color": "#19d3f3"
         },
         "name": "Ambulance",
         "orientation": "h",
         "showlegend": true,
         "type": "funnel",
         "x": [
          720
         ],
         "xaxis": "x",
         "y": [
          "Ambulance"
         ],
         "yaxis": "y"
        },
        {
         "hovertemplate": "track=%{y}<br>count_letter=%{x}<extra></extra>",
         "legendgroup": "Mystery Binds",
         "marker": {
          "color": "#FF6692"
         },
         "name": "Mystery Binds",
         "orientation": "h",
         "showlegend": true,
         "type": "funnel",
         "x": [
          653
         ],
         "xaxis": "x",
         "y": [
          "Mystery Binds"
         ],
         "yaxis": "y"
        },
        {
         "hovertemplate": "track=%{y}<br>count_letter=%{x}<extra></extra>",
         "legendgroup": "Tired of Taking It Out On You",
         "marker": {
          "color": "#B6E880"
         },
         "name": "Tired of Taking It Out On You",
         "orientation": "h",
         "showlegend": true,
         "type": "funnel",
         "x": [
          591
         ],
         "xaxis": "x",
         "y": [
          "Tired of Taking It Out On You"
         ],
         "yaxis": "y"
        },
        {
         "hovertemplate": "track=%{y}<br>count_letter=%{x}<extra></extra>",
         "legendgroup": "Hearts Hard to Find",
         "marker": {
          "color": "#FF97FF"
         },
         "name": "Hearts Hard to Find",
         "orientation": "h",
         "showlegend": true,
         "type": "funnel",
         "x": [
          543
         ],
         "xaxis": "x",
         "y": [
          "Hearts Hard to Find"
         ],
         "yaxis": "y"
        },
        {
         "hovertemplate": "track=%{y}<br>count_letter=%{x}<extra></extra>",
         "legendgroup": "I Am My Mother",
         "marker": {
          "color": "#FECB52"
         },
         "name": "I Am My Mother",
         "orientation": "h",
         "showlegend": true,
         "type": "funnel",
         "x": [
          529
         ],
         "xaxis": "x",
         "y": [
          "I Am My Mother"
         ],
         "yaxis": "y"
        },
        {
         "hovertemplate": "track=%{y}<br>count_letter=%{x}<extra></extra>",
         "legendgroup": "Tonight's the Day",
         "marker": {
          "color": "#636efa"
         },
         "name": "Tonight's the Day",
         "orientation": "h",
         "showlegend": true,
         "type": "funnel",
         "x": [
          529
         ],
         "xaxis": "x",
         "y": [
          "Tonight's the Day"
         ],
         "yaxis": "y"
        },
        {
         "hovertemplate": "track=%{y}<br>count_letter=%{x}<extra></extra>",
         "legendgroup": "The Universe",
         "marker": {
          "color": "#EF553B"
         },
         "name": "The Universe",
         "orientation": "h",
         "showlegend": true,
         "type": "funnel",
         "x": [
          498
         ],
         "xaxis": "x",
         "y": [
          "The Universe"
         ],
         "yaxis": "y"
        },
        {
         "hovertemplate": "track=%{y}<br>count_letter=%{x}<extra></extra>",
         "legendgroup": "Cruel Country",
         "marker": {
          "color": "#00cc96"
         },
         "name": "Cruel Country",
         "orientation": "h",
         "showlegend": true,
         "type": "funnel",
         "x": [
          482
         ],
         "xaxis": "x",
         "y": [
          "Cruel Country"
         ],
         "yaxis": "y"
        },
        {
         "hovertemplate": "track=%{y}<br>count_letter=%{x}<extra></extra>",
         "legendgroup": "Bird Without a Tail / Base of My Skull",
         "marker": {
          "color": "#ab63fa"
         },
         "name": "Bird Without a Tail / Base of My Skull",
         "orientation": "h",
         "showlegend": true,
         "type": "funnel",
         "x": [
          478
         ],
         "xaxis": "x",
         "y": [
          "Bird Without a Tail / Base of My Skull"
         ],
         "yaxis": "y"
        },
        {
         "hovertemplate": "track=%{y}<br>count_letter=%{x}<extra></extra>",
         "legendgroup": "Please Be Wrong",
         "marker": {
          "color": "#FFA15A"
         },
         "name": "Please Be Wrong",
         "orientation": "h",
         "showlegend": true,
         "type": "funnel",
         "x": [
          440
         ],
         "xaxis": "x",
         "y": [
          "Please Be Wrong"
         ],
         "yaxis": "y"
        },
        {
         "hovertemplate": "track=%{y}<br>count_letter=%{x}<extra></extra>",
         "legendgroup": "Many Worlds",
         "marker": {
          "color": "#19d3f3"
         },
         "name": "Many Worlds",
         "orientation": "h",
         "showlegend": true,
         "type": "funnel",
         "x": [
          354
         ],
         "xaxis": "x",
         "y": [
          "Many Worlds"
         ],
         "yaxis": "y"
        },
        {
         "hovertemplate": "track=%{y}<br>count_letter=%{x}<extra></extra>",
         "legendgroup": "Country Song Upside-down",
         "marker": {
          "color": "#FF6692"
         },
         "name": "Country Song Upside-down",
         "orientation": "h",
         "showlegend": true,
         "type": "funnel",
         "x": [
          298
         ],
         "xaxis": "x",
         "y": [
          "Country Song Upside-down"
         ],
         "yaxis": "y"
        },
        {
         "hovertemplate": "track=%{y}<br>count_letter=%{x}<extra></extra>",
         "legendgroup": "The Empty Condor",
         "marker": {
          "color": "#B6E880"
         },
         "name": "The Empty Condor",
         "orientation": "h",
         "showlegend": true,
         "type": "funnel",
         "x": [
          287
         ],
         "xaxis": "x",
         "y": [
          "The Empty Condor"
         ],
         "yaxis": "y"
        },
        {
         "hovertemplate": "track=%{y}<br>count_letter=%{x}<extra></extra>",
         "legendgroup": "Sad Kind of Way",
         "marker": {
          "color": "#FF97FF"
         },
         "name": "Sad Kind of Way",
         "orientation": "h",
         "showlegend": true,
         "type": "funnel",
         "x": [
          279
         ],
         "xaxis": "x",
         "y": [
          "Sad Kind of Way"
         ],
         "yaxis": "y"
        },
        {
         "hovertemplate": "track=%{y}<br>count_letter=%{x}<extra></extra>",
         "legendgroup": "Darkness is Cheap",
         "marker": {
          "color": "#FECB52"
         },
         "name": "Darkness is Cheap",
         "orientation": "h",
         "showlegend": true,
         "type": "funnel",
         "x": [
          234
         ],
         "xaxis": "x",
         "y": [
          "Darkness is Cheap"
         ],
         "yaxis": "y"
        }
       ],
       "layout": {
        "annotations": [
         {
          "showarrow": false,
          "text": "Album - Cruel Country",
          "x": 0.5,
          "xref": "paper",
          "y": -0.1,
          "yref": "paper"
         }
        ],
        "legend": {
         "title": {
          "text": "track"
         },
         "tracegroupgap": 0
        },
        "margin": {
         "t": 60
        },
        "template": {
         "data": {
          "bar": [
           {
            "error_x": {
             "color": "#2a3f5f"
            },
            "error_y": {
             "color": "#2a3f5f"
            },
            "marker": {
             "line": {
              "color": "#E5ECF6",
              "width": 0.5
             },
             "pattern": {
              "fillmode": "overlay",
              "size": 10,
              "solidity": 0.2
             }
            },
            "type": "bar"
           }
          ],
          "barpolar": [
           {
            "marker": {
             "line": {
              "color": "#E5ECF6",
              "width": 0.5
             },
             "pattern": {
              "fillmode": "overlay",
              "size": 10,
              "solidity": 0.2
             }
            },
            "type": "barpolar"
           }
          ],
          "carpet": [
           {
            "aaxis": {
             "endlinecolor": "#2a3f5f",
             "gridcolor": "white",
             "linecolor": "white",
             "minorgridcolor": "white",
             "startlinecolor": "#2a3f5f"
            },
            "baxis": {
             "endlinecolor": "#2a3f5f",
             "gridcolor": "white",
             "linecolor": "white",
             "minorgridcolor": "white",
             "startlinecolor": "#2a3f5f"
            },
            "type": "carpet"
           }
          ],
          "choropleth": [
           {
            "colorbar": {
             "outlinewidth": 0,
             "ticks": ""
            },
            "type": "choropleth"
           }
          ],
          "contour": [
           {
            "colorbar": {
             "outlinewidth": 0,
             "ticks": ""
            },
            "colorscale": [
             [
              0,
              "#0d0887"
             ],
             [
              0.1111111111111111,
              "#46039f"
             ],
             [
              0.2222222222222222,
              "#7201a8"
             ],
             [
              0.3333333333333333,
              "#9c179e"
             ],
             [
              0.4444444444444444,
              "#bd3786"
             ],
             [
              0.5555555555555556,
              "#d8576b"
             ],
             [
              0.6666666666666666,
              "#ed7953"
             ],
             [
              0.7777777777777778,
              "#fb9f3a"
             ],
             [
              0.8888888888888888,
              "#fdca26"
             ],
             [
              1,
              "#f0f921"
             ]
            ],
            "type": "contour"
           }
          ],
          "contourcarpet": [
           {
            "colorbar": {
             "outlinewidth": 0,
             "ticks": ""
            },
            "type": "contourcarpet"
           }
          ],
          "heatmap": [
           {
            "colorbar": {
             "outlinewidth": 0,
             "ticks": ""
            },
            "colorscale": [
             [
              0,
              "#0d0887"
             ],
             [
              0.1111111111111111,
              "#46039f"
             ],
             [
              0.2222222222222222,
              "#7201a8"
             ],
             [
              0.3333333333333333,
              "#9c179e"
             ],
             [
              0.4444444444444444,
              "#bd3786"
             ],
             [
              0.5555555555555556,
              "#d8576b"
             ],
             [
              0.6666666666666666,
              "#ed7953"
             ],
             [
              0.7777777777777778,
              "#fb9f3a"
             ],
             [
              0.8888888888888888,
              "#fdca26"
             ],
             [
              1,
              "#f0f921"
             ]
            ],
            "type": "heatmap"
           }
          ],
          "heatmapgl": [
           {
            "colorbar": {
             "outlinewidth": 0,
             "ticks": ""
            },
            "colorscale": [
             [
              0,
              "#0d0887"
             ],
             [
              0.1111111111111111,
              "#46039f"
             ],
             [
              0.2222222222222222,
              "#7201a8"
             ],
             [
              0.3333333333333333,
              "#9c179e"
             ],
             [
              0.4444444444444444,
              "#bd3786"
             ],
             [
              0.5555555555555556,
              "#d8576b"
             ],
             [
              0.6666666666666666,
              "#ed7953"
             ],
             [
              0.7777777777777778,
              "#fb9f3a"
             ],
             [
              0.8888888888888888,
              "#fdca26"
             ],
             [
              1,
              "#f0f921"
             ]
            ],
            "type": "heatmapgl"
           }
          ],
          "histogram": [
           {
            "marker": {
             "pattern": {
              "fillmode": "overlay",
              "size": 10,
              "solidity": 0.2
             }
            },
            "type": "histogram"
           }
          ],
          "histogram2d": [
           {
            "colorbar": {
             "outlinewidth": 0,
             "ticks": ""
            },
            "colorscale": [
             [
              0,
              "#0d0887"
             ],
             [
              0.1111111111111111,
              "#46039f"
             ],
             [
              0.2222222222222222,
              "#7201a8"
             ],
             [
              0.3333333333333333,
              "#9c179e"
             ],
             [
              0.4444444444444444,
              "#bd3786"
             ],
             [
              0.5555555555555556,
              "#d8576b"
             ],
             [
              0.6666666666666666,
              "#ed7953"
             ],
             [
              0.7777777777777778,
              "#fb9f3a"
             ],
             [
              0.8888888888888888,
              "#fdca26"
             ],
             [
              1,
              "#f0f921"
             ]
            ],
            "type": "histogram2d"
           }
          ],
          "histogram2dcontour": [
           {
            "colorbar": {
             "outlinewidth": 0,
             "ticks": ""
            },
            "colorscale": [
             [
              0,
              "#0d0887"
             ],
             [
              0.1111111111111111,
              "#46039f"
             ],
             [
              0.2222222222222222,
              "#7201a8"
             ],
             [
              0.3333333333333333,
              "#9c179e"
             ],
             [
              0.4444444444444444,
              "#bd3786"
             ],
             [
              0.5555555555555556,
              "#d8576b"
             ],
             [
              0.6666666666666666,
              "#ed7953"
             ],
             [
              0.7777777777777778,
              "#fb9f3a"
             ],
             [
              0.8888888888888888,
              "#fdca26"
             ],
             [
              1,
              "#f0f921"
             ]
            ],
            "type": "histogram2dcontour"
           }
          ],
          "mesh3d": [
           {
            "colorbar": {
             "outlinewidth": 0,
             "ticks": ""
            },
            "type": "mesh3d"
           }
          ],
          "parcoords": [
           {
            "line": {
             "colorbar": {
              "outlinewidth": 0,
              "ticks": ""
             }
            },
            "type": "parcoords"
           }
          ],
          "pie": [
           {
            "automargin": true,
            "type": "pie"
           }
          ],
          "scatter": [
           {
            "fillpattern": {
             "fillmode": "overlay",
             "size": 10,
             "solidity": 0.2
            },
            "type": "scatter"
           }
          ],
          "scatter3d": [
           {
            "line": {
             "colorbar": {
              "outlinewidth": 0,
              "ticks": ""
             }
            },
            "marker": {
             "colorbar": {
              "outlinewidth": 0,
              "ticks": ""
             }
            },
            "type": "scatter3d"
           }
          ],
          "scattercarpet": [
           {
            "marker": {
             "colorbar": {
              "outlinewidth": 0,
              "ticks": ""
             }
            },
            "type": "scattercarpet"
           }
          ],
          "scattergeo": [
           {
            "marker": {
             "colorbar": {
              "outlinewidth": 0,
              "ticks": ""
             }
            },
            "type": "scattergeo"
           }
          ],
          "scattergl": [
           {
            "marker": {
             "colorbar": {
              "outlinewidth": 0,
              "ticks": ""
             }
            },
            "type": "scattergl"
           }
          ],
          "scattermapbox": [
           {
            "marker": {
             "colorbar": {
              "outlinewidth": 0,
              "ticks": ""
             }
            },
            "type": "scattermapbox"
           }
          ],
          "scatterpolar": [
           {
            "marker": {
             "colorbar": {
              "outlinewidth": 0,
              "ticks": ""
             }
            },
            "type": "scatterpolar"
           }
          ],
          "scatterpolargl": [
           {
            "marker": {
             "colorbar": {
              "outlinewidth": 0,
              "ticks": ""
             }
            },
            "type": "scatterpolargl"
           }
          ],
          "scatterternary": [
           {
            "marker": {
             "colorbar": {
              "outlinewidth": 0,
              "ticks": ""
             }
            },
            "type": "scatterternary"
           }
          ],
          "surface": [
           {
            "colorbar": {
             "outlinewidth": 0,
             "ticks": ""
            },
            "colorscale": [
             [
              0,
              "#0d0887"
             ],
             [
              0.1111111111111111,
              "#46039f"
             ],
             [
              0.2222222222222222,
              "#7201a8"
             ],
             [
              0.3333333333333333,
              "#9c179e"
             ],
             [
              0.4444444444444444,
              "#bd3786"
             ],
             [
              0.5555555555555556,
              "#d8576b"
             ],
             [
              0.6666666666666666,
              "#ed7953"
             ],
             [
              0.7777777777777778,
              "#fb9f3a"
             ],
             [
              0.8888888888888888,
              "#fdca26"
             ],
             [
              1,
              "#f0f921"
             ]
            ],
            "type": "surface"
           }
          ],
          "table": [
           {
            "cells": {
             "fill": {
              "color": "#EBF0F8"
             },
             "line": {
              "color": "white"
             }
            },
            "header": {
             "fill": {
              "color": "#C8D4E3"
             },
             "line": {
              "color": "white"
             }
            },
            "type": "table"
           }
          ]
         },
         "layout": {
          "annotationdefaults": {
           "arrowcolor": "#2a3f5f",
           "arrowhead": 0,
           "arrowwidth": 1
          },
          "autotypenumbers": "strict",
          "coloraxis": {
           "colorbar": {
            "outlinewidth": 0,
            "ticks": ""
           }
          },
          "colorscale": {
           "diverging": [
            [
             0,
             "#8e0152"
            ],
            [
             0.1,
             "#c51b7d"
            ],
            [
             0.2,
             "#de77ae"
            ],
            [
             0.3,
             "#f1b6da"
            ],
            [
             0.4,
             "#fde0ef"
            ],
            [
             0.5,
             "#f7f7f7"
            ],
            [
             0.6,
             "#e6f5d0"
            ],
            [
             0.7,
             "#b8e186"
            ],
            [
             0.8,
             "#7fbc41"
            ],
            [
             0.9,
             "#4d9221"
            ],
            [
             1,
             "#276419"
            ]
           ],
           "sequential": [
            [
             0,
             "#0d0887"
            ],
            [
             0.1111111111111111,
             "#46039f"
            ],
            [
             0.2222222222222222,
             "#7201a8"
            ],
            [
             0.3333333333333333,
             "#9c179e"
            ],
            [
             0.4444444444444444,
             "#bd3786"
            ],
            [
             0.5555555555555556,
             "#d8576b"
            ],
            [
             0.6666666666666666,
             "#ed7953"
            ],
            [
             0.7777777777777778,
             "#fb9f3a"
            ],
            [
             0.8888888888888888,
             "#fdca26"
            ],
            [
             1,
             "#f0f921"
            ]
           ],
           "sequentialminus": [
            [
             0,
             "#0d0887"
            ],
            [
             0.1111111111111111,
             "#46039f"
            ],
            [
             0.2222222222222222,
             "#7201a8"
            ],
            [
             0.3333333333333333,
             "#9c179e"
            ],
            [
             0.4444444444444444,
             "#bd3786"
            ],
            [
             0.5555555555555556,
             "#d8576b"
            ],
            [
             0.6666666666666666,
             "#ed7953"
            ],
            [
             0.7777777777777778,
             "#fb9f3a"
            ],
            [
             0.8888888888888888,
             "#fdca26"
            ],
            [
             1,
             "#f0f921"
            ]
           ]
          },
          "colorway": [
           "#636efa",
           "#EF553B",
           "#00cc96",
           "#ab63fa",
           "#FFA15A",
           "#19d3f3",
           "#FF6692",
           "#B6E880",
           "#FF97FF",
           "#FECB52"
          ],
          "font": {
           "color": "#2a3f5f"
          },
          "geo": {
           "bgcolor": "white",
           "lakecolor": "white",
           "landcolor": "#E5ECF6",
           "showlakes": true,
           "showland": true,
           "subunitcolor": "white"
          },
          "hoverlabel": {
           "align": "left"
          },
          "hovermode": "closest",
          "mapbox": {
           "style": "light"
          },
          "paper_bgcolor": "white",
          "plot_bgcolor": "#E5ECF6",
          "polar": {
           "angularaxis": {
            "gridcolor": "white",
            "linecolor": "white",
            "ticks": ""
           },
           "bgcolor": "#E5ECF6",
           "radialaxis": {
            "gridcolor": "white",
            "linecolor": "white",
            "ticks": ""
           }
          },
          "scene": {
           "xaxis": {
            "backgroundcolor": "#E5ECF6",
            "gridcolor": "white",
            "gridwidth": 2,
            "linecolor": "white",
            "showbackground": true,
            "ticks": "",
            "zerolinecolor": "white"
           },
           "yaxis": {
            "backgroundcolor": "#E5ECF6",
            "gridcolor": "white",
            "gridwidth": 2,
            "linecolor": "white",
            "showbackground": true,
            "ticks": "",
            "zerolinecolor": "white"
           },
           "zaxis": {
            "backgroundcolor": "#E5ECF6",
            "gridcolor": "white",
            "gridwidth": 2,
            "linecolor": "white",
            "showbackground": true,
            "ticks": "",
            "zerolinecolor": "white"
           }
          },
          "shapedefaults": {
           "line": {
            "color": "#2a3f5f"
           }
          },
          "ternary": {
           "aaxis": {
            "gridcolor": "white",
            "linecolor": "white",
            "ticks": ""
           },
           "baxis": {
            "gridcolor": "white",
            "linecolor": "white",
            "ticks": ""
           },
           "bgcolor": "#E5ECF6",
           "caxis": {
            "gridcolor": "white",
            "linecolor": "white",
            "ticks": ""
           }
          },
          "title": {
           "x": 0.05
          },
          "xaxis": {
           "automargin": true,
           "gridcolor": "white",
           "linecolor": "white",
           "ticks": "",
           "title": {
            "standoff": 15
           },
           "zerolinecolor": "white",
           "zerolinewidth": 2
          },
          "yaxis": {
           "automargin": true,
           "gridcolor": "white",
           "linecolor": "white",
           "ticks": "",
           "title": {
            "standoff": 15
           },
           "zerolinecolor": "white",
           "zerolinewidth": 2
          }
         }
        },
        "xaxis": {
         "anchor": "y",
         "domain": [
          0,
          1
         ],
         "showticklabels": false,
         "tickangle": 45,
         "title": {
          "text": " "
         }
        },
        "yaxis": {
         "anchor": "x",
         "categoryarray": [
          "Darkness is Cheap",
          "Sad Kind of Way",
          "The Empty Condor",
          "Country Song Upside-down",
          "Many Worlds",
          "Please Be Wrong",
          "Bird Without a Tail / Base of My Skull",
          "Cruel Country",
          "The Universe",
          "Tonight's the Day",
          "I Am My Mother",
          "Hearts Hard to Find",
          "Tired of Taking It Out On You",
          "Mystery Binds",
          "Ambulance",
          "All Across the World",
          "Falling Apart (Right Now)",
          "Story to Tell",
          "Hints",
          "A Lifetime to Find"
         ],
         "categoryorder": "array",
         "domain": [
          0,
          1
         ],
         "showticklabels": false,
         "tickangle": 45,
         "title": {
          "text": " "
         }
        }
       }
      }
     },
     "metadata": {},
     "output_type": "display_data"
    },
    {
     "data": {
      "application/vnd.plotly.v1+json": {
       "config": {
        "plotlyServerURL": "https://plot.ly"
       },
       "data": [
        {
         "hovertemplate": "track=%{y}<br>count_letter=%{x}<extra></extra>",
         "legendgroup": "Cousin",
         "marker": {
          "color": "#636efa"
         },
         "name": "Cousin",
         "orientation": "h",
         "showlegend": true,
         "type": "funnel",
         "x": [
          800
         ],
         "xaxis": "x",
         "y": [
          "Cousin"
         ],
         "yaxis": "y"
        },
        {
         "hovertemplate": "track=%{y}<br>count_letter=%{x}<extra></extra>",
         "legendgroup": "Infinite Surprise",
         "marker": {
          "color": "#EF553B"
         },
         "name": "Infinite Surprise",
         "orientation": "h",
         "showlegend": true,
         "type": "funnel",
         "x": [
          763
         ],
         "xaxis": "x",
         "y": [
          "Infinite Surprise"
         ],
         "yaxis": "y"
        },
        {
         "hovertemplate": "track=%{y}<br>count_letter=%{x}<extra></extra>",
         "legendgroup": "Evicted",
         "marker": {
          "color": "#00cc96"
         },
         "name": "Evicted",
         "orientation": "h",
         "showlegend": true,
         "type": "funnel",
         "x": [
          720
         ],
         "xaxis": "x",
         "y": [
          "Evicted"
         ],
         "yaxis": "y"
        },
        {
         "hovertemplate": "track=%{y}<br>count_letter=%{x}<extra></extra>",
         "legendgroup": "Meant To Be",
         "marker": {
          "color": "#ab63fa"
         },
         "name": "Meant To Be",
         "orientation": "h",
         "showlegend": true,
         "type": "funnel",
         "x": [
          611
         ],
         "xaxis": "x",
         "y": [
          "Meant To Be"
         ],
         "yaxis": "y"
        },
        {
         "hovertemplate": "track=%{y}<br>count_letter=%{x}<extra></extra>",
         "legendgroup": "Ten Dead",
         "marker": {
          "color": "#FFA15A"
         },
         "name": "Ten Dead",
         "orientation": "h",
         "showlegend": true,
         "type": "funnel",
         "x": [
          600
         ],
         "xaxis": "x",
         "y": [
          "Ten Dead"
         ],
         "yaxis": "y"
        },
        {
         "hovertemplate": "track=%{y}<br>count_letter=%{x}<extra></extra>",
         "legendgroup": "A Bowl and A Pudding",
         "marker": {
          "color": "#19d3f3"
         },
         "name": "A Bowl and A Pudding",
         "orientation": "h",
         "showlegend": true,
         "type": "funnel",
         "x": [
          572
         ],
         "xaxis": "x",
         "y": [
          "A Bowl and A Pudding"
         ],
         "yaxis": "y"
        },
        {
         "hovertemplate": "track=%{y}<br>count_letter=%{x}<extra></extra>",
         "legendgroup": "Levee",
         "marker": {
          "color": "#FF6692"
         },
         "name": "Levee",
         "orientation": "h",
         "showlegend": true,
         "type": "funnel",
         "x": [
          534
         ],
         "xaxis": "x",
         "y": [
          "Levee"
         ],
         "yaxis": "y"
        },
        {
         "hovertemplate": "track=%{y}<br>count_letter=%{x}<extra></extra>",
         "legendgroup": "Soldier Child",
         "marker": {
          "color": "#B6E880"
         },
         "name": "Soldier Child",
         "orientation": "h",
         "showlegend": true,
         "type": "funnel",
         "x": [
          512
         ],
         "xaxis": "x",
         "y": [
          "Soldier Child"
         ],
         "yaxis": "y"
        },
        {
         "hovertemplate": "track=%{y}<br>count_letter=%{x}<extra></extra>",
         "legendgroup": "Sunlight Ends",
         "marker": {
          "color": "#FF97FF"
         },
         "name": "Sunlight Ends",
         "orientation": "h",
         "showlegend": true,
         "type": "funnel",
         "x": [
          475
         ],
         "xaxis": "x",
         "y": [
          "Sunlight Ends"
         ],
         "yaxis": "y"
        },
        {
         "hovertemplate": "track=%{y}<br>count_letter=%{x}<extra></extra>",
         "legendgroup": "Pittsburgh",
         "marker": {
          "color": "#FECB52"
         },
         "name": "Pittsburgh",
         "orientation": "h",
         "showlegend": true,
         "type": "funnel",
         "x": [
          425
         ],
         "xaxis": "x",
         "y": [
          "Pittsburgh"
         ],
         "yaxis": "y"
        }
       ],
       "layout": {
        "annotations": [
         {
          "showarrow": false,
          "text": "Album - Cousin",
          "x": 0.5,
          "xref": "paper",
          "y": -0.1,
          "yref": "paper"
         }
        ],
        "legend": {
         "title": {
          "text": "track"
         },
         "tracegroupgap": 0
        },
        "margin": {
         "t": 60
        },
        "template": {
         "data": {
          "bar": [
           {
            "error_x": {
             "color": "#2a3f5f"
            },
            "error_y": {
             "color": "#2a3f5f"
            },
            "marker": {
             "line": {
              "color": "#E5ECF6",
              "width": 0.5
             },
             "pattern": {
              "fillmode": "overlay",
              "size": 10,
              "solidity": 0.2
             }
            },
            "type": "bar"
           }
          ],
          "barpolar": [
           {
            "marker": {
             "line": {
              "color": "#E5ECF6",
              "width": 0.5
             },
             "pattern": {
              "fillmode": "overlay",
              "size": 10,
              "solidity": 0.2
             }
            },
            "type": "barpolar"
           }
          ],
          "carpet": [
           {
            "aaxis": {
             "endlinecolor": "#2a3f5f",
             "gridcolor": "white",
             "linecolor": "white",
             "minorgridcolor": "white",
             "startlinecolor": "#2a3f5f"
            },
            "baxis": {
             "endlinecolor": "#2a3f5f",
             "gridcolor": "white",
             "linecolor": "white",
             "minorgridcolor": "white",
             "startlinecolor": "#2a3f5f"
            },
            "type": "carpet"
           }
          ],
          "choropleth": [
           {
            "colorbar": {
             "outlinewidth": 0,
             "ticks": ""
            },
            "type": "choropleth"
           }
          ],
          "contour": [
           {
            "colorbar": {
             "outlinewidth": 0,
             "ticks": ""
            },
            "colorscale": [
             [
              0,
              "#0d0887"
             ],
             [
              0.1111111111111111,
              "#46039f"
             ],
             [
              0.2222222222222222,
              "#7201a8"
             ],
             [
              0.3333333333333333,
              "#9c179e"
             ],
             [
              0.4444444444444444,
              "#bd3786"
             ],
             [
              0.5555555555555556,
              "#d8576b"
             ],
             [
              0.6666666666666666,
              "#ed7953"
             ],
             [
              0.7777777777777778,
              "#fb9f3a"
             ],
             [
              0.8888888888888888,
              "#fdca26"
             ],
             [
              1,
              "#f0f921"
             ]
            ],
            "type": "contour"
           }
          ],
          "contourcarpet": [
           {
            "colorbar": {
             "outlinewidth": 0,
             "ticks": ""
            },
            "type": "contourcarpet"
           }
          ],
          "heatmap": [
           {
            "colorbar": {
             "outlinewidth": 0,
             "ticks": ""
            },
            "colorscale": [
             [
              0,
              "#0d0887"
             ],
             [
              0.1111111111111111,
              "#46039f"
             ],
             [
              0.2222222222222222,
              "#7201a8"
             ],
             [
              0.3333333333333333,
              "#9c179e"
             ],
             [
              0.4444444444444444,
              "#bd3786"
             ],
             [
              0.5555555555555556,
              "#d8576b"
             ],
             [
              0.6666666666666666,
              "#ed7953"
             ],
             [
              0.7777777777777778,
              "#fb9f3a"
             ],
             [
              0.8888888888888888,
              "#fdca26"
             ],
             [
              1,
              "#f0f921"
             ]
            ],
            "type": "heatmap"
           }
          ],
          "heatmapgl": [
           {
            "colorbar": {
             "outlinewidth": 0,
             "ticks": ""
            },
            "colorscale": [
             [
              0,
              "#0d0887"
             ],
             [
              0.1111111111111111,
              "#46039f"
             ],
             [
              0.2222222222222222,
              "#7201a8"
             ],
             [
              0.3333333333333333,
              "#9c179e"
             ],
             [
              0.4444444444444444,
              "#bd3786"
             ],
             [
              0.5555555555555556,
              "#d8576b"
             ],
             [
              0.6666666666666666,
              "#ed7953"
             ],
             [
              0.7777777777777778,
              "#fb9f3a"
             ],
             [
              0.8888888888888888,
              "#fdca26"
             ],
             [
              1,
              "#f0f921"
             ]
            ],
            "type": "heatmapgl"
           }
          ],
          "histogram": [
           {
            "marker": {
             "pattern": {
              "fillmode": "overlay",
              "size": 10,
              "solidity": 0.2
             }
            },
            "type": "histogram"
           }
          ],
          "histogram2d": [
           {
            "colorbar": {
             "outlinewidth": 0,
             "ticks": ""
            },
            "colorscale": [
             [
              0,
              "#0d0887"
             ],
             [
              0.1111111111111111,
              "#46039f"
             ],
             [
              0.2222222222222222,
              "#7201a8"
             ],
             [
              0.3333333333333333,
              "#9c179e"
             ],
             [
              0.4444444444444444,
              "#bd3786"
             ],
             [
              0.5555555555555556,
              "#d8576b"
             ],
             [
              0.6666666666666666,
              "#ed7953"
             ],
             [
              0.7777777777777778,
              "#fb9f3a"
             ],
             [
              0.8888888888888888,
              "#fdca26"
             ],
             [
              1,
              "#f0f921"
             ]
            ],
            "type": "histogram2d"
           }
          ],
          "histogram2dcontour": [
           {
            "colorbar": {
             "outlinewidth": 0,
             "ticks": ""
            },
            "colorscale": [
             [
              0,
              "#0d0887"
             ],
             [
              0.1111111111111111,
              "#46039f"
             ],
             [
              0.2222222222222222,
              "#7201a8"
             ],
             [
              0.3333333333333333,
              "#9c179e"
             ],
             [
              0.4444444444444444,
              "#bd3786"
             ],
             [
              0.5555555555555556,
              "#d8576b"
             ],
             [
              0.6666666666666666,
              "#ed7953"
             ],
             [
              0.7777777777777778,
              "#fb9f3a"
             ],
             [
              0.8888888888888888,
              "#fdca26"
             ],
             [
              1,
              "#f0f921"
             ]
            ],
            "type": "histogram2dcontour"
           }
          ],
          "mesh3d": [
           {
            "colorbar": {
             "outlinewidth": 0,
             "ticks": ""
            },
            "type": "mesh3d"
           }
          ],
          "parcoords": [
           {
            "line": {
             "colorbar": {
              "outlinewidth": 0,
              "ticks": ""
             }
            },
            "type": "parcoords"
           }
          ],
          "pie": [
           {
            "automargin": true,
            "type": "pie"
           }
          ],
          "scatter": [
           {
            "fillpattern": {
             "fillmode": "overlay",
             "size": 10,
             "solidity": 0.2
            },
            "type": "scatter"
           }
          ],
          "scatter3d": [
           {
            "line": {
             "colorbar": {
              "outlinewidth": 0,
              "ticks": ""
             }
            },
            "marker": {
             "colorbar": {
              "outlinewidth": 0,
              "ticks": ""
             }
            },
            "type": "scatter3d"
           }
          ],
          "scattercarpet": [
           {
            "marker": {
             "colorbar": {
              "outlinewidth": 0,
              "ticks": ""
             }
            },
            "type": "scattercarpet"
           }
          ],
          "scattergeo": [
           {
            "marker": {
             "colorbar": {
              "outlinewidth": 0,
              "ticks": ""
             }
            },
            "type": "scattergeo"
           }
          ],
          "scattergl": [
           {
            "marker": {
             "colorbar": {
              "outlinewidth": 0,
              "ticks": ""
             }
            },
            "type": "scattergl"
           }
          ],
          "scattermapbox": [
           {
            "marker": {
             "colorbar": {
              "outlinewidth": 0,
              "ticks": ""
             }
            },
            "type": "scattermapbox"
           }
          ],
          "scatterpolar": [
           {
            "marker": {
             "colorbar": {
              "outlinewidth": 0,
              "ticks": ""
             }
            },
            "type": "scatterpolar"
           }
          ],
          "scatterpolargl": [
           {
            "marker": {
             "colorbar": {
              "outlinewidth": 0,
              "ticks": ""
             }
            },
            "type": "scatterpolargl"
           }
          ],
          "scatterternary": [
           {
            "marker": {
             "colorbar": {
              "outlinewidth": 0,
              "ticks": ""
             }
            },
            "type": "scatterternary"
           }
          ],
          "surface": [
           {
            "colorbar": {
             "outlinewidth": 0,
             "ticks": ""
            },
            "colorscale": [
             [
              0,
              "#0d0887"
             ],
             [
              0.1111111111111111,
              "#46039f"
             ],
             [
              0.2222222222222222,
              "#7201a8"
             ],
             [
              0.3333333333333333,
              "#9c179e"
             ],
             [
              0.4444444444444444,
              "#bd3786"
             ],
             [
              0.5555555555555556,
              "#d8576b"
             ],
             [
              0.6666666666666666,
              "#ed7953"
             ],
             [
              0.7777777777777778,
              "#fb9f3a"
             ],
             [
              0.8888888888888888,
              "#fdca26"
             ],
             [
              1,
              "#f0f921"
             ]
            ],
            "type": "surface"
           }
          ],
          "table": [
           {
            "cells": {
             "fill": {
              "color": "#EBF0F8"
             },
             "line": {
              "color": "white"
             }
            },
            "header": {
             "fill": {
              "color": "#C8D4E3"
             },
             "line": {
              "color": "white"
             }
            },
            "type": "table"
           }
          ]
         },
         "layout": {
          "annotationdefaults": {
           "arrowcolor": "#2a3f5f",
           "arrowhead": 0,
           "arrowwidth": 1
          },
          "autotypenumbers": "strict",
          "coloraxis": {
           "colorbar": {
            "outlinewidth": 0,
            "ticks": ""
           }
          },
          "colorscale": {
           "diverging": [
            [
             0,
             "#8e0152"
            ],
            [
             0.1,
             "#c51b7d"
            ],
            [
             0.2,
             "#de77ae"
            ],
            [
             0.3,
             "#f1b6da"
            ],
            [
             0.4,
             "#fde0ef"
            ],
            [
             0.5,
             "#f7f7f7"
            ],
            [
             0.6,
             "#e6f5d0"
            ],
            [
             0.7,
             "#b8e186"
            ],
            [
             0.8,
             "#7fbc41"
            ],
            [
             0.9,
             "#4d9221"
            ],
            [
             1,
             "#276419"
            ]
           ],
           "sequential": [
            [
             0,
             "#0d0887"
            ],
            [
             0.1111111111111111,
             "#46039f"
            ],
            [
             0.2222222222222222,
             "#7201a8"
            ],
            [
             0.3333333333333333,
             "#9c179e"
            ],
            [
             0.4444444444444444,
             "#bd3786"
            ],
            [
             0.5555555555555556,
             "#d8576b"
            ],
            [
             0.6666666666666666,
             "#ed7953"
            ],
            [
             0.7777777777777778,
             "#fb9f3a"
            ],
            [
             0.8888888888888888,
             "#fdca26"
            ],
            [
             1,
             "#f0f921"
            ]
           ],
           "sequentialminus": [
            [
             0,
             "#0d0887"
            ],
            [
             0.1111111111111111,
             "#46039f"
            ],
            [
             0.2222222222222222,
             "#7201a8"
            ],
            [
             0.3333333333333333,
             "#9c179e"
            ],
            [
             0.4444444444444444,
             "#bd3786"
            ],
            [
             0.5555555555555556,
             "#d8576b"
            ],
            [
             0.6666666666666666,
             "#ed7953"
            ],
            [
             0.7777777777777778,
             "#fb9f3a"
            ],
            [
             0.8888888888888888,
             "#fdca26"
            ],
            [
             1,
             "#f0f921"
            ]
           ]
          },
          "colorway": [
           "#636efa",
           "#EF553B",
           "#00cc96",
           "#ab63fa",
           "#FFA15A",
           "#19d3f3",
           "#FF6692",
           "#B6E880",
           "#FF97FF",
           "#FECB52"
          ],
          "font": {
           "color": "#2a3f5f"
          },
          "geo": {
           "bgcolor": "white",
           "lakecolor": "white",
           "landcolor": "#E5ECF6",
           "showlakes": true,
           "showland": true,
           "subunitcolor": "white"
          },
          "hoverlabel": {
           "align": "left"
          },
          "hovermode": "closest",
          "mapbox": {
           "style": "light"
          },
          "paper_bgcolor": "white",
          "plot_bgcolor": "#E5ECF6",
          "polar": {
           "angularaxis": {
            "gridcolor": "white",
            "linecolor": "white",
            "ticks": ""
           },
           "bgcolor": "#E5ECF6",
           "radialaxis": {
            "gridcolor": "white",
            "linecolor": "white",
            "ticks": ""
           }
          },
          "scene": {
           "xaxis": {
            "backgroundcolor": "#E5ECF6",
            "gridcolor": "white",
            "gridwidth": 2,
            "linecolor": "white",
            "showbackground": true,
            "ticks": "",
            "zerolinecolor": "white"
           },
           "yaxis": {
            "backgroundcolor": "#E5ECF6",
            "gridcolor": "white",
            "gridwidth": 2,
            "linecolor": "white",
            "showbackground": true,
            "ticks": "",
            "zerolinecolor": "white"
           },
           "zaxis": {
            "backgroundcolor": "#E5ECF6",
            "gridcolor": "white",
            "gridwidth": 2,
            "linecolor": "white",
            "showbackground": true,
            "ticks": "",
            "zerolinecolor": "white"
           }
          },
          "shapedefaults": {
           "line": {
            "color": "#2a3f5f"
           }
          },
          "ternary": {
           "aaxis": {
            "gridcolor": "white",
            "linecolor": "white",
            "ticks": ""
           },
           "baxis": {
            "gridcolor": "white",
            "linecolor": "white",
            "ticks": ""
           },
           "bgcolor": "#E5ECF6",
           "caxis": {
            "gridcolor": "white",
            "linecolor": "white",
            "ticks": ""
           }
          },
          "title": {
           "x": 0.05
          },
          "xaxis": {
           "automargin": true,
           "gridcolor": "white",
           "linecolor": "white",
           "ticks": "",
           "title": {
            "standoff": 15
           },
           "zerolinecolor": "white",
           "zerolinewidth": 2
          },
          "yaxis": {
           "automargin": true,
           "gridcolor": "white",
           "linecolor": "white",
           "ticks": "",
           "title": {
            "standoff": 15
           },
           "zerolinecolor": "white",
           "zerolinewidth": 2
          }
         }
        },
        "xaxis": {
         "anchor": "y",
         "domain": [
          0,
          1
         ],
         "showticklabels": false,
         "tickangle": 45,
         "title": {
          "text": " "
         }
        },
        "yaxis": {
         "anchor": "x",
         "categoryarray": [
          "Pittsburgh",
          "Sunlight Ends",
          "Soldier Child",
          "Levee",
          "A Bowl and A Pudding",
          "Ten Dead",
          "Meant To Be",
          "Evicted",
          "Infinite Surprise",
          "Cousin"
         ],
         "categoryorder": "array",
         "domain": [
          0,
          1
         ],
         "showticklabels": false,
         "tickangle": 45,
         "title": {
          "text": " "
         }
        }
       }
      }
     },
     "metadata": {},
     "output_type": "display_data"
    }
   ],
   "source": [
    "#count by letter of each album\n",
    "\n",
    "def count_by_letter(df):\n",
    "    name_album =  [ name for name in df['album'].unique() ]\n",
    "    for i in name_album:\n",
    "        album_name = df[df['album'] == f'{i}']\n",
    "        album_name = album_name.sort_values(by='count_letter', ascending=False)\n",
    "        fig = px.funnel(album_name, x='count_letter', y='track', color=\"track\")\n",
    "        fig.update_xaxes(tickangle=45, showticklabels=False, title_text=' ')\n",
    "        fig.update_yaxes(tickangle=45, showticklabels=False, title_text=' ')\n",
    "        fig.update_traces(orientation='h')\n",
    "        fig.add_annotation(\n",
    "                    text=f\"Album - {i}\",\n",
    "                    xref=\"paper\",\n",
    "                    yref=\"paper\",\n",
    "                    x=0.5,  \n",
    "                    y=-0.1, \n",
    "                    showarrow=False\n",
    "                )\n",
    "        fig.show()\n",
    "\n",
    "    return None\n",
    "count_by_letter(df)\n"
   ]
  },
  {
   "cell_type": "code",
   "execution_count": 142,
   "metadata": {},
   "outputs": [
    {
     "data": {
      "text/html": [
       "<div>\n",
       "<style scoped>\n",
       "    .dataframe tbody tr th:only-of-type {\n",
       "        vertical-align: middle;\n",
       "    }\n",
       "\n",
       "    .dataframe tbody tr th {\n",
       "        vertical-align: top;\n",
       "    }\n",
       "\n",
       "    .dataframe thead th {\n",
       "        text-align: right;\n",
       "    }\n",
       "</style>\n",
       "<table border=\"1\" class=\"dataframe\">\n",
       "  <thead>\n",
       "    <tr style=\"text-align: right;\">\n",
       "      <th></th>\n",
       "      <th>year</th>\n",
       "      <th>duration_ms</th>\n",
       "      <th>count_letter</th>\n",
       "    </tr>\n",
       "  </thead>\n",
       "  <tbody>\n",
       "    <tr>\n",
       "      <th>count</th>\n",
       "      <td>268.000000</td>\n",
       "      <td>268.000000</td>\n",
       "      <td>268.000000</td>\n",
       "    </tr>\n",
       "    <tr>\n",
       "      <th>mean</th>\n",
       "      <td>2009.156716</td>\n",
       "      <td>232383.216418</td>\n",
       "      <td>1012.996269</td>\n",
       "    </tr>\n",
       "    <tr>\n",
       "      <th>std</th>\n",
       "      <td>8.387037</td>\n",
       "      <td>87743.499256</td>\n",
       "      <td>4749.449489</td>\n",
       "    </tr>\n",
       "    <tr>\n",
       "      <th>min</th>\n",
       "      <td>1996.000000</td>\n",
       "      <td>22880.000000</td>\n",
       "      <td>21.000000</td>\n",
       "    </tr>\n",
       "    <tr>\n",
       "      <th>25%</th>\n",
       "      <td>2002.000000</td>\n",
       "      <td>185586.500000</td>\n",
       "      <td>481.000000</td>\n",
       "    </tr>\n",
       "    <tr>\n",
       "      <th>50%</th>\n",
       "      <td>2009.000000</td>\n",
       "      <td>218387.000000</td>\n",
       "      <td>634.500000</td>\n",
       "    </tr>\n",
       "    <tr>\n",
       "      <th>75%</th>\n",
       "      <td>2016.000000</td>\n",
       "      <td>256433.000000</td>\n",
       "      <td>848.000000</td>\n",
       "    </tr>\n",
       "    <tr>\n",
       "      <th>max</th>\n",
       "      <td>2023.000000</td>\n",
       "      <td>901333.000000</td>\n",
       "      <td>77694.000000</td>\n",
       "    </tr>\n",
       "  </tbody>\n",
       "</table>\n",
       "</div>"
      ],
      "text/plain": [
       "              year    duration_ms  count_letter\n",
       "count   268.000000     268.000000    268.000000\n",
       "mean   2009.156716  232383.216418   1012.996269\n",
       "std       8.387037   87743.499256   4749.449489\n",
       "min    1996.000000   22880.000000     21.000000\n",
       "25%    2002.000000  185586.500000    481.000000\n",
       "50%    2009.000000  218387.000000    634.500000\n",
       "75%    2016.000000  256433.000000    848.000000\n",
       "max    2023.000000  901333.000000  77694.000000"
      ]
     },
     "execution_count": 142,
     "metadata": {},
     "output_type": "execute_result"
    }
   ],
   "source": [
    "df.describe()"
   ]
  },
  {
   "cell_type": "code",
   "execution_count": 64,
   "metadata": {},
   "outputs": [
    {
     "data": {
      "application/vnd.plotly.v1+json": {
       "config": {
        "plotlyServerURL": "https://plot.ly"
       },
       "data": [
        {
         "domain": {
          "column": 0,
          "row": 0
         },
         "mode": "number+gauge+delta",
         "title": {
          "text": "acuracy"
         },
         "type": "indicator",
         "uirevision": "top center",
         "value": 1
        }
       ],
       "layout": {
        "height": 300,
        "template": {
         "data": {
          "bar": [
           {
            "error_x": {
             "color": "#2a3f5f"
            },
            "error_y": {
             "color": "#2a3f5f"
            },
            "marker": {
             "line": {
              "color": "#E5ECF6",
              "width": 0.5
             },
             "pattern": {
              "fillmode": "overlay",
              "size": 10,
              "solidity": 0.2
             }
            },
            "type": "bar"
           }
          ],
          "barpolar": [
           {
            "marker": {
             "line": {
              "color": "#E5ECF6",
              "width": 0.5
             },
             "pattern": {
              "fillmode": "overlay",
              "size": 10,
              "solidity": 0.2
             }
            },
            "type": "barpolar"
           }
          ],
          "carpet": [
           {
            "aaxis": {
             "endlinecolor": "#2a3f5f",
             "gridcolor": "white",
             "linecolor": "white",
             "minorgridcolor": "white",
             "startlinecolor": "#2a3f5f"
            },
            "baxis": {
             "endlinecolor": "#2a3f5f",
             "gridcolor": "white",
             "linecolor": "white",
             "minorgridcolor": "white",
             "startlinecolor": "#2a3f5f"
            },
            "type": "carpet"
           }
          ],
          "choropleth": [
           {
            "colorbar": {
             "outlinewidth": 0,
             "ticks": ""
            },
            "type": "choropleth"
           }
          ],
          "contour": [
           {
            "colorbar": {
             "outlinewidth": 0,
             "ticks": ""
            },
            "colorscale": [
             [
              0,
              "#0d0887"
             ],
             [
              0.1111111111111111,
              "#46039f"
             ],
             [
              0.2222222222222222,
              "#7201a8"
             ],
             [
              0.3333333333333333,
              "#9c179e"
             ],
             [
              0.4444444444444444,
              "#bd3786"
             ],
             [
              0.5555555555555556,
              "#d8576b"
             ],
             [
              0.6666666666666666,
              "#ed7953"
             ],
             [
              0.7777777777777778,
              "#fb9f3a"
             ],
             [
              0.8888888888888888,
              "#fdca26"
             ],
             [
              1,
              "#f0f921"
             ]
            ],
            "type": "contour"
           }
          ],
          "contourcarpet": [
           {
            "colorbar": {
             "outlinewidth": 0,
             "ticks": ""
            },
            "type": "contourcarpet"
           }
          ],
          "heatmap": [
           {
            "colorbar": {
             "outlinewidth": 0,
             "ticks": ""
            },
            "colorscale": [
             [
              0,
              "#0d0887"
             ],
             [
              0.1111111111111111,
              "#46039f"
             ],
             [
              0.2222222222222222,
              "#7201a8"
             ],
             [
              0.3333333333333333,
              "#9c179e"
             ],
             [
              0.4444444444444444,
              "#bd3786"
             ],
             [
              0.5555555555555556,
              "#d8576b"
             ],
             [
              0.6666666666666666,
              "#ed7953"
             ],
             [
              0.7777777777777778,
              "#fb9f3a"
             ],
             [
              0.8888888888888888,
              "#fdca26"
             ],
             [
              1,
              "#f0f921"
             ]
            ],
            "type": "heatmap"
           }
          ],
          "heatmapgl": [
           {
            "colorbar": {
             "outlinewidth": 0,
             "ticks": ""
            },
            "colorscale": [
             [
              0,
              "#0d0887"
             ],
             [
              0.1111111111111111,
              "#46039f"
             ],
             [
              0.2222222222222222,
              "#7201a8"
             ],
             [
              0.3333333333333333,
              "#9c179e"
             ],
             [
              0.4444444444444444,
              "#bd3786"
             ],
             [
              0.5555555555555556,
              "#d8576b"
             ],
             [
              0.6666666666666666,
              "#ed7953"
             ],
             [
              0.7777777777777778,
              "#fb9f3a"
             ],
             [
              0.8888888888888888,
              "#fdca26"
             ],
             [
              1,
              "#f0f921"
             ]
            ],
            "type": "heatmapgl"
           }
          ],
          "histogram": [
           {
            "marker": {
             "pattern": {
              "fillmode": "overlay",
              "size": 10,
              "solidity": 0.2
             }
            },
            "type": "histogram"
           }
          ],
          "histogram2d": [
           {
            "colorbar": {
             "outlinewidth": 0,
             "ticks": ""
            },
            "colorscale": [
             [
              0,
              "#0d0887"
             ],
             [
              0.1111111111111111,
              "#46039f"
             ],
             [
              0.2222222222222222,
              "#7201a8"
             ],
             [
              0.3333333333333333,
              "#9c179e"
             ],
             [
              0.4444444444444444,
              "#bd3786"
             ],
             [
              0.5555555555555556,
              "#d8576b"
             ],
             [
              0.6666666666666666,
              "#ed7953"
             ],
             [
              0.7777777777777778,
              "#fb9f3a"
             ],
             [
              0.8888888888888888,
              "#fdca26"
             ],
             [
              1,
              "#f0f921"
             ]
            ],
            "type": "histogram2d"
           }
          ],
          "histogram2dcontour": [
           {
            "colorbar": {
             "outlinewidth": 0,
             "ticks": ""
            },
            "colorscale": [
             [
              0,
              "#0d0887"
             ],
             [
              0.1111111111111111,
              "#46039f"
             ],
             [
              0.2222222222222222,
              "#7201a8"
             ],
             [
              0.3333333333333333,
              "#9c179e"
             ],
             [
              0.4444444444444444,
              "#bd3786"
             ],
             [
              0.5555555555555556,
              "#d8576b"
             ],
             [
              0.6666666666666666,
              "#ed7953"
             ],
             [
              0.7777777777777778,
              "#fb9f3a"
             ],
             [
              0.8888888888888888,
              "#fdca26"
             ],
             [
              1,
              "#f0f921"
             ]
            ],
            "type": "histogram2dcontour"
           }
          ],
          "mesh3d": [
           {
            "colorbar": {
             "outlinewidth": 0,
             "ticks": ""
            },
            "type": "mesh3d"
           }
          ],
          "parcoords": [
           {
            "line": {
             "colorbar": {
              "outlinewidth": 0,
              "ticks": ""
             }
            },
            "type": "parcoords"
           }
          ],
          "pie": [
           {
            "automargin": true,
            "type": "pie"
           }
          ],
          "scatter": [
           {
            "fillpattern": {
             "fillmode": "overlay",
             "size": 10,
             "solidity": 0.2
            },
            "type": "scatter"
           }
          ],
          "scatter3d": [
           {
            "line": {
             "colorbar": {
              "outlinewidth": 0,
              "ticks": ""
             }
            },
            "marker": {
             "colorbar": {
              "outlinewidth": 0,
              "ticks": ""
             }
            },
            "type": "scatter3d"
           }
          ],
          "scattercarpet": [
           {
            "marker": {
             "colorbar": {
              "outlinewidth": 0,
              "ticks": ""
             }
            },
            "type": "scattercarpet"
           }
          ],
          "scattergeo": [
           {
            "marker": {
             "colorbar": {
              "outlinewidth": 0,
              "ticks": ""
             }
            },
            "type": "scattergeo"
           }
          ],
          "scattergl": [
           {
            "marker": {
             "colorbar": {
              "outlinewidth": 0,
              "ticks": ""
             }
            },
            "type": "scattergl"
           }
          ],
          "scattermapbox": [
           {
            "marker": {
             "colorbar": {
              "outlinewidth": 0,
              "ticks": ""
             }
            },
            "type": "scattermapbox"
           }
          ],
          "scatterpolar": [
           {
            "marker": {
             "colorbar": {
              "outlinewidth": 0,
              "ticks": ""
             }
            },
            "type": "scatterpolar"
           }
          ],
          "scatterpolargl": [
           {
            "marker": {
             "colorbar": {
              "outlinewidth": 0,
              "ticks": ""
             }
            },
            "type": "scatterpolargl"
           }
          ],
          "scatterternary": [
           {
            "marker": {
             "colorbar": {
              "outlinewidth": 0,
              "ticks": ""
             }
            },
            "type": "scatterternary"
           }
          ],
          "surface": [
           {
            "colorbar": {
             "outlinewidth": 0,
             "ticks": ""
            },
            "colorscale": [
             [
              0,
              "#0d0887"
             ],
             [
              0.1111111111111111,
              "#46039f"
             ],
             [
              0.2222222222222222,
              "#7201a8"
             ],
             [
              0.3333333333333333,
              "#9c179e"
             ],
             [
              0.4444444444444444,
              "#bd3786"
             ],
             [
              0.5555555555555556,
              "#d8576b"
             ],
             [
              0.6666666666666666,
              "#ed7953"
             ],
             [
              0.7777777777777778,
              "#fb9f3a"
             ],
             [
              0.8888888888888888,
              "#fdca26"
             ],
             [
              1,
              "#f0f921"
             ]
            ],
            "type": "surface"
           }
          ],
          "table": [
           {
            "cells": {
             "fill": {
              "color": "#EBF0F8"
             },
             "line": {
              "color": "white"
             }
            },
            "header": {
             "fill": {
              "color": "#C8D4E3"
             },
             "line": {
              "color": "white"
             }
            },
            "type": "table"
           }
          ]
         },
         "layout": {
          "annotationdefaults": {
           "arrowcolor": "#2a3f5f",
           "arrowhead": 0,
           "arrowwidth": 1
          },
          "autotypenumbers": "strict",
          "coloraxis": {
           "colorbar": {
            "outlinewidth": 0,
            "ticks": ""
           }
          },
          "colorscale": {
           "diverging": [
            [
             0,
             "#8e0152"
            ],
            [
             0.1,
             "#c51b7d"
            ],
            [
             0.2,
             "#de77ae"
            ],
            [
             0.3,
             "#f1b6da"
            ],
            [
             0.4,
             "#fde0ef"
            ],
            [
             0.5,
             "#f7f7f7"
            ],
            [
             0.6,
             "#e6f5d0"
            ],
            [
             0.7,
             "#b8e186"
            ],
            [
             0.8,
             "#7fbc41"
            ],
            [
             0.9,
             "#4d9221"
            ],
            [
             1,
             "#276419"
            ]
           ],
           "sequential": [
            [
             0,
             "#0d0887"
            ],
            [
             0.1111111111111111,
             "#46039f"
            ],
            [
             0.2222222222222222,
             "#7201a8"
            ],
            [
             0.3333333333333333,
             "#9c179e"
            ],
            [
             0.4444444444444444,
             "#bd3786"
            ],
            [
             0.5555555555555556,
             "#d8576b"
            ],
            [
             0.6666666666666666,
             "#ed7953"
            ],
            [
             0.7777777777777778,
             "#fb9f3a"
            ],
            [
             0.8888888888888888,
             "#fdca26"
            ],
            [
             1,
             "#f0f921"
            ]
           ],
           "sequentialminus": [
            [
             0,
             "#0d0887"
            ],
            [
             0.1111111111111111,
             "#46039f"
            ],
            [
             0.2222222222222222,
             "#7201a8"
            ],
            [
             0.3333333333333333,
             "#9c179e"
            ],
            [
             0.4444444444444444,
             "#bd3786"
            ],
            [
             0.5555555555555556,
             "#d8576b"
            ],
            [
             0.6666666666666666,
             "#ed7953"
            ],
            [
             0.7777777777777778,
             "#fb9f3a"
            ],
            [
             0.8888888888888888,
             "#fdca26"
            ],
            [
             1,
             "#f0f921"
            ]
           ]
          },
          "colorway": [
           "#636efa",
           "#EF553B",
           "#00cc96",
           "#ab63fa",
           "#FFA15A",
           "#19d3f3",
           "#FF6692",
           "#B6E880",
           "#FF97FF",
           "#FECB52"
          ],
          "font": {
           "color": "#2a3f5f"
          },
          "geo": {
           "bgcolor": "white",
           "lakecolor": "white",
           "landcolor": "#E5ECF6",
           "showlakes": true,
           "showland": true,
           "subunitcolor": "white"
          },
          "hoverlabel": {
           "align": "left"
          },
          "hovermode": "closest",
          "mapbox": {
           "style": "light"
          },
          "paper_bgcolor": "white",
          "plot_bgcolor": "#E5ECF6",
          "polar": {
           "angularaxis": {
            "gridcolor": "white",
            "linecolor": "white",
            "ticks": ""
           },
           "bgcolor": "#E5ECF6",
           "radialaxis": {
            "gridcolor": "white",
            "linecolor": "white",
            "ticks": ""
           }
          },
          "scene": {
           "xaxis": {
            "backgroundcolor": "#E5ECF6",
            "gridcolor": "white",
            "gridwidth": 2,
            "linecolor": "white",
            "showbackground": true,
            "ticks": "",
            "zerolinecolor": "white"
           },
           "yaxis": {
            "backgroundcolor": "#E5ECF6",
            "gridcolor": "white",
            "gridwidth": 2,
            "linecolor": "white",
            "showbackground": true,
            "ticks": "",
            "zerolinecolor": "white"
           },
           "zaxis": {
            "backgroundcolor": "#E5ECF6",
            "gridcolor": "white",
            "gridwidth": 2,
            "linecolor": "white",
            "showbackground": true,
            "ticks": "",
            "zerolinecolor": "white"
           }
          },
          "shapedefaults": {
           "line": {
            "color": "#2a3f5f"
           }
          },
          "ternary": {
           "aaxis": {
            "gridcolor": "white",
            "linecolor": "white",
            "ticks": ""
           },
           "baxis": {
            "gridcolor": "white",
            "linecolor": "white",
            "ticks": ""
           },
           "bgcolor": "#E5ECF6",
           "caxis": {
            "gridcolor": "white",
            "linecolor": "white",
            "ticks": ""
           }
          },
          "title": {
           "x": 0.05
          },
          "xaxis": {
           "automargin": true,
           "gridcolor": "white",
           "linecolor": "white",
           "ticks": "",
           "title": {
            "standoff": 15
           },
           "zerolinecolor": "white",
           "zerolinewidth": 2
          },
          "yaxis": {
           "automargin": true,
           "gridcolor": "white",
           "linecolor": "white",
           "ticks": "",
           "title": {
            "standoff": 15
           },
           "zerolinecolor": "white",
           "zerolinewidth": 2
          }
         }
        },
        "title": {
         "text": "Contagem de Acuracia"
        }
       }
      }
     },
     "metadata": {},
     "output_type": "display_data"
    }
   ],
   "source": [
    "# accuracy \n",
    "\n",
    "df.head()\n",
    "\n",
    "vetor = CountVectorizer()\n",
    "bag = vetor.fit_transform(df['album'])\n",
    "train, test, class_train, class_test = train_test_split(bag, df['year'])\n",
    "regres_logistc = LogisticRegression()\n",
    "regres_logistc.fit(train, class_train)\n",
    "acuracy = regres_logistc.score(test, class_test)\n",
    "final = {\"acuracy\": acuracy}\n",
    "graph = pd.DataFrame.from_dict(final, orient='index', columns=['Value'])\n",
    "graph.head()\n",
    "\n",
    "fig = go.Figure()\n",
    "\n",
    "fig.add_trace(go.Indicator(\n",
    "        mode=\"number+gauge+delta\",\n",
    "        value=graph['Value'][0],\n",
    "        title={'text': \"acuracy\"},\n",
    "        domain={'row': 0, 'column': 0}\n",
    "    ))\n",
    "\n",
    "fig.update_layout(\n",
    "        title=\"Contagem de Acuracia\",\n",
    "        height=300,\n",
    "    )\n",
    "fig.update_traces(uirevision=\"top center\")\n",
    "\n",
    "fig.show() \n"
   ]
  },
  {
   "cell_type": "code",
   "execution_count": 85,
   "metadata": {},
   "outputs": [
    {
     "name": "stdout",
     "output_type": "stream",
     "text": [
      "Com base no album Cousin, Wilco irá lançar o próximo álbum no ano 2022\n"
     ]
    }
   ],
   "source": [
    "# Ordenar os dados por ano em ordem decrescente\n",
    "df['album_id'] = pd.factorize(df['album'])[0]\n",
    "\n",
    "reg = LinearRegression()\n",
    "\n",
    "X = df[['album_id']].values\n",
    "y = df['year'].values\n",
    "\n",
    "reg.fit(X, y)\n",
    "\n",
    "\n",
    "query = df[df['album'] == 'Cousin']\n",
    "number_album = query.iloc[0]['album_id']\n",
    "name = query.iloc[0]['album']\n",
    "album_name = np.array([[number_album]])\n",
    "\n",
    "predicted_year = int(reg.predict(album_name))\n",
    "\n",
    "print(f\"Com base no album {name}, Wilco irá lançar o próximo álbum no ano {predicted_year}\")"
   ]
  },
  {
   "cell_type": "code",
   "execution_count": 93,
   "metadata": {},
   "outputs": [
    {
     "name": "stdout",
     "output_type": "stream",
     "text": [
      "Com base no álbum Cousin, a previsão para o ano 2028\n"
     ]
    },
    {
     "name": "stderr",
     "output_type": "stream",
     "text": [
      "/Users/mayconcyprianobatestin/opt/anaconda3/lib/python3.9/site-packages/statsmodels/tsa/base/tsa_model.py:578: ValueWarning:\n",
      "\n",
      "An unsupported index was provided and will be ignored when e.g. forecasting.\n",
      "\n",
      "/Users/mayconcyprianobatestin/opt/anaconda3/lib/python3.9/site-packages/statsmodels/tsa/base/tsa_model.py:578: ValueWarning:\n",
      "\n",
      "An unsupported index was provided and will be ignored when e.g. forecasting.\n",
      "\n"
     ]
    }
   ],
   "source": [
    "import pandas as pd\n",
    "import numpy as np\n",
    "from datetime import date\n",
    "from statsmodels.tsa.arima_model import ARIMA\n",
    "\n",
    "current_year = date.today().year\n",
    "df = df[df['year'] <= current_year]\n",
    "\n",
    "df['album_id'] = pd.factorize(df['album'])[0]\n",
    "\n",
    "model = ARIMA(df['year'], order=(1, 1, 1))\n",
    "model_fit = model.fit(disp=0)\n",
    "\n",
    "album_name = 'Cousin'\n",
    "album_id = df[df['album'] == album_name].iloc[0]['album_id']\n",
    "years_to_predict = range(current_year + 1, current_year + 6)  \n",
    "\n",
    "for year in years_to_predict:\n",
    "    forecast = model_fit.forecast(steps=1)  \n",
    "    predicted_year = int(forecast[0])\n",
    "print(f\"Com base no álbum {album_name}, a previsão para o ano {year}\")\n"
   ]
  }
 ],
 "metadata": {
  "kernelspec": {
   "display_name": "base",
   "language": "python",
   "name": "python3"
  },
  "language_info": {
   "codemirror_mode": {
    "name": "ipython",
    "version": 3
   },
   "file_extension": ".py",
   "mimetype": "text/x-python",
   "name": "python",
   "nbconvert_exporter": "python",
   "pygments_lexer": "ipython3",
   "version": "3.9.7"
  },
  "orig_nbformat": 4
 },
 "nbformat": 4,
 "nbformat_minor": 2
}
