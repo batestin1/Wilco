{
 "cells": [
  {
   "cell_type": "markdown",
   "metadata": {},
   "source": [
    "<h1 style=\"text-align:center;color:red;\">Wilco</h1>\n",
    "<p style=\"text-align:center;\">Por Maycon Cypriano Batestin</p>\n"
   ]
  },
  {
   "cell_type": "markdown",
   "metadata": {},
   "source": [
    "### About the Dataset\n",
    "\n",
    "The objective of this project is to analyze the lyrics of the band WILCO (or in this case any other band with a long history) throughout their career and be able to predict when, what and how the group's next songs will be. Using machine learning and NLP\n",
    "\n",
    "- **Fonte original:** Spotify\n",
    "- **Libertado por:** Maycon Batestin\n",
    "- **Licença:** Creative Commons Attribution-ShareAlike 4.0 International ([CC BY-SA 4.0](https://creativecommons.org/licenses/by-sa/4.0/))\n",
    "\n"
   ]
  },
  {
   "cell_type": "markdown",
   "metadata": {},
   "source": [
    "<h1 style=\"text-align:center;color:red;\">Glossary</h1>\n",
    "\n",
    "\n",
    "Fields\t                                                  | Type  \t  |    Description                              |\n",
    "----------------------------------------------------------|:---------:|:-------------------------------------------:|\n",
    "artist                            \t\t\t\t\t\t  |string     | name of artist                               |\n",
    "album                                                     |string     | name of album                                |\n",
    "track\t\t\t\t\t\t\t\t\t\t\t\t\t  |string     | name of a song belong to the album           |\n",
    "year\t\t\t\t\t\t\t\t\t\t\t\t\t  |int        | year of release of the album                 |\n",
    "lyrics\t\t\t\t\t\t\t\t\t\t\t\t\t  |string     | the lyrics about the song                    |\n",
    "\n",
    "\n",
    "\n"
   ]
  },
  {
   "cell_type": "markdown",
   "metadata": {},
   "source": [
    "<h1 style=\"text-align:center;color:red;\">Getting the Dataset </h1>\n"
   ]
  },
  {
   "cell_type": "code",
   "execution_count": null,
   "metadata": {},
   "outputs": [],
   "source": [
    "artist = 'Wilco'\n",
    "artist = artist.replace(\" \",\"_\")"
   ]
  },
  {
   "cell_type": "code",
   "execution_count": null,
   "metadata": {},
   "outputs": [],
   "source": [
    "!clear\n",
    "!python /Users/mayconcyprianobatestin/Documents/repositorios/DATA_SCIENCE/MUSIC/scripts/create_dataset.py $artist\n"
   ]
  },
  {
   "cell_type": "markdown",
   "metadata": {},
   "source": [
    "<h1 style=\"text-align:center;color:red;\">Librarys </h1>\n"
   ]
  },
  {
   "cell_type": "code",
   "execution_count": null,
   "metadata": {},
   "outputs": [],
   "source": [
    "### Librarys\n",
    "\n",
    "import pandas as pd\n",
    "import numpy as np\n",
    "import plotly.graph_objs as go\n",
    "import plotly.offline as pyo\n",
    "import plotly.express as px\n",
    "import plotly.subplots as sp\n",
    "from plotly.subplots import make_subplots\n",
    "from sklearn.model_selection import train_test_split\n",
    "from sklearn.preprocessing import StandardScaler\n",
    "from sklearn.linear_model import LogisticRegression\n",
    "from sklearn.feature_extraction.text import CountVectorizer\n",
    "from sklearn.metrics import accuracy_score\n",
    "from wordcloud import WordCloud\n",
    "import nltk \n",
    "from nltk import tokenize, RSLPStemmer\n",
    "import matplotlib.pyplot as plt\n",
    "from string import punctuation\n",
    "import unidecode\n",
    "import re\n",
    "\n"
   ]
  },
  {
   "cell_type": "markdown",
   "metadata": {},
   "source": [
    "<h1 style=\"text-align:center;color:red;\">Exploratory analysis </h1>\n"
   ]
  },
  {
   "cell_type": "code",
   "execution_count": null,
   "metadata": {},
   "outputs": [],
   "source": [
    "path = f'/Users/mayconcyprianobatestin/Documents/repositorios/DATA_SCIENCE/MUSIC/dataset/dataset_{artist.lower()}.csv'\n",
    "df = pd.read_csv(path)\n",
    "\n",
    "df.head(100)"
   ]
  },
  {
   "cell_type": "code",
   "execution_count": null,
   "metadata": {},
   "outputs": [],
   "source": [
    "#check for NA value\n",
    "\n",
    "def checkNAN(df):\n",
    "    if df.isnull().values.any():\n",
    "        df.dropna(inplace=True) \n",
    "        df.reset_index(drop=True, inplace=True)\n",
    "        print(\"Checking for NaN values and fixing!.\")\n",
    "    else:\n",
    "        print(\"There no NaN values on your dataset\")\n",
    "\n",
    "checkNAN(df)\n",
    "\n",
    "\n"
   ]
  },
  {
   "cell_type": "code",
   "execution_count": null,
   "metadata": {},
   "outputs": [],
   "source": [
    "# checking for duplicates\n",
    "\n",
    "def remove_duplicates_from_dataframe(df):\n",
    "    duplicates = df[df.duplicated()]\n",
    "    df_no_duplicates = df.drop_duplicates()\n",
    "    df.update(df_no_duplicates)\n",
    "\n",
    "    return df\n",
    "\n",
    "remove_duplicates_from_dataframe(df)"
   ]
  },
  {
   "cell_type": "code",
   "execution_count": null,
   "metadata": {},
   "outputs": [],
   "source": [
    "#fixing the colun lyrics \n",
    "\n",
    "def clean_lyrics(text):\n",
    "    cleaned_text = re.sub(r'\\[[^\\]]+\\]', '', text)  \n",
    "    cleaned_text = re.sub(r'\\d+ Contributors', '', cleaned_text)  \n",
    "    cleaned_text = re.sub(r'\\\\n', ' ', cleaned_text)  \n",
    "    cleaned_text = re.sub(r'\\s+', ' ', cleaned_text)\n",
    "    cleaned_text = re.sub(r'^.*Lyrics', ' ', cleaned_text)   \n",
    "    return cleaned_text.strip() \n",
    "\n",
    "df['lyrics'] = df['lyrics'].apply(clean_lyrics)"
   ]
  },
  {
   "cell_type": "code",
   "execution_count": null,
   "metadata": {},
   "outputs": [],
   "source": [
    "def album_years(df):\n",
    "    try:\n",
    "        fig = px.scatter(df, x=\"year\", color=\"album\", symbol=\"album\")\n",
    "        fig.update_traces(marker_size=10)\n",
    "        fig.update_layout(xaxis=dict(type='category'))\n",
    "        fig.update_xaxes(tickangle=45)\n",
    "        fig.update_layout(title_text='Albums over the years')\n",
    "        fig.update_yaxes(tickangle=45, showticklabels=False, title_text='')\n",
    "\n",
    "        return fig.show()\n",
    "    except:\n",
    "        return \"Somenthing wrong with your dataframe\"\n",
    "\n",
    "album_years(df[['album', 'year']] )"
   ]
  },
  {
   "cell_type": "code",
   "execution_count": null,
   "metadata": {},
   "outputs": [],
   "source": [
    "def track_album_years(df):\n",
    "    try: \n",
    "        album_track_counts = df.groupby(['album', 'year']).size().reset_index(name='num_tracks')\n",
    "        line = px.bar(album_track_counts, y='num_tracks', color='album')\n",
    "        line.update_layout(xaxis=dict(type='category'))\n",
    "        line.update_xaxes(tickangle=45, showticklabels=False, title_text=' ')\n",
    "        line.update_layout(title_text='Track from album, over the year')\n",
    "        line.update_yaxes(tickangle=45, showticklabels=False, title_text='')\n",
    "        for i, count in enumerate(album_track_counts['num_tracks']):\n",
    "            line.add_annotation(text=count, x=album_track_counts.index[i], y=count)\n",
    "        line.update_traces(textposition='outside')\n",
    "        line.add_annotation(\n",
    "            text=\"Number of Tracks\",\n",
    "            xref=\"paper\",\n",
    "            yref=\"paper\",\n",
    "            x=0.5,  \n",
    "            y=-0.1, \n",
    "            showarrow=False\n",
    "        )\n",
    "        \n",
    "        line.show()\n",
    "    except Exception as e:\n",
    "        return f\"Something went wrong: {str(e)}\"\n",
    "\n",
    "track_album_years(df[['album', 'track', 'year']])\n",
    "\n"
   ]
  },
  {
   "cell_type": "code",
   "execution_count": null,
   "metadata": {},
   "outputs": [],
   "source": [
    "def word_cloud_album(df):\n",
    "    \n",
    "    try:\n",
    "        albums_unique = df['album'].unique()\n",
    "        common_settings = {\n",
    "            \"background_color\": \"black\",\n",
    "            \"font_path\": \"/Users/mayconcyprianobatestin/Documents/repositorios/DATA_SCIENCE/IMDB/dataset/LucidaGrande.ttc\",\n",
    "            \"max_font_size\": 110,\n",
    "            \"width\": 700,\n",
    "            \"height\": 300,\n",
    "            \"collocations\": False,\n",
    "        }\n",
    "\n",
    "        num_albums = len(albums_unique)\n",
    "\n",
    "        fig = make_subplots(rows=num_albums, cols=1, subplot_titles=albums_unique)\n",
    "\n",
    "        for i, album in enumerate(albums_unique):\n",
    "            album_lyrics = df[df['album'] == album]['lyrics']\n",
    "            list_of_words = ' '.join([text for text in album_lyrics])\n",
    "\n",
    "            wc = WordCloud(**common_settings)\n",
    "            wc.generate(list_of_words)\n",
    "\n",
    "            wordcloud_img = wc.to_image()\n",
    "            fig.add_trace(go.Image(z=wordcloud_img), row=i+1, col=1)\n",
    "\n",
    "            fig.update_layout(height=600 * num_albums, width=800, title_text=\"Word Clouds for Albumn\")\n",
    "            fig.update_layout(coloraxis_showscale=False)\n",
    "            fig.update_xaxes(showticklabels=False)\n",
    "            fig.update_yaxes(showticklabels=False)\n",
    "        return fig.show()\n",
    "    except:\n",
    "        return \"There somenthing wrong with your dataset\"\n",
    "\n",
    "word_cloud_album(df)\n"
   ]
  },
  {
   "cell_type": "code",
   "execution_count": null,
   "metadata": {},
   "outputs": [],
   "source": [
    "vector = CountVectorizer()\n",
    "bag = vector.fit_transform(df.lyrics)\n",
    "train, test, class_train, class_test = train_test_split(bag, df.lyrics, test_size=0.2, random_state=42)\n",
    "regres_logistc = LogisticRegression(max_iter=1000)\n",
    "regres_logistc.fit(train, class_train)\n",
    "acuracy = regres_logistc.score(test, class_test)\n",
    "final = {\"acuracy\": acuracy}\n",
    "graph = pd.DataFrame.from_dict(final, orient='index', columns=['Value'])\n",
    "fig = go.Figure()\n",
    "fig.add_trace(go.Indicator(\n",
    "        mode=\"number+gauge+delta\",\n",
    "        value=graph['Value'][0],\n",
    "        title={'text': \"acuracy\"},\n",
    "        domain={'row': 0, 'column': 0}\n",
    "    ))\n",
    "fig.update_layout(\n",
    "        title=\"Contagem de Acuracia\",\n",
    "        height=300,\n",
    "    )\n",
    "fig.update_traces(uirevision=\"top center\")\n",
    "\n",
    "fig.show() "
   ]
  },
  {
   "cell_type": "code",
   "execution_count": null,
   "metadata": {},
   "outputs": [],
   "source": []
  },
  {
   "cell_type": "code",
   "execution_count": null,
   "metadata": {},
   "outputs": [],
   "source": []
  }
 ],
 "metadata": {
  "kernelspec": {
   "display_name": "base",
   "language": "python",
   "name": "python3"
  },
  "language_info": {
   "codemirror_mode": {
    "name": "ipython",
    "version": 3
   },
   "file_extension": ".py",
   "mimetype": "text/x-python",
   "name": "python",
   "nbconvert_exporter": "python",
   "pygments_lexer": "ipython3",
   "version": "3.9.7"
  },
  "orig_nbformat": 4
 },
 "nbformat": 4,
 "nbformat_minor": 2
}
